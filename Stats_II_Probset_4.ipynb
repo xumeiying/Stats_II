{
  "nbformat": 4,
  "nbformat_minor": 0,
  "metadata": {
    "colab": {
      "name": "Stats_II_Probset_4.ipynb",
      "provenance": [],
      "collapsed_sections": [],
      "mount_file_id": "1KgHUoyb1DF8xDioGUOPmR7XzadQvZBIn",
      "authorship_tag": "ABX9TyOYEKhbk/LvoNxEq/PiJ6Me",
      "include_colab_link": true
    },
    "kernelspec": {
      "name": "python3",
      "display_name": "Python 3"
    }
  },
  "cells": [
    {
      "cell_type": "markdown",
      "metadata": {
        "id": "view-in-github",
        "colab_type": "text"
      },
      "source": [
        "<a href=\"https://colab.research.google.com/github/xumeiying/Stats_II/blob/master/Stats_II_Probset_4.ipynb\" target=\"_parent\"><img src=\"https://colab.research.google.com/assets/colab-badge.svg\" alt=\"Open In Colab\"/></a>"
      ]
    },
    {
      "cell_type": "markdown",
      "metadata": {
        "id": "xGq3MdPGWt4s",
        "colab_type": "text"
      },
      "source": [
        "# Problem Set 4 GOV 391L, Spring 2020"
      ]
    },
    {
      "cell_type": "code",
      "metadata": {
        "id": "vC9gTEL7KqGx",
        "colab_type": "code",
        "outputId": "af9e468f-71d3-4a7d-e595-d8d33d2f01c3",
        "colab": {
          "base_uri": "https://localhost:8080/",
          "height": 34
        }
      },
      "source": [
        "# load packages\n",
        "import numpy as np\n",
        "import pandas as pd\n",
        "from pandas import DataFrame\n",
        "import math \n",
        "\n",
        "import statsmodels.api as sm\n",
        "import statsmodels.formula.api as smf\n",
        "\n",
        "import matplotlib.pyplot as plt\n",
        "import matplotlib as mpl\n",
        "%matplotlib inline \n",
        "from matplotlib import rc\n",
        "import seaborn as sns\n",
        "\n",
        "!pip install stargazer \n",
        "from stargazer.stargazer import Stargazer\n",
        "from IPython.core.display import Latex\n",
        "\n",
        "mypath = r'/content/drive/My Drive/Colab Notebooks/Stat_II_probsets/'"
      ],
      "execution_count": 82,
      "outputs": [
        {
          "output_type": "stream",
          "text": [
            "Requirement already satisfied: stargazer in /usr/local/lib/python3.6/dist-packages (0.0.4)\n"
          ],
          "name": "stdout"
        }
      ]
    },
    {
      "cell_type": "markdown",
      "metadata": {
        "id": "-FNLiC3mzu_-",
        "colab_type": "text"
      },
      "source": [
        "## 1.  Load the `corruption.csv` file from Canvas\n",
        "\n",
        "\n",
        "---\n",
        "\n"
      ]
    },
    {
      "cell_type": "markdown",
      "metadata": {
        "id": "SeOCFOv-1q_x",
        "colab_type": "text"
      },
      "source": [
        "### (a)  Create scatterplots plotting corruption (`corruption`) against economic freedom (`econfreedom`), inequality (`inequality`) and gdp per capita (`gdppc`) (separately).  Based on theseplots, what are your preliminary thoughts on using OLS to estimate the relationship between those three variables and corruption?\n",
        "\n"
      ]
    },
    {
      "cell_type": "code",
      "metadata": {
        "id": "LoLlsbBHzUPP",
        "colab_type": "code",
        "outputId": "f6d8fc4f-e432-4bd1-d8aa-047763668898",
        "colab": {
          "base_uri": "https://localhost:8080/",
          "height": 419
        }
      },
      "source": [
        "corruption_data =  pd.read_csv(mypath + r\"corruption.csv\")\n",
        "corruption_data[[\"country\",\"corruption\", \"inequality\", \"gdppc\", \"econfreedom\"]]"
      ],
      "execution_count": 83,
      "outputs": [
        {
          "output_type": "execute_result",
          "data": {
            "text/html": [
              "<div>\n",
              "<style scoped>\n",
              "    .dataframe tbody tr th:only-of-type {\n",
              "        vertical-align: middle;\n",
              "    }\n",
              "\n",
              "    .dataframe tbody tr th {\n",
              "        vertical-align: top;\n",
              "    }\n",
              "\n",
              "    .dataframe thead th {\n",
              "        text-align: right;\n",
              "    }\n",
              "</style>\n",
              "<table border=\"1\" class=\"dataframe\">\n",
              "  <thead>\n",
              "    <tr style=\"text-align: right;\">\n",
              "      <th></th>\n",
              "      <th>country</th>\n",
              "      <th>corruption</th>\n",
              "      <th>inequality</th>\n",
              "      <th>gdppc</th>\n",
              "      <th>econfreedom</th>\n",
              "    </tr>\n",
              "  </thead>\n",
              "  <tbody>\n",
              "    <tr>\n",
              "      <th>0</th>\n",
              "      <td>Afghanistan</td>\n",
              "      <td>64.000626</td>\n",
              "      <td>7.2</td>\n",
              "      <td>1282.6400</td>\n",
              "      <td>48.900002</td>\n",
              "    </tr>\n",
              "    <tr>\n",
              "      <th>1</th>\n",
              "      <td>Albania</td>\n",
              "      <td>57.146229</td>\n",
              "      <td>4.2</td>\n",
              "      <td>8516.7002</td>\n",
              "      <td>66.900002</td>\n",
              "    </tr>\n",
              "    <tr>\n",
              "      <th>2</th>\n",
              "      <td>Algeria</td>\n",
              "      <td>60.690224</td>\n",
              "      <td>6.0</td>\n",
              "      <td>5402.1699</td>\n",
              "      <td>50.799999</td>\n",
              "    </tr>\n",
              "    <tr>\n",
              "      <th>3</th>\n",
              "      <td>Angola</td>\n",
              "      <td>67.149948</td>\n",
              "      <td>9.6</td>\n",
              "      <td>3771.2000</td>\n",
              "      <td>47.700001</td>\n",
              "    </tr>\n",
              "    <tr>\n",
              "      <th>4</th>\n",
              "      <td>Argentina</td>\n",
              "      <td>63.824677</td>\n",
              "      <td>5.4</td>\n",
              "      <td>15102.6100</td>\n",
              "      <td>44.599998</td>\n",
              "    </tr>\n",
              "    <tr>\n",
              "      <th>...</th>\n",
              "      <td>...</td>\n",
              "      <td>...</td>\n",
              "      <td>...</td>\n",
              "      <td>...</td>\n",
              "      <td>...</td>\n",
              "    </tr>\n",
              "    <tr>\n",
              "      <th>151</th>\n",
              "      <td>Uruguay</td>\n",
              "      <td>31.055574</td>\n",
              "      <td>4.2</td>\n",
              "      <td>12804.8400</td>\n",
              "      <td>69.300003</td>\n",
              "    </tr>\n",
              "    <tr>\n",
              "      <th>152</th>\n",
              "      <td>Uzbekistan</td>\n",
              "      <td>62.070217</td>\n",
              "      <td>7.0</td>\n",
              "      <td>7370.7202</td>\n",
              "      <td>46.500000</td>\n",
              "    </tr>\n",
              "    <tr>\n",
              "      <th>153</th>\n",
              "      <td>Venezuela</td>\n",
              "      <td>68.306488</td>\n",
              "      <td>6.7</td>\n",
              "      <td>10513.9600</td>\n",
              "      <td>36.299999</td>\n",
              "    </tr>\n",
              "    <tr>\n",
              "      <th>154</th>\n",
              "      <td>Vietnam</td>\n",
              "      <td>54.878067</td>\n",
              "      <td>5.5</td>\n",
              "      <td>4147.5698</td>\n",
              "      <td>50.799999</td>\n",
              "    </tr>\n",
              "    <tr>\n",
              "      <th>155</th>\n",
              "      <td>Zimbabwe</td>\n",
              "      <td>59.026512</td>\n",
              "      <td>8.1</td>\n",
              "      <td>15997.6700</td>\n",
              "      <td>35.500000</td>\n",
              "    </tr>\n",
              "  </tbody>\n",
              "</table>\n",
              "<p>156 rows × 5 columns</p>\n",
              "</div>"
            ],
            "text/plain": [
              "         country  corruption  inequality       gdppc  econfreedom\n",
              "0    Afghanistan   64.000626         7.2   1282.6400    48.900002\n",
              "1        Albania   57.146229         4.2   8516.7002    66.900002\n",
              "2        Algeria   60.690224         6.0   5402.1699    50.799999\n",
              "3         Angola   67.149948         9.6   3771.2000    47.700001\n",
              "4      Argentina   63.824677         5.4  15102.6100    44.599998\n",
              "..           ...         ...         ...         ...          ...\n",
              "151      Uruguay   31.055574         4.2  12804.8400    69.300003\n",
              "152   Uzbekistan   62.070217         7.0   7370.7202    46.500000\n",
              "153    Venezuela   68.306488         6.7  10513.9600    36.299999\n",
              "154      Vietnam   54.878067         5.5   4147.5698    50.799999\n",
              "155     Zimbabwe   59.026512         8.1  15997.6700    35.500000\n",
              "\n",
              "[156 rows x 5 columns]"
            ]
          },
          "metadata": {
            "tags": []
          },
          "execution_count": 83
        }
      ]
    },
    {
      "cell_type": "code",
      "metadata": {
        "id": "l9HfdgAG0a8I",
        "colab_type": "code",
        "outputId": "8c4a21bd-ce41-4b12-e2d6-d10a144855b8",
        "colab": {
          "base_uri": "https://localhost:8080/",
          "height": 332
        }
      },
      "source": [
        "corrpt_g = sns.PairGrid(corruption_data, y_vars=[\"corruption\"], x_vars=[\"econfreedom\", \"inequality\", \"gdppc\"], height=4)\n",
        "corrpt_g.map(sns.regplot, color=\"0.2\", line_kws={'color':'red'})\n",
        "plt.style.use('ggplot') \n",
        "plt.show"
      ],
      "execution_count": 84,
      "outputs": [
        {
          "output_type": "execute_result",
          "data": {
            "text/plain": [
              "<function matplotlib.pyplot.show>"
            ]
          },
          "metadata": {
            "tags": []
          },
          "execution_count": 84
        },
        {
          "output_type": "display_data",
          "data": {
            "image/png": "[encoded data removed]",
            "text/plain": [
              "<Figure size 864x288 with 3 Axes>"
            ]
          },
          "metadata": {
            "tags": [],
            "needs_background": "light"
          }
        }
      ]
    },
    {
      "cell_type": "markdown",
      "metadata": {
        "id": "poN27uus2SL6",
        "colab_type": "text"
      },
      "source": [
        "### (b) Estimate a model using OLS regressing corruption on economic freedom, inequality and gdp per capita. Report your results in a table and comment on them.\n"
      ]
    },
    {
      "cell_type": "code",
      "metadata": {
        "id": "28nlSccC14Ro",
        "colab_type": "code",
        "outputId": "33b091ec-62b8-4778-d54e-c99471324b8e",
        "colab": {
          "base_uri": "https://localhost:8080/",
          "height": 510
        }
      },
      "source": [
        "corrpt_m1 = smf.ols(formula = \"corruption ~ econfreedom + inequality + gdppc\", data=corruption_data).fit()\n",
        "print(corrpt_m1.summary())"
      ],
      "execution_count": 85,
      "outputs": [
        {
          "output_type": "stream",
          "text": [
            "                            OLS Regression Results                            \n",
            "==============================================================================\n",
            "Dep. Variable:             corruption   R-squared:                       0.717\n",
            "Model:                            OLS   Adj. R-squared:                  0.711\n",
            "Method:                 Least Squares   F-statistic:                     128.4\n",
            "Date:                Mon, 13 Apr 2020   Prob (F-statistic):           1.80e-41\n",
            "Time:                        17:08:17   Log-Likelihood:                -530.10\n",
            "No. Observations:                 156   AIC:                             1068.\n",
            "Df Residuals:                     152   BIC:                             1080.\n",
            "Df Model:                           3                                         \n",
            "Covariance Type:            nonrobust                                         \n",
            "===============================================================================\n",
            "                  coef    std err          t      P>|t|      [0.025      0.975]\n",
            "-------------------------------------------------------------------------------\n",
            "Intercept      83.9223      6.733     12.465      0.000      70.620      97.224\n",
            "econfreedom    -0.6365      0.081     -7.884      0.000      -0.796      -0.477\n",
            "inequality      1.2954      0.468      2.766      0.006       0.370       2.221\n",
            "gdppc          -0.0003    5.3e-05     -4.927      0.000      -0.000      -0.000\n",
            "==============================================================================\n",
            "Omnibus:                        1.230   Durbin-Watson:                   1.717\n",
            "Prob(Omnibus):                  0.541   Jarque-Bera (JB):                0.841\n",
            "Skew:                          -0.134   Prob(JB):                        0.657\n",
            "Kurtosis:                       3.239   Cond. No.                     2.47e+05\n",
            "==============================================================================\n",
            "\n",
            "Warnings:\n",
            "[1] Standard Errors assume that the covariance matrix of the errors is correctly specified.\n",
            "[2] The condition number is large, 2.47e+05. This might indicate that there are\n",
            "strong multicollinearity or other numerical problems.\n"
          ],
          "name": "stdout"
        }
      ]
    },
    {
      "cell_type": "markdown",
      "metadata": {
        "id": "RhANCQ9v2VXb",
        "colab_type": "text"
      },
      "source": [
        "### (c) Calculate the hat values for the model and plot them with a line indicting the cut-off value for unusual cases."
      ]
    },
    {
      "cell_type": "code",
      "metadata": {
        "id": "9-qwg1MZ2XzJ",
        "colab_type": "code",
        "outputId": "d09fb8d3-d514-45d2-9179-c7325278122d",
        "colab": {
          "base_uri": "https://localhost:8080/",
          "height": 354
        }
      },
      "source": [
        "from statsmodels.stats.outliers_influence import OLSInfluence\n",
        "hat_val = pd.DataFrame(OLSInfluence(corrpt_m1).hat_matrix_diag)\n",
        "hat_val.columns=[\"hat_values\"]\n",
        "hat_val_cutoff = 3 * ((3+1)/156)\n",
        "country = corruption_data[[\"country\"]]\n",
        "hat_val_table =  pd.concat([country, hat_val], axis=1)\n",
        "\n",
        "leverage = pd.Series(hat_val[\"hat_values\"]).sort_values(ascending = False)[:4]\n",
        "\n",
        "# plot \n",
        "fig, ax = plt.subplots(figsize = (7, 5))\n",
        "ax.scatter(hat_val.index, hat_val_table[\"hat_values\"], color=\"0.35\")\n",
        "plt.axhline(y=hat_val_cutoff, color='r', linestyle='--', linewidth=1)\n",
        "ax.set_ylim(0, 0.4)\n",
        "ax.set_ylabel(\"Hat Value\")\n",
        "ax.set_xlabel('Country Index')\n",
        "ax.set_title(\"Hat Value\")\n",
        "plt.style.use(\"ggplot\") \n",
        "for i in leverage.index:\n",
        "    ax.annotate(country.country[i],xy=(hat_val.index[i], leverage[i]))\n",
        "plt.show()"
      ],
      "execution_count": 86,
      "outputs": [
        {
          "output_type": "display_data",
          "data": {
            "image/png": "[encoded data removed]",
            "text/plain": [
              "<Figure size 504x360 with 1 Axes>"
            ]
          },
          "metadata": {
            "tags": []
          }
        }
      ]
    },
    {
      "cell_type": "markdown",
      "metadata": {
        "id": "YnUKae_FG1Ay",
        "colab_type": "text"
      },
      "source": [
        "### (d) List the countries and hat values for any observation(s) above the threshold.\n",
        "\n"
      ]
    },
    {
      "cell_type": "code",
      "metadata": {
        "id": "hs7Y89FYPuKb",
        "colab_type": "code",
        "outputId": "52004335-7090-49ad-b68a-11275af03683",
        "colab": {
          "base_uri": "https://localhost:8080/",
          "height": 173
        }
      },
      "source": [
        "hat_val_table[(hat_val_table[\"hat_values\"] > 0.0769)]"
      ],
      "execution_count": 87,
      "outputs": [
        {
          "output_type": "execute_result",
          "data": {
            "text/html": [
              "<div>\n",
              "<style scoped>\n",
              "    .dataframe tbody tr th:only-of-type {\n",
              "        vertical-align: middle;\n",
              "    }\n",
              "\n",
              "    .dataframe tbody tr th {\n",
              "        vertical-align: top;\n",
              "    }\n",
              "\n",
              "    .dataframe thead th {\n",
              "        text-align: right;\n",
              "    }\n",
              "</style>\n",
              "<table border=\"1\" class=\"dataframe\">\n",
              "  <thead>\n",
              "    <tr style=\"text-align: right;\">\n",
              "      <th></th>\n",
              "      <th>country</th>\n",
              "      <th>hat_values</th>\n",
              "    </tr>\n",
              "  </thead>\n",
              "  <tbody>\n",
              "    <tr>\n",
              "      <th>22</th>\n",
              "      <td>Brunei</td>\n",
              "      <td>0.106513</td>\n",
              "    </tr>\n",
              "    <tr>\n",
              "      <th>77</th>\n",
              "      <td>Kuwait</td>\n",
              "      <td>0.109815</td>\n",
              "    </tr>\n",
              "    <tr>\n",
              "      <th>118</th>\n",
              "      <td>Qatar</td>\n",
              "      <td>0.368247</td>\n",
              "    </tr>\n",
              "    <tr>\n",
              "      <th>127</th>\n",
              "      <td>Singapore</td>\n",
              "      <td>0.088790</td>\n",
              "    </tr>\n",
              "  </tbody>\n",
              "</table>\n",
              "</div>"
            ],
            "text/plain": [
              "       country  hat_values\n",
              "22      Brunei    0.106513\n",
              "77      Kuwait    0.109815\n",
              "118      Qatar    0.368247\n",
              "127  Singapore    0.088790"
            ]
          },
          "metadata": {
            "tags": []
          },
          "execution_count": 87
        }
      ]
    },
    {
      "cell_type": "markdown",
      "metadata": {
        "id": "0gRHMJIbTG28",
        "colab_type": "text"
      },
      "source": [
        "### (e) What does it mean if a hat value is above the cut-off value?\n",
        "\n",
        "It means that "
      ]
    },
    {
      "cell_type": "markdown",
      "metadata": {
        "id": "vyIkUySSTOP3",
        "colab_type": "text"
      },
      "source": [
        "### (f) Calculate the studentized residuals for the model and plot them with lines indicating the cut-off values for unusual cases."
      ]
    },
    {
      "cell_type": "code",
      "metadata": {
        "id": "LLXnbz5XS-Cm",
        "colab_type": "code",
        "outputId": "1d6e1162-4fd0-4d5b-f1e3-5a9d7a6204a7",
        "colab": {
          "base_uri": "https://localhost:8080/",
          "height": 354
        }
      },
      "source": [
        "# get cut-off value\n",
        "student_residuals = pd.Series(corrpt_m1.get_influence().resid_studentized_external)\n",
        "student_residuals.index = corrpt_m1.resid.index\n",
        "student_resid_top7 = abs(student_residuals).sort_values(ascending = False)[:7]\n",
        "# smoothed = lowess(sqrt_student_residuals, corrpt_m1_fitval)\n",
        "\n",
        "# plot \n",
        "fig, ax = plt.subplots(figsize = (7, 5))\n",
        "ax.scatter(student_residuals.index, student_residuals, color=\"0.35\")\n",
        "\n",
        "# plot cutoff line\n",
        "plt.axhline(y=3, color='r', linestyle='--', linewidth=1 )\n",
        "plt.axhline(y=-3, color='r', linestyle='--', linewidth=1 )\n",
        "\n",
        "ax.set_ylabel('rstud')\n",
        "ax.set_xlabel('Country Index')\n",
        "ax.set_title('Studentized residuals')\n",
        "ax.set_ylim(min(student_residuals)-0.5, max(student_residuals)+1)\n",
        "\n",
        "# annotate outliers\n",
        "for i in rstud_outlier.index:\n",
        "    ax.annotate(country.country[i],xy=(student_residuals.index[i], student_residuals[i]))\n",
        "plt.show()"
      ],
      "execution_count": 88,
      "outputs": [
        {
          "output_type": "display_data",
          "data": {
            "image/png": "[encoded data removed]",
            "text/plain": [
              "<Figure size 504x360 with 1 Axes>"
            ]
          },
          "metadata": {
            "tags": []
          }
        }
      ]
    },
    {
      "cell_type": "markdown",
      "metadata": {
        "id": "ReDxxryzX-cd",
        "colab_type": "text"
      },
      "source": [
        "### (g) List the countries and studentized residuals for any observation(s) above the top threshold or below the lower threshold."
      ]
    },
    {
      "cell_type": "code",
      "metadata": {
        "id": "azsGuYg5Vfa_",
        "colab_type": "code",
        "outputId": "5d0263e3-c67e-4a6c-cd8e-40a7d819de33",
        "colab": {
          "base_uri": "https://localhost:8080/",
          "height": 80
        }
      },
      "source": [
        "df_rstud = pd.DataFrame(student_residuals, columns=[\"rstud\"])\n",
        "rstud_table =  pd.concat([country, df_rstud], axis=1)\n",
        "rstud_outlier1 = rstud_table[(rstud_table[\"rstud\"] > 3)]\n",
        "rstud_outlier2 = rstud_table[(rstud_table[\"rstud\"] <-3)]\n",
        "rstud_outlier = pd.concat([rstud_outlier1, rstud_outlier2], axis=0)\n",
        "rstud_outlier"
      ],
      "execution_count": 89,
      "outputs": [
        {
          "output_type": "execute_result",
          "data": {
            "text/html": [
              "<div>\n",
              "<style scoped>\n",
              "    .dataframe tbody tr th:only-of-type {\n",
              "        vertical-align: middle;\n",
              "    }\n",
              "\n",
              "    .dataframe tbody tr th {\n",
              "        vertical-align: top;\n",
              "    }\n",
              "\n",
              "    .dataframe thead th {\n",
              "        text-align: right;\n",
              "    }\n",
              "</style>\n",
              "<table border=\"1\" class=\"dataframe\">\n",
              "  <thead>\n",
              "    <tr style=\"text-align: right;\">\n",
              "      <th></th>\n",
              "      <th>country</th>\n",
              "      <th>rstud</th>\n",
              "    </tr>\n",
              "  </thead>\n",
              "  <tbody>\n",
              "    <tr>\n",
              "      <th>121</th>\n",
              "      <td>Rwanda</td>\n",
              "      <td>-3.456881</td>\n",
              "    </tr>\n",
              "  </tbody>\n",
              "</table>\n",
              "</div>"
            ],
            "text/plain": [
              "    country     rstud\n",
              "121  Rwanda -3.456881"
            ]
          },
          "metadata": {
            "tags": []
          },
          "execution_count": 89
        }
      ]
    },
    {
      "cell_type": "markdown",
      "metadata": {
        "id": "G2sKUDAraNOd",
        "colab_type": "text"
      },
      "source": [
        "### (h) What does it mean if a studentized residual is outside the cut-off values?\n",
        "\n",
        "A studentized residual (sometimes referred to as an \"externally studentized residual\" or a \"deleted t residual\") is:\n",
        "\n",
        "$$e_{i}=\\frac{e_{i}}{s_{e(-i)} \\sqrt{1-h_{i}}} \\\\ or \\\\  e_{i}=e_{i}^s \\sqrt{ \\frac{n-k-2}{n-k-1-e_{i}^{s^2}} } $$\n",
        "\n",
        "If an observation has a studentized residual that is larger than 3 (in absolute value) we can call it an outlier.\n"
      ]
    },
    {
      "cell_type": "markdown",
      "metadata": {
        "id": "uHoh-UZ9bJsi",
        "colab_type": "text"
      },
      "source": [
        "### (i) Plot the hat values against the studentized residuals and draw lines at the appropriate cut off points. What does this plot suggest about unusual cases?\n",
        "\n",
        "The plot shows that Rwanda has the largest studentized residuals (-3.457) above the cut off line.\n"
      ]
    },
    {
      "cell_type": "code",
      "metadata": {
        "id": "xWgG-89cbN3W",
        "colab_type": "code",
        "outputId": "456cefde-0dac-48e7-d445-9f0e80607fb5",
        "colab": {
          "base_uri": "https://localhost:8080/",
          "height": 354
        }
      },
      "source": [
        "fig, ax = plt.subplots(figsize = (7, 5))\n",
        "ax.scatter(df_rstud, hat_val, color=\"0.35\")\n",
        "plt.axvline(x=3, color='r', linestyle='--', linewidth=1 )\n",
        "plt.axvline(x=-3, color='r', linestyle='--', linewidth=1 )\n",
        "plt.axhline(y=hat_val_cutoff, color='r', linestyle='--', linewidth=1)\n",
        "ax.set_xlabel('rstud')\n",
        "ax.set_ylabel('Hat value')\n",
        "ax.set_title('outliers and influentials')\n",
        "ax.set_xlim(min(df_rstud.values)-0.5, max(df_rstud.values)+1)\n",
        "for i in leverage.index:\n",
        "    ax.annotate(country.country[i],xy=(df_rstud.rstud[i], hat_val.hat_values[i]))\n",
        "for i in rstud_outlier.index:\n",
        "    ax.annotate(country.country[i],xy=(df_rstud.rstud[i], hat_val.hat_values[i]))\n",
        "plt.show()"
      ],
      "execution_count": 90,
      "outputs": [
        {
          "output_type": "display_data",
          "data": {
            "image/png": "[encoded data removed]",
            "text/plain": [
              "<Figure size 504x360 with 1 Axes>"
            ]
          },
          "metadata": {
            "tags": []
          }
        }
      ]
    },
    {
      "cell_type": "markdown",
      "metadata": {
        "id": "y_gpBlIRfHK6",
        "colab_type": "text"
      },
      "source": [
        "### (j) Calculate the DFBETAS for your model and present a table listing the countries and DFBETAS for any observations where one of the three explanatory variables exceeds the appropriate cut-off value. Comment briefly on what these results mean.\n",
        "\n",
        "The DFBETAS are statistics that indicate the effect that deleting each observation has on the estimates for the regression coefficients. \n",
        "\n",
        "In this model, the cutoff value is $\\frac{2}{\\sqrt156} = 0.160$\n",
        "\n",
        "- For the `econfreedom` variable, the most influential observations are Colombia, Iran, Lybia, Zimbabwe;\n",
        "- For the `inequality` variable, the most influential observations are Colombia, Finland, Kuwait, Libya, Paraguay;  \n",
        "-  For the `gdppc` variable, the most influential observations are\n",
        "Kuwait, Qatar, United State.  \n",
        "\n",
        "Notice that Kuwait and Colombia are influential for more than one estimate. Excluding those observations causes several parameter estimates to change substantially."
      ]
    },
    {
      "cell_type": "code",
      "metadata": {
        "id": "LmA-EdqIfypp",
        "colab_type": "code",
        "outputId": "d0446d5c-90b6-4fdb-8632-744ef36a1129",
        "colab": {
          "base_uri": "https://localhost:8080/",
          "height": 328
        }
      },
      "source": [
        "import math\n",
        "\n",
        "dfbetas = pd.DataFrame(OLSInfluence(corrpt_m1).dfbetas, columns=[\"dfb_intercept\", \"dfb_econfreedom\", \"dfb_inequality\", \"dfb_gdppc\"])\n",
        "dfbetas_cutoff_val = 2/math.sqrt(156) # calculate cutoff value; N=156\n",
        "dfbetas_cutoff = pd.DataFrame(np.full((156, 1), dfbetas_cutoff_val), columns=[\"dfb_cutoff\"])\n",
        "dfbetas_table = pd.concat([country, dfbetas_cutoff, dfbetas],axis=1)\n",
        "\n",
        "\n",
        "outlier_ecof = dfbetas_table[( dfbetas_table['dfb_econfreedom'] >0.16)]\n",
        "outlier_ineq = dfbetas_table[( dfbetas_table['dfb_inequality'] >0.16)]\n",
        "outlier_gdppc = dfbetas_table[( dfbetas_table['dfb_gdppc'] >0.16)]\n",
        "\n",
        "dfbetas_outliers = pd.concat([outlier_ecof, outlier_ineq, outlier_gdppc,]).drop_duplicates()\n",
        "dfbetas_outliers"
      ],
      "execution_count": 91,
      "outputs": [
        {
          "output_type": "execute_result",
          "data": {
            "text/html": [
              "<div>\n",
              "<style scoped>\n",
              "    .dataframe tbody tr th:only-of-type {\n",
              "        vertical-align: middle;\n",
              "    }\n",
              "\n",
              "    .dataframe tbody tr th {\n",
              "        vertical-align: top;\n",
              "    }\n",
              "\n",
              "    .dataframe thead th {\n",
              "        text-align: right;\n",
              "    }\n",
              "</style>\n",
              "<table border=\"1\" class=\"dataframe\">\n",
              "  <thead>\n",
              "    <tr style=\"text-align: right;\">\n",
              "      <th></th>\n",
              "      <th>country</th>\n",
              "      <th>dfb_cutoff</th>\n",
              "      <th>dfb_intercept</th>\n",
              "      <th>dfb_econfreedom</th>\n",
              "      <th>dfb_inequality</th>\n",
              "      <th>dfb_gdppc</th>\n",
              "    </tr>\n",
              "  </thead>\n",
              "  <tbody>\n",
              "    <tr>\n",
              "      <th>34</th>\n",
              "      <td>Colombia</td>\n",
              "      <td>0.160128</td>\n",
              "      <td>-0.275068</td>\n",
              "      <td>0.276323</td>\n",
              "      <td>0.212594</td>\n",
              "      <td>-0.029216</td>\n",
              "    </tr>\n",
              "    <tr>\n",
              "      <th>69</th>\n",
              "      <td>Iran</td>\n",
              "      <td>0.160128</td>\n",
              "      <td>-0.290244</td>\n",
              "      <td>0.315501</td>\n",
              "      <td>0.137786</td>\n",
              "      <td>-0.067578</td>\n",
              "    </tr>\n",
              "    <tr>\n",
              "      <th>84</th>\n",
              "      <td>Libya</td>\n",
              "      <td>0.160128</td>\n",
              "      <td>-0.287479</td>\n",
              "      <td>0.285912</td>\n",
              "      <td>0.168460</td>\n",
              "      <td>0.004918</td>\n",
              "    </tr>\n",
              "    <tr>\n",
              "      <th>155</th>\n",
              "      <td>Zimbabwe</td>\n",
              "      <td>0.160128</td>\n",
              "      <td>-0.185937</td>\n",
              "      <td>0.285545</td>\n",
              "      <td>-0.024835</td>\n",
              "      <td>-0.187965</td>\n",
              "    </tr>\n",
              "    <tr>\n",
              "      <th>52</th>\n",
              "      <td>Finland</td>\n",
              "      <td>0.160128</td>\n",
              "      <td>-0.192125</td>\n",
              "      <td>0.067640</td>\n",
              "      <td>0.299000</td>\n",
              "      <td>0.054974</td>\n",
              "    </tr>\n",
              "    <tr>\n",
              "      <th>77</th>\n",
              "      <td>Kuwait</td>\n",
              "      <td>0.160128</td>\n",
              "      <td>0.009936</td>\n",
              "      <td>-0.238872</td>\n",
              "      <td>0.241955</td>\n",
              "      <td>0.703503</td>\n",
              "    </tr>\n",
              "    <tr>\n",
              "      <th>113</th>\n",
              "      <td>Paraguay</td>\n",
              "      <td>0.160128</td>\n",
              "      <td>-0.189518</td>\n",
              "      <td>0.156735</td>\n",
              "      <td>0.204482</td>\n",
              "      <td>0.011543</td>\n",
              "    </tr>\n",
              "    <tr>\n",
              "      <th>118</th>\n",
              "      <td>Qatar</td>\n",
              "      <td>0.160128</td>\n",
              "      <td>-0.080172</td>\n",
              "      <td>-0.034033</td>\n",
              "      <td>0.175268</td>\n",
              "      <td>0.316675</td>\n",
              "    </tr>\n",
              "    <tr>\n",
              "      <th>150</th>\n",
              "      <td>United States</td>\n",
              "      <td>0.160128</td>\n",
              "      <td>-0.110427</td>\n",
              "      <td>0.069285</td>\n",
              "      <td>0.115990</td>\n",
              "      <td>0.163294</td>\n",
              "    </tr>\n",
              "  </tbody>\n",
              "</table>\n",
              "</div>"
            ],
            "text/plain": [
              "           country  dfb_cutoff  ...  dfb_inequality  dfb_gdppc\n",
              "34        Colombia    0.160128  ...        0.212594  -0.029216\n",
              "69            Iran    0.160128  ...        0.137786  -0.067578\n",
              "84           Libya    0.160128  ...        0.168460   0.004918\n",
              "155       Zimbabwe    0.160128  ...       -0.024835  -0.187965\n",
              "52         Finland    0.160128  ...        0.299000   0.054974\n",
              "77          Kuwait    0.160128  ...        0.241955   0.703503\n",
              "113       Paraguay    0.160128  ...        0.204482   0.011543\n",
              "118          Qatar    0.160128  ...        0.175268   0.316675\n",
              "150  United States    0.160128  ...        0.115990   0.163294\n",
              "\n",
              "[9 rows x 6 columns]"
            ]
          },
          "metadata": {
            "tags": []
          },
          "execution_count": 91
        }
      ]
    },
    {
      "cell_type": "markdown",
      "metadata": {
        "id": "gPCuOpOxfKiT",
        "colab_type": "text"
      },
      "source": [
        "### (k) Calculate the Cook’s Distance scores for your model and plot them along with a line at the appropriate cut off value."
      ]
    },
    {
      "cell_type": "code",
      "metadata": {
        "id": "OYa6g1TDt4MC",
        "colab_type": "code",
        "outputId": "4d1543f2-6b38-4cae-a5ac-742c03ed7e7f",
        "colab": {
          "base_uri": "https://localhost:8080/",
          "height": 419
        }
      },
      "source": [
        "CooksD = pd.DataFrame(OLSInfluence(corrpt_m1).cooks_distance).T\n",
        "CooksD.columns=[\"Cook's Distance\", \"others\"]\n",
        "CooksD_cutoff_val = 4/(156-3-1) # calculate cutoff value; N=156\n",
        "CooksD_cutoff = pd.DataFrame(np.full((156, 1), CooksD_cutoff_val), columns=[\"CooksD_cutoff\"])\n",
        "CooksD_table = pd.concat([country, CooksD_cutoff, CooksD[\"Cook's Distance\"]],axis=1)\n",
        "CooksD_table"
      ],
      "execution_count": 92,
      "outputs": [
        {
          "output_type": "execute_result",
          "data": {
            "text/html": [
              "<div>\n",
              "<style scoped>\n",
              "    .dataframe tbody tr th:only-of-type {\n",
              "        vertical-align: middle;\n",
              "    }\n",
              "\n",
              "    .dataframe tbody tr th {\n",
              "        vertical-align: top;\n",
              "    }\n",
              "\n",
              "    .dataframe thead th {\n",
              "        text-align: right;\n",
              "    }\n",
              "</style>\n",
              "<table border=\"1\" class=\"dataframe\">\n",
              "  <thead>\n",
              "    <tr style=\"text-align: right;\">\n",
              "      <th></th>\n",
              "      <th>country</th>\n",
              "      <th>CooksD_cutoff</th>\n",
              "      <th>Cook's Distance</th>\n",
              "    </tr>\n",
              "  </thead>\n",
              "  <tbody>\n",
              "    <tr>\n",
              "      <th>0</th>\n",
              "      <td>Afghanistan</td>\n",
              "      <td>0.026316</td>\n",
              "      <td>0.000389</td>\n",
              "    </tr>\n",
              "    <tr>\n",
              "      <th>1</th>\n",
              "      <td>Albania</td>\n",
              "      <td>0.026316</td>\n",
              "      <td>0.019662</td>\n",
              "    </tr>\n",
              "    <tr>\n",
              "      <th>2</th>\n",
              "      <td>Algeria</td>\n",
              "      <td>0.026316</td>\n",
              "      <td>0.000708</td>\n",
              "    </tr>\n",
              "    <tr>\n",
              "      <th>3</th>\n",
              "      <td>Angola</td>\n",
              "      <td>0.026316</td>\n",
              "      <td>0.000779</td>\n",
              "    </tr>\n",
              "    <tr>\n",
              "      <th>4</th>\n",
              "      <td>Argentina</td>\n",
              "      <td>0.026316</td>\n",
              "      <td>0.006503</td>\n",
              "    </tr>\n",
              "    <tr>\n",
              "      <th>...</th>\n",
              "      <td>...</td>\n",
              "      <td>...</td>\n",
              "      <td>...</td>\n",
              "    </tr>\n",
              "    <tr>\n",
              "      <th>151</th>\n",
              "      <td>Uruguay</td>\n",
              "      <td>0.026316</td>\n",
              "      <td>0.011889</td>\n",
              "    </tr>\n",
              "    <tr>\n",
              "      <th>152</th>\n",
              "      <td>Uzbekistan</td>\n",
              "      <td>0.026316</td>\n",
              "      <td>0.000039</td>\n",
              "    </tr>\n",
              "    <tr>\n",
              "      <th>153</th>\n",
              "      <td>Venezuela</td>\n",
              "      <td>0.026316</td>\n",
              "      <td>0.000869</td>\n",
              "    </tr>\n",
              "    <tr>\n",
              "      <th>154</th>\n",
              "      <td>Vietnam</td>\n",
              "      <td>0.026316</td>\n",
              "      <td>0.000994</td>\n",
              "    </tr>\n",
              "    <tr>\n",
              "      <th>155</th>\n",
              "      <td>Zimbabwe</td>\n",
              "      <td>0.026316</td>\n",
              "      <td>0.029682</td>\n",
              "    </tr>\n",
              "  </tbody>\n",
              "</table>\n",
              "<p>156 rows × 3 columns</p>\n",
              "</div>"
            ],
            "text/plain": [
              "         country  CooksD_cutoff  Cook's Distance\n",
              "0    Afghanistan       0.026316         0.000389\n",
              "1        Albania       0.026316         0.019662\n",
              "2        Algeria       0.026316         0.000708\n",
              "3         Angola       0.026316         0.000779\n",
              "4      Argentina       0.026316         0.006503\n",
              "..           ...            ...              ...\n",
              "151      Uruguay       0.026316         0.011889\n",
              "152   Uzbekistan       0.026316         0.000039\n",
              "153    Venezuela       0.026316         0.000869\n",
              "154      Vietnam       0.026316         0.000994\n",
              "155     Zimbabwe       0.026316         0.029682\n",
              "\n",
              "[156 rows x 3 columns]"
            ]
          },
          "metadata": {
            "tags": []
          },
          "execution_count": 92
        }
      ]
    },
    {
      "cell_type": "code",
      "metadata": {
        "id": "uzkFzNY3ySFe",
        "colab_type": "code",
        "outputId": "12acda35-c0c2-4e99-f368-30075775473d",
        "colab": {
          "base_uri": "https://localhost:8080/",
          "height": 354
        }
      },
      "source": [
        "CooksD_outlier = pd.Series(CooksD_table[\"Cook's Distance\"]).sort_values(ascending = False)[:9]\n",
        "\n",
        "# plot \n",
        "fig, ax = plt.subplots(figsize = (7, 5))\n",
        "ax.scatter(CooksD.index, CooksD[\"Cook's Distance\"], color=\"0.35\")\n",
        "plt.axhline(y=0.026316, color='r', linestyle='--', linewidth=1 )\n",
        "ax.set_ylim(0, 0.15)\n",
        "ax.set_ylabel(\"Cook's Distance\")\n",
        "ax.set_xlabel('Country Index')\n",
        "ax.set_title(\"Cook's Distance\")\n",
        "for i in CooksD_outlier.index:\n",
        "    ax.annotate(country.country[i], xy=(CooksD.index[i], CooksD_outlier[i]))\n",
        "plt.show()"
      ],
      "execution_count": 93,
      "outputs": [
        {
          "output_type": "display_data",
          "data": {
            "image/png": "[encoded data removed]",
            "text/plain": [
              "<Figure size 504x360 with 1 Axes>"
            ]
          },
          "metadata": {
            "tags": []
          }
        }
      ]
    },
    {
      "cell_type": "markdown",
      "metadata": {
        "id": "-alCIYK4fL_a",
        "colab_type": "text"
      },
      "source": [
        "### (l) List the countries and Cook’s D scores for any observation(s) above the threshold.\n"
      ]
    },
    {
      "cell_type": "code",
      "metadata": {
        "id": "fi2qk1SZ1LUh",
        "colab_type": "code",
        "outputId": "4f28ff88-00e7-417c-9da1-6bca16206a7a",
        "colab": {
          "base_uri": "https://localhost:8080/",
          "height": 328
        }
      },
      "source": [
        "CooksD_table[(CooksD_table[\"Cook's Distance\"] > 0.026316)]"
      ],
      "execution_count": 94,
      "outputs": [
        {
          "output_type": "execute_result",
          "data": {
            "text/html": [
              "<div>\n",
              "<style scoped>\n",
              "    .dataframe tbody tr th:only-of-type {\n",
              "        vertical-align: middle;\n",
              "    }\n",
              "\n",
              "    .dataframe tbody tr th {\n",
              "        vertical-align: top;\n",
              "    }\n",
              "\n",
              "    .dataframe thead th {\n",
              "        text-align: right;\n",
              "    }\n",
              "</style>\n",
              "<table border=\"1\" class=\"dataframe\">\n",
              "  <thead>\n",
              "    <tr style=\"text-align: right;\">\n",
              "      <th></th>\n",
              "      <th>country</th>\n",
              "      <th>CooksD_cutoff</th>\n",
              "      <th>Cook's Distance</th>\n",
              "    </tr>\n",
              "  </thead>\n",
              "  <tbody>\n",
              "    <tr>\n",
              "      <th>22</th>\n",
              "      <td>Brunei</td>\n",
              "      <td>0.026316</td>\n",
              "      <td>0.034823</td>\n",
              "    </tr>\n",
              "    <tr>\n",
              "      <th>34</th>\n",
              "      <td>Colombia</td>\n",
              "      <td>0.026316</td>\n",
              "      <td>0.026837</td>\n",
              "    </tr>\n",
              "    <tr>\n",
              "      <th>41</th>\n",
              "      <td>Czech Republic</td>\n",
              "      <td>0.026316</td>\n",
              "      <td>0.035662</td>\n",
              "    </tr>\n",
              "    <tr>\n",
              "      <th>52</th>\n",
              "      <td>Finland</td>\n",
              "      <td>0.026316</td>\n",
              "      <td>0.036949</td>\n",
              "    </tr>\n",
              "    <tr>\n",
              "      <th>69</th>\n",
              "      <td>Iran</td>\n",
              "      <td>0.026316</td>\n",
              "      <td>0.027989</td>\n",
              "    </tr>\n",
              "    <tr>\n",
              "      <th>77</th>\n",
              "      <td>Kuwait</td>\n",
              "      <td>0.026316</td>\n",
              "      <td>0.133505</td>\n",
              "    </tr>\n",
              "    <tr>\n",
              "      <th>104</th>\n",
              "      <td>New Zealand</td>\n",
              "      <td>0.026316</td>\n",
              "      <td>0.036083</td>\n",
              "    </tr>\n",
              "    <tr>\n",
              "      <th>121</th>\n",
              "      <td>Rwanda</td>\n",
              "      <td>0.026316</td>\n",
              "      <td>0.086748</td>\n",
              "    </tr>\n",
              "    <tr>\n",
              "      <th>155</th>\n",
              "      <td>Zimbabwe</td>\n",
              "      <td>0.026316</td>\n",
              "      <td>0.029682</td>\n",
              "    </tr>\n",
              "  </tbody>\n",
              "</table>\n",
              "</div>"
            ],
            "text/plain": [
              "            country  CooksD_cutoff  Cook's Distance\n",
              "22           Brunei       0.026316         0.034823\n",
              "34         Colombia       0.026316         0.026837\n",
              "41   Czech Republic       0.026316         0.035662\n",
              "52          Finland       0.026316         0.036949\n",
              "69             Iran       0.026316         0.027989\n",
              "77           Kuwait       0.026316         0.133505\n",
              "104     New Zealand       0.026316         0.036083\n",
              "121          Rwanda       0.026316         0.086748\n",
              "155        Zimbabwe       0.026316         0.029682"
            ]
          },
          "metadata": {
            "tags": []
          },
          "execution_count": 94
        }
      ]
    },
    {
      "cell_type": "markdown",
      "metadata": {
        "id": "dOQDTPJ-fOmp",
        "colab_type": "text"
      },
      "source": [
        "### (m) Based on the information you have about this data,what would you do with the unusual cases and why?\n"
      ]
    },
    {
      "cell_type": "code",
      "metadata": {
        "id": "5oB1eoDy2EUk",
        "colab_type": "code",
        "outputId": "a87e14bb-0958-4544-c373-e75e8ee6ddc4",
        "colab": {
          "base_uri": "https://localhost:8080/",
          "height": 299
        }
      },
      "source": [
        "gdppc_log = np.log(corruption_data[[\"gdppc\"]].values)\n",
        "log_plot = sns.regplot(gdppc_log, corruption_data[\"corruption\"], color=\"0.2\", \n",
        "                       line_kws={'color':'red'})\n",
        "log_plot.set(xlabel=\"logged gdppc\")\n",
        "plt.show"
      ],
      "execution_count": 95,
      "outputs": [
        {
          "output_type": "execute_result",
          "data": {
            "text/plain": [
              "<function matplotlib.pyplot.show>"
            ]
          },
          "metadata": {
            "tags": []
          },
          "execution_count": 95
        },
        {
          "output_type": "display_data",
          "data": {
            "image/png": "[encoded data removed]",
            "text/plain": [
              "<Figure size 432x288 with 1 Axes>"
            ]
          },
          "metadata": {
            "tags": []
          }
        }
      ]
    },
    {
      "cell_type": "code",
      "metadata": {
        "id": "3Zryqt_M31XV",
        "colab_type": "code",
        "outputId": "c9dd17e1-b7e7-479b-9ba0-5b5e5181af90",
        "colab": {
          "base_uri": "https://localhost:8080/",
          "height": 299
        }
      },
      "source": [
        "log_plot = sns.regplot(corruption_data[\"gdppc\"], corruption_data[\"corruption\"], color=\"0.2\", \n",
        "                       line_kws={'color':'red'})\n",
        "log_plot.set(xlabel=\"gdppc\")\n",
        "plt.show"
      ],
      "execution_count": 96,
      "outputs": [
        {
          "output_type": "execute_result",
          "data": {
            "text/plain": [
              "<function matplotlib.pyplot.show>"
            ]
          },
          "metadata": {
            "tags": []
          },
          "execution_count": 96
        },
        {
          "output_type": "display_data",
          "data": {
            "image/png": "[encoded data removed]",
            "text/plain": [
              "<Figure size 432x288 with 1 Axes>"
            ]
          },
          "metadata": {
            "tags": []
          }
        }
      ]
    },
    {
      "cell_type": "code",
      "metadata": {
        "id": "_E_fLk_P2UVa",
        "colab_type": "code",
        "outputId": "c4217360-8919-44f0-f35b-a94e43e759a6",
        "colab": {
          "base_uri": "https://localhost:8080/",
          "height": 425
        }
      },
      "source": [
        "corrpt_m2 = smf.ols(formula = \"corruption ~ econfreedom + inequality + gdppc_log\", data=corruption_data).fit()\n",
        "# print(corrpt_m2.summary())\n",
        "\n",
        "from statsmodels.iolib.summary2 import summary_col\n",
        "corrpt_sum = summary_col([corrpt_m1, corrpt_m2], stars=True, float_format='%0.4f',\n",
        "                  model_names=['Model\\n(1)', 'Model\\n(2)'], \n",
        "                  info_dict={'No. Observations':lambda x: \"{0:d}\".format(int(x.nobs)),\n",
        "                             'R^2':lambda x: \"{:.3f}\".format(x.rsquared),\n",
        "                             'adjusted R^2': lambda x: \"{:.3f}\".format(x.rsquared_adj),\n",
        "                             'Residual Std. Errors': lambda x: \"{:.3f}\".format(x.mse_resid), \n",
        "                             'F-statistics': lambda x: \"{:.3f}\".format(x.f_pvalue),\n",
        "                             'df': lambda x: \"{:.1f}\".format(x.df_model)})\n",
        "print(corrpt_sum)"
      ],
      "execution_count": 97,
      "outputs": [
        {
          "output_type": "stream",
          "text": [
            "\n",
            "==========================================\n",
            "                       Model      Model   \n",
            "                        (1)        (2)    \n",
            "------------------------------------------\n",
            "Intercept            83.9223*** 97.8636***\n",
            "                     (6.7328)   (10.9073) \n",
            "econfreedom          -0.6365*** -0.7042***\n",
            "                     (0.0807)   (0.0839)  \n",
            "gdppc                -0.0003***           \n",
            "                     (0.0001)             \n",
            "gdppc_log                       -1.7775** \n",
            "                                (0.7811)  \n",
            "inequality           1.2954***  1.6731*** \n",
            "                     (0.4683)   (0.5529)  \n",
            "No. Observations     156        156       \n",
            "R^2                  0.717      0.683     \n",
            "adjusted R^2         0.711      0.676     \n",
            "Residual Std. Errors 53.742     60.273    \n",
            "F-statistics         0.000      0.000     \n",
            "df                   3.0        3.0       \n",
            "==========================================\n",
            "Standard errors in parentheses.\n",
            "* p<.1, ** p<.05, ***p<.01\n"
          ],
          "name": "stdout"
        }
      ]
    },
    {
      "cell_type": "markdown",
      "metadata": {
        "id": "dippuoV3J33s",
        "colab_type": "text"
      },
      "source": [
        "## 2. Still working with `corruption.csv`..."
      ]
    },
    {
      "cell_type": "markdown",
      "metadata": {
        "id": "LGeWAq7DJ-Qn",
        "colab_type": "text"
      },
      "source": [
        "### (a) You hypothesize that the effect of inequality on corruption is conditional on state fragility (`fragility`). Create a dummy variable indicating whether a country’s fragility index is above or below the median and estimate a model regressing corruption on economic freedom, logged gdp per capita (you have to create this) and the interaction of inequality and whether a country is fragile. Report and briefly summarize the results.\n",
        "\n",
        "The model shows that \n",
        "- 1 unit increase in the economic freedom index is on average associated with 0.7045 decrease in the corruption level, holding other variables constant;\n",
        "- 1 percent increase in GDP per capita is on average associated with 0.0229 decrease in the corruption level, holding other variables constant;\n",
        "- being a fragile state is on average associated with 12.9942 increase in the corruption leve, holding other variables constant;\n",
        "- for stats that are considered as fragile, 1 unit increase in inequality is on average associated with (2.607-2.3582)=0.2488 increase in the corruption level, holding other variables constant;\n",
        "- for stats that are not considered as fragile, 1 unit increase in inequality is on average associated with 2.607 increase in the corruption level, holding other variables constant."
      ]
    },
    {
      "cell_type": "code",
      "metadata": {
        "id": "HDE1H6N4KHbC",
        "colab_type": "code",
        "colab": {
          "base_uri": "https://localhost:8080/",
          "height": 419
        },
        "outputId": "686bb06d-4661-4c5c-b293-1db5e765ff0d"
      },
      "source": [
        "corruption_data[[\"country\",'fragility']]"
      ],
      "execution_count": 98,
      "outputs": [
        {
          "output_type": "execute_result",
          "data": {
            "text/html": [
              "<div>\n",
              "<style scoped>\n",
              "    .dataframe tbody tr th:only-of-type {\n",
              "        vertical-align: middle;\n",
              "    }\n",
              "\n",
              "    .dataframe tbody tr th {\n",
              "        vertical-align: top;\n",
              "    }\n",
              "\n",
              "    .dataframe thead th {\n",
              "        text-align: right;\n",
              "    }\n",
              "</style>\n",
              "<table border=\"1\" class=\"dataframe\">\n",
              "  <thead>\n",
              "    <tr style=\"text-align: right;\">\n",
              "      <th></th>\n",
              "      <th>country</th>\n",
              "      <th>fragility</th>\n",
              "    </tr>\n",
              "  </thead>\n",
              "  <tbody>\n",
              "    <tr>\n",
              "      <th>0</th>\n",
              "      <td>Afghanistan</td>\n",
              "      <td>107.900001</td>\n",
              "    </tr>\n",
              "    <tr>\n",
              "      <th>1</th>\n",
              "      <td>Albania</td>\n",
              "      <td>61.900002</td>\n",
              "    </tr>\n",
              "    <tr>\n",
              "      <th>2</th>\n",
              "      <td>Algeria</td>\n",
              "      <td>79.599998</td>\n",
              "    </tr>\n",
              "    <tr>\n",
              "      <th>3</th>\n",
              "      <td>Angola</td>\n",
              "      <td>87.900002</td>\n",
              "    </tr>\n",
              "    <tr>\n",
              "      <th>4</th>\n",
              "      <td>Argentina</td>\n",
              "      <td>47.599998</td>\n",
              "    </tr>\n",
              "    <tr>\n",
              "      <th>...</th>\n",
              "      <td>...</td>\n",
              "      <td>...</td>\n",
              "    </tr>\n",
              "    <tr>\n",
              "      <th>151</th>\n",
              "      <td>Uruguay</td>\n",
              "      <td>36.400002</td>\n",
              "    </tr>\n",
              "    <tr>\n",
              "      <th>152</th>\n",
              "      <td>Uzbekistan</td>\n",
              "      <td>85.300003</td>\n",
              "    </tr>\n",
              "    <tr>\n",
              "      <th>153</th>\n",
              "      <td>Venezuela</td>\n",
              "      <td>78.699997</td>\n",
              "    </tr>\n",
              "    <tr>\n",
              "      <th>154</th>\n",
              "      <td>Vietnam</td>\n",
              "      <td>72.400002</td>\n",
              "    </tr>\n",
              "    <tr>\n",
              "      <th>155</th>\n",
              "      <td>Zimbabwe</td>\n",
              "      <td>100.000000</td>\n",
              "    </tr>\n",
              "  </tbody>\n",
              "</table>\n",
              "<p>156 rows × 2 columns</p>\n",
              "</div>"
            ],
            "text/plain": [
              "         country   fragility\n",
              "0    Afghanistan  107.900001\n",
              "1        Albania   61.900002\n",
              "2        Algeria   79.599998\n",
              "3         Angola   87.900002\n",
              "4      Argentina   47.599998\n",
              "..           ...         ...\n",
              "151      Uruguay   36.400002\n",
              "152   Uzbekistan   85.300003\n",
              "153    Venezuela   78.699997\n",
              "154      Vietnam   72.400002\n",
              "155     Zimbabwe  100.000000\n",
              "\n",
              "[156 rows x 2 columns]"
            ]
          },
          "metadata": {
            "tags": []
          },
          "execution_count": 98
        }
      ]
    },
    {
      "cell_type": "code",
      "metadata": {
        "id": "p5_gIkugxwVA",
        "colab_type": "code",
        "colab": {
          "base_uri": "https://localhost:8080/",
          "height": 419
        },
        "outputId": "e46d5c67-bcc1-4bbb-e17e-0655d1566152"
      },
      "source": [
        "# create fragility dummy \n",
        "corruption_data.loc[corruption_data['fragility']>= corruption_data['fragility'].mean(), 'fragi_dum'] = 1\n",
        "corruption_data.loc[corruption_data['fragility']< corruption_data['fragility'].mean(), 'fragi_dum'] = 0\n",
        "corruption_data[[\"country\",\"fragility\", 'fragi_dum']]"
      ],
      "execution_count": 99,
      "outputs": [
        {
          "output_type": "execute_result",
          "data": {
            "text/html": [
              "<div>\n",
              "<style scoped>\n",
              "    .dataframe tbody tr th:only-of-type {\n",
              "        vertical-align: middle;\n",
              "    }\n",
              "\n",
              "    .dataframe tbody tr th {\n",
              "        vertical-align: top;\n",
              "    }\n",
              "\n",
              "    .dataframe thead th {\n",
              "        text-align: right;\n",
              "    }\n",
              "</style>\n",
              "<table border=\"1\" class=\"dataframe\">\n",
              "  <thead>\n",
              "    <tr style=\"text-align: right;\">\n",
              "      <th></th>\n",
              "      <th>country</th>\n",
              "      <th>fragility</th>\n",
              "      <th>fragi_dum</th>\n",
              "    </tr>\n",
              "  </thead>\n",
              "  <tbody>\n",
              "    <tr>\n",
              "      <th>0</th>\n",
              "      <td>Afghanistan</td>\n",
              "      <td>107.900001</td>\n",
              "      <td>1.0</td>\n",
              "    </tr>\n",
              "    <tr>\n",
              "      <th>1</th>\n",
              "      <td>Albania</td>\n",
              "      <td>61.900002</td>\n",
              "      <td>0.0</td>\n",
              "    </tr>\n",
              "    <tr>\n",
              "      <th>2</th>\n",
              "      <td>Algeria</td>\n",
              "      <td>79.599998</td>\n",
              "      <td>1.0</td>\n",
              "    </tr>\n",
              "    <tr>\n",
              "      <th>3</th>\n",
              "      <td>Angola</td>\n",
              "      <td>87.900002</td>\n",
              "      <td>1.0</td>\n",
              "    </tr>\n",
              "    <tr>\n",
              "      <th>4</th>\n",
              "      <td>Argentina</td>\n",
              "      <td>47.599998</td>\n",
              "      <td>0.0</td>\n",
              "    </tr>\n",
              "    <tr>\n",
              "      <th>...</th>\n",
              "      <td>...</td>\n",
              "      <td>...</td>\n",
              "      <td>...</td>\n",
              "    </tr>\n",
              "    <tr>\n",
              "      <th>151</th>\n",
              "      <td>Uruguay</td>\n",
              "      <td>36.400002</td>\n",
              "      <td>0.0</td>\n",
              "    </tr>\n",
              "    <tr>\n",
              "      <th>152</th>\n",
              "      <td>Uzbekistan</td>\n",
              "      <td>85.300003</td>\n",
              "      <td>1.0</td>\n",
              "    </tr>\n",
              "    <tr>\n",
              "      <th>153</th>\n",
              "      <td>Venezuela</td>\n",
              "      <td>78.699997</td>\n",
              "      <td>1.0</td>\n",
              "    </tr>\n",
              "    <tr>\n",
              "      <th>154</th>\n",
              "      <td>Vietnam</td>\n",
              "      <td>72.400002</td>\n",
              "      <td>1.0</td>\n",
              "    </tr>\n",
              "    <tr>\n",
              "      <th>155</th>\n",
              "      <td>Zimbabwe</td>\n",
              "      <td>100.000000</td>\n",
              "      <td>1.0</td>\n",
              "    </tr>\n",
              "  </tbody>\n",
              "</table>\n",
              "<p>156 rows × 3 columns</p>\n",
              "</div>"
            ],
            "text/plain": [
              "         country   fragility  fragi_dum\n",
              "0    Afghanistan  107.900001        1.0\n",
              "1        Albania   61.900002        0.0\n",
              "2        Algeria   79.599998        1.0\n",
              "3         Angola   87.900002        1.0\n",
              "4      Argentina   47.599998        0.0\n",
              "..           ...         ...        ...\n",
              "151      Uruguay   36.400002        0.0\n",
              "152   Uzbekistan   85.300003        1.0\n",
              "153    Venezuela   78.699997        1.0\n",
              "154      Vietnam   72.400002        1.0\n",
              "155     Zimbabwe  100.000000        1.0\n",
              "\n",
              "[156 rows x 3 columns]"
            ]
          },
          "metadata": {
            "tags": []
          },
          "execution_count": 99
        }
      ]
    },
    {
      "cell_type": "code",
      "metadata": {
        "id": "P8S8GDuHKjTT",
        "colab_type": "code",
        "colab": {
          "base_uri": "https://localhost:8080/",
          "height": 544
        },
        "outputId": "dec60b6c-ecd2-499f-b6cb-7639e39d7a54"
      },
      "source": [
        "corrpt_m3 = smf.ols(formula = \"corruption ~ econfreedom  + gdppc_log + fragi_dum * inequality\", data=corruption_data).fit()\n",
        "# note on interection terms\n",
        "## “:” adds a new column to the design matrix with the product of the other two columns. \n",
        "## “*” will also include the individual columns that were multiplied together:\n",
        "print(corrpt_m3.summary())"
      ],
      "execution_count": 100,
      "outputs": [
        {
          "output_type": "stream",
          "text": [
            "                            OLS Regression Results                            \n",
            "==============================================================================\n",
            "Dep. Variable:             corruption   R-squared:                       0.695\n",
            "Model:                            OLS   Adj. R-squared:                  0.685\n",
            "Method:                 Least Squares   F-statistic:                     68.49\n",
            "Date:                Mon, 13 Apr 2020   Prob (F-statistic):           5.57e-37\n",
            "Time:                        17:08:19   Log-Likelihood:                -535.84\n",
            "No. Observations:                 156   AIC:                             1084.\n",
            "Df Residuals:                     150   BIC:                             1102.\n",
            "Df Model:                           5                                         \n",
            "Covariance Type:            nonrobust                                         \n",
            "========================================================================================\n",
            "                           coef    std err          t      P>|t|      [0.025      0.975]\n",
            "----------------------------------------------------------------------------------------\n",
            "Intercept               99.1675     11.958      8.293      0.000      75.539     122.796\n",
            "econfreedom             -0.7045      0.088     -7.990      0.000      -0.879      -0.530\n",
            "gdppc_log               -2.2893      0.852     -2.688      0.008      -3.972      -0.607\n",
            "fragi_dum               12.9942      5.865      2.215      0.028       1.405      24.584\n",
            "inequality               2.6070      0.666      3.915      0.000       1.291       3.923\n",
            "fragi_dum:inequality    -2.3582      0.947     -2.489      0.014      -4.230      -0.486\n",
            "==============================================================================\n",
            "Omnibus:                        0.356   Durbin-Watson:                   1.817\n",
            "Prob(Omnibus):                  0.837   Jarque-Bera (JB):                0.120\n",
            "Skew:                          -0.034   Prob(JB):                        0.942\n",
            "Kurtosis:                       3.118   Cond. No.                     1.23e+03\n",
            "==============================================================================\n",
            "\n",
            "Warnings:\n",
            "[1] Standard Errors assume that the covariance matrix of the errors is correctly specified.\n",
            "[2] The condition number is large, 1.23e+03. This might indicate that there are\n",
            "strong multicollinearity or other numerical problems.\n"
          ],
          "name": "stdout"
        }
      ]
    },
    {
      "cell_type": "markdown",
      "metadata": {
        "id": "5gUR1HagzGam",
        "colab_type": "text"
      },
      "source": [
        "### (b) How does the interpretation of the gdp per capita variable change from the previous question?\n",
        "\n",
        "- With `gdppc`, Model (1) shows that 1 unit increase in GDP per capita is on average associated with 0.0003 decrease in the corruption level, holding other variables constant;\n",
        "\n",
        "- With `gdppc_log`, Model (3) shows that __percent__ increase in GDP per capita is on average associated with 0.0229 decrease in the corruption level, holding other variables constant;"
      ]
    },
    {
      "cell_type": "code",
      "metadata": {
        "id": "Ab_GGGL6zFv_",
        "colab_type": "code",
        "colab": {
          "base_uri": "https://localhost:8080/",
          "height": 493
        },
        "outputId": "57d65fea-6cdb-4546-e672-5f4e929b427e"
      },
      "source": [
        "corrpt_sum2 = summary_col([corrpt_m1, corrpt_m2, corrpt_m3], stars=True, float_format='%0.4f',\n",
        "                  model_names=['Model\\n(1)', 'Model\\n(2)', 'Model\\n(3)'], \n",
        "                  info_dict={'No. Observations':lambda x: \"{0:d}\".format(int(x.nobs)),\n",
        "                             'R^2':lambda x: \"{:.3f}\".format(x.rsquared),\n",
        "                             'adjusted R^2': lambda x: \"{:.3f}\".format(x.rsquared_adj),\n",
        "                             'Residual Std. Errors': lambda x: \"{:.3f}\".format(x.mse_resid), \n",
        "                             'F-statistics': lambda x: \"{:.3f}\".format(x.f_pvalue),\n",
        "                             'df': lambda x: \"{:.1f}\".format(x.df_model)})\n",
        "print(corrpt_sum2)"
      ],
      "execution_count": 101,
      "outputs": [
        {
          "output_type": "stream",
          "text": [
            "\n",
            "=====================================================\n",
            "                       Model      Model      Model   \n",
            "                        (1)        (2)        (3)    \n",
            "-----------------------------------------------------\n",
            "Intercept            83.9223*** 97.8636*** 99.1675***\n",
            "                     (6.7328)   (10.9073)  (11.9584) \n",
            "econfreedom          -0.6365*** -0.7042*** -0.7045***\n",
            "                     (0.0807)   (0.0839)   (0.0882)  \n",
            "fragi_dum                                  12.9942** \n",
            "                                           (5.8654)  \n",
            "fragi_dum:inequality                       -2.3582** \n",
            "                                           (0.9473)  \n",
            "gdppc                -0.0003***                      \n",
            "                     (0.0001)                        \n",
            "gdppc_log                       -1.7775**  -2.2893***\n",
            "                                (0.7811)   (0.8517)  \n",
            "inequality           1.2954***  1.6731***  2.6070*** \n",
            "                     (0.4683)   (0.5529)   (0.6659)  \n",
            "No. Observations     156        156        156       \n",
            "R^2                  0.717      0.683      0.695     \n",
            "adjusted R^2         0.711      0.676      0.685     \n",
            "Residual Std. Errors 53.742     60.273     58.623    \n",
            "F-statistics         0.000      0.000      0.000     \n",
            "df                   3.0        3.0        5.0       \n",
            "=====================================================\n",
            "Standard errors in parentheses.\n",
            "* p<.1, ** p<.05, ***p<.01\n"
          ],
          "name": "stdout"
        }
      ]
    },
    {
      "cell_type": "markdown",
      "metadata": {
        "id": "jH2Ujn7l5cKW",
        "colab_type": "text"
      },
      "source": [
        "### c) How do you interpret the results for the interaction term and its component parts?\n",
        "\n",
        "- Being a fragile state is on average associated with 12.9942 increase in the corruption leve, holding other variables constant;\n",
        "\n",
        "- For stats that are considered as fragile, 1 unit increase in inequality is on average associated with (2.607-2.3582)=0.2488 increase in the corruption level, holding other variables constant;\n",
        "\n",
        "- For stats that are not considered as fragile, 1 unit increase in inequality is on average associated with 2.607 increase in the corruption level, holding other variables constant."
      ]
    },
    {
      "cell_type": "markdown",
      "metadata": {
        "id": "jOFOFQt65n7B",
        "colab_type": "text"
      },
      "source": [
        "### (d) Plot the relationship between inequality and corruption for high and low fragility countries."
      ]
    },
    {
      "cell_type": "code",
      "metadata": {
        "id": "xicTXVTQ-qmj",
        "colab_type": "code",
        "colab": {
          "base_uri": "https://localhost:8080/",
          "height": 299
        },
        "outputId": "445f4bc4-0c3a-4e72-87e5-46c559d0fc1a"
      },
      "source": [
        "ineq = corruption_data[[\"inequality\"]]\n",
        "econf_m = float(corruption_data[[\"econfreedom\"]].mean())\n",
        "gdppclog_m = float(gdppc_log.mean())\n",
        "c1 = 99.1675  - 0.7045 * econf_m - 2.2893 * gdppclog_m + 2.6070 * ineq +12.9942 * 1 - 2.3582 * (x * 1)\n",
        "c2 = 99.1675  - 0.7045 * econf_m - 2.2893 * gdppclog_m + 2.6070 * ineq +12.9942 * 0 - 2.3582 * (0 * 1)\n",
        "\n",
        "plt.plot(ineq, c1, \"r\",  label=\"high fragility\")\n",
        "plt.plot(ineq, c2, \"b\", label=\"low fragility\")\n",
        "plt.xlabel(\"inequality\")\n",
        "plt.ylabel(\"corruption\")\n",
        "plt.legend()\n",
        "plt.show"
      ],
      "execution_count": 116,
      "outputs": [
        {
          "output_type": "execute_result",
          "data": {
            "text/plain": [
              "<function matplotlib.pyplot.show>"
            ]
          },
          "metadata": {
            "tags": []
          },
          "execution_count": 116
        },
        {
          "output_type": "display_data",
          "data": {
            "image/png": "[encoded data removed]",
            "text/plain": [
              "<Figure size 432x288 with 1 Axes>"
            ]
          },
          "metadata": {
            "tags": []
          }
        }
      ]
    },
    {
      "cell_type": "markdown",
      "metadata": {
        "id": "bDkiZ5iD8Yg2",
        "colab_type": "text"
      },
      "source": [
        "### (e) What are the predicted corruption levels for high and low fragility countries at the minimum, median and maximum levels of inequality?\n",
        "\n",
        "The  minimum, median and maximum levels of inequality are 1, 5.99, and 9.70 respectively. \n",
        "\n",
        "For high fragility countries, $$corruption = 99.1675 + 2.6070*inequality -2.3582 (1*inequality) = 99.1675 + 0.2428 * inequality$$. \n",
        "\n",
        "For low fragility countries, $$corruption = 99.1675 + 2.6070*inequality -2.3582 (0*inequality) = 99.1675 + 2.6070*inequality $$. \n",
        "\n",
        "Therefore, the predicted corruption levels \n",
        "\n",
        "|fragility|inequality|corruption|\n",
        "|:------:|:--------:|:----------:|\n",
        "|high|high| 101.58086|\n",
        "|low | high| 124.4554|\n",
        "|high|midium |100.658865|\n",
        "|low |midium |114.79446|\n",
        "|high|low|99.4163|\n",
        "|low | low |   101.7745|\n",
        "\n",
        "\n"
      ]
    },
    {
      "cell_type": "code",
      "metadata": {
        "id": "4rF9wR6-8bBz",
        "colab_type": "code",
        "colab": {
          "base_uri": "https://localhost:8080/",
          "height": 297
        },
        "outputId": "679573c6-fc01-4dcc-8ea3-68ed7a91ebf7"
      },
      "source": [
        "corruption_data[[\"inequality\"]].describe()"
      ],
      "execution_count": 104,
      "outputs": [
        {
          "output_type": "execute_result",
          "data": {
            "text/html": [
              "<div>\n",
              "<style scoped>\n",
              "    .dataframe tbody tr th:only-of-type {\n",
              "        vertical-align: middle;\n",
              "    }\n",
              "\n",
              "    .dataframe tbody tr th {\n",
              "        vertical-align: top;\n",
              "    }\n",
              "\n",
              "    .dataframe thead th {\n",
              "        text-align: right;\n",
              "    }\n",
              "</style>\n",
              "<table border=\"1\" class=\"dataframe\">\n",
              "  <thead>\n",
              "    <tr style=\"text-align: right;\">\n",
              "      <th></th>\n",
              "      <th>inequality</th>\n",
              "    </tr>\n",
              "  </thead>\n",
              "  <tbody>\n",
              "    <tr>\n",
              "      <th>count</th>\n",
              "      <td>156.000000</td>\n",
              "    </tr>\n",
              "    <tr>\n",
              "      <th>mean</th>\n",
              "      <td>5.994231</td>\n",
              "    </tr>\n",
              "    <tr>\n",
              "      <th>std</th>\n",
              "      <td>1.958711</td>\n",
              "    </tr>\n",
              "    <tr>\n",
              "      <th>min</th>\n",
              "      <td>1.000000</td>\n",
              "    </tr>\n",
              "    <tr>\n",
              "      <th>25%</th>\n",
              "      <td>4.700000</td>\n",
              "    </tr>\n",
              "    <tr>\n",
              "      <th>50%</th>\n",
              "      <td>6.250000</td>\n",
              "    </tr>\n",
              "    <tr>\n",
              "      <th>75%</th>\n",
              "      <td>7.500000</td>\n",
              "    </tr>\n",
              "    <tr>\n",
              "      <th>max</th>\n",
              "      <td>9.700000</td>\n",
              "    </tr>\n",
              "  </tbody>\n",
              "</table>\n",
              "</div>"
            ],
            "text/plain": [
              "       inequality\n",
              "count  156.000000\n",
              "mean     5.994231\n",
              "std      1.958711\n",
              "min      1.000000\n",
              "25%      4.700000\n",
              "50%      6.250000\n",
              "75%      7.500000\n",
              "max      9.700000"
            ]
          },
          "metadata": {
            "tags": []
          },
          "execution_count": 104
        }
      ]
    },
    {
      "cell_type": "code",
      "metadata": {
        "id": "8xINHPi18u2z",
        "colab_type": "code",
        "colab": {
          "base_uri": "https://localhost:8080/",
          "height": 221
        },
        "outputId": "c932d035-c094-4f24-c826-0c1965b05e96"
      },
      "source": [
        "# predict corruption level\n",
        "def corrpt_level(frag_dum, inequality):\n",
        "    corrpt_level = 99.1675 + 2.6070*inequality -2.3582 *(frag_dum *inequality)\n",
        "    return corrpt_level\n",
        "\n",
        "print(\"high fragility, high inequality:\", corrpt_level(1, corruption_data[[\"inequality\"]].max()))\n",
        "print(\"high fragility, midium inequality:\", corrpt_level(1, corruption_data[[\"inequality\"]].mean()))\n",
        "print(\"high fragility, low inequality:\", corrpt_level(1, corruption_data[[\"inequality\"]].min()))\n",
        "print(\"low fragility, high inequality:\", corrpt_level(0, corruption_data[[\"inequality\"]].max()))\n",
        "print(\"low fragility, midium inequality:\", corrpt_level(0, corruption_data[[\"inequality\"]].mean()))\n",
        "print(\"low fragility, low inequality:\", corrpt_level(0, corruption_data[[\"inequality\"]].min()))"
      ],
      "execution_count": 105,
      "outputs": [
        {
          "output_type": "stream",
          "text": [
            "high fragility, high inequality: inequality    101.58086\n",
            "dtype: float64\n",
            "high fragility, midium inequality: inequality    100.658865\n",
            "dtype: float64\n",
            "high fragility, low inequality: inequality    99.4163\n",
            "dtype: float64\n",
            "low fragility, high inequality: inequality    124.4554\n",
            "dtype: float64\n",
            "low fragility, midium inequality: inequality    114.79446\n",
            "dtype: float64\n",
            "low fragility, low inequality: inequality    101.7745\n",
            "dtype: float64\n"
          ],
          "name": "stdout"
        }
      ]
    },
    {
      "cell_type": "markdown",
      "metadata": {
        "id": "YNdYeW_WB4Tr",
        "colab_type": "text"
      },
      "source": [
        "### (f) What is the estimated effect of inequality for a low fragility country? (Include 95% confidence intervals.)\n",
        "\n",
        "### (g) What is the estimated effect of inequality for a high fragility country? (Include 95% confidence intervals.)\n",
        "\n",
        "$$V(X+Y)=V(X)+V(Y)+2Cov(X, Y)\\\\ \n",
        "V(aX)= a^2V(X)\\\\\n",
        "Cov(aX, bY)=Cov(X, Y)*ab\\\\\n",
        "V(X+aY)=V(X)+a^2V(Y)+2Cov(X, Y)*a$$\n",
        "\n",
        "The estimated effect of inequality for a high fragility country is 38.2519 with 95% confidence interval at (29.724, 39.969);\n",
        "\n",
        "The estimated effect of inequality for a low fragility country is 0.4434 with 95% confidence interval at (-0.108, 0.995); "
      ]
    },
    {
      "cell_type": "code",
      "metadata": {
        "id": "aP3t74YOGv2f",
        "colab_type": "code",
        "colab": {}
      },
      "source": [
        "from scipy.stats import t\n",
        "\n",
        "def interection_effect(var_xbeta, var_ybeta, cov_xybeta, dummy, alpha, n, k):\n",
        "    interection_effect = round(var_xbeta +  var_ybeta *  (dummy**2)  + 2 * cov_xybeta * dummy, 4)\n",
        "    CI_min = round(var_xbeta + var_ybeta * dummy - t.cdf(alpha, df=n-k) * math.sqrt(interection_effect), 3)\n",
        "    CI_max = round(var_xbeta + var_ybeta * dummy + t.cdf(alpha, df=n-k) * math.sqrt(interection_effect), 3)\n",
        "    return interection_effect, (CI_min, CI_max)"
      ],
      "execution_count": 0,
      "outputs": []
    },
    {
      "cell_type": "code",
      "metadata": {
        "id": "5wTWZX6MCCWi",
        "colab_type": "code",
        "colab": {
          "base_uri": "https://localhost:8080/",
          "height": 235
        },
        "outputId": "9279a5bd-d539-4958-c4a1-f910617caa00"
      },
      "source": [
        "corrpt_m3.cov_params()"
      ],
      "execution_count": 147,
      "outputs": [
        {
          "output_type": "execute_result",
          "data": {
            "text/html": [
              "<div>\n",
              "<style scoped>\n",
              "    .dataframe tbody tr th:only-of-type {\n",
              "        vertical-align: middle;\n",
              "    }\n",
              "\n",
              "    .dataframe tbody tr th {\n",
              "        vertical-align: top;\n",
              "    }\n",
              "\n",
              "    .dataframe thead th {\n",
              "        text-align: right;\n",
              "    }\n",
              "</style>\n",
              "<table border=\"1\" class=\"dataframe\">\n",
              "  <thead>\n",
              "    <tr style=\"text-align: right;\">\n",
              "      <th></th>\n",
              "      <th>Intercept</th>\n",
              "      <th>econfreedom</th>\n",
              "      <th>gdppc_log</th>\n",
              "      <th>fragi_dum</th>\n",
              "      <th>inequality</th>\n",
              "      <th>fragi_dum:inequality</th>\n",
              "    </tr>\n",
              "  </thead>\n",
              "  <tbody>\n",
              "    <tr>\n",
              "      <th>Intercept</th>\n",
              "      <td>143.003408</td>\n",
              "      <td>-0.605915</td>\n",
              "      <td>-7.991105</td>\n",
              "      <td>-11.541243</td>\n",
              "      <td>-4.673367</td>\n",
              "      <td>0.069583</td>\n",
              "    </tr>\n",
              "    <tr>\n",
              "      <th>econfreedom</th>\n",
              "      <td>-0.605915</td>\n",
              "      <td>0.007773</td>\n",
              "      <td>-0.000028</td>\n",
              "      <td>0.082899</td>\n",
              "      <td>0.016144</td>\n",
              "      <td>-0.003176</td>\n",
              "    </tr>\n",
              "    <tr>\n",
              "      <th>gdppc_log</th>\n",
              "      <td>-7.991105</td>\n",
              "      <td>-0.000028</td>\n",
              "      <td>0.725325</td>\n",
              "      <td>-0.236667</td>\n",
              "      <td>0.166026</td>\n",
              "      <td>0.159958</td>\n",
              "    </tr>\n",
              "    <tr>\n",
              "      <th>fragi_dum</th>\n",
              "      <td>-11.541243</td>\n",
              "      <td>0.082899</td>\n",
              "      <td>-0.236667</td>\n",
              "      <td>34.403148</td>\n",
              "      <td>1.702689</td>\n",
              "      <td>-5.176281</td>\n",
              "    </tr>\n",
              "    <tr>\n",
              "      <th>inequality</th>\n",
              "      <td>-4.673367</td>\n",
              "      <td>0.016144</td>\n",
              "      <td>0.166026</td>\n",
              "      <td>1.702689</td>\n",
              "      <td>0.443374</td>\n",
              "      <td>-0.341787</td>\n",
              "    </tr>\n",
              "    <tr>\n",
              "      <th>fragi_dum:inequality</th>\n",
              "      <td>0.069583</td>\n",
              "      <td>-0.003176</td>\n",
              "      <td>0.159958</td>\n",
              "      <td>-5.176281</td>\n",
              "      <td>-0.341787</td>\n",
              "      <td>0.897470</td>\n",
              "    </tr>\n",
              "  </tbody>\n",
              "</table>\n",
              "</div>"
            ],
            "text/plain": [
              "                       Intercept  econfreedom  ...  inequality  fragi_dum:inequality\n",
              "Intercept             143.003408    -0.605915  ...   -4.673367              0.069583\n",
              "econfreedom            -0.605915     0.007773  ...    0.016144             -0.003176\n",
              "gdppc_log              -7.991105    -0.000028  ...    0.166026              0.159958\n",
              "fragi_dum             -11.541243     0.082899  ...    1.702689             -5.176281\n",
              "inequality             -4.673367     0.016144  ...    0.443374             -0.341787\n",
              "fragi_dum:inequality    0.069583    -0.003176  ...   -0.341787              0.897470\n",
              "\n",
              "[6 rows x 6 columns]"
            ]
          },
          "metadata": {
            "tags": []
          },
          "execution_count": 147
        }
      ]
    },
    {
      "cell_type": "code",
      "metadata": {
        "id": "uwisIm4QREX0",
        "colab_type": "code",
        "colab": {
          "base_uri": "https://localhost:8080/",
          "height": 85
        },
        "outputId": "8b530cda-dd32-489f-a592-1c91a569567b"
      },
      "source": [
        "vac_ineq = corrpt_m3.cov_params().loc[\"inequality\"][\"inequality\"]\n",
        "vac_fragi_dum = corrpt_m3.cov_params().loc[\"fragi_dum\"][\"fragi_dum\"]\n",
        "cov_ineq_fragi_dum = corrpt_m3.cov_params().loc[\"fragi_dum\"][\"inequality\"]\n",
        "\n",
        "print(\"effect of inequality for a high fragility country: \\n\", \n",
        "      interection_effect(vac_ineq, vac_fragi_dum, cov_ineq_fragi_dum, 1, 0.95, 156, 4))\n",
        "print(\"effect of inequality for a low fragility country: \\n\", \n",
        "      interection_effect(vac_ineq, vac_fragi_dum, cov_ineq_fragi_dum, 0, 0.95, 156, 4))"
      ],
      "execution_count": 154,
      "outputs": [
        {
          "output_type": "stream",
          "text": [
            "effect of inequality for a high fragility country: \n",
            " (38.2519, (29.724, 39.969))\n",
            "effect of inequality for a low fragility country: \n",
            " (0.4434, (-0.108, 0.995))\n"
          ],
          "name": "stdout"
        }
      ]
    }
  ]
}