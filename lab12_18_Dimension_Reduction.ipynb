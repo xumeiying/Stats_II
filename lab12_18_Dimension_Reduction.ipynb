{
  "nbformat": 4,
  "nbformat_minor": 0,
  "metadata": {
    "colab": {
      "name": "lab12-18_Dimension_Reduction.ipynb",
      "provenance": [],
      "authorship_tag": "ABX9TyO/0SXfjMyVk1RyhAeLUOsB",
      "include_colab_link": true
    },
    "kernelspec": {
      "name": "python3",
      "display_name": "Python 3"
    },
    "accelerator": "GPU"
  },
  "cells": [
    {
      "cell_type": "markdown",
      "metadata": {
        "id": "view-in-github",
        "colab_type": "text"
      },
      "source": [
        "<a href=\"https://colab.research.google.com/github/xumeiying/Stats_II/blob/master/lab12_18_Dimension_Reduction.ipynb\" target=\"_parent\"><img src=\"https://colab.research.google.com/assets/colab-badge.svg\" alt=\"Open In Colab\"/></a>"
      ]
    },
    {
      "cell_type": "markdown",
      "metadata": {
        "id": "zNcsJYTKuhMt",
        "colab_type": "text"
      },
      "source": [
        "# 12 Differentiation and Integration\n",
        "\n",
        "---\n",
        "\n"
      ]
    },
    {
      "cell_type": "markdown",
      "metadata": {
        "id": "DEUSh7fFunrT",
        "colab_type": "text"
      },
      "source": [
        "## Differentiate each function.\n",
        "\n",
        "1. $f(x)=x^2-10x+100$ \n",
        "   \n",
        "    $f(x)' = 2x-10$\n",
        "\n",
        "\n",
        "2. $V(r)=\\frac{4}{3}\\pi r^2$\n",
        "\n",
        "    $V(r)'=\\frac{8}{3}\\pi r$\n",
        "\n",
        "\n",
        "3. $Y(t)=6t^{-9}$\n",
        "\n",
        "    $Y(t)'=(-9)6t^{-9-1}=-54t^{-10}$\n",
        "\n",
        "\n",
        "4. $g(x)=x^2+\\frac{1}{x}$\n",
        "\n",
        "    $g(x)'=(x^2+x^{-1})'=2x-x^{-2}=x^2-\\frac{1}{x^2}$\n",
        "\n",
        "\n",
        "5. $h(x)=\\frac{x+2}{x-1}=\\frac{(x-1)+3}{x-1}=1+3(x-1)^{-1}$\n",
        "\n",
        "     $h(x)'=-3(x-1)^{-2}=-\\frac{3}{(x-1)^2}$\n",
        "\n",
        "\n",
        "6. $G(s)=(s^2+s+1)(s^2+2)=s^4+s^3+s^2+2s^2+2s+2=s^4+s^3+3s^2+2s+2$\n",
        "\n",
        "    $G(s)'=4s^3+3s^2+6s+2$\n",
        "\n",
        "\n",
        "7. $y=ln(x+3)$\n",
        "\n",
        "    $y'=\\frac{1}{x+3}$\n"
      ]
    },
    {
      "cell_type": "markdown",
      "metadata": {
        "id": "pw-CGcciwfT_",
        "colab_type": "text"
      },
      "source": [
        "## Evaluate the following integrals.\n",
        "\n",
        "8. $\\int_{a}^{b}cdx \\\\ = cx\\Bigr|_{a}^{b}=cb-ca$\n",
        "\n",
        "9. $\\int_{1}^{4}(x^2-2)dx \\\\ =\\frac{1}{3}x^3-2x \\Bigr|_{1}^{4}=\\frac{1}{3}*4^3-2*4-\\frac{1}{3}+2=21-6=15$\n",
        "\n",
        "10. $\\int_{0}^{b}(x^3+4x)dx \\\\ = \\frac{1}{4}x^4+4\\frac{1}{2}x^2 \\  \\Bigr|_{0}^{b} = \\frac{b^4}{4}+2b^2 $\n",
        "\n",
        "11. $\\int_{a}^{b}xdx \\\\ = \\frac{1}{2}x^2 = \\frac{b^2-a^2}{2} $\n",
        "\n",
        "12. $\\int_{1}^{2}(x^{-2})dx \\\\ = (-2+1)x^{-1}  \\  \\Bigr|_{1}^{2} = - \\frac{1}{2-1} = -1$\n",
        "\n",
        "13. $\\int_{0}^{1}(1-2x-3x^2)dx \\\\ = x - 2* \\frac{1}{2}x^2 - 3* \\frac{1}{3}x^3   \\  \\Bigr|_{0}^{1} = 1-1-1=-1$"
      ]
    },
    {
      "cell_type": "markdown",
      "metadata": {
        "id": "i5Y7jGxhHA9k",
        "colab_type": "text"
      },
      "source": [
        "## Match the graph of each function in 15 – 17 with the graph of its derivative in a – c."
      ]
    },
    {
      "cell_type": "code",
      "metadata": {
        "id": "CqcmZhIYHYrf",
        "colab_type": "code",
        "outputId": "6095930f-12ac-454f-dd03-81a5ee486fa0",
        "colab": {
          "base_uri": "https://localhost:8080/",
          "height": 35
        }
      },
      "source": [
        "import matplotlib.pyplot as plt\n",
        "import numpy as np\n",
        "%matplotlib inline"
      ],
      "execution_count": 0,
      "outputs": [
        {
          "output_type": "stream",
          "text": [
            "Using matplotlib backend: agg\n"
          ],
          "name": "stdout"
        }
      ]
    },
    {
      "cell_type": "markdown",
      "metadata": {
        "id": "VipNBQYeIMPD",
        "colab_type": "text"
      },
      "source": [
        "### 15. & c.\n"
      ]
    },
    {
      "cell_type": "code",
      "metadata": {
        "id": "diwNYos0ubQq",
        "colab_type": "code",
        "outputId": "cef53f80-0ef6-4a7d-c4ac-062ee54f8bb7",
        "colab": {
          "base_uri": "https://localhost:8080/",
          "height": 265
        }
      },
      "source": [
        "plt.xlim((-4, 4))  \n",
        "plt.ylim((-12, 17))\n",
        "yc = -x**3 +5*x\n",
        "y15 = -3*(x**2) +5\n",
        "plt.plot(x, yc, 'r--')\n",
        "plt.plot(x, y15, \"b\")\n",
        "plt.show()"
      ],
      "execution_count": 0,
      "outputs": [
        {
          "output_type": "display_data",
          "data": {
            "image/png": "[encoded data removed]",
            "text/plain": [
              "<Figure size 432x288 with 1 Axes>"
            ]
          },
          "metadata": {
            "tags": []
          }
        }
      ]
    },
    {
      "cell_type": "markdown",
      "metadata": {
        "id": "tkLaWj9oJ0ve",
        "colab_type": "text"
      },
      "source": [
        "### 16. & a"
      ]
    },
    {
      "cell_type": "code",
      "metadata": {
        "id": "bcOcFU01JxiR",
        "colab_type": "code",
        "outputId": "869ac209-0ed2-47aa-e74f-3ee4b4766c21",
        "colab": {
          "base_uri": "https://localhost:8080/",
          "height": 304
        }
      },
      "source": [
        "plt.xlim((-4, 4))  \n",
        "plt.ylim((-6, 2))\n",
        "a = range(0,4)\n",
        "y16 = np.log2(a)\n",
        "# ya = -3*(x**2) +5\n",
        "plt.plot(a, y16, \"b\")\n",
        "# plt.plot(x, y1)\n",
        "plt.show()"
      ],
      "execution_count": 0,
      "outputs": [
        {
          "output_type": "stream",
          "text": [
            "/usr/local/lib/python3.6/dist-packages/ipykernel_launcher.py:4: RuntimeWarning: divide by zero encountered in log2\n",
            "  after removing the cwd from sys.path.\n"
          ],
          "name": "stderr"
        },
        {
          "output_type": "display_data",
          "data": {
            "image/png": "[encoded data removed]",
            "text/plain": [
              "<Figure size 432x288 with 1 Axes>"
            ]
          },
          "metadata": {
            "tags": []
          }
        }
      ]
    },
    {
      "cell_type": "markdown",
      "metadata": {
        "id": "0AasVQbYRAaP",
        "colab_type": "text"
      },
      "source": [
        "# 13 Partial Derivatives\n",
        "\n",
        "---\n",
        "\n"
      ]
    },
    {
      "cell_type": "markdown",
      "metadata": {
        "id": "JAAfCsIMRDHZ",
        "colab_type": "text"
      },
      "source": [
        "## Rule for finding partial derivatives of $z = f (x, y)$ :\n",
        "\n",
        "\n",
        "- a. To find $f_{x}$, regard $y$ as a constant and differentiate $f(x,y)$ with respect to $x$.\n",
        "- b. To find $f_{y}$, regard $x$ as a constant and differentiate $f(x,y)$ with respect to $y$.\n"
      ]
    },
    {
      "cell_type": "markdown",
      "metadata": {
        "id": "v6rz8c_QSQBJ",
        "colab_type": "text"
      },
      "source": [
        "## Find the indicated partial derivatives.\n",
        "\n",
        "1. $f(x,y)=x^3y^5$; $f_{x} (3,−1)$\n",
        "\n",
        "$$\\frac{f(x,y)}{\\partial x}=3x^2y^5$$\n",
        "\n",
        "$$f_{x} (3,−1) = 3^3 * (-1)^5=-27$$\n",
        "\n",
        "2. $f(x,y)=xe^{−y}+3y$; $\\frac{ \\partial f}{ \\partial y}(1,0)$\n",
        "\n",
        "$$\\frac{f(x,y)}{\\partial y}=-xe^{y}+3$$\n",
        "\n",
        "$$\\frac{ \\partial f(1,0)}{\\partial y}=-(1)e^0+3 = 2 $$\n",
        "\n",
        "3. $z=\\frac{x^3+y^3}{x^2+y^2}$; \n",
        "\n",
        "$$z= (x^3+y^3)(x^2+y^2)^{-1}$$\n",
        "\n",
        "$$\n",
        "\\begin{aligned}\n",
        "\\frac{ \\partial z}{ \\partial x} &= (3x^2)(x^2+y^2)^{-1}+(x^3+y^3)(-1)(x^2+y^2)^{-2}*2x \\\\\n",
        "&= \\frac{3x^2}{x^2+y^2} - \\frac{2x(x^3+y^3)}{(x^2+y^2)^2}\\\\\n",
        "&= \\frac{3x^4 + 3x^2y^2 - 2x^4-2xy^3}{(x^2+y^2)^2} \\\\\n",
        "&= \\frac{=x^4+ 3x^2y^2-2xy^3}{(x^2+y^2)^2}\n",
        "\\end{aligned}\n",
        "$$\n",
        "\n",
        "$$\n",
        "\\begin{aligned}\n",
        "\\frac{ \\partial z}{ \\partial y} &= (3y^2)(x^2+y^2)^{-1}+(x^3+y^3)(-1)(x^2+y^2)^{-2}*2y \\\\\n",
        "&= \\frac{3y^2}{x^2+y^2} - \\frac{2y(x^3+y^3)}{(x^2+y^2)^2}\\\\\n",
        "&= \\frac{3y^4 + 3x^2y^2 - 2y^4-2x^3y}{(x^2+y^2)^2} \\\\\n",
        "&= \\frac{=y^4+ 3x^2y^2-2x^3y}{(x^2+y^2)^2}\n",
        "\\end{aligned}\n",
        "$$\n",
        "\n",
        "4. $xy+yz=xz$\n",
        "\n",
        "$$xz-yz = xy \\\\ (x-y)z=xy \\\\ z = xy(x-y)^{-1}$$\n",
        "\n",
        "$$\\begin{aligned}\n",
        "\\frac{ \\partial z}{ \\partial x} &= y(x-y)^{-1}+(-1)xy(x-y)^{-2}\\\\ \n",
        "&= \\frac{y}{x-y}- \\frac{xy}{(x-y)^2} \\\\ \n",
        "&= \\frac{xy-y^2-xy}{(x-y)^2} \\\\\n",
        "&= -\\frac{y^2}{(x-y)^2} \n",
        "\\end{aligned}$$\n",
        "\n",
        "$$\\begin{aligned}\n",
        "\\frac{ \\partial z}{ \\partial y} &= x(x-y)^{-1}+(-1)xy(x-y)^{-2}\\\\ \n",
        "&= \\frac{x}{x-y}- \\frac{xy}{(x-y)^2}\\\\\n",
        "&= \\frac{x^2-xy-xy}{(x-y)^2} \\\\\n",
        "&= \\frac{x^2}{(x-y)^2} \n",
        "\\end{aligned}$$\n",
        "\n",
        "\n",
        "5. $x^2+y^2-z^2 = 2x(y+z)$\n",
        "\n",
        "$$x^2+y^2-z^2 = 2xy+2xz \\\\ x^2+y^2-2xy = z^2+2xz+x^2-x^2 \\\\ (z+x)^2=(x-y)^2+x^2 \\\\ z = (2x^2-2xy+y^2)^{\\frac{1}{2}}-x$$\n",
        "\n",
        "$$\\begin{aligned}\n",
        "\\frac{ \\partial z}{ \\partial x} &=\\frac{1}{2} (2x^2-2xy+y^2)^{-\\frac{1}{2}} (4x-2y) -1\\\\\n",
        "&= (2x^2-2xy+y^2)^{-\\frac{1}{2}}(2x-y)-1\n",
        "\\end{aligned}$$\n",
        "\n",
        "$$\\begin{aligned}\n",
        "\\frac{ \\partial z}{ \\partial y} &=\\frac{1}{2} (2x^2-2xy+y^2)^{-\\frac{1}{2}} (-2x+2y)\\\\\n",
        "&= (2x^2-2xy+y^2)^{-\\frac{1}{2}}(y-x)\n",
        "\\end{aligned}$$\n",
        "\n",
        "6. $f(x,y,z)=xyz$\n",
        "\n",
        "$$\\frac{\\partial f(x,y,z)}{\\partial y} = xz \\\\ f_{y}(0,1,2) = 0*2=0$$\n",
        "\n"
      ]
    },
    {
      "cell_type": "markdown",
      "metadata": {
        "id": "PJsWCNrGdFpL",
        "colab_type": "text"
      },
      "source": [
        "## Find all the second partial derivatives.\n",
        "\n",
        "7. $f(x,y)=x^2y+x \\sqrt y $\n",
        "\n",
        "$$\\frac{\\partial f(x,y)}{\\partial x} = 2xy+ \\sqrt y \\\\ \\frac{\\partial ^2 f(x,y)}{\\partial x} = 2y $$\n",
        "\n",
        "<br>\n",
        "\n",
        "$$\\frac{\\partial f(x,y)}{\\partial y} = x^2y+ \\frac{x}{2} y^{-\\frac{1}{2}} \\\\ \\frac{\\partial ^2 f(x,y)}{\\partial y} =-  \\frac{x}{4} y^{-\\frac{3}{2}}$$\n",
        "\n",
        "\n",
        "8. $z=(x^2 + y^2)^{\\frac{3}{2}}$\n",
        "\n",
        "$$\\frac{\\partial z}{\\partial x} = \\frac{3}{2}(x^2 + y^2)^{\\frac{1}{2}} 2x = 3x(x^2 + y^2)^{\\frac{1}{2}} \\\\ \n",
        "\\frac{\\partial ^2 z}{\\partial x} = 3(x^2 + y^2)^{\\frac{1}{2}} + 3x * \\frac{1}{2} (x^2 + y^2)^{-\\frac{1}{2}} *x =  3(x^2 + y^2)^{\\frac{1}{2}} +  \\frac{3x^2}{2} (x^2 + y^2)^{-\\frac{1}{2}}$$\n",
        "\n",
        "<br>\n",
        "\n",
        "$$\\frac{\\partial z}{\\partial y} = \\frac{3}{2}(x^2 + y^2)^{\\frac{1}{2}} 2y = 3y(x^2 + y^2)^{\\frac{1}{2}} \\\\ \n",
        "\\frac{\\partial ^2 z}{\\partial y} = 3 (x^2 + y^2)^{\\frac{1}{2}}  + \\frac{3y^2}{2} (x^2 + y^2)^{-\\frac{1}{2}} $$"
      ]
    },
    {
      "cell_type": "markdown",
      "metadata": {
        "id": "Vg2nIo2gfvYY",
        "colab_type": "text"
      },
      "source": [
        "# 14 Total Derivatives\n",
        "\n",
        "---\n",
        "\n"
      ]
    },
    {
      "cell_type": "markdown",
      "metadata": {
        "id": "N1t-ZvGBgKzn",
        "colab_type": "text"
      },
      "source": [
        "## Find the differential $\\frac{dz}{dy}$ given the following equations.\n",
        "\n",
        "1. $z= f(x,y)=5x+xy-y^2 \\\\ x = g(y) = 3y^2$\n",
        "\n",
        "$$\\frac{dz}{dy} = \\frac{d(15y^2+3y^3-y^2)}{dy} = 9y^2+28y$$\n",
        "\n",
        "2. $z=4x^2-3xy+2y^2\\\\x = \\frac{1}{y} = y^{-1}$\n",
        "\n",
        "$$\\frac{dz}{dy} = \\frac{d(4y^{-2}-3+2y^2)}{dy} = 4y - \\frac{8}{y^3}$$\n",
        "\n",
        "3. $z = (x+y)(x-2y)\\\\x=2-7y$\n",
        "\n",
        "$$ z = (2-7y+y)(2-7y-2y)=(2-6y)(2-9y) = 4 - 30y +54y^2$$\n",
        "\n",
        "$$\\frac{dz}{dy} = 108y-30$$\n",
        "\n",
        "\n"
      ]
    },
    {
      "cell_type": "markdown",
      "metadata": {
        "id": "TC2y_tITh6Si",
        "colab_type": "text"
      },
      "source": [
        "## Find the total derivative $\\frac{dz}{dt}$ given the following equations\n",
        "\n",
        "4. $z = x^2-8xy-y^3\\\\x=3t \\\\ y=1-t $\n",
        "\n",
        "$$z=9t^2-24t(1-t)-(1-t)^3 = 33t^2-24t - -(1-t)^3$$\n",
        "\n",
        "$$\\begin{aligned} \n",
        "\\frac{dz}{dt} &= 66t - 24-3(1-t)^2(-1) \\\\\n",
        "& = 66t - 24 +3(1-2t+t^2) \\\\\n",
        "&= 3t^2+60t-21\n",
        "\\end{aligned} $$\n",
        "\n",
        "5. $z=7u+vt\\\\u=2t^2\\\\v=t+1$\n",
        "\n",
        "$$z= 7*2t^2+(t+1)t = 15t^2 +t $$\n",
        "\n",
        "$$\\frac{dz}{dt} = 30t+1$$\n",
        "\n",
        "6. $z=f(x,y,t)\\\\x=a+bt\\\\y=c+kt$\n",
        "\n",
        "$$\\frac{dz}{dt} = \\frac{df(a+bt, c+kt, t)}{dt} = f(b, k, 1)$$"
      ]
    },
    {
      "cell_type": "markdown",
      "metadata": {
        "id": "IUueEM--fx1t",
        "colab_type": "text"
      },
      "source": [
        "# 15 Total Differentials\n",
        "\n",
        "---\n",
        "\n"
      ]
    },
    {
      "cell_type": "markdown",
      "metadata": {
        "id": "cH3ArbJNk8sF",
        "colab_type": "text"
      },
      "source": [
        "## Find the differential $dy$ given the following equations.\n",
        "\n",
        "1. $y=-x(x^3+3)$\n",
        "\n",
        "$$\\frac{dy}{dx} = \\frac{d(-x^4-3x)}{dx} = -4x^3-3$$\n",
        "\n",
        "2. $y=(x-8)(7x+5)$\n",
        "\n",
        "$$\\frac{dy}{dx} = 7x+5 + (x-8)*7 = 14x -51$$\n",
        "\n",
        "3. $y=\\frac{x}{x^2+1}$\n",
        "\n",
        "$$\\frac{dy}{dx} = \\frac{d[x(x^2+1)^{-1}]}{dx} =(x^2+1)^{-1}+x(-1)(x^2+1)^{-2} = \\frac{1}{x^2+1} - \\frac{x}{(x^2+1)^2}$$\n",
        "\n"
      ]
    },
    {
      "cell_type": "markdown",
      "metadata": {
        "id": "BuKieYpHqKDv",
        "colab_type": "text"
      },
      "source": [
        "## Find the total differentials. \n",
        "\n",
        "4. $z=3x^2 +xy -2y^3$\n",
        "\n",
        "$$\\begin{aligned}\n",
        "dz &= \\frac{\\partial z}{\\partial x}dx + \\frac{\\partial z}{\\partial y}dy \\\\\n",
        "&= (6x+y)dx + (x-6y^2)dy \\end{aligned}$$\n",
        "\n",
        "5. $U=2x_{1} + 9x_{1}x_{2} +x_{2}^2 $\n",
        "\n",
        "$$\\begin{aligned}\n",
        "dU &= \\frac{\\partial U}{\\partial x_{1}}dx_{1} + \\frac{\\partial z}{\\partial x_{2}}dx_{2} \\\\\n",
        "&= (2 +9x_{2})dx_{1} +(9x_{1} + 2x_{2})dx_{2} \\end{aligned}$$\n",
        "\n",
        "6. $y = \\frac{x_{1} }{x_{1} +x_{2}}$\n",
        "\n",
        "$$\\begin{aligned} \n",
        "dy &= \\frac{\\partial U}{\\partial x_{1}}dx_{1} + \\frac{\\partial z}{\\partial x_{2}}dx_{2} \\\\ \n",
        "&= (-1) (x_{1} +x_{2})^{-2}dx_{1}  + x_{1} (-1) (x_{1} +x_{2})^{-2}dx_{2} \\\\\n",
        "&= -\\frac{1}{(x_{1} +x_{2})^2}dx_{1} - \\frac{x_{1}}{(x_{1} +x_{2})^2}\n",
        "\\end{aligned}$$\n",
        "\n",
        "7. $y = \\frac{2x_{1}x_{2} }{x_{1} +x_{2}}$\n",
        "\n",
        "$$\\begin{aligned}\n",
        "dy &= \\frac{\\partial U}{\\partial x_{1}}dx_{1} + \\frac{\\partial z}{\\partial x_{2}}dx_{2}\\\\\n",
        "&= 2x_{2}(-1) (x_{1} +x_{2})^{-2}dx_{1}  + 2x_{1} (-1) (x_{1} +x_{2})^{-2}dx_{2}\\\\\n",
        "&= -\\frac{2x_{2}}{(x_{1} +x_{2})^2}dx_{1} - \\frac{2x_{1}}{(x_{1} +x_{2})^2}dx_{2}\n",
        "\\end{aligned}$$\n",
        "\n",
        "8. $U=-5x^3-12xy-6y^5$\n",
        "\n",
        "$$\\begin{aligned}\n",
        "dU &= \\frac{\\partial U}{\\partial x}dx + \\frac{\\partial U}{\\partial y}dy \\\\\n",
        "&= (-15x^2-12y)dx + (-12x-30y^4)dy \\\\ \n",
        "&= -(15x^2+12y)dx - (12x+30y^4)dy \n",
        "\\end{aligned}$$\n",
        "\n",
        "9. $U=7x^2y^3$\n",
        "\n",
        "$$\\begin{aligned}\n",
        "dU &= \\frac{\\partial U}{\\partial x}dx + \\frac{\\partial U}{\\partial y}dy \\\\\n",
        "&= 14xy^3dx+21x^2y^2dy\n",
        "\\end{aligned}$$\n",
        "\n",
        "10. $U=3x^3(8x-7y) = 24x^4-21x^3y$\n",
        "\n",
        "$$\\begin{aligned}\n",
        "dU &= \\frac{\\partial U}{\\partial x}dx + \\frac{\\partial U}{\\partial y}dy \\\\\n",
        "&= (96x^3-63x^2y)dx - 21x^3dy\\end{aligned}$$\n",
        "\n",
        "\n",
        "\n"
      ]
    },
    {
      "cell_type": "markdown",
      "metadata": {
        "id": "eMX-1NOus2CX",
        "colab_type": "text"
      },
      "source": [
        "## Find the total differentials using the rules of differentials (Chiang and Wainwright, p. 187).\n",
        "\n",
        "11. $z=3x^2+xy-2y^3$\n",
        "\n",
        "$$\\begin{aligned} \n",
        "dz &=d(3x^2)+d(xy)-d(6y^2)\\\\\n",
        "&= 6xdx + ydx+xdy -6y^2dy\\\\\n",
        "&=(6x-y)dx + (y-6y^2)dy\n",
        "  \\end{aligned}$$\n",
        "\n",
        "12. $U = 2x_{1} + 9x_{1}x_{2} + x_{2}^2$\n",
        "\n",
        "$$\\begin{aligned}\n",
        "dU &= d(2x_{1}) + d(9x_{1}x_{2}) + d(x_{2}^2) \\\\ \n",
        "&=2dx_{1} + 9x_{2}dx_{1} + 9x_{1}dx_{2} + 2x_{2}dx_{2} \\\\ \n",
        "&= (9x_{2}+2)dx_{1}+(9x_{1}+2x_{2})dx_{2} \n",
        "\\end{aligned}$$\n"
      ]
    },
    {
      "cell_type": "markdown",
      "metadata": {
        "id": "q-SlSPhhf0E4",
        "colab_type": "text"
      },
      "source": [
        "# 16 Gradient Vectors and Hessian Matrices\n",
        "\n",
        "---\n",
        "\n",
        "## Find the gradient vector and Hessian matrix for $y$.\n"
      ]
    },
    {
      "cell_type": "markdown",
      "metadata": {
        "id": "EO2kkaoDxQ1R",
        "colab_type": "text"
      },
      "source": [
        "### 1. $y=−x_{1}^3+3x_{1}x_{3 }+2x_{2}−x^2_{2}−3x^2_{3}$\n",
        "\n",
        "First order derivatives:\n",
        "$$\\frac{\\partial y}{\\partial x_{1}} = -3x_{1}^2 + 3x_{3} \\\\ \n",
        "\\frac{\\partial y}{\\partial x_{2}} = 2-2x_{2}\\\\\n",
        "\\frac{\\partial y}{\\partial x_{3}} = 2x_{1}-3x_{3}\\\\\n",
        "$$\n",
        "\n",
        "The gradient vector is thus $\\nabla y = (-3x_{1}^2 + 3x_{3}, 2-2x_{2}, 2x_{1}-3x_{3})$.\n",
        "\n",
        "Second order derivatives:\n",
        "$$\\frac{\\partial ^2 y}{\\partial^2 x_{1}} = -6x_{1} \\\\ \n",
        "\\frac{\\partial ^2 y}{\\partial x_{1} \\partial x_{2}} = 0 \\\\\n",
        "\\frac{\\partial ^2 y}{\\partial x_{1} \\partial x_{3}} = 3 \\\\\n",
        "\\frac{\\partial ^2 y}{\\partial x_{2} \\partial x_{1}} = 0\\\\\n",
        "\\frac{\\partial ^2 y}{\\partial^2 x_{2}} = -2\\\\\n",
        "\\frac{\\partial ^2 y}{\\partial x_{2} \\partial x_{3}} = 0\\\\\n",
        "\\frac{\\partial ^2 y}{\\partial x_{3} \\partial x_{1}} = 2\\\\\n",
        "\\frac{\\partial ^2 y}{\\partial x_{3} \\partial x_{2}} = 0\\\\\n",
        "\\frac{\\partial ^2 y}{\\partial^2 x_{3}} = -3\\\\\n",
        "$$\n",
        "\n",
        "Therefore, the Hassian matrix\n",
        "\n",
        "$$H_{y} = \\begin{bmatrix} -6x_{1}&0&3 \\\\ 0&-2&0 \\\\ 2&0&-3 \\end{bmatrix}$$\n",
        "\n"
      ]
    },
    {
      "cell_type": "markdown",
      "metadata": {
        "id": "bMMsM5wsW-6_",
        "colab_type": "text"
      },
      "source": [
        "### 2.  $y=x_{1}^3+3x^2_{2}−3x_{1}x_{2}+4x_{2}x_{3}+6x^2_{3}$\n",
        "\n",
        "$$\\nabla y = (\\frac{\\partial y}{\\partial x_{1}},  \n",
        "\\frac{\\partial y}{\\partial x_{2}},\n",
        "\\frac{\\partial y}{\\partial x_{3}})\n",
        "= (3x_{1}^2-3x_{2}, 6x_{2}-3x_{1}+4x_{3}, 4x_{2}+12x_{3})\n",
        "$$\n",
        "\n",
        "$$\\\n",
        "H_{y} = \\begin{bmatrix}  \\frac{\\partial ^2 y}{\\partial^2 x_{1}}&\\frac{\\partial ^2 y}{\\partial x_{1} \\partial x_{2}}&\\frac{\\partial ^2 y}{\\partial x_{1} \\partial x_{3}} \\\\ \\frac{\\partial ^2 y}{\\partial x_{2} \\partial x_{1}} & \\frac{\\partial ^2 y}{\\partial^2 x_{2}} &\\frac{\\partial ^2 y}{\\partial x_{2} \\partial x_{3}} \\\\ \\frac{\\partial ^2 y}{\\partial x_{3} \\partial x_{1}}  & \\frac{\\partial ^2 y}{\\partial x_{3} \\partial x_{2}} &\n",
        "\\frac{\\partial ^2 y}{\\partial^2 x_{3}}    \\end{bmatrix} \n",
        "= \\begin{bmatrix} 6x_{1}&-3&0\\\\ -3&6&4\\\\ 0&4&12 \\\\ \\end{bmatrix}\n",
        "$$\n",
        "\n",
        "<br>\n",
        "\n",
        "### 3. $y = 29−(x^2_{1} +x^2_{2} +x^2_{3})$\n",
        "\n",
        "$$\\nabla y = (\\frac{\\partial y}{\\partial x_{1}},  \n",
        "\\frac{\\partial y}{\\partial x_{2}},\n",
        "\\frac{\\partial y}{\\partial x_{3}})\n",
        "= (-2x_{1}, -2x_{2}, -2x_{3})\n",
        "$$\n",
        "\n",
        "$$\\\n",
        "H_{y} =  \\begin{bmatrix}  \\frac{\\partial ^2 y}{\\partial^2 x_{1}}&\\frac{\\partial ^2 y}{\\partial x_{1} \\partial x_{2}}&\\frac{\\partial ^2 y}{\\partial x_{1} \\partial x_{3}} \\\\ \\frac{\\partial ^2 y}{\\partial x_{2} \\partial x_{1}} & \\frac{\\partial ^2 y}{\\partial^2 x_{2}} &\\frac{\\partial ^2 y}{\\partial x_{2} \\partial x_{3}} \\\\ \\frac{\\partial ^2 y}{\\partial x_{3} \\partial x_{1}}  & \\frac{\\partial ^2 y}{\\partial x_{3} \\partial x_{2}} &\n",
        "\\frac{\\partial ^2 y}{\\partial^2 x_{3}}   \\end{bmatrix} \n",
        "= \\begin{bmatrix} -2&0&0\\\\ 0&-2&0\\\\ 0&0&-2 \\\\ \\end{bmatrix}\n",
        "$$\n",
        "\n",
        "<br>\n",
        "\n",
        "### 4. $y = x_{1}x_{3}+x_{1}^2-x_{2}+x_{2}x_{3}+2x_{2}^2+3x_{3}^2$\n",
        "\n",
        "$$\\nabla y = (\\frac{\\partial y}{\\partial x_{1}},  \n",
        "\\frac{\\partial y}{\\partial x_{2}},\n",
        "\\frac{\\partial y}{\\partial x_{3}})\n",
        "= (x_{3}+2x_{1}, -1+x_{3}+4x_{2}, x_{1}+x_{2}+6x_{3})\n",
        "$$\n",
        "\n",
        "$$\\\n",
        "H_{y} = \\begin{bmatrix}  \\frac{\\partial ^2 y}{\\partial^2 x_{1}}&\\frac{\\partial ^2 y}{\\partial x_{1} \\partial x_{2}}&\\frac{\\partial ^2 y}{\\partial x_{1} \\partial x_{3}} \\\\ \\frac{\\partial ^2 y}{\\partial x_{2} \\partial x_{1}} & \\frac{\\partial ^2 y}{\\partial^2 x_{2}} &\\frac{\\partial ^2 y}{\\partial x_{2} \\partial x_{3}} \\\\ \\frac{\\partial ^2 y}{\\partial x_{3} \\partial x_{1}}  & \\frac{\\partial ^2 y}{\\partial x_{3} \\partial x_{2}} &\n",
        "\\frac{\\partial ^2 y}{\\partial^2 x_{3}}    \\end{bmatrix} \n",
        "= \\begin{bmatrix} 2&0&1\\\\ 0&4&1\\\\ 1&1&6 \\\\ \\end{bmatrix}\n",
        "$$\n",
        "\n",
        "<br>\n",
        "\n",
        "### 5. $y = x_{1}^3 + 3x_{2}^2-3x_{1}x_{2}+4x_{2}x_{3}+6x_{3}^2$\n",
        "\n",
        "$$\\nabla y = (\\frac{\\partial y}{\\partial x_{1}},  \n",
        "\\frac{\\partial y}{\\partial x_{2}},\n",
        "\\frac{\\partial y}{\\partial x_{3}})\n",
        "= (3x_{1}-3x_{2}, 6x_{2}-3x_{1}+4x_{3}, 4x_{2}+12x_{3})\n",
        "$$\n",
        "\n",
        "$$\\\n",
        "H_{y} = \\begin{bmatrix}  \\frac{\\partial ^2 y}{\\partial^2 x_{1}}&\\frac{\\partial ^2 y}{\\partial x_{1} \\partial x_{2}}&\\frac{\\partial ^2 y}{\\partial x_{1} \\partial x_{3}} \\\\ \\frac{\\partial ^2 y}{\\partial x_{2} \\partial x_{1}} & \\frac{\\partial ^2 y}{\\partial^2 x_{2}} &\\frac{\\partial ^2 y}{\\partial x_{2} \\partial x_{3}} \\\\ \\frac{\\partial ^2 y}{\\partial x_{3} \\partial x_{1}}  & \\frac{\\partial ^2 y}{\\partial x_{3} \\partial x_{2}} &\n",
        "\\frac{\\partial ^2 y}{\\partial^2 x_{3}}   \\end{bmatrix} \n",
        "= \\begin{bmatrix} 3&-3&0\\\\ -3&6&4\\\\ 0&4&12 \\\\ \\end{bmatrix}\n",
        "$$"
      ]
    },
    {
      "cell_type": "markdown",
      "metadata": {
        "id": "S6QieslTf6pQ",
        "colab_type": "text"
      },
      "source": [
        "# 17 Optimization"
      ]
    },
    {
      "cell_type": "markdown",
      "metadata": {
        "id": "cLUk_dsDaWRv",
        "colab_type": "text"
      },
      "source": [
        "## Find the extreme value(s) of each of the following four functions and determine whether they are maxima or minima.\n",
        "\n",
        "### 1. $z=x^2+xy+2y^2+3$\n",
        "\n",
        "$$\\nabla z = (\\frac{\\partial z}{\\partial x},  \n",
        "\\frac{\\partial z}{\\partial y})\n",
        "= (2x+y, x+4y)\n",
        "$$\n",
        "\n",
        "The  critical point is when $\\nabla z = 0$, or $(x,y)=(0,0)$. \n",
        "\n",
        "$$\n",
        "H_{z} = \\begin{bmatrix} \\frac{\\partial ^2 z}{\\partial^2 x}&\\frac{\\partial ^2 z}{\\partial x \\partial y}\\\\ \\frac{\\partial ^2 z}{\\partial y \\partial x}&\\frac{\\partial ^2 z}{\\partial^2 y}  \\end{bmatrix} \n",
        "= \\begin{bmatrix} 2&1\\\\ 1&4 \\end{bmatrix}\n",
        "$$\n",
        "\n",
        "$$det(H_{z}) = 8-1 = 7>0$$\n",
        "\n",
        "Therefore, the critical point $(x,y)=(0,0)$ is a minima. \n",
        "\n",
        "<br>\n",
        "\n",
        "### 2. $z=-x^2-y^2+6x+2y$\n",
        "\n",
        "$$\\nabla z = (\\frac{\\partial z}{\\partial x},  \n",
        "\\frac{\\partial z}{\\partial y})\n",
        "= (-2x+6, -2y+2)\n",
        "$$\n",
        "\n",
        "The  critical point is when $\\nabla z = 0$, or $(x,y)=(3, 1)$. \n",
        "\n",
        "$$\n",
        "H_{z} = \\begin{bmatrix} \\frac{\\partial ^2 z}{\\partial^2 x}&\\frac{\\partial ^2 z}{\\partial x \\partial y}\\\\ \\frac{\\partial ^2 z}{\\partial y \\partial x}&\\frac{\\partial ^2 z}{\\partial^2 y}  \\end{bmatrix} \n",
        "= \\begin{bmatrix} -2&0\\\\0&-2 \\end{bmatrix}\n",
        "$$\n",
        "\n",
        "$$det(H_{z}) = 4-0 = 4>0$$\n",
        "\n",
        "Therefore, the critical point $(x,y)=(3,1)$ is a minima. \n",
        "\n",
        "<br>\n",
        "\n",
        "### 3. $z=ax^2+by^2+c (a>0, b>0)$\n",
        "\n",
        "$$\\nabla z = (\\frac{\\partial z}{\\partial x},  \n",
        "\\frac{\\partial z}{\\partial y})\n",
        "= (2ax, 2bx)\n",
        "$$\n",
        "\n",
        "The  critical point is when $\\nabla z = 0$, or $(x,y)=(0,0)$. \n",
        "\n",
        "$$\n",
        "H_{z} = \\begin{bmatrix} \\frac{\\partial ^2 z}{\\partial^2 x}&\\frac{\\partial ^2 z}{\\partial x \\partial y}\\\\ \\frac{\\partial ^2 z}{\\partial y \\partial x}&\\frac{\\partial ^2 z}{\\partial^2 y}  \\end{bmatrix} \n",
        "= \\begin{bmatrix} 2a&0\\\\ 0&2b \\end{bmatrix}\n",
        "$$\n",
        "\n",
        "$$det(H_{z}) = 4ab > 0 \\ (since \\ a>0, b>0)$$\n",
        "\n",
        "Therefore, the critical point $(x,y)=(0,0)$ is a minima. \n"
      ]
    },
    {
      "cell_type": "markdown",
      "metadata": {
        "id": "UxswTsDshmBZ",
        "colab_type": "text"
      },
      "source": [
        "## Find the extreme values, if any, of the following functions. Check whether they are maxima or minima by the determinantal test.\n",
        "\n",
        "### 4. $z=x_{1}^3+3x^2_{2}-3x_{1}x_{2}+4x_{2}x_{3}+6x_{3}^2$\n",
        "\n",
        "$$\\nabla z = (\\frac{\\partial z}{\\partial x_{1}},  \n",
        "\\frac{\\partial z}{\\partial x_{2}},\n",
        "\\frac{\\partial z}{\\partial x_{3}})\n",
        "= (3x_{1}^2-3x_{2}, 6x_{2}-3x_{1}+4x_{3},4x_{2}+12x_{3})\n",
        "$$\n",
        "\n",
        "The  critical point is when $\\nabla z = 0$. This leads to two solutions: $(x_{1},x_{2}, x_{3})=(0,0,0)$ or $(x_{1},x_{2}, x_{3})=(\\frac{9}{14}, \\frac{81}{196}, \\frac{-27}{196})$. \n",
        "\n",
        "$$\n",
        "H_{z} = \\begin{bmatrix} \\frac{\\partial ^2 z}{\\partial^2 x_{1}}&\\frac{\\partial ^2 z}{\\partial x_{1} \\partial x_{2}}&\\frac{\\partial ^2 z}{\\partial x_{1} \\partial x_{3}} \\\\ \\frac{\\partial ^2 z}{\\partial x_{2} \\partial x_{1}} & \\frac{\\partial ^2 z}{\\partial^2 x_{2}} &\\frac{\\partial ^2 z}{\\partial x_{2} \\partial x_{3}} \\\\ \\frac{\\partial ^2 z}{\\partial x_{3} \\partial x_{1}}  & \\frac{\\partial ^2 z}{\\partial x_{3} \\partial x_{2}} &\n",
        "\\frac{\\partial ^2 z}{\\partial^2 x_{3}}   \\end{bmatrix} \n",
        "= \\begin{bmatrix}6x_{1}&-3&0\\\\-3&6&4\\\\0&4&12 \\end{bmatrix}\n",
        "$$\n",
        "\n",
        "$$det(H_{z}) = 6x_{1}*6*12 - (-3)*(-3)*12 - 4*4*6x_{1} = 6*(56x_{1}-12) $$\n",
        "\n",
        "When $x_{1}= \\frac{9}{14}$, $det(H_{z})>0$. Therefore, the critical point $(x_{1},x_{2}, x_{3})=(\\frac{9}{14}, \\frac{81}{196}, \\frac{-27}{196})$ is a minima. \n",
        "\n",
        "$$z_{min} = 1.6889$$\n",
        "\n",
        "<br> \n",
        "\n",
        "### 5. $z=29-(x_{1}^2 +x_{2}^2 +x_{3}^2 )$\n",
        "\n",
        "$$\\nabla z = (\\frac{\\partial z}{\\partial x_{1}},  \n",
        "\\frac{\\partial z}{\\partial x_{2}},\n",
        "\\frac{\\partial z}{\\partial x_{3}})\n",
        "= (-2x_{1}, -2x_{2}, -2x_{3})\n",
        "$$\n",
        "\n",
        "The  critical point is when $\\nabla z = 0$, i.e $(x_{1},x_{2}, x_{3})=(0,0,0)$. \n",
        "\n",
        "$$\n",
        "H_{z} = \\begin{bmatrix} \\frac{\\partial ^2 z}{\\partial^2 x_{1}}&\\frac{\\partial ^2 z}{\\partial x_{1} \\partial x_{2}}&\\frac{\\partial ^2 z}{\\partial x_{1} \\partial x_{3}} \\\\ \\frac{\\partial ^2 z}{\\partial x_{2} \\partial x_{1}} & \\frac{\\partial ^2 z}{\\partial^2 x_{2}} &\\frac{\\partial ^2 z}{\\partial x_{2} \\partial x_{3}} \\\\ \\frac{\\partial ^2 z}{\\partial x_{3} \\partial x_{1}}  & \\frac{\\partial ^2 z}{\\partial x_{3} \\partial x_{2}} &\n",
        "\\frac{\\partial ^2 z}{\\partial^2 x_{3}}   \\end{bmatrix} \n",
        "= \\begin{bmatrix} -2&0&0\\\\0&-2&0\\\\0&0&-2 \\end{bmatrix} \n",
        "$$\n",
        "\n",
        "$$det(H_{z}) = -8 <0 $$\n",
        "\n",
        "Therefore, the critical point $(x_{1},x_{2}, x_{3})=(0,0,0)$ is a maxima, and $z_{max} = 0$\n",
        "\n",
        "<br> \n",
        "\n",
        "### 6. $z=x_{1}x_{3}+x_{1}^2-x_{2}+x_{2}x_{3}+2x_{2}^2+3x_{3}^2 $\n",
        "\n",
        "$$\\nabla z = (\\frac{\\partial z}{\\partial x_{1}},  \n",
        "\\frac{\\partial z}{\\partial x_{2}},\n",
        "\\frac{\\partial z}{\\partial x_{3}})\n",
        "= (2x_{1}+x_{3}, -1+4x_{2}+x_{3},x_{1}+ x_{2}+6x_{3})\n",
        "$$\n",
        "\n",
        "The  critical point is when $\\nabla z = 0$, i.e $(x_{1},x_{2}, x_{3})=(\\frac{-11}{2},\\frac{1}{2},-1)$. \n",
        "\n",
        "$$\n",
        "H_{z} = \\begin{bmatrix} \\frac{\\partial ^2 z}{\\partial^2 x_{1}}&\\frac{\\partial ^2 z}{\\partial x_{1} \\partial x_{2}}&\\frac{\\partial ^2 z}{\\partial x_{1} \\partial x_{3}} \\\\ \\frac{\\partial ^2 z}{\\partial x_{2} \\partial x_{1}} & \\frac{\\partial ^2 z}{\\partial^2 x_{2}} &\\frac{\\partial ^2 z}{\\partial x_{2} \\partial x_{3}} \\\\ \\frac{\\partial ^2 z}{\\partial x_{3} \\partial x_{1}}  & \\frac{\\partial ^2 z}{\\partial x_{3} \\partial x_{2}} &\n",
        "\\frac{\\partial ^2 z}{\\partial^2 x_{3}}   \\end{bmatrix} \n",
        "= \\begin{bmatrix} -2&0&0\\\\0&-2&0\\\\0&0&-2 \\end{bmatrix} \n",
        "$$\n",
        "\n",
        "$$det(H_{z}) = -8 <0 $$\n",
        "\n",
        "Therefore, the critical point $(x_{1},x_{2}, x_{3})=(\\frac{-11}{2},\\frac{1}{2},-1)$ is a maxima, and $z_{max} = 38.25$"
      ]
    },
    {
      "cell_type": "markdown",
      "metadata": {
        "id": "uDkChZkE2AS9",
        "colab_type": "text"
      },
      "source": [
        "\n",
        "### 7. $z=e^{2x}+e^{-y}+e^{w^2}-(2x+2e^{w}-y)$\n",
        "\n",
        "$$\\nabla z = (\\frac{\\partial z}{\\partial x},  \n",
        "\\frac{\\partial z}{\\partial y},\n",
        "\\frac{\\partial z}{\\partial w})\n",
        "= (2e^{2x}-2, -e^{y}+1, 2we^{w^2}-2e^{w})\n",
        "$$\n",
        "\n",
        "The  critical point is when $\\nabla z = 0$, i.e $(x,y,w)=(\\frac{\\ln1}{2},\\ln1,1)$. \n",
        "\n",
        "$$\n",
        "H_{z} = \\begin{bmatrix} \\frac{\\partial ^2 z}{\\partial^2 x}&\\frac{\\partial ^2 z}{\\partial x \\partial y}&\\frac{\\partial ^2 z}{\\partial x \\partial w} \\\\ \\frac{\\partial ^2 z}{\\partial x \\partial y} & \\frac{\\partial ^2 z}{\\partial^2 y} &\\frac{\\partial ^2 z}{\\partial y \\partial w} \\\\ \\frac{\\partial ^2 z}{\\partial w \\partial x}  & \\frac{\\partial ^2 z}{\\partial y \\partial w} &\n",
        "\\frac{\\partial ^2 z}{\\partial^2 w}   \\end{bmatrix} \n",
        "= \\begin{bmatrix} 4e^{2x}&0&0\\\\0&-e^{y}&0\\\\0&0&4we^{w^2}-2e^w \\end{bmatrix} \n",
        "$$\n",
        "\n",
        "$$det(H_{z}) =  4e^{2x} *(-e^{y}) * (4we^{w^2}-2e^w) $$\n",
        "\n",
        "At the critical point $((x,y,w)=(\\frac{\\ln1}{2},\\ln1,1)$, $det(H_{z}) = 4*(-1)*(4e^2-2e)= -8e(2e-1)<0$. Therefore, the critical point is a maxima, and $z_{max} = e^2-2e \\approx 49.16$"
      ]
    },
    {
      "cell_type": "markdown",
      "metadata": {
        "id": "AwLUiNFb8HS8",
        "colab_type": "text"
      },
      "source": [
        "## Are the following functions concave, convex, strictly concave, strictly convex, or neither? Use Definition 11.20 (Chiang and Wainwright, p. 322).\n",
        "\n",
        "### 8. $z=x^2$\n",
        "\n",
        "$$\\nabla z = (2x)$$\n",
        "$$H_{Z} = [2] \\\\ det(H_{z})=2>0$$\n",
        "\n",
        "Therefore $z$ is strictly convex.\n",
        "\n",
        "<br>\n",
        "\n",
        "### 9. $z=x_{1}^2+2x_{2}^2$\n",
        "\n",
        "$$\\nabla z = (2x_{1}, 4x_{2})$$\n",
        "$$\n",
        "H_{Z} = \\begin{bmatrix} 2&0 \\\\ 0&4 \\end{bmatrix}\\\\\n",
        "det(H_{z})=8-0>0$$\n",
        "\n",
        "Therefore $z$ is strictly convex.\n",
        "\n",
        "<br>\n",
        "\n",
        "### 10. $z=2x^2-xy+y^3$\n",
        "\n",
        "$$\\nabla z = (4x-1, -1+3y^2)$$\n",
        "$$\n",
        "H_{Z} = \\begin{bmatrix} 4&0 \\\\ 0&6y \\end{bmatrix}\\\\\n",
        "det(H_{z})=24y$$\n",
        "\n",
        "Since $H_{z}$ is indefinite, $z$ is neither convex nor concave."
      ]
    },
    {
      "cell_type": "markdown",
      "metadata": {
        "id": "GlrtZ5Ze753q",
        "colab_type": "text"
      },
      "source": [
        "## Are the following functions concave, convex, strictly concave, strictly convex, or neither? Use Definition 11.24 and Definition 11.24’ (Chiang and Wainwright, p. 322).\n",
        "\n",
        "### 11. $z=3x^2+xy-2y^3$\n",
        "\n",
        "### 12. $U=2x_{1}+9x_{1}x_{2}+x_{2}^2$\n"
      ]
    },
    {
      "cell_type": "markdown",
      "metadata": {
        "id": "ewRkAvrKf9Y0",
        "colab_type": "text"
      },
      "source": [
        "# 18 Optimization with Equality Constraints"
      ]
    },
    {
      "cell_type": "markdown",
      "metadata": {
        "id": "-IhsNkUbDhds",
        "colab_type": "text"
      },
      "source": [
        "## 1. Refer to Chaing and Wainwright, p. 347-349. What are the effects of constraints on optimization?"
      ]
    },
    {
      "cell_type": "markdown",
      "metadata": {
        "id": "F6c9KUPbDkcs",
        "colab_type": "text"
      },
      "source": [
        "## 2. What is the Lagrange-multiplier method? What is a Lagrange multiplier?"
      ]
    },
    {
      "cell_type": "markdown",
      "metadata": {
        "id": "ptHlow1DDm59",
        "colab_type": "text"
      },
      "source": [
        "## 3. Use the Lagrange-multiplier method to find the stationary values of $z$:\n"
      ]
    }
  ]
}