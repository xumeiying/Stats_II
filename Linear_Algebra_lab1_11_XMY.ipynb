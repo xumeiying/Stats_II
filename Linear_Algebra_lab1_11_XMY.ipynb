{
  "nbformat": 4,
  "nbformat_minor": 0,
  "metadata": {
    "colab": {
      "name": "Linear Algebra_lab1-11_XMY.ipynb",
      "provenance": [],
      "collapsed_sections": [],
      "authorship_tag": "ABX9TyPN5D9xKIyyZPtNxs1vDoMx",
      "include_colab_link": true
    },
    "kernelspec": {
      "name": "python3",
      "display_name": "Python 3"
    },
    "accelerator": "GPU"
  },
  "cells": [
    {
      "cell_type": "markdown",
      "metadata": {
        "id": "view-in-github",
        "colab_type": "text"
      },
      "source": [
        "<a href=\"https://colab.research.google.com/github/xumeiying/Stats_II/blob/master/Linear_Algebra_lab1_11_XMY.ipynb\" target=\"_parent\"><img src=\"https://colab.research.google.com/assets/colab-badge.svg\" alt=\"Open In Colab\"/></a>"
      ]
    },
    {
      "cell_type": "code",
      "metadata": {
        "id": "8ws3CyuVeHTo",
        "colab_type": "code",
        "colab": {}
      },
      "source": [
        "import numpy as np\n",
        "from numpy import linalg as LA"
      ],
      "execution_count": 0,
      "outputs": []
    },
    {
      "cell_type": "markdown",
      "metadata": {
        "id": "rxwc5F0LK6iY",
        "colab_type": "text"
      },
      "source": [
        "# 1 Matrix Addition and Scalar Multiplication\n",
        "\n",
        "\n",
        "---\n"
      ]
    },
    {
      "cell_type": "markdown",
      "metadata": {
        "id": "qYD0hoU39yKO",
        "colab_type": "text"
      },
      "source": [
        "\n",
        "\n",
        "For problems 1-3, find the indicated sums, if possible. \n",
        "\n",
        "1. $\n",
        "\\begin{bmatrix}1 & 3 \\\\5& 0\\end{bmatrix}\n",
        "+ \n",
        "\\begin{bmatrix}-2 & 0 \\\\1 & 1\\end{bmatrix}\n",
        "=\n",
        "\\begin{bmatrix}1-2 & 3 +0\\\\5+1 & 0+1\\end{bmatrix}\n",
        "=\n",
        "\\begin{bmatrix}-1 & 3\\\\6 & 1\\end{bmatrix}\n",
        "$\n",
        "\n",
        "<br>\n",
        "\n",
        "2. \n",
        "$\\begin{bmatrix}2 & 3\\\\15 & 7\\end{bmatrix}\n",
        "+\n",
        "\\begin{bmatrix} 1 & 0 & 6 \\end{bmatrix}\n",
        "$ is not conformable. \n",
        "\n",
        "<br>\n",
        "\n",
        "3. \n",
        "$\n",
        "\\begin{bmatrix}\n",
        "2 & 0 & 2\\\\1 & 3 & 1\\\\1 & -1 & 4\\end{bmatrix}\n",
        "+\n",
        "\\begin{bmatrix}10&3&4\\\\1&0&1\\\\3&0&3\\end{bmatrix}\n",
        "=\n",
        "\\begin{bmatrix}3&3&6\\\\2&3&2\\\\4&-1&7\\end{bmatrix}\n",
        "$\n",
        "\n",
        "<br>\n",
        "\n",
        "4. Find the matrix A that satisfies the equation $A - \n",
        "\\begin{bmatrix}0&-1\\\\0&0\\end{bmatrix}\n",
        "=\n",
        "\\begin{bmatrix}3&-1\\\\2&1\\end{bmatrix}\n",
        "$.\n",
        "\n",
        "<br>\n",
        "\n",
        "$$A = \\begin{bmatrix} 3+0 & -1+(-1)\\\\ 2+0 & 1+0 \\end{bmatrix}\n",
        "=\n",
        "\\begin{bmatrix} 3 & -2\\\\ 2&1 \\end{bmatrix}\n",
        "$$\n",
        "\n",
        "<br>\n",
        "\n",
        "5. Let $ A =  \\begin{bmatrix} b & c \\\\ 2b & 3c^2 \\end{bmatrix}$ and $\\alpha = 3$, find $\\alpha A$.\n",
        "\n",
        "<br>\n",
        "\n",
        "$$ \\alpha A = \\begin{bmatrix} 3b & 3c \\\\ 6b & 9c^2 \n",
        "\\end{bmatrix} $$\n",
        "\n",
        "<br>\n",
        "\n",
        "6. Let $\n",
        "A = \\begin{bmatrix} 1&-2\\\\ 3b&5 \\end{bmatrix}$ and $\\alpha = 0.5$, find $\\alpha A$.\n",
        "\n",
        "<br>\n",
        "\n",
        "$$\\alpha A = \\begin{bmatrix} 0.5 & -1\\\\ 1.5 & 2.5 \\end{bmatrix}\n",
        "$$\n",
        "\n",
        "<br>\n",
        "\n",
        "7. Let $\\alpha - -2$, \n",
        "$ A = \\begin{bmatrix}3 & -2\\\\1 & 5\\end{bmatrix}$, and $B = \\begin{bmatrix} 0 & -1\\\\ -3 & 5\\end{bmatrix} $, find $\\alpha (A+B)$ and $\\alpha A + \\alpha B$\n",
        "\n",
        "<br>\n",
        "\n",
        "$$ \\alpha (A+B) = (-2) * \\begin{bmatrix} 3+0 & -2+1\\\\1-3 & 5+4 \\end{bmatrix}\n",
        "= (-2) * \\begin{bmatrix} 3 & -1\\\\-1 & 9 \\end{bmatrix}\n",
        "= \\begin{bmatrix} -6 & 2\\\\ 2 & -18 \\end{bmatrix}\n",
        "$$\n",
        "\n",
        "<br>\n",
        "\n",
        "$$\n",
        "\\alpha A + \\alpha B = (-2) * \\begin{bmatrix} 3 & -2\\\\1 & 5 \\end{bmatrix} + (-2) * \\begin{bmatrix} 0 & 1\\\\-3 & 4\\end{bmatrix}\n",
        "=  \\begin{bmatrix} -6 & 4\\\\ -2 & -10 \\end{bmatrix} + \\begin{bmatrix} 0 & -2\\\\ 6 & -8\\end{bmatrix} = \n",
        "\\begin{bmatrix} -6 & 2\\\\-8 & -18 \\end{bmatrix}\n",
        "$$"
      ]
    },
    {
      "cell_type": "markdown",
      "metadata": {
        "id": "fgVHXeb_K946",
        "colab_type": "text"
      },
      "source": [
        "# 2 Matrix Multiplication\n",
        "\n",
        "---"
      ]
    },
    {
      "cell_type": "markdown",
      "metadata": {
        "id": "p-sBX2G9COH1",
        "colab_type": "text"
      },
      "source": [
        "1. Expand the equation $c_{ij} = \\sum_{k=1}^{n}a_{ik}b_{kj}$ for $i = 1, 2; j = 1, 2, 3;$ and $n = 2$. \n",
        "\n",
        "$$c_{11} = a_{11}b_{11} + a_{12}b_{21} $$\n",
        "$$c_{12} = a_{11}b_{12} + a_{12}b_{22} $$\n",
        "$$c_{13} = a_{11}b_{13} + a_{12}b_{23} $$\n",
        "$$c_{21} = a_{21}b_{11} + a_{22}b_{21} $$\n",
        "$$c_{22} = a_{21}b_{12} + a_{22}b_{22} $$\n",
        "$$c_{23} = a_{21}b_{13} + a_{22}b_{23} $$\n",
        "\n"
      ]
    },
    {
      "cell_type": "markdown",
      "metadata": {
        "id": "9FTfrcreFvdW",
        "colab_type": "text"
      },
      "source": [
        "2. Given $u\\prime = [5 \\ 1 \\ 3], v\\prime = [3 \\ 1 \\ -1], w\\prime = [7 \\ 5 \\ 8]$, and $x\\prime = [x_{1} \\ x_{2} \\ x_{3}]$, write our the column vectors $u, v, w, x$ and find the following products.\n",
        "\n",
        "<center>\n",
        "\n",
        "The column vectors are $u = \\begin{bmatrix} 5 \\\\ 1\\\\3 \\end{bmatrix}$, $v = \\begin{bmatrix} 3 \\\\ 1\\\\ -1 \\end{bmatrix}$, $w = \\begin{bmatrix} 7 \\\\ 5 \\\\ 8 \\end{bmatrix}$, $x = \\begin{bmatrix} x_{1} \\\\ x_{2} \\\\ x_{3} \\end{bmatrix} $.\n",
        "\n",
        "<br>\n",
        "\n",
        "a. $u_{(3*1)} v\\prime_{(1*3)} = \\begin{bmatrix} 15&3&9 \\\\ 5&1&3\\\\-5&-3&-3 \\end{bmatrix} $\n",
        "\n",
        "<br>\n",
        "\n",
        "b. $x_{(3*1)} x\\prime_{(1*3)} = \\begin{bmatrix} x_{1}x_{1}&x_{2}x_{1}&x_{3}x_{1} \\\\ x_{1}x_{2}&x_{2}x_{2}& x_{3}x_{2} \\\\ x_{1}x_{3} & x_{2}x_{3} & x_{3}x_{3} \\end{bmatrix} $\n",
        "\n",
        "<br>\n",
        "\n",
        "c. $u\\prime_{(1*3)} v_{(3*1)} = 15 + 1-3 = 13$\n",
        "\n",
        "<br>\n",
        "\n",
        "d. $u\\prime_{(1*3)} u_{(3*1)} = 25 + 1 + 9 = 35$\n",
        "\n"
      ]
    },
    {
      "cell_type": "markdown",
      "metadata": {
        "id": "4BXPTkurKGBA",
        "colab_type": "text"
      },
      "source": [
        "3. Find the following products, if possible.\n",
        "\n",
        "<br>\n",
        "\n",
        "a. $\\begin{bmatrix} 1&2&-1\\end{bmatrix} \\times \\begin{bmatrix} 1&3\\end{bmatrix}$ is not conformable.\n",
        "\n",
        "<br>\n",
        "\n",
        "b. $\\begin{bmatrix} 3&2&1\\\\ 0&1&-1 \\end{bmatrix} \\times \\begin{bmatrix} -1&0 \\\\ 1&-3 \\\\ 2&4 \\end{bmatrix} = \\begin{bmatrix} -3+2+1 & 0-6+4 \\\\ 0-1+1 & 0-3-4 \\end{bmatrix} = \\begin{bmatrix} 0 & -2 \\\\ 0 & -78 \\end{bmatrix}$\n",
        "\n",
        "<br>\n",
        "\n",
        "c. $\\begin{bmatrix} 1&-1&2\\\\ 0&2&1\\\\1&0&3 \\end{bmatrix} \\times \\begin{bmatrix} -2&0&-1\\\\ 0&1&1\\\\-1&2&1\\end{bmatrix} = \\begin{bmatrix} -2+0-2 & 0-1+4 & -1-1+2 \\\\ 0+0-1&0+2+2&0-2+1 \\\\ -2+0-3&0+0+6&-1+0+3 \\end{bmatrix} =  \\begin{bmatrix} -4 & 3 & 0 \\\\ -1 & 4 &-1 \\\\ -5 & 6 & 2 \\end{bmatrix} $\n",
        "\n",
        "<br>\n",
        "\n",
        "d. $\\begin{bmatrix} 1&4&7\\\\ 2&5&8\\\\3&6&9 \\end{bmatrix} \\times \\begin{bmatrix} 1&0&0\\\\ 0&1&0\\\\0&0&1\\end{bmatrix} = \\begin{bmatrix}  1&4&7\\\\ 2&5&8\\\\3&6&9  \\end{bmatrix} I =  \\begin{bmatrix}  1&4&7\\\\ 2&5&8\\\\3&6&9  \\end{bmatrix} $\n"
      ]
    },
    {
      "cell_type": "markdown",
      "metadata": {
        "id": "hj2W-veMDgGk",
        "colab_type": "text"
      },
      "source": [
        "4. Let $A = \\begin{bmatrix} 1&0&2\\\\ 3&1&0 \\end{bmatrix}$ and $B = \\begin{bmatrix} -1&-3\\\\ 0&-1\\\\-2&0 \\end{bmatrix}$. \n",
        "\n",
        "a. Find $AB$ and $BA$. Are they the same?\n",
        "\n",
        "$$ A_{2\\times 3}B_{3\\times 2} = \\begin{bmatrix} -1-4&-3\\\\ -3&-9-1 \\end{bmatrix} =  \\begin{bmatrix} -5&-3 \\\\ -3&-10 \\end{bmatrix} $$\n",
        "\n",
        "$$ B_{3\\times 2}A_{2\\times 3} = \\begin{bmatrix} -1-9&-3&-2 \\\\ -3&-1&0 \\\\ -2&0&-4 \\end{bmatrix} =  \\begin{bmatrix} -10&-3&-2 \\\\ -3&-1&0 \\\\ -2&0&-4 \\end{bmatrix} $$\n",
        "\n",
        "$AB$ and $BA$ are not the same.\n",
        "\n",
        "<br>\n",
        "\n",
        "b. What is the trace of $AB$? What is the trace of $BA$? Are they the same?\n",
        "\n",
        "The trace of an $n \\times n $ matrix $A$ is defined as $Tr(a) = \\sum_{i=1}^{n}a_{ii}$. It is the sum of all the diagonal elements\n",
        "\n",
        "$$Tr(AB) = -5 - 10 = -15$$\n",
        "$$Tr(BA) = -10 - 1 - 4 = -15 $$\n",
        "\n",
        "They are not the same either. "
      ]
    },
    {
      "cell_type": "markdown",
      "metadata": {
        "id": "wDufcwid9uAb",
        "colab_type": "text"
      },
      "source": [
        "5. Let $ A = \\begin{bmatrix} -1&2&-3\\\\-4&5&-6 \\end{bmatrix}$, $ B = \\begin{bmatrix} 3&-2&1\\\\6&-5&4 \\end{bmatrix}$, and $ C = \\begin{bmatrix} 2&0\\\\-3&4\\\\0&0 \\end{bmatrix}$. Find $(A+B)C$ and $AC+BC$. Find $C(A +B)$ and $CA + CB$. What properties of matrix multiplication do the results support?\n",
        "\n",
        "$$(A+B)C = (\\begin{bmatrix} -1&2&-3\\\\-4&5&-6 \\end{bmatrix} +  \\begin{bmatrix} 3&-2&1\\\\6&-5&4 \\end{bmatrix}) \\times \\begin{bmatrix} 2&0\\\\-3&4\\\\0&0 \\end{bmatrix} = \\begin{bmatrix} -2&0&-2\\\\-2&0&-2 \\end{bmatrix} \\times \\begin{bmatrix} 2&0\\\\-3&4\\\\0&0 \\end{bmatrix} = \\begin{bmatrix} -4&0\\\\-4&0 \\end{bmatrix} $$\n",
        "<br>\n",
        "$$AC+BC = \\begin{bmatrix} -1&2&-3\\\\-4&5&-6 \\end{bmatrix} \\times \\begin{bmatrix} 2&0\\\\-3&4\\\\0&0 \\end{bmatrix} +  \\begin{bmatrix} 3&-2&1\\\\6&-5&4 \\end{bmatrix} \\times \\begin{bmatrix} 2&0\\\\-3&4\\\\0&0 \\end{bmatrix} = \\begin{bmatrix} -8&8\\\\-23&20 \\end{bmatrix} + \\begin{bmatrix} 12&-8\\\\27&-20 \\end{bmatrix} = \\begin{bmatrix} 4&0\\\\4&0 \\end{bmatrix} $$\n",
        "<br>\n",
        "$$C(A+B) = \\begin{bmatrix} 2&0\\\\-3&4\\\\0&0 \\end{bmatrix} \\times (\\begin{bmatrix} -1&2&-3\\\\-4&5&-6 \\end{bmatrix} +  \\begin{bmatrix} 3&-2&1\\\\6&-5&4 \\end{bmatrix})  = \\begin{bmatrix} 2&0\\\\-3&4\\\\0&0 \\end{bmatrix} \\begin{bmatrix} -2&0&-2\\\\-2&0&-2 \\end{bmatrix} = \\begin{bmatrix} -4&0&-4\\\\-2&0&-2 \\\\ 0&0&0\\end{bmatrix} $$\n",
        "<br>\n",
        "$$CA+CB = \\begin{bmatrix} 2&0\\\\-3&4\\\\0&0 \\end{bmatrix} \\times \\begin{bmatrix} -1&2&-3\\\\-4&5&-6 \\end{bmatrix} +  \\begin{bmatrix} 2&0\\\\-3&4\\\\0&0 \\end{bmatrix} \\times \\begin{bmatrix} 3&-2&1\\\\6&-5&4 \\end{bmatrix}  = \\begin{bmatrix} -2&4&-6\\\\-12&14&-15 \\\\ 0&0&0 \\end{bmatrix} + \\begin{bmatrix} 6&-4&2\\\\15&-14&13\\\\0&0&0 \\end{bmatrix} = \\begin{bmatrix} 4&0&-4\\\\3&0&-2\\\\0&0&0 \\end{bmatrix} $$\n",
        "<br>\n",
        "This operation shows that the commutative property of multiplication that holds in algebra does not holds for matrix. "
      ]
    },
    {
      "cell_type": "markdown",
      "metadata": {
        "id": "BVVQJVRxKpWC",
        "colab_type": "text"
      },
      "source": [
        "6. Let $I$ be a 3 by 3 identity matrix. Find $I^2$, $I^3$, and $I^4$. What is another name for this kind of matrix?. \n",
        "\n",
        "$$I = \\begin{bmatrix} 1&0&0\\\\0&1&0\\\\0&0&1 \\end{bmatrix}$$\n",
        "<br>\n",
        "$$I^2 = \\begin{bmatrix} 1&0&0\\\\0&1&0\\\\0&0&1 \\end{bmatrix} \\times \\begin{bmatrix} 1&0&0\\\\0&1&0\\\\0&0&1 \\end{bmatrix} = \\begin{bmatrix} 1&0&0\\\\0&1&0\\\\0&0&1 \\end{bmatrix}$$\n",
        "<br>\n",
        "$$I^3 = I^2 \\times \\begin{bmatrix} 1&0&0\\\\0&1&0\\\\0&0&1 \\end{bmatrix} = \\begin{bmatrix} 1&0&0\\\\0&1&0\\\\0&0&1 \\end{bmatrix}$$\n",
        "<br>\n",
        "$$I^4 = I^3 \\times \\begin{bmatrix} 1&0&0\\\\0&1&0\\\\0&0&1 \\end{bmatrix} = \\begin{bmatrix} 1&0&0\\\\0&1&0\\\\0&0&1 \\end{bmatrix}$$\n",
        "\n",
        "They are all identity matrices."
      ]
    },
    {
      "cell_type": "markdown",
      "metadata": {
        "id": "qOKITF0ONJFm",
        "colab_type": "text"
      },
      "source": [
        "# 3 Determinants\n",
        "\n",
        "\n",
        "---\n",
        "\n",
        "Use the expansion-by-cofactor method (_Green and Carroll, 60-63_) to find the determinants of the following matrices. Then use the definition of a determinant to check your answers.\n",
        "\n",
        "- Cofactor across the $i^{th}$ column: $det A: a_{i1}c_{i1} + \\cdots a_{in}c_{in} $.\n",
        "\n",
        "- Cofactor across the $j^{th}$ row: $det A: a_{1j}c_{1j} + \\cdots a_{nj}c_{nj} $."
      ]
    },
    {
      "cell_type": "markdown",
      "metadata": {
        "id": "g7ehQzTANICY",
        "colab_type": "text"
      },
      "source": [
        "## Detrminants of $2 \\times 2$ matrix\n",
        "\n",
        "<br>\n",
        "\n",
        "1. $ det \\begin{vmatrix} 1&2\\\\ 4&4 \\end{vmatrix} = 1\\times 4 - 2 \\times 4 =-4 $\n",
        "\n",
        "<br>\n",
        "\n",
        "2.  $ det \\begin{vmatrix} 5&0\\\\ 0&6 \\end{vmatrix} = 30 $\n",
        "\n",
        "<br>\n",
        "\n",
        "3.  $ det \\begin{vmatrix} 0&8\\\\ 0&9 \\end{vmatrix} = 0 $\n",
        "\n",
        "<br>\n",
        "\n",
        "4.  $ det \\begin{vmatrix} 7&5\\\\ 0&0 \\end{vmatrix} = 0 $\n",
        "\n",
        "<br>\n",
        "\n",
        "5.  $ det \\begin{vmatrix} 3&x\\\\ 2&1 \\end{vmatrix} = 3-2x $\n"
      ]
    },
    {
      "cell_type": "markdown",
      "metadata": {
        "id": "2bQKOgATNG--",
        "colab_type": "text"
      },
      "source": [
        "## Detrminants of $3 \\times 3$ matrix\n",
        "<br>\n",
        "\n",
        "6. $ det \\begin{vmatrix} 1&2&3\\\\ 0&0&4\\\\5&6&7 \\end{vmatrix} = a_{21}c_{21} + a_{22}c_{22} + a_{23}c_{23} = 0 +0 +4 \\times (-1)^{(2+3)} \\times  det \\begin{vmatrix} 1&2\\\\ 5&6 \\end{vmatrix} = -4 \\times (6-10) = 16 $\n",
        "\n",
        "<br>\n",
        "\n",
        "7. $ det \\begin{vmatrix} 2&0&-1\\\\ 3&4&1\\\\5&0&6 \\end{vmatrix} = a_{12}c_{12} + a_{22}c_{22} + a_{32}c_{32} = 0 + 4 \\times (-1)^{(2+2)} \\times  det \\begin{vmatrix} 2&-1\\\\ 5&6 \\end{vmatrix} + 0  = 4 \\times (12+5) = 68$"
      ]
    },
    {
      "cell_type": "markdown",
      "metadata": {
        "id": "1onCotJNWX9t",
        "colab_type": "text"
      },
      "source": [
        "## Detrminants of high-D matrix\n",
        "<br>\n",
        "\n",
        "8. $ det \\begin{vmatrix} 2&3&5&1\\\\ 7&0&1&-2\\\\-1&4&9&2\\\\3&1&0&4 \\end{vmatrix} \\\\ = a_{21}c_{21} + a_{22}c_{22} + a_{23}c_{23} + a_{24}c_{24} \\\\ = 7 \\times (-1)^{(2+1)} \\times det \\begin{vmatrix} 2&5&1\\\\-1&9&2\\\\3&0&4 \\end{vmatrix} + 0 + 1 \\times (-1)^{(2+3)} \\times det \\begin{vmatrix} 2&3&1\\\\-1&4&2\\\\3&1&4 \\end{vmatrix} +  2 \\times (-1)^{(2+4)} \\times det \\begin{vmatrix} 2&3&5\\\\-1&4&9\\\\3&1&0 \\end{vmatrix} \\\\ = -7 \\times (2 \\times (-1)^{(1+3)} \\times det \\begin{vmatrix} 5&1\\\\9&2 \\end{vmatrix} + 4 \\times (-1)^{(3+3)} \\times det \\begin{vmatrix} 2&5\\\\1&9 \\end{vmatrix}) - (2 \\times (-1)^{(1+1)} \\times det \\begin{vmatrix} 4&2\\\\1&4 \\end{vmatrix}+ 3 \\times (-1)^{(1+2)} \\times det \\begin{vmatrix} -1&2\\\\3&4 \\end{vmatrix} + (-1)^{(1+3)} \\times det \\begin{vmatrix} -1&4\\\\3&1 \\end{vmatrix})+ 2 \\times (3 \\times (-1)^{(1+3)} \\times det \\begin{vmatrix} 3&5\\\\4&9 \\end{vmatrix} + (-1)^{(3+2)} \\times det \\begin{vmatrix} 2&5\\\\-1&9 \\end{vmatrix}) \\\\ =-7 \\times [(-2)+5\\times 13] - [2\\times 14 -3\\times (-10)+-14] + 2\\times[3\\times 7-23]\\\\ = (-7)\\times 63 - 44 -4 = -489 $ "
      ]
    },
    {
      "cell_type": "code",
      "metadata": {
        "id": "HactyXtceFfv",
        "colab_type": "code",
        "outputId": "6b3dac18-1fd9-400c-cb48-dd016b4fc440",
        "colab": {
          "base_uri": "https://localhost:8080/",
          "height": 35
        }
      },
      "source": [
        "# check answers\n",
        "LA.det(np.matrix([[2,3,5,1],\n",
        "                 [7,0,1,-2],\n",
        "                 [-4,1,9,2],\n",
        "                 [3,1,0,4]]))"
      ],
      "execution_count": 0,
      "outputs": [
        {
          "output_type": "execute_result",
          "data": {
            "text/plain": [
              "-742.0"
            ]
          },
          "metadata": {
            "tags": []
          },
          "execution_count": 26
        }
      ]
    },
    {
      "cell_type": "markdown",
      "metadata": {
        "id": "Th9dfc3nfh2B",
        "colab_type": "text"
      },
      "source": [
        "9. $det \\begin{vmatrix} 1&3&2&0&4\\\\7&9&0&4&1\\\\5&8&0&3&2\\\\1&5&7&0&6\\\\-1&3&2&1&5 \\end{vmatrix}\n",
        "= 2 \\times det \\begin{vmatrix} 7&9&4&1\\\\5&8&3&2\\\\1&5&0&6\\\\-1&3&1&5\\end{vmatrix} - 7 \\times det \\begin{vmatrix} 1&3&0&4\\\\7&9&4&1\\\\5&8&3&2\\\\-1&3&1&5\\end{vmatrix} + 2\\times det \\begin{vmatrix} 1&3&0&4\\\\7&9&4&1\\\\5&8&3&2\\\\1&5&0&6\\end{vmatrix} \\\\\n",
        "$\n",
        "\n",
        "<br>\n",
        "\n",
        "$det \\begin{vmatrix} 7&9&4&1\\\\5&8&3&2\\\\1&5&0&6\\\\-1&3&1&5\\end{vmatrix} = det \\begin{vmatrix} 9&4&1\\\\8&3&2\\\\3&1&5 \\end{vmatrix} - 5\\times det \\begin{vmatrix} 7&4&1\\\\5&3&2\\\\-1&1&5\\end{vmatrix}  - 6\\times det \\begin{vmatrix} 7&9&4\\\\5&8&3\\\\-1&3&1\\end{vmatrix}\\\\\n",
        "= 9*3*8+4*2*3+1*8*2-4*8*5-1*2*9-1*3*1 - 5\\times (7*3*5-4*2*1+1*5*2-4*5*5-1*2*7+1*3*1) - 6\\times(7*8-3*9+4*5*3-5*9-3*3*7+4*8)\\\\\n",
        "= 75 - 5\\times (-4)-  6\\times(13) \\\\\n",
        "=13 $\n",
        "\n",
        "<br>\n",
        "\n",
        "$det \\begin{vmatrix} 1&3&0&4\\\\7&9&4&1\\\\5&8&3&2\\\\-1&3&1&5\\end\n",
        "{vmatrix} \\\\\n",
        "= det \\begin{vmatrix} 9&4&1\\\\8&3&2\\\\-3&1&5\\end{vmatrix} -3\\times det \\begin{vmatrix} 7&4&1\\\\5&3&2\\\\-1&1&5\\end{vmatrix} - 4\\times det \\begin{vmatrix} 7&9&4\\\\5&8&3\\\\-1&3&1\\end{vmatrix}\\\\\n",
        "= (9*3*4-4*2*3+8-4*5*8-2*9+3*3)-3\\times (7*3*5-4*2+5-4*5*5-2*7+3) - 4\\times (7*8-3*9+4*5*5-5*9-3*3*7+4*8)\\\\\n",
        "= -77 -3\\times(-9) - 4\\times(53)\\\\\n",
        "=-262 $\n",
        "\n",
        "<br>\n",
        "\n",
        "$det \\begin{vmatrix} 1&3&0&4\\\\7&9&4&1\\\\5&8&3&2\\\\1&5&0&6\\end{vmatrix}\\\\\n",
        "= -4\\times det \\begin{vmatrix} 1&3&4\\\\5&8&2\\\\1&5&6\\end{vmatrix} + 3\\times det \\begin{vmatrix} 1&3&4\\\\7&9&1\\\\1&5&6\\end{vmatrix}\\\\\n",
        "= -4\\times(8*6+3*2+4*5*5-3*6*5-2*5-4*8)+3\\times(9*6+3+4*7*5-6*7*3-5-4*9)\\\\\n",
        "=-4\\times 22 + 3\\times 30\\\\\n",
        "=2$\n",
        "\n",
        "<br>\n",
        "\n",
        "Therefore , \n",
        "$det \\begin{vmatrix} 1&3&2&0&4\\\\7&9&0&4&1\\\\5&8&0&3&2\\\\1&5&7&0&6\\\\-1&3&2&1&5 \\end{vmatrix} = 2\\times 13 -7\\times(-262) +2\\times2 = $\n"
      ]
    },
    {
      "cell_type": "code",
      "metadata": {
        "id": "csNlU_JmeyT4",
        "colab_type": "code",
        "outputId": "3f70efec-b3c3-47c4-c9f6-d68af6afabdd",
        "colab": {
          "base_uri": "https://localhost:8080/",
          "height": 35
        }
      },
      "source": [
        " round(LA.det(np.matrix([[1,3,2,0,4],\n",
        "                 [7,9,0,4,1],\n",
        "                 [5,8,0,3,2],\n",
        "                 [1,5,7,0,6],\n",
        "                 [-1,3,2,1,5]])),1)"
      ],
      "execution_count": 0,
      "outputs": [
        {
          "output_type": "execute_result",
          "data": {
            "text/plain": [
              "213.0"
            ]
          },
          "metadata": {
            "tags": []
          },
          "execution_count": 27
        }
      ]
    },
    {
      "cell_type": "markdown",
      "metadata": {
        "id": "qAvgxF42n2yU",
        "colab_type": "text"
      },
      "source": [
        "# 4 Properties of Inverse Matrices\n",
        "\n",
        "---\n",
        "\n"
      ]
    },
    {
      "cell_type": "markdown",
      "metadata": {
        "id": "nm8tSi8S7zXQ",
        "colab_type": "text"
      },
      "source": [
        "Let $A$ and $B$ be 3 by 3 matrics such that $A = \\begin{bmatrix} 8&1&3\\\\4&0&1\\\\6&0&3\\end{bmatrix}$, and $B = \\begin{bmatrix} 1&2&1\\\\2&3&0\\\\1&3&0\\end{bmatrix}$. \n"
      ]
    },
    {
      "cell_type": "markdown",
      "metadata": {
        "id": "Keb2fLW4n8M7",
        "colab_type": "text"
      },
      "source": [
        "\n",
        "<br>\n",
        "\n",
        "## 1. Show that $(A^{-1})^{-1} = A$. \n",
        "<br>\n",
        "\n",
        "$adj(A) =  \\begin{bmatrix}  0 &(-1)\\times (12-6)& 0\\\\(-1)\\times (3-0)&24-18&(-1)\\times (0-6)\\\\1&(-1)\\times (8-12)& (0-4) \\end{bmatrix} \\prime  = \\begin{bmatrix} 0&-6&0\\\\-3&6&6\\\\1&4&-4 \\end{bmatrix} \\prime = \\begin{bmatrix} 0&-3&1\\\\-6&6&4\\\\0&6&-4 \\end{bmatrix} $\n",
        "\n",
        "<br>\n",
        "\n",
        "$det(A) = 0+6+0 - 12 - 0-0 = -6$\n",
        "\n",
        "<br>\n",
        "\n",
        "$A^{-1} = \\frac{1}{det(A)} adj(A) = (- \\frac{1}{6}) \\times \\begin{bmatrix} 0&-3&1\\\\-6&6&4\\\\0&6&-4 \\end{bmatrix} = \\begin{bmatrix} 0&\\frac{1}{2}&-\\frac{1}{6}\\\\1&-1& -\\frac{2}{3}\\\\0&-1&\\frac{2}{3} \\end{bmatrix}  $\n",
        "\n",
        "<br>\n",
        "\n",
        "$adj(A^{-1}) = \\begin{bmatrix}  -\\frac{4}{3} &-\\frac{2}{3}& -1\\\\-\\frac{1}{6}&0&0 \\\\ -\\frac{1}{2}&-\\frac{1}{6}& - \\frac{1}{2} \\end{bmatrix} \\prime = \\begin{bmatrix}  -\\frac{4}{3} &-\\frac{1}{6}& -\\frac{1}{2}\\\\-\\frac{2}{3}&0&-\\frac{1}{6} \\\\ -1 &0& - \\frac{1}{2} \\end{bmatrix} $\n",
        "\n",
        "<br>\n",
        "\n",
        "$det(A^{-1}) = \\frac{1}{6}-(\\frac{1}{3})=-\\frac{1}{6}$\n",
        "\n",
        "<br>\n",
        "\n",
        "$(A^{-1})^{-1}= \\frac{1}{det(A^{-1})}adj(A^{-1}) = (-6) \\times \\begin{bmatrix}  -\\frac{4}{3} &-\\frac{1}{6}& -\\frac{1}{2}\\\\-\\frac{2}{3}&0&-\\frac{1}{6} \\\\ -1 &0& - \\frac{1}{2} \\end{bmatrix} =  \\begin{bmatrix} 8&1&3\\\\4&0&1\\\\6&0&3\\end{bmatrix} =  A$"
      ]
    },
    {
      "cell_type": "code",
      "metadata": {
        "id": "CG1fG2neiChW",
        "colab_type": "code",
        "outputId": "fde29240-5587-453d-8228-4b883c473492",
        "colab": {
          "base_uri": "https://localhost:8080/"
        }
      },
      "source": [
        "# check answer\n",
        "A = np.matrix([[8,1,3],\n",
        "              [4,0,1],\n",
        "              [6,0,3]])\n",
        "inv_A = LA.inv(A)\n",
        "\n",
        "print(\"inv(A)= \\n\", \n",
        "      np.around(inv_A, decimals=3))\n",
        "\n",
        "print(\"\\n inv(inv(A))= \\n\", np.around(LA.inv(inv_A), decimals=3))"
      ],
      "execution_count": 0,
      "outputs": [
        {
          "output_type": "stream",
          "text": [
            "inv(A)= \n",
            " [[-0.     0.5   -0.167]\n",
            " [ 1.    -1.    -0.667]\n",
            " [ 0.    -1.     0.667]]\n",
            "\n",
            " inv(inv(A))= \n",
            " [[8. 1. 3.]\n",
            " [4. 0. 1.]\n",
            " [6. 0. 3.]]\n"
          ],
          "name": "stdout"
        }
      ]
    },
    {
      "cell_type": "markdown",
      "metadata": {
        "id": "JN_0mTCivVvk",
        "colab_type": "text"
      },
      "source": [
        "\n",
        "## 2. Show that $(AB)^{-1}=B^{-1}A^{-1}$.\n",
        "\n",
        "$AB = \\begin{bmatrix} 8&1&3\\\\4&0&1\\\\6&0&3\\end{bmatrix} \\times \\begin{bmatrix} 1&2&1\\\\2&3&0\\\\1&3&0\\end{bmatrix} = \\begin{bmatrix} 8+2+3&16+3+9&8\\\\4+1&8+3&4\\\\6+3&12+9&6\\end{bmatrix} = \\begin{bmatrix} 13&28&8\\\\5&11&4\\\\9&21&6\\end{bmatrix}$\n",
        "\n",
        "<br>\n",
        "\n",
        "$det(AB) = 13*11*6 + 28*4*9 + 8*5*21 - 28*5*6 - 13*4*21-8*11*9 = -18$\n",
        "\n",
        "<br>\n",
        "\n",
        "$adj(AB) = \\begin{bmatrix} 11*6-4*21&-(5*6-4*9)&21*5-9*11\\\\-(6*28-8*21)&6*13-9*8&-(21*13-9*28)\\\\4*28-8*11&-(4*13-5*8)&11*13-5*28\\end{bmatrix} \\prime \\\\\n",
        "= \\begin{bmatrix} -18&6&6\\\\0&6&-21\\\\24&-12&3\\end{bmatrix} \\prime = \\begin{bmatrix} -18&0&24\\\\6&6&-12\\\\6&-21&3\\end{bmatrix} $\n",
        "\n",
        "<br>\n",
        "\n",
        "$(AB)^{-1} = \\frac{1}{det(AB)} adj(AB) = - \\frac{1}{18} \\times \\begin{bmatrix} -18&0&24\\\\6&6&-12\\\\6&-21&3\\end{bmatrix} = \\begin{bmatrix} 1&0&- \\frac{4}{3} \\\\- \\frac{1}{3} &- \\frac{1}{3} & \\frac{2}{3} \\\\- \\frac{1}{3} &\\frac{7}{6} &- \\frac{1}{6} \\end{bmatrix}$\n",
        "\n",
        "\n",
        "<br>\n",
        "From #1 we have calculated that $A^{-1}=\\begin{bmatrix} 0&\\frac{1}{2}&-\\frac{1}{6}\\\\1&-1& -\\frac{2}{3}\\\\0&-1&\\frac{2}{3} \\end{bmatrix}$\n",
        "\n",
        "<br>\n",
        "\n",
        "$det(B) = 0+0+0-0-0-3 = 3$\n",
        "$adj(B) = \\begin{bmatrix} 0-0&-(0-0)&6-3\\\\-(0-3)&0-1&-(2-3)\\\\0-3&-(0-2)&3-4\\end{bmatrix} \\prime \n",
        "= \\begin{bmatrix} 0&0&3\\\\3&-1&1\\\\-3&2&-1\\end{bmatrix} \\prime = \\begin{bmatrix} 0&3&-3\\\\0&-1&2\\\\3&1&-1\\end{bmatrix} $\n",
        "\n",
        "<br>\n",
        "\n",
        "$B^{-1} = \\frac{1}{det(B)}adj(B) =  \\frac{1}{3} \\begin{bmatrix} 0&3&-3\\\\0&-1&2\\\\3&-1&-1\\end{bmatrix} = \\begin{bmatrix} 0&1&-1\\\\0&-\\frac{1}{3} &\\frac{2}{3} \\\\1&-\\frac{1}{3} &-\\frac{1}{3} \\end{bmatrix} $\n",
        "\n",
        "<br>\n",
        "\n",
        "$B^{-1}A^{-1} = \\begin{bmatrix} 0&1&-1\\\\0&-\\frac{1}{3} &\\frac{2}{3} \\\\1&-\\frac{1}{3} &-\\frac{1}{3} \\end{bmatrix} \\times \\begin{bmatrix} 0&\\frac{1}{2}&-\\frac{1}{6}\\\\1&-1& -\\frac{2}{3}\\\\0&-1&\\frac{2}{3} \\end{bmatrix} = \\begin{bmatrix} 1&0&-\\frac{4}{3}\\\\-\\frac{1}{3} &-\\frac{1}{3}&\\frac{4}{3} \\\\-\\frac{1}{3}&\\frac{7}{6} &-\\frac{1}{6} \\end{bmatrix} = (AB)^{-1}$"
      ]
    },
    {
      "cell_type": "code",
      "metadata": {
        "id": "D88LIdPXqIMr",
        "colab_type": "code",
        "outputId": "0d0a0eaa-e09f-4b17-9077-4b464071e1fd",
        "colab": {
          "base_uri": "https://localhost:8080/",
          "height": 259
        }
      },
      "source": [
        "B = np.matrix([[1,2,1],\n",
        "               [2,3,0],\n",
        "               [1,3,0]])\n",
        "print(\"AB= \\n\", A*B)\n",
        "print(\"\\n inv(AB)= \\n\", np.round(LA.inv(A*B), decimals=2))\n",
        "print(\"\\n inv(B)inv(A)= \\n\", np.round(LA.inv(B)* LA.inv(A),decimals=2))"
      ],
      "execution_count": 0,
      "outputs": [
        {
          "output_type": "stream",
          "text": [
            "AB= \n",
            " [[13 28  8]\n",
            " [ 5 11  4]\n",
            " [ 9 21  6]]\n",
            "\n",
            " inv(AB)= \n",
            " [[ 1.   -0.   -1.33]\n",
            " [-0.33 -0.33  0.67]\n",
            " [-0.33  1.17 -0.17]]\n",
            "\n",
            " inv(B)inv(A)= \n",
            " [[ 1.    0.   -1.33]\n",
            " [-0.33 -0.33  0.67]\n",
            " [-0.33  1.17 -0.17]]\n"
          ],
          "name": "stdout"
        }
      ]
    },
    {
      "cell_type": "markdown",
      "metadata": {
        "id": "7R_UH0rs9ius",
        "colab_type": "text"
      },
      "source": [
        "## 3. Show that $(A\\prime)^{-1}=(A^{-1})\\prime$.\n",
        "$A^{-1}=\\begin{bmatrix} 0&\\frac{1}{2}&-\\frac{1}{6}\\\\1&-1& -\\frac{2}{3}\\\\0&-1&\\frac{2}{3} \\end{bmatrix}$, $(A^{-1})\\prime =\\begin{bmatrix} 0&1&0\\\\\\frac{1}{2}&-1& -1\\\\-\\frac{1}{6}&-\\frac{2}{3} &\\frac{2}{3} \\end{bmatrix}$. \n",
        "\n",
        "<br>\n",
        "\n",
        "$A\\prime = \\begin{bmatrix} 8&4&6\\\\1&0&0\\\\3&1&3\\end{bmatrix}$, $det(A\\prime) = 6-12 = -6$\n",
        "\n",
        "<br>\n",
        "\n",
        "$adj(A\\prime) = \\begin{bmatrix} 0&-(3)&1\\\\-(12-6)&24-18&-(8-12)\\\\0&-(-6)&-4\\end{bmatrix}\\prime  = \\begin{bmatrix} 0&-3&1\\\\-6&6&4\\\\0&6&-4\\end{bmatrix}\\prime = \\begin{bmatrix} 0&-6&0\\\\-3&6&6\\\\1&4&-4\\end{bmatrix}\\prime $\n",
        "\n",
        "<br>\n",
        "\n",
        "$(A\\prime)^{-1} = \\frac{1}{det(A\\prime)} adj(A\\prime) = -\\frac{1}{6} \\times \\begin{bmatrix} 0&-6&0\\\\-3&6&6\\\\1&4&-4 \\end{bmatrix} = \\begin{bmatrix} 0&1&0\\\\\\frac{1}{2}&-1& -1\\\\-\\frac{1}{6}&-\\frac{2}{3} &\\frac{2}{3} \\end{bmatrix}$.\n",
        "\n",
        "<br>\n",
        "\n",
        "$(A\\prime)^{-1}=(A^{-1})\\prime$ is thus proven."
      ]
    },
    {
      "cell_type": "code",
      "metadata": {
        "id": "973xA0M83HuH",
        "colab_type": "code",
        "outputId": "bdb414cf-da1d-4292-abe1-7e17a78a88d8",
        "colab": {
          "base_uri": "https://localhost:8080/"
        }
      },
      "source": [
        "print(\"(A_inv)transpose = \\n\", np.round(LA.inv(A).T, decimals = 2))\n",
        "\n",
        "print(\"\\n (A_transpose)inv = \\n\", np.round(LA.inv(A.T), decimals=2))"
      ],
      "execution_count": 0,
      "outputs": [
        {
          "output_type": "stream",
          "text": [
            "(A_inv)transpose = \n",
            " [[-0.    1.    0.  ]\n",
            " [ 0.5  -1.   -1.  ]\n",
            " [-0.17 -0.67  0.67]]\n",
            "\n",
            " (A_transpose)inv = \n",
            " [[ 0.    1.    0.  ]\n",
            " [ 0.5  -1.   -1.  ]\n",
            " [-0.17 -0.67  0.67]]\n"
          ],
          "name": "stdout"
        }
      ]
    },
    {
      "cell_type": "markdown",
      "metadata": {
        "id": "cFta_5TQ9j-6",
        "colab_type": "text"
      },
      "source": [
        "## 4. Show that $det(A^{-1}) = \\frac{1}{det(A)}$.\n",
        "\n",
        "<br>\n",
        "\n",
        "From #1, we get $det(A) = 0+6+0 - 12 - 0-0 = -6$. \n",
        "\n",
        "<br>\n",
        "\n",
        "From #3, we get $A^{-1}=\\begin{bmatrix} 0&\\frac{1}{2}&-\\frac{1}{6}\\\\1&-1& -\\frac{2}{3}\\\\0&-1&\\frac{2}{3} \\end{bmatrix}$. We can then calculate $det(A^{-1})= \\frac{1}{6} - \\frac{1}{3} = -\\frac{1}{6}$.\n",
        "\n",
        "<br>\n",
        "\n",
        "$det(A^{-1}) = \\frac{1}{det(A)}$ is thus proven.\n",
        " "
      ]
    },
    {
      "cell_type": "markdown",
      "metadata": {
        "id": "CyRJCAmo780X",
        "colab_type": "text"
      },
      "source": [
        "## 5. \n",
        "\n",
        "Let $C$ be a 3 by 3 matrix such that $C = \\begin{bmatrix} 6&2&4\\\\0&2& 1\\\\0&0&3 \\end{bmatrix}$. Find the inversion of $C$ and verify that it is a triagular matrix. \n",
        "\n",
        "A triangular matrix is one that is either lower triangular or upper triangular.\n",
        "\n",
        "<br>\n",
        "\n",
        "$det(C) = 6*2*3 - 0 =36$ \n",
        "\n",
        "<br>\n",
        "\n",
        "$adj(C) = \\begin{bmatrix} 6&-0&0\\\\-6&18&-0\\\\2-8&-6&12 \\end{bmatrix} \\prime  = \\begin{bmatrix} 6&0&0\\\\-6&18&0\\\\-6&-6&12 \\end{bmatrix} \\prime =  \\begin{bmatrix} 6&-6&-6\\\\0&18&-6\\\\0&0&12 \\end{bmatrix}  $\n",
        "\n",
        "<br>\n",
        "\n",
        "$C^{-1} = \\frac{1}{det(C)} adj(C) = \\frac{1}{36} \\times \\begin{bmatrix} 6&-6&-6\\\\0&18&-6\\\\0&0&12 \\end{bmatrix} = \\begin{bmatrix} \\frac{1}{6}&-\\frac{1}{6}&-\\frac{1}{6}\\\\0&\\frac{1}{2}&-\\frac{1}{6}\\\\0&0&\\frac{1}{3} \\end{bmatrix}$\n",
        "\n",
        "<br>\n",
        "\n",
        "C is shown as a lower triangular matrix."
      ]
    },
    {
      "cell_type": "code",
      "metadata": {
        "id": "OacdULNO-OCt",
        "colab_type": "code",
        "outputId": "4ad323c4-25b2-4a36-8efa-d19aced6f697",
        "colab": {
          "base_uri": "https://localhost:8080/"
        }
      },
      "source": [
        "C = np.matrix([[6,2,4],\n",
        "               [0,2,1],\n",
        "               [0,0,3]])\n",
        "LA.det(C)\n",
        "LA.inv(C)"
      ],
      "execution_count": 0,
      "outputs": [
        {
          "output_type": "execute_result",
          "data": {
            "text/plain": [
              "matrix([[ 0.16666667, -0.16666667, -0.16666667],\n",
              "        [ 0.        ,  0.5       , -0.16666667],\n",
              "        [ 0.        ,  0.        ,  0.33333333]])"
            ]
          },
          "metadata": {
            "tags": []
          },
          "execution_count": 48
        }
      ]
    },
    {
      "cell_type": "markdown",
      "metadata": {
        "id": "PdFjYXJl_rbK",
        "colab_type": "text"
      },
      "source": [
        "# 5 Matrix Inversion\n",
        "\n",
        "---\n",
        "\n"
      ]
    },
    {
      "cell_type": "markdown",
      "metadata": {
        "id": "guJefJSy_t4P",
        "colab_type": "text"
      },
      "source": [
        "## I. Find the inverses of the following matrices, if they exist. Use Mathematica to check your answers.\n",
        "\n",
        "<br>\n",
        "\n",
        "1. $\\begin{bmatrix}1&2\\\\3&4\\end{bmatrix}$\n",
        "$$det = 4-6 = -2$$\n",
        "\n",
        "$$adj = \\begin{bmatrix}4&-3\\\\-2&1\\end{bmatrix}$$\n",
        "\n",
        "$$(\\begin{bmatrix}1&2\\\\3&4\\end{bmatrix})^{-1} = -\\frac{1}{2} \\times \\begin{bmatrix}4&-3\\\\-2&1\\end{bmatrix} = \\begin{bmatrix}-2&1.5\\\\1&-0.5 \\end{bmatrix}$$\n",
        "\n",
        "<br>\n",
        "\n",
        "2. $\\begin{bmatrix}5&0\\\\0&6\\end{bmatrix}$\n",
        "\n",
        "$$det = 30-0 = 30$$\n",
        "\n",
        "$$adj = \\begin{bmatrix}6&0\\\\0&5\\end{bmatrix}$$\n",
        "\n",
        "$$(\\begin{bmatrix}5&0\\\\0&6\\end{bmatrix})^{-1} = \\frac{1}{30} \\times \\begin{bmatrix}6&0\\\\0&5 \\end{bmatrix} = \\begin{bmatrix} \\frac{1}{5}&0\\\\0&\\frac{1}{6} \\end{bmatrix}$$\n",
        "\n",
        "<br>\n",
        "\n",
        "3. $\\begin{bmatrix}0&8\\\\0&9\\end{bmatrix}$\n",
        "\n",
        "$det =0$, the matrix is not of full rank and thus not inversable. \n",
        "\n",
        "<br>\n",
        "\n",
        "4. $\\begin{bmatrix}7&5\\\\0&0\\end{bmatrix}$\n",
        "\n",
        "$det =0$, the matrix is not of full rank and thus not inversable. \n",
        "\n",
        "<br>\n",
        "\n",
        "5. $\\begin{bmatrix}3&x\\\\2&1\\end{bmatrix}$\n",
        "\n",
        "$$det = 3-2x$$\n",
        "\n",
        "$$adj = \\begin{bmatrix}1&-2\\\\-3&x \\end{bmatrix}$$\n",
        "\n",
        "$$(\\begin{bmatrix}3&x\\\\2&1\\end{bmatrix})^{-1} = \\frac{1}{3-2x} \\times \\begin{bmatrix}1&-2\\\\-3&x \\end{bmatrix} = \\begin{bmatrix} \\frac{1}{3-2x}&-\\frac{2}{3-2x}\\\\-\\frac{3}{3-2x}&\\frac{x}{3-2x}\\end{bmatrix}$$\n",
        "\n",
        "<br>\n",
        "\n",
        "6. $\\begin{bmatrix}1&2&3\\\\0&0&4\\\\5&6&7 \\end{bmatrix}$\n",
        "\n",
        "$$det = 2\\times 4 \\times5 - 1\\times 6\\times 4 = 16$$\n",
        "\n",
        "$$adj = \\begin{bmatrix}-24&-(-20)&0\\\\-(14-18)&7-15&-(6-10)\\\\8&-(4)&0 \\end{bmatrix} \\prime = \\begin{bmatrix}-24&20&0\\\\-4&-8&4\\\\8&-4&0 \\end{bmatrix} \\prime = \\begin{bmatrix}-24&-4&8\\\\20&-8&-4\\\\0&-4& 0\\end{bmatrix}$$\n",
        "\n",
        "$$(\\begin{bmatrix}1&2&3\\\\0&0&4\\\\5&6&7 \\end{bmatrix})^{-1} = \\frac{1}{16} \\times \\begin{bmatrix}-24&-4&8\\\\20&-8&-4\\\\0&-4& 0\\end{bmatrix} =  \\begin{bmatrix}-1.5&-0.25&0.5\\\\1.25&-0.5&-0.25\\\\0&-0.25&0\\end{bmatrix}$$\n",
        "\n",
        "7. $\\begin{bmatrix}2&0&-1\\\\3&4&1\\\\5&0&6 \\end{bmatrix}$\n",
        "\n",
        "$$det = -4*5-2*4*6 = -68$$\n",
        "\n",
        "$$adj = \\begin{bmatrix}24&-(18-5)&-20\\\\-(0)&12-(-5)&-(0)\\\\0-(-4)&-(2-(-3))&8 \\end{bmatrix} \\prime = \\begin{bmatrix}24&-23&-20\\\\0&17&0\\\\4&-5&8 \\end{bmatrix} \\prime = \\begin{bmatrix}24&0&4\\\\-23&17&-5\\\\-20&0&8 \\end{bmatrix}$$\n",
        "\n",
        "$$(\\begin{bmatrix}2&0&-1\\\\3&4&1\\\\5&0&6 \\end{bmatrix})^{-1} = -\\frac{1}{68} \\times \\begin{bmatrix}24&0&4\\\\-23&17&-5\\\\-20&0&8 \\end{bmatrix} = \\begin{bmatrix} -\\frac{6}{17} &0&-\\frac{1}{17} \\\\\\frac{23}{68} &\\frac{1}{4}&\\frac{5}{68}\\\\\\frac{5}{17}&0&- \\frac{2}{17} \\end{bmatrix}$$\n",
        "\n",
        "<br>\n",
        "\n",
        "8. $\\begin{bmatrix}1&2&3\\\\1&3&6\\\\1&4&10 \\end{bmatrix}$\n",
        "\n",
        "$$det =3*10+ 2*6+ 3*4-2*10-4*6-3*3= 20+12+12-20-24-9 = 1$$\n",
        "\n",
        "$$adj = \\begin{bmatrix}30-24&-(10-6)&4-3\\\\-(20-12)&10-3&-(4-2)\\\\12-9&-(6-3))&3-2 \\end{bmatrix} \\prime = \\begin{bmatrix}6&-4&1\\\\-8&7&-2\\\\3&-3&1 \\end{bmatrix} \\prime = \\begin{bmatrix}6&-8&3\\\\-4&7&3\\\\1&-2&1 \\end{bmatrix}$$\n",
        "\n",
        "$$(\\begin{bmatrix}1&2&3\\\\1&3&6\\\\1&4&10 \\end{bmatrix})^{-1} = 1\\times \\begin{bmatrix}6&-8&3\\\\-4&7&3\\\\1&-2&1 \\end{bmatrix} = \\begin{bmatrix}6&-8&3\\\\-4&7&3\\\\1&-2&1 \\end{bmatrix}$$\n"
      ]
    },
    {
      "cell_type": "code",
      "metadata": {
        "id": "YFWqOAFknzJK",
        "colab_type": "code",
        "outputId": "8e94faa1-4188-4426-f4be-25156a1ab4ce",
        "colab": {
          "base_uri": "https://localhost:8080/"
        }
      },
      "source": [
        "print(\"6. \\n\", LA.inv(np.matrix([[1,2,3],\n",
        "          [0,0,4],\n",
        "           [5,6,7]])))\n",
        "\n",
        "print(\"\\n 7. \\n\", LA.inv(np.matrix([[2,0,-1],\n",
        "                  [3,4,1],\n",
        "                  [5,0,6]])))\n",
        "\n",
        "print(\"\\n 8. \\n\", LA.inv(np.matrix([[1,2,3],\n",
        "                  [1,3,6],\n",
        "                  [1,4,10]])))"
      ],
      "execution_count": 0,
      "outputs": [
        {
          "output_type": "stream",
          "text": [
            "6. \n",
            " [[-1.5   0.25  0.5 ]\n",
            " [ 1.25 -0.5  -0.25]\n",
            " [ 0.    0.25  0.  ]]\n",
            "\n",
            " 7. \n",
            " [[ 0.35294118  0.          0.05882353]\n",
            " [-0.19117647  0.25       -0.07352941]\n",
            " [-0.29411765 -0.          0.11764706]]\n",
            "\n",
            " 8. \n",
            " [[ 6. -8.  3.]\n",
            " [-4.  7. -3.]\n",
            " [ 1. -2.  1.]]\n"
          ],
          "name": "stdout"
        }
      ]
    },
    {
      "cell_type": "markdown",
      "metadata": {
        "id": "5bgvYabD_5LI",
        "colab_type": "text"
      },
      "source": [
        "## II. Solve the following systems of equations by using matrices. Use Mathematica to check your answers.\n",
        "\n",
        "<br>\n",
        "\n",
        "9. $2x-3y =2\\\\4x+y=5$\n",
        "\n",
        "The linear equations expressee in matrix form is $ \\begin{bmatrix}2&-3\\\\4&1 \\end{bmatrix} \\times \\begin{bmatrix}x\\\\y \\end{bmatrix} = \\begin{bmatrix}2\\\\5 \\end{bmatrix}$.   \n",
        "\n",
        "$$ \\begin{aligned}\n",
        "\\begin{bmatrix}x\\\\y \\end{bmatrix} \n",
        "&= (\\begin{bmatrix}2&-3\\\\4&1 \\end{bmatrix})^{-1} \\times \\begin{bmatrix}2\\\\5 \\end{bmatrix}\\\\ \n",
        "&= \\frac{1}{2*1 - 4*(-3)} \\times \\begin{bmatrix}1&-4\\\\3&2 \\end{bmatrix} \\prime \\times \\begin{bmatrix}2\\\\5 \\end{bmatrix}  \\\\ &=  \\frac{1}{14} \\times \\begin{bmatrix}1&3\\\\-4&2 \\end{bmatrix} \\times \\begin{bmatrix}2\\\\5 \\end{bmatrix} \\\\\n",
        "&=  \\frac{1}{14} \\times \\begin{bmatrix}1*2+3*5\\\\-4*2+2*5 \\end{bmatrix}\\\\\n",
        "&=  \\frac{1}{14} \\times \\begin{bmatrix}17\\\\2 \\end{bmatrix}\\\\\n",
        "&= \\begin{bmatrix}\\frac{17}{14}\\\\ \\frac{1}{7} \\end{bmatrix} \\end{aligned}\n",
        "$$ \n",
        "\n",
        "Thus, $x=\\frac{17}{14}, y = \\frac{1}{7} $\n",
        "\n",
        "<br>\n",
        "\n",
        "10. $2x-3y=0\\\\4x+y=3$\n",
        "\n",
        "The linear equations expressee in matrix form is $ \\begin{bmatrix}2&-3\\\\4&1 \\end{bmatrix} \\times \\begin{bmatrix}x\\\\y \\end{bmatrix} = \\begin{bmatrix}0\\\\3 \\end{bmatrix}$.  \n",
        "\n",
        "$$ \\begin{aligned}\n",
        "\\begin{bmatrix}x\\\\y \\end{bmatrix} \n",
        "&= (\\begin{bmatrix}2&-3\\\\4&1 \\end{bmatrix})^{-1} \\times \\begin{bmatrix}0\\\\3 \\end{bmatrix}\\\\ \n",
        "&=  \\frac{1}{14} \\times \\begin{bmatrix}1&3\\\\-4&2 \\end{bmatrix} \\times \\begin{bmatrix}0\\\\3 \\end{bmatrix} \\\\\n",
        "&=  \\frac{1}{14} \\times \\begin{bmatrix}9\\\\6 \\end{bmatrix}\\\\\n",
        "&= \\begin{bmatrix}\\frac{9}{14}\\\\ \\frac{3}{7} \\end{bmatrix} \\end{aligned}$$\n",
        "\n",
        "Therefore, $x=\\frac{9}{14}, y = \\frac{3}{7} $\n",
        " \n",
        "\n",
        "<br>\n",
        "\n",
        "11. $2x-3y=0\\\\4x+y=0$\n",
        "\n",
        "The linear equations expressee in matrix form is $ \\begin{bmatrix}2&-3\\\\4&1 \\end{bmatrix} \\times \\begin{bmatrix}x\\\\y \\end{bmatrix} = \\begin{bmatrix}0\\\\0 \\end{bmatrix}$. Thus $ \\begin{bmatrix} x\\\\y \\end{bmatrix} = (\\begin{bmatrix}2&-3\\\\4&1 \\end{bmatrix})^{-1} \\times \\begin{bmatrix}0\\\\0 \\end{bmatrix} = \\begin{bmatrix}0\\\\0 \\end{bmatrix} $. Therefore, $x=y=0$\n",
        "\n",
        "<br>\n",
        "\n",
        "12. $-3x_{1}- x_{2}-3x_{3}=1 \\\\ 6x_{1}+x_{2}+3x_{3}=0 \\\\ 2x_{1}+x_{3}=1$\n",
        "\n",
        "The linear equations expressee in matrix form is $ \\begin{bmatrix}-3&-1&-3\\\\6&1&3\\\\2&0&1 \\end{bmatrix} \\times \\begin{bmatrix}x_{1}\\\\x_{2}\\\\x_{3} \\end{bmatrix} = \\begin{bmatrix}1\\\\0\\\\1 \\end{bmatrix}$.\n",
        "\n",
        "$$ \\begin{aligned}\n",
        "\\begin{bmatrix} x_{1}\\\\x_{2}\\\\x_{3} \\end{bmatrix} \n",
        "&= (\\begin{bmatrix}-3&-1&-3\\\\6&1&3\\\\2&0&1 \\end{bmatrix})^{-1} \\times \\begin{bmatrix}1\\\\0\\\\1 \\end{bmatrix}\\\\ \n",
        "&=  \\frac{1}{-3-6+0-(-6)-0-(-6)} \\times \\begin{bmatrix}1&-(0)&-2\\\\-(-1)&-3-6&-(0-(-2))\\\\-3-(-3)&-(-9-(-18))&-3-(-6) \\end{bmatrix} \\prime \\times \\begin{bmatrix}1\\\\0\\\\1 \\end{bmatrix} \\\\\n",
        "&=  \\frac{1}{3} \\times \\begin{bmatrix}1&0&-2\\\\1&3&-2\\\\0&-9&3 \\end{bmatrix} \\prime \\times \\begin{bmatrix}1\\\\0\\\\1 \\end{bmatrix} \\\\\n",
        "&= \\frac{1}{3} \\times \\begin{bmatrix}1&1&0\\\\0&3&-9\\\\-2&-2&3 \\end{bmatrix} \\times \\begin{bmatrix}1\\\\0\\\\1 \\end{bmatrix} \\\\\n",
        "&= \\frac{1}{3} \\times \\begin{bmatrix}1\\\\-9\\\\1 \\end{bmatrix}\n",
        "\\\\ \n",
        "&= \\begin{bmatrix}\\frac{1}{3}\\\\-3\\\\\\frac{1}{3} \\end{bmatrix}\n",
        "\\end{aligned}$$\n",
        "\n",
        "Therefore, $x_{1}=frac{1}{3},  x_{2}=-3, x_{3}=frac{1}{3}$."
      ]
    },
    {
      "cell_type": "code",
      "metadata": {
        "id": "h_kHrtHnfoKl",
        "colab_type": "code",
        "outputId": "2074946e-8a9f-4f8c-e49c-3728c3b5c542",
        "colab": {
          "base_uri": "https://localhost:8080/"
        }
      },
      "source": [
        "print(\"9. \\n\", \n",
        "      LA.inv(np.matrix([[2,-3],\n",
        "                        [4,1]])) * np.matrix([[2],\n",
        "                                              [5]]))\n",
        "\n",
        "print(\"\\n 10. \\n\", \n",
        "      LA.inv(np.matrix([[2,-3],\n",
        "                        [4,1]])) * np.matrix([[0],\n",
        "                                              [3]]))\n",
        "\n",
        "print(\"\\n 11. \\n\", \n",
        "      LA.inv(np.matrix([[2,-3],\n",
        "                        [4,1]])) * np.matrix([[0],\n",
        "                                              [0]]))\n",
        "\n",
        "print(\"\\n 12. \\n\", \n",
        "      LA.inv(np.matrix([[-3,-1,-3],\n",
        "                        [6,1,3],\n",
        "                        [2,0,1]])) * np.matrix([[1],\n",
        "                                                [0],\n",
        "                                                [1]]))"
      ],
      "execution_count": 0,
      "outputs": [
        {
          "output_type": "stream",
          "text": [
            "9. \n",
            " [[1.21428571]\n",
            " [0.14285714]]\n",
            "\n",
            " 10. \n",
            " [[0.64285714]\n",
            " [0.42857143]]\n",
            "\n",
            " 11. \n",
            " [[0.]\n",
            " [0.]]\n",
            "\n",
            " 12. \n",
            " [[ 0.33333333]\n",
            " [-3.        ]\n",
            " [ 0.33333333]]\n"
          ],
          "name": "stdout"
        },
        {
          "output_type": "execute_result",
          "data": {
            "text/plain": [
              "matrix([[ 0.33333333,  0.33333333,  0.        ],\n",
              "        [-0.        ,  1.        , -3.        ],\n",
              "        [-0.66666667, -0.66666667,  1.        ]])"
            ]
          },
          "metadata": {
            "tags": []
          },
          "execution_count": 13
        }
      ]
    },
    {
      "cell_type": "markdown",
      "metadata": {
        "id": "lYO-lVLftW3L",
        "colab_type": "text"
      },
      "source": [
        "# 6  Rank of a Matrix\n",
        "\n",
        "---\n",
        "\n"
      ]
    },
    {
      "cell_type": "markdown",
      "metadata": {
        "id": "Pcz5cLGNtZB8",
        "colab_type": "text"
      },
      "source": [
        "## 1. List the three elementary row transformations.\n",
        "\n",
        "There are three kinds of elementary row matrix operations:\n",
        "- Interchange two rows $R_{i} \\leftrightarrow R_{j}$\n",
        "- Multiply each element in a row by a non-zero constant $sR_{i} \\rightarrow R_{i}$\n",
        "- Multiply a row by a non-zero constant and add the result to another row $sR_{i} + R_{j} \\rightarrow R_{i}$\n"
      ]
    },
    {
      "cell_type": "markdown",
      "metadata": {
        "id": "v3OFlpLn3TXi",
        "colab_type": "text"
      },
      "source": [
        "## 2. What is the echelon form of a matrix?\n",
        "\n",
        "A matrix is in **row echelon form** ($ref$) when it satisfies the following conditions:\n",
        "- The first non-zero element in each row, called the leading entry, is 1.\n",
        "- Each leading entry is in a column to the right of the leading entry in the previous row.\n",
        "- Rows with all zero elements, if any, are below rows having a non-zero element.\n",
        "\n",
        "E.g., $\\begin{bmatrix}1&2&3&4\\\\0&0&1&0\\\\0&0&0&1\\\\0&0&0&0 \\end{bmatrix}$\n",
        "\n",
        "A matrix is in **reduced row echelon form** ($rref$) when it satisfies the following conditions.\n",
        "- The matrix satisfies conditions for a row echelon form.\n",
        "- The leading entry in each row is the only non-zero entry in its _column_.\n",
        "\n",
        "E.g., $\\begin{bmatrix}1&2&0&0\\\\0&0&1&0\\\\0&0&0&1\\\\0&0&0&0 \\end{bmatrix}$\n"
      ]
    },
    {
      "cell_type": "markdown",
      "metadata": {
        "id": "bGhSpaPD77Ew",
        "colab_type": "text"
      },
      "source": [
        "## 3. Find the ranks of the following matrices.\n",
        "\n",
        "### a. \n",
        "\n",
        "$$\\begin{bmatrix}1&2\\\\3&4 \\end{bmatrix} \\xrightarrow{(-3)R_{1} + R_{2}\\rightarrow R_{2}} \\begin{bmatrix}1&2\\\\0&-2 \\end{bmatrix} \\xrightarrow{(-\\frac{1}{2})R_{2}\\rightarrow R_{2}} \\begin{bmatrix}1&2\\\\0&1 \\end{bmatrix} \\\\ \n",
        "\\rho(a) = 2\n",
        "$$\n",
        "\n",
        "### b. \n",
        "\n",
        "$$\\begin{bmatrix}5&0\\\\0&6 \\end{bmatrix} \\xrightarrow[\\frac{1}{6}R_{2} \\rightarrow R_{2}] {\\frac{1}{5}R_{1} \\rightarrow R_{1}} \\begin{bmatrix}1&0\\\\0&1 \\end{bmatrix} \\\\\n",
        "\\rho(b) = 2\n",
        "$$\n",
        "\n",
        "### c. \n",
        "$$\\begin{bmatrix}1&2&3\\\\0&0&4\\\\5&6&7 \\end{bmatrix} \\xrightarrow[\\frac{1}{4}R_{2} \\rightarrow R_{2}] {R_{3} \\leftrightarrow R_{2}} \\begin{bmatrix}1&2&3\\\\5&6&7\\\\0&0&1 \\end{bmatrix} \\xrightarrow {(-5)R_{1} + R_{2} \\leftrightarrow R_{2}} \\begin{bmatrix}1&2&3\\\\0&-4&-8\\\\0&0&1 \\end{bmatrix} \\xrightarrow {(-\\frac{1}{4})R_{2} \\leftrightarrow R_{2}} \\begin{bmatrix}1&2&3\\\\0&1&2\\\\0&0&1 \\end{bmatrix} \n",
        "$$\n",
        "\n",
        "$$\\rho(c) = 3$$\n",
        "\n",
        "### d. \n",
        "\n",
        "$$\\begin{bmatrix}2&0&-1\\\\3&4&1\\\\5&0&6 \\end{bmatrix} \\xrightarrow[\\frac{1}{3}R_{2} \\rightarrow R_{2}] {R_{1} \\leftrightarrow R_{2}} \\begin{bmatrix}1&\\frac{4}{3}&1\\\\2&0&-1\\\\5&0&6 \\end{bmatrix} \n",
        "\\xrightarrow [(-5)R_{1} + R_{3} \\rightarrow R_{3}]{(-2)R_{1} + R_{2} \\rightarrow R_{2}} \\begin{bmatrix}1&\\frac{4}{3}&1\\\\0&-\\frac{8}{3}&2\\\\0&-\\frac{20}{3}&-5 \\end{bmatrix} \n",
        "\\xrightarrow [(-\\frac{3}{20})R_{3} \\rightarrow R_{3}]{(-\\frac{3}{8})R_{2} \\rightarrow R_{2}} \\begin{bmatrix} 1&\\frac{4}{3}&1\\\\0&1&-\\frac{3}{4}\\\\0&1&\\frac{3}{4}\\end{bmatrix} \n",
        "\\xrightarrow {R_{2} - R_{3} \\rightarrow R_{3}} \\begin{bmatrix} 1&\\frac{4}{3}&1\\\\0&1&\\frac{3}{4}\\\\0&0&\\frac{3}{2}\\end{bmatrix}\n",
        "\\xrightarrow {\\frac{2}{3}R_{3} \\rightarrow R_{3}} \\begin{bmatrix} 1&\\frac{4}{3}&1\\\\0&1&\\frac{3}{4}\\\\0&0&1\\end{bmatrix}\n",
        "$$\n",
        "\n",
        "$$\\rho(d) = 3$$\n",
        "\n",
        "### e. \n",
        "\n",
        "$$\\begin{bmatrix}1&2&3\\\\1&3&6\\\\1&4&0 \\end{bmatrix} \n",
        "\\xrightarrow[R_{2}+(-1)R_{1} \\rightarrow R_{2}] {R_{3} +(-1)R_{1}\\rightarrow R_{3}} \\begin{bmatrix}1&2&3\\\\0&1&4\\\\0&2&-3 \\end{bmatrix} \n",
        "\\xrightarrow {(-2)R_{2} + R_{3} \\leftrightarrow R_{3}} \\begin{bmatrix}1&2&3\\\\0&1&4\\\\0&0&-5 \\end{bmatrix} \n",
        "\\xrightarrow {(-\\frac{1}{5})R_{3} \\rightarrow R_{2}} \\begin{bmatrix} 1&2&3\\\\0&1&4\\\\0&0&1 \\end{bmatrix} \n",
        "$$\n",
        "\n",
        "$$\\rho(e) = 3$$\n",
        "\n",
        "### f. \n",
        "\n",
        "$$\\begin{bmatrix}1&0&0&5\\\\0&1&0&4\\\\0&0&1&3 \\end{bmatrix} $$\n",
        "\n",
        "$$\\rho(f) = 3$$\n",
        "\n",
        "### g. \n",
        "\n",
        "$$\\begin{bmatrix}0&0&0\\\\0&0&0\\\\0&0&0 \\end{bmatrix} $$\n",
        "\n",
        "$$\\rho(g) = 0$$\n",
        "\n",
        "### h. \n",
        "\n",
        "$$\n",
        "\\begin{bmatrix}0&1&1&1\\\\-1&0&1&1\\\\-1&-1&0&1\\\\-1&-1&-1&0 \\end{bmatrix} \n",
        "\\xrightarrow[(-1)R_{2} \\rightarrow R_{2}] {R_{1} \\leftrightarrow R_{2}}\n",
        "\\begin{bmatrix}1&0&-1&-1\\\\0&1&1&1\\\\-1&-1&0&1\\\\-1&-1&-1&0 \\end{bmatrix} \n",
        "\\xrightarrow[R_{1}+R_{3} \\rightarrow R_{3}] {R_{1} + R_{4}\\rightarrow R_{4}}\n",
        "\\begin{bmatrix}1&0&-1&-1\\\\0&1&1&1\\\\0&-1&-1&0\\\\0&-1&-2&-1 \\end{bmatrix} \n",
        "\\xrightarrow[R_{2}+R_{3} \\rightarrow R_{3}] {R_{2} + R_{4}\\rightarrow R_{4}}\n",
        "\\begin{bmatrix}1&0&-1&-1\\\\0&1&1&1\\\\0&0&0&1\\\\0&0&-1&0 \\end{bmatrix} \n",
        "\\xrightarrow {(-1)R_{4} \\leftrightarrow R_{3}}\n",
        "\\begin{bmatrix}1&0&-1&-1\\\\0&1&1&1\\\\0&0&1&0\\\\0&0&0&1 \\end{bmatrix} \n",
        "$$\n",
        "\n",
        "$$\\rho(h) = 4$$"
      ]
    },
    {
      "cell_type": "code",
      "metadata": {
        "id": "d7bLpTOO9YT-",
        "colab_type": "code",
        "outputId": "40969359-c5c5-447b-937c-a602e5b63c16",
        "colab": {
          "base_uri": "https://localhost:8080/",
          "height": 155
        }
      },
      "source": [
        "print(\"a. The matrix has\", LA.matrix_rank(np.matrix([[1,2],\n",
        "                                                     [3,4]])), \"ranks\")\n",
        "\n",
        "print(\"b. The matrix has\", LA.matrix_rank(np.matrix([[5,0],\n",
        "                                                     [0,6]])), \"ranks\")\n",
        "\n",
        "print(\"c. The matrix has\", LA.matrix_rank(np.matrix([[1,2,3],\n",
        "                                                     [0,0,4],\n",
        "                                                     [5,6,7]])), \"ranks\")\n",
        "\n",
        "print(\"d. The matrix has\", LA.matrix_rank(np.matrix([[2,0,-1],\n",
        "                                                     [3,4,1],\n",
        "                                                     [5,0,6]])), \"ranks\")\n",
        "\n",
        "print(\"e. The matrix has\", LA.matrix_rank(np.matrix([[1,2,3],\n",
        "                                                     [1,3,6],\n",
        "                                                     [1,4,10]])), \"ranks\")\n",
        "\n",
        "print(\"f. The matrix has\", LA.matrix_rank(np.matrix([[1,0,0,5],\n",
        "                                                     [0,1,0,4],\n",
        "                                                     [0,0,1,3]])), \"ranks\")\n",
        "\n",
        "print(\"g. The matrix has\", LA.matrix_rank(np.matrix([[0,0,0],\n",
        "                                                     [0,0,0],\n",
        "                                                     [0,0,0]])), \"rank\")\n",
        "\n",
        "print(\"f. The matrix has\", LA.matrix_rank(np.matrix([[0,1,1,1],\n",
        "                                                     [-1,0,1,1],\n",
        "                                                     [-1,-1,0,1],\n",
        "                                                     [-1,-1,-1,0]])), \"ranks\")"
      ],
      "execution_count": 0,
      "outputs": [
        {
          "output_type": "stream",
          "text": [
            "a. The matrix has 2 ranks\n",
            "b. The matrix has 2 ranks\n",
            "c. The matrix has 3 ranks\n",
            "d. The matrix has 3 ranks\n",
            "e. The matrix has 3 ranks\n",
            "f. The matrix has 3 ranks\n",
            "g. The matrix has 0 rank\n",
            "f. The matrix has 4 ranks\n"
          ],
          "name": "stdout"
        }
      ]
    },
    {
      "cell_type": "markdown",
      "metadata": {
        "id": "zLMXtHQH__7t",
        "colab_type": "text"
      },
      "source": [
        "# 7 Vectors, Vector Space, and Linear Independence\n",
        "\n",
        "\n",
        "---\n"
      ]
    },
    {
      "cell_type": "markdown",
      "metadata": {
        "id": "hjTiQQtyIBuI",
        "colab_type": "text"
      },
      "source": [
        "## Consider the following vectors \n",
        "\n",
        "$$\\vec{a} = \\begin{bmatrix} 1&3&2 \\end{bmatrix}$$\n",
        "\n",
        "$$\\vec{b} = \\begin{bmatrix} 3&-1&0 \\end{bmatrix}$$\n",
        "\n",
        "$$\\vec{c} = \\begin{bmatrix} \\frac{1}{3}&1&-\\frac{5}{3} \\end{bmatrix}$$\n",
        "\n",
        "### 1. Show that the vectors are all orthogonal to each other.\n",
        "\n",
        "Two vectors are orthogonal when they are perpendicular to each other. i.e. the dot product of the two vectors is zero.\n",
        "\n",
        "$$\\vec{a} \\cdot \\vec{b} = \\begin{bmatrix} 1&3&2 \\end{bmatrix} \\times  \\begin{bmatrix} 3&-1&0 \\end{bmatrix} = 1*3 + 3*(-1) +2*0 = 0$$\n",
        "\n",
        "$$\\vec{a} \\cdot \\vec{c} = \\begin{bmatrix} 1&3&2 \\end{bmatrix} \\times  \\begin{bmatrix} \\frac{1}{3}&1&-\\frac{5}{3}  \\end{bmatrix} = 1*\\frac{1}{3} + 3*1 +2*(-\\frac{5}{3}) = 0\n",
        "$$\n",
        "\n",
        "$$\\vec{b} \\cdot \\vec{c} = \\begin{bmatrix} 3&-1&0 \\end{bmatrix} \\times  \\begin{bmatrix} \\frac{1}{3}&1&-\\frac{5}{3}  \\end{bmatrix} = 3*\\frac{1}{3} + (-1)*1 +0*(-\\frac{5}{3}) = 0\n",
        "$$"
      ]
    },
    {
      "cell_type": "markdown",
      "metadata": {
        "id": "9LSh4Mk5ImqU",
        "colab_type": "text"
      },
      "source": [
        "## Find a basis for the row space of each of the following matrices. Then express the rows of each matrix as a linear combination of the vectors in the basis which you found for the row space of the matrix.\n",
        "\n",
        "### 2. \n",
        "Reduce the matrix to echelon form:\n",
        "$$\n",
        "\\begin{bmatrix} 3&4\\\\1&-1\\\\5&0 \\end{bmatrix}\n",
        "\\xrightarrow[]{R_{1} \\leftrightarrow R_{2}}\n",
        "\\begin{bmatrix} 1&-1\\\\3&-4\\\\5&0 \\end{bmatrix}\n",
        "\\xrightarrow[(-3)R_{1} + R_{2} \\rightarrow R_{2} ]{(-5)R_{1} + R_{3} \\rightarrow R_{3}}\n",
        "\\begin{bmatrix} 1&-1\\\\0&-1\\\\0&5 \\end{bmatrix}\n",
        "\\xrightarrow[R_{1} +(-1) R_{2} \\rightarrow R_{1} ]{(5)R_{2} + R_{3} \\rightarrow R_{3}}\n",
        "\\begin{bmatrix} 1&0\\\\0&-1\\\\0&0 \\end{bmatrix}\n",
        "\\xrightarrow[]{(-1)R_{2}\\rightarrow R_{2}}\n",
        "\\begin{bmatrix} 1&0\\\\0&1\\\\0&0 \\end{bmatrix}\n",
        "$$\n",
        "\n",
        "The basis for the row space is thus $\\{(1, 0),(0,1)\\}$. Therefore, the linear combination of $\\begin{bmatrix} 5\\\\0 \\end{bmatrix}$ can be expressed as $\\begin{bmatrix} 5\\\\0 \\end{bmatrix} = 5 \\begin{bmatrix} 1\\\\0 \\end{bmatrix} + 0 \\begin{bmatrix} 0\\\\1 \\end{bmatrix}$. \n",
        "\n",
        "<br>\n",
        "\n",
        "### 3. \n",
        "Reduce the matrix to echelon form:\n",
        "$$\n",
        "\\begin{bmatrix} 2&1&0\\\\-1&3&4\\\\2&8&8 \\end{bmatrix}\n",
        "\\xrightarrow[R_{3}+2R_{2} \\rightarrow R_{3}]{R_{1}+2R_{2} \\rightarrow R_{1}}\n",
        "\\begin{bmatrix} 0&7&8\\\\-1&3&4\\\\0&14&16 \\end{bmatrix}\n",
        "\\xrightarrow[(-1)R_{2} \\leftrightarrow R_{1}]{(-2)R_{1}+R_{3} \\rightarrow R_{3}}\n",
        "\\begin{bmatrix} 1&-3&-4\\\\0&7&8\\\\0&0&0 \\end{bmatrix}\n",
        "\\xrightarrow[]{(\\frac{1}{7})R_{2} \\rightarrow R_{2}}\n",
        "\\begin{bmatrix} 1&-3&-4\\\\0&1&\\frac{8}{7}\\\\0&0&0 \\end{bmatrix}\n",
        "\\xrightarrow[]{3R_{2}+R_{1} \\rightarrow R_{1}}\n",
        "\\begin{bmatrix} 1&0&-\\frac{4}{7}\\\\0&1&\\frac{8}{7}\\\\0&0&0 \\end{bmatrix}\n",
        "$$\n",
        "\n",
        "The basis for the row space is ${(1, 0, -\\frac{4}{7}}, (0,1,\\frac{8}{7})$. Therefore, the linear combination of $\\begin{bmatrix} 2\\\\8\\\\8 \\end{bmatrix}$ can be expressed as $\\begin{bmatrix} 2\\\\8\\\\8 \\end{bmatrix} = 2 \\begin{bmatrix} 1\\\\0\\\\-\\frac{4}{7}\\end{bmatrix} + 8 \\begin{bmatrix} 0\\\\1\\\\\\frac{8}{7} \\end{bmatrix}$. \n",
        "\n",
        "<br>\n",
        "\n",
        "### 4. \n",
        "Reduce the matrix to echelon form:\n",
        "$$\n",
        "\\begin{bmatrix} 5&-1&2\\\\4&4&-8\\\\3&1&-2\\\\2&-2&4 \\end{bmatrix}\n",
        "\\xrightarrow[\\frac{1}{2}R_{4}]{R_{1}-R_{2} \\rightarrow R_{1}, R_{2}-R_{3} \\rightarrow R_{2}, R_{3}-R_{4} \\rightarrow R_{3}}\n",
        "\\begin{bmatrix} 1&-5&10\\\\1&3&6\\\\1&3&6\\\\1&-1&2 \\end{bmatrix}\n",
        "\\xrightarrow[R_{2}-R_{4} \\rightarrow R_{2}, R_{1}-R_{2} \\rightarrow R_{1}]{R_{3}-R_{2} \\rightarrow R_{3}}\n",
        "\\begin{bmatrix} 0&-8&16\\\\0&4&-8\\\\0&0&0\\\\1&-1&2 \\end{bmatrix}\n",
        "\\xrightarrow[R_{4} \\leftrightarrow R_{1}, \\frac{1}{4}R_{2} \\rightarrow R_{2}]{R_{1}+2R_{2} \\rightarrow R_{1}}\n",
        "\\begin{bmatrix} 1&-1&2\\\\0&1&-2\\\\0&0&0\\\\0&0&0 \\end{bmatrix}\n",
        "$$\n",
        "\n",
        "The basis for the row space is $\\{(1, -1, 2), (0,-1,2)\\}$. \n",
        "\n",
        "Therefore, the linear combination of $\\begin{bmatrix} 5\\\\-1\\\\2 \\end{bmatrix}$ can be expressed as $\\begin{bmatrix} 2\\\\8\\\\8 \\end{bmatrix} = 5 \\begin{bmatrix} 1\\\\-1\\\\2 \\end{bmatrix} + 6 \\begin{bmatrix} 0\\\\-1\\\\2 \\end{bmatrix}$. \n",
        "\n",
        "<br>\n",
        "\n",
        "### 5. \n",
        "Reduce the matrix to echelon form:\n",
        "$$\\begin{bmatrix} 2&-1&3&0&-4\\\\7&-1&6&2&-9\\\\5&5&-6&-6&5\\\\3&1&0&2&-1 \\end{bmatrix}\n",
        "\\xrightarrow[R_{2}-R_{3} \\rightarrow R_{2}, R_{3}-R_{4} \\rightarrow R_{3}]{R_{4}-R_{1} \\rightarrow R_{4}}\n",
        "\\begin{bmatrix} 2&-1&3&0&-4\\\\2&-6&12&-4&-14\\\\2&4&-6&4&6\\\\1&2&-3&2&3 \\end{bmatrix}\n",
        "\\xrightarrow[2R_{4}-R_{3} \\rightarrow R_{4}, R_{1}-R_{2} \\rightarrow R_{1}]{\\frac{1}{2}R_{3} \\rightarrow R_{3}, -R_{2}+R{3} \\rightarrow R_{2}}\n",
        "\\begin{bmatrix} 0&5&-9&4&10\\\\0&10&-18&8&20\\\\1&2&-3&2&3\\\\0&0&0&0&0 \\end{bmatrix}\n",
        "\\xrightarrow [2R_{1}-R_{2} \\rightarrow R_{1}, \\frac{1}{10}R_{2} \\rightarrow R_{2}]{R_{3} \\leftrightarrow R_{1}}\n",
        "\\begin{bmatrix} 1&2&-3&2&3\\\\0&1&-\\frac{9}{5}&\\frac{4}{5}&2\\\\ 0&0&0&0&0\\\\0&0&0&0&0 \\end{bmatrix}\n",
        "$$\n",
        "\n",
        "The basis for the row space is $\\{(1, 2, -3,2,3), (0,1,-\\frac{9}{5}, \\frac{4}{5}, -\\frac{9}{5})\\}$. \n",
        "\n",
        "Therefore, the linear combination of $\\begin{bmatrix} 2\\\\-1\\\\3\\\\0\\\\4 \\end{bmatrix}$ can be expressed as $\\begin{bmatrix} 2\\\\-1\\\\3\\\\0\\\\4 \\end{bmatrix} = 2 \\begin{bmatrix} 1\\\\2\\\\-3\\\\2\\\\3 \\end{bmatrix} - 6 \\begin{bmatrix} 0\\\\1\\\\-\\frac{9}{5}\\\\\\frac{4}{5}\\\\2 \\end{bmatrix}$. \n"
      ]
    },
    {
      "cell_type": "markdown",
      "metadata": {
        "id": "UpEif_U1MM7T",
        "colab_type": "text"
      },
      "source": [
        "# 8 Eigenvalues and Eigenvectors\n",
        "\n",
        "---\n",
        "\n",
        "Find eigenvalues of the following matrices and their associated eigenvectors. Use Mathematica to check your answers.\n",
        "\n",
        "For a square matrix $A$, an Eigenvector $\\vec v$ and Eigenvalue $\\lambda$ make this equation true: \n",
        "$$A\\vec v = \\lambda \\vec v $$\n",
        "We can rewrite the equation as follows:\n",
        "$$A\\vec v -  \\lambda \\vec v = \\vec 0\\\\\n",
        "(A-\\lambda I) \\cdot \\vec v = \\vec 0\n",
        "$$\n",
        "\n",
        "where $I$ is the identity matrix of the same dimensions as $A$. Since $\\vec v \\neq \\vec 0 $, to make this equation exists, $\\vec v$ has to sit at the null space of the matrix $(A-\\lambda I) $. This means that the matrix $(A-\\lambda I) $ is not of full rank, or\n",
        "\n",
        "$$det(A-\\lambda I)=0$$\n",
        "\n",
        "Eigenvectors can be normalized to a vector with length 1.\n"
      ]
    },
    {
      "cell_type": "markdown",
      "metadata": {
        "id": "kbMmpcFAgenF",
        "colab_type": "text"
      },
      "source": [
        "## 1. $\\begin{bmatrix} 2&1\\\\0&3 \\end{bmatrix}$\n",
        "\n",
        "$$det \\begin{vmatrix} \\begin{bmatrix} 2&1\\\\0&3 \\end{bmatrix} - \\begin{bmatrix} \\lambda\\\\\\lambda \\end{bmatrix} \\cdot \\begin{bmatrix} 1&0\\\\0&1 \\end{bmatrix}  \\end{vmatrix}= det \\begin{vmatrix} 2-\\lambda&1\\\\0&3-\\lambda \\end{vmatrix} = (2-\\lambda)(3-\\lambda)=0 $$\n",
        "\n",
        "Therefore, the two eigenvalues are $\\lambda_{1}=2$, $\\lambda_{2}=3$. \n",
        "\n",
        "- When $\\lambda_{1}=2$, \n",
        "$\\begin{bmatrix} 2-2&1\\\\0&3-2 \\end{bmatrix} \\cdot \\begin{bmatrix} v_{1}\\\\v_{2} \\end{bmatrix}  = \\begin{bmatrix} 0&1\\\\0&1 \\end{bmatrix} \\cdot \\begin{bmatrix} v_{1}\\\\v_{2} \\end{bmatrix} =  \\begin{bmatrix} 0\\\\0\\end{bmatrix} $, $v_{2}=0 $, and if normalized, $v_{1}^2 + v_{2}^2 = 1 $. Therefore $v_{1}=1$. \n",
        "\n",
        "- When $\\lambda_{1}=3$, \n",
        "$\\begin{bmatrix} -1&1\\\\0&0 \\end{bmatrix} \\cdot \\begin{bmatrix} v_{1}\\\\v_{2} \\end{bmatrix}  = \\begin{bmatrix} 0\\\\0\\end{bmatrix} $, so $v_{1}=v_{2} $, and if standardized, $v_{1}^2 + v_{2}^2 = 1 $. We can thus get $v_{1}=v_{2} = \\frac{\\sqrt2}{2}$ . \n",
        "\n",
        "The two standardized eigenvectors are thus $\\vec v_{1} = (1, 0)$ and $\\vec v_{2} = (\\frac{\\sqrt2}{2}, \\frac{\\sqrt2}{2})$. \n",
        "\n",
        "<br>\n",
        "\n",
        "## 2. $\\begin{bmatrix} 0&0\\\\0&0 \\end{bmatrix}$\n",
        "\n",
        "$$ det \\begin{vmatrix} 0-\\lambda&0\\\\0&0-\\lambda \\end{vmatrix} = (-\\lambda)(-\\lambda)=0 $$\n",
        "\n",
        "The eigenalue of this matrix is $\\lambda=0$. \n",
        "\n",
        "Therefore $\\begin{bmatrix} 0&0\\\\0&0 \\end{bmatrix} \\cdot \\begin{bmatrix} v_{1}\\\\v_{2} \\end{bmatrix}  =  \\begin{bmatrix} 0\\\\0\\end{bmatrix} $. The eigenvectors of the matrix can be any vectors. \n",
        "\n",
        "The two standardized eigenvectors are thus $\\vec v_{1} = (1, 0)$ and $\\vec v_{2} = (0, 1)$. \n"
      ]
    },
    {
      "cell_type": "code",
      "metadata": {
        "id": "Swxb4atCgeTN",
        "colab_type": "code",
        "outputId": "80bb1560-2f76-4e7f-9e15-33d29c84d0ca",
        "colab": {
          "base_uri": "https://localhost:8080/",
          "height": 190
        }
      },
      "source": [
        "w1, v1 = LA.eig(np.matrix([[2,1],\n",
        "                           [0,3]]))\n",
        "print(\"\\n 1. \\n Eigenvalues \",w1, \"\\n Eigenvectors\", v1)\n",
        "\n",
        "w2, v2 = LA.eig(np.matrix([[0,0],\n",
        "                           [0,0]]))\n",
        "print(\"\\n 2. \\n Eigenvalues \",w2, \"\\n Eigenvectors\", v2)"
      ],
      "execution_count": 0,
      "outputs": [
        {
          "output_type": "stream",
          "text": [
            "\n",
            " 1. \n",
            " Eigenvalues  [2. 3.] \n",
            " Eigenvectors [[1.         0.70710678]\n",
            " [0.         0.70710678]]\n",
            "\n",
            " 2. \n",
            " Eigenvalues  [0. 0.] \n",
            " Eigenvectors [[1. 0.]\n",
            " [0. 1.]]\n"
          ],
          "name": "stdout"
        }
      ]
    },
    {
      "cell_type": "markdown",
      "metadata": {
        "id": "as_iWn9ZBE_o",
        "colab_type": "text"
      },
      "source": [
        "## 3. $\\begin{bmatrix} 3&2\\\\6&-1 \\end{bmatrix}$\n",
        "\n",
        "$$ det \\begin{vmatrix} 3-\\lambda&2\\\\6&-1-\\lambda \\end{vmatrix} = (3-\\lambda)(-1-\\lambda) - 12 =0 \\\\\n",
        "-3+ \\lambda -3\\lambda +\\lambda^2-12 = 0\\\\\n",
        "\\lambda^2 - 2\\lambda -15 = 0\\\\\n",
        "(\\lambda+3)(\\lambda-5)=0\n",
        "$$\n",
        "\n",
        "The eigenalue of this matrix is $\\lambda_{1}=-3$, $\\lambda_{2}=5$. \n",
        "\n",
        "When $\\lambda_{1}=-3$, \n",
        "\n",
        "$$\\begin{bmatrix} 3-(-3)&2\\\\6&-1-(-3) \\end{bmatrix} \\cdot \\begin{bmatrix} v_{1}\\\\v_{2} \\end{bmatrix}  = \\begin{bmatrix} 6&2\\\\6&2 \\end{bmatrix} \\cdot \\begin{bmatrix} v_{1}\\\\v_{2} \\end{bmatrix} =  \\begin{bmatrix} 6v_{1} + 2 v_{2}\\\\6v_{1} + 2v_{2}  \\end{bmatrix} = \\begin{bmatrix} 0\\\\0\\end{bmatrix} \\\\\n",
        "v_{2} = - 3v_{1} \\\\\n",
        "v_{1}^2 + v_{2}^2  = v_{1}^2 + (-3v_{1})^2 = 10v_{1}^2 = 1$$\n",
        "\n",
        "Therefore, $v_{1} = \\frac{\\sqrt10}{10}$, $v_{2} = -\\frac{3 \\sqrt10}{10}$\n",
        "\n",
        "When $\\lambda_{2}=5$, \n",
        "\n",
        "$$\\begin{bmatrix} 3-5&2\\\\6&-1-5 \\end{bmatrix} \\cdot \\begin{bmatrix} v_{1}\\\\v_{2} \\end{bmatrix}  = \\begin{bmatrix} -2&2\\\\6&-6 \\end{bmatrix} \\cdot \\begin{bmatrix} v_{1}\\\\v_{2} \\end{bmatrix} =  \\begin{bmatrix} -2v_{1} + 2 v_{2}\\\\6v_{1}  -6v_{2} \\end{bmatrix} = \\begin{bmatrix} 0\\\\0\\end{bmatrix} \\\\\n",
        " + = 0\\\\\n",
        "v_{2} = v_{1} \\\\\n",
        "v_{1}^2 + v_{2}^2  = 2v_{1}^2  = 1$$\n",
        "\n",
        "Therefore, $v_{1} = \\frac{\\sqrt2}{2}$, $v_{2} = \\frac{\\sqrt2}{2}$\n",
        "\n",
        "The two standardized eigenvectors are thus $\\vec v_{1} = (\\frac{\\sqrt10}{10}, -\\frac{3 \\sqrt10}{10})$ and $\\vec v_{2} = (\\frac{\\sqrt2}{2}, \\frac{\\sqrt2}{2})$. \n",
        "\n",
        "<br>\n",
        "\n",
        "## 4. $\\begin{bmatrix} 1&2\\\\3&2 \\end{bmatrix}$\n",
        "\n",
        "$$ det \\begin{vmatrix} 1-\\lambda&2\\\\3&2-\\lambda \\end{vmatrix} = (1-\\lambda)(2-\\lambda) - 6 =0 \\\\\n",
        "2-2\\lambda -\\lambda +\\lambda^2-6 = 0\\\\\n",
        "\\lambda^2 - 3\\lambda -4 = 0\\\\\n",
        "(\\lambda+1)(\\lambda-4)=0\n",
        "$$\n",
        "\n",
        "The eigenalue of this matrix is $\\lambda_{1}=-1$, $\\lambda_{2}=4$. \n",
        "\n",
        "When $\\lambda_{1}=-1$, \n",
        "\n",
        "$$\\begin{bmatrix} 1-(-1)&2\\\\3&2-(-1) \\end{bmatrix} \\cdot \\begin{bmatrix} v_{1}\\\\v_{2} \\end{bmatrix}  = \\begin{bmatrix} 2&2\\\\3&3 \\end{bmatrix} \\cdot \\begin{bmatrix} v_{1}\\\\v_{2} \\end{bmatrix} =  \\begin{bmatrix} 2v_{1} + 2 v_{2}\\\\3v_{1} + 3v_{2} \\end{bmatrix} = \\begin{bmatrix} 0\\\\0\\end{bmatrix} \\\\\n",
        "v_{2} = - v_{1} \\\\\n",
        "v_{1}^2 + v_{2}^2  = 2v_{1}^2 = 1$$\n",
        "\n",
        "Therefore, $v_{1} = \\frac{\\sqrt2}{2}$, $v_{2} = -\\frac{\\sqrt2}{2}$\n",
        "\n",
        "When $\\lambda_{1}=4$, \n",
        "\n",
        "$$\\begin{bmatrix} 1-4&2\\\\3&2-4 \\end{bmatrix} \\cdot \\begin{bmatrix} v_{1}\\\\v_{2} \\end{bmatrix}  = \\begin{bmatrix} -3&2\\\\3&-2 \\end{bmatrix} \\cdot \\begin{bmatrix} v_{1}\\\\v_{2} \\end{bmatrix} \\begin{bmatrix} -3v_{1} + 2 v_{2}\\\\3v_{1} -2 v_{2} \\end{bmatrix} =  \\begin{bmatrix} 0\\\\0\\end{bmatrix} \\\\\n",
        "v_{2} = - \\frac{3}{2}v_{1} \\\\\n",
        "v_{1}^2 + v_{2}^2  = v_{1}^2 + (\\frac{2}{3}v_{1})^2 = \\frac{13}{9}v_{1}^2 = 1$$\n",
        "\n",
        "Therefore, $v_{1} = \\frac{\\sqrt10}{10}$, $v_{2} = -\\frac{3 \\sqrt10}{10}$\n",
        "\n",
        "The two standardized eigenvectors are thus $\\vec v_{1} = span(\\frac{\\sqrt2}{2}, -\\frac{\\sqrt2}{2})$ and $\\vec v_{2} = span(\\frac{\\sqrt10}{10}, -\\frac{3 \\sqrt10}{10})$. \n",
        "\n",
        "\n",
        "\n"
      ]
    },
    {
      "cell_type": "code",
      "metadata": {
        "id": "YFvAk2P2Cvex",
        "colab_type": "code",
        "outputId": "a0fb03c8-3696-4d8a-fa58-ed38ec59ed2e",
        "colab": {
          "base_uri": "https://localhost:8080/",
          "height": 225
        }
      },
      "source": [
        "w3, v3 = LA.eig(np.matrix([[3,2],\n",
        "                           [6,-1]]))\n",
        "print(\"\\n 3. \\n Eigenvalues \",w3, \"\\n Eigenvectors \\n\", v3)\n",
        "\n",
        "w4, v4 = LA.eig(np.matrix([[1,2],\n",
        "                           [3,2]]))\n",
        "print(\"\\n 4. \\n Eigenvalues \",w4, \"\\n Eigenvectors \\n\", v4)"
      ],
      "execution_count": 0,
      "outputs": [
        {
          "output_type": "stream",
          "text": [
            "\n",
            " 3. \n",
            " Eigenvalues  [ 5. -3.] \n",
            " Eigenvectors \n",
            " [[ 0.70710678 -0.31622777]\n",
            " [ 0.70710678  0.9486833 ]]\n",
            "\n",
            " 4. \n",
            " Eigenvalues  [-1.  4.] \n",
            " Eigenvectors \n",
            " [[-0.70710678 -0.5547002 ]\n",
            " [ 0.70710678 -0.83205029]]\n"
          ],
          "name": "stdout"
        }
      ]
    },
    {
      "cell_type": "markdown",
      "metadata": {
        "id": "OoW01cUygkiC",
        "colab_type": "text"
      },
      "source": [
        "## 5. $\\begin{bmatrix} 2&1&0\\\\0&2&0\\\\2&3&1 \\end{bmatrix}$\n",
        "\n",
        "$$ det \\begin{vmatrix} \\begin{bmatrix} 2&1&0\\\\0&2&0\\\\2&3&1 \\end{bmatrix} - \\begin{bmatrix} \\lambda&0&0\\\\0&\\lambda&0\\\\0&0&\\lambda \\end{bmatrix} \\end{vmatrix} = det \\begin{vmatrix} 2-\\lambda&1&0\\\\0&2-\\lambda&0\\\\2&3&1-\\lambda \\end{vmatrix} = (2-\\lambda)(2-\\lambda)(1-\\lambda) =0 \\\\\n",
        "$$\n",
        "\n",
        "The three eigenalue of this matrix is $\\lambda_{1}=1$, $\\lambda_{2}=\\lambda_{3}=2$. \n",
        "\n",
        "When $\\lambda_{1}=1$, \n",
        "\n",
        "$$\\begin{bmatrix} 2-1&1&0\\\\0&2-1&0\\\\2&3&1-1 \\end{bmatrix} \\cdot \\begin{bmatrix}v_{1}\\\\v_{2}\\\\v{3} \\end{bmatrix} = \\begin{bmatrix} v_{1} + v_{2}\\\\ v_{2}\\\\2v_{1}+3v_{2} \\end{bmatrix} = \\begin{bmatrix} 0\\\\ 0\\\\0 \\end{bmatrix} \\\\\n",
        "v_{1}= v_{2}=0\\\\\n",
        "v_{1}^2 + v_{2}^2 +v_{3}^2 =1$$. \n",
        "\n",
        "Therefore, $v_{1}= v_{2}=0$, $v_{3}=1$. \n",
        "\n",
        "When $\\lambda_{2}=\\lambda_{3}=2$, \n",
        "\n",
        "$$\\begin{bmatrix} 2-2&1&0\\\\0&2-2&0\\\\2&3&1-2 \\end{bmatrix} \\cdot \\begin{bmatrix}v_{1}\\\\v_{2}\\\\v{3} \\end{bmatrix} = \\begin{bmatrix}  v_{2}\\\\ 0\\\\2v_{1}+3v_{2}- v_{3} \\end{bmatrix} = \\begin{bmatrix} 0\\\\ 0\\\\0 \\end{bmatrix} \\\\\n",
        "v_{2}=0\\\\\n",
        "2v_{1}=v_{3}\\\\\n",
        "v_{1}^2 + v_{2}^2 +v_{3}^2 =1$$. \n",
        "\n",
        "Therefore, $v_{1}=\\frac{1}{\\sqrt5}, v_{2}=0$, $v_{3}=\\frac{2}{\\sqrt5}$. \n",
        "\n",
        "The three standardized eigenvectors are thus $\\vec v_{1} = span \\left( 0,0,1\\right)$ and $\\vec v_{2} = \\vec v_{3} = span(\\frac{1}{\\sqrt5},0,\\frac{2}{\\sqrt5})$. \n"
      ]
    },
    {
      "cell_type": "code",
      "metadata": {
        "id": "1r4LJrd4gnoy",
        "colab_type": "code",
        "outputId": "6d5d42c0-5aa0-4bdc-da5e-4346eba04d51",
        "colab": {
          "base_uri": "https://localhost:8080/",
          "height": 138
        }
      },
      "source": [
        "w5, v5 = LA.eig(np.matrix([[2,1,0],\n",
        "                         [0,2,0],\n",
        "                         [2,3,1]]))\n",
        "print(\"\\n 5. \\n Eigenvalues \",w5, \"\\n Eigenvectors \\n\", v5)"
      ],
      "execution_count": 0,
      "outputs": [
        {
          "output_type": "stream",
          "text": [
            "\n",
            " 5. \n",
            " Eigenvalues  [1. 2. 2.] \n",
            " Eigenvectors \n",
            " [[ 0.00000000e+00  4.47213595e-01 -4.47213595e-01]\n",
            " [ 0.00000000e+00  0.00000000e+00  1.98602732e-16]\n",
            " [ 1.00000000e+00  8.94427191e-01 -8.94427191e-01]]\n"
          ],
          "name": "stdout"
        }
      ]
    },
    {
      "cell_type": "markdown",
      "metadata": {
        "id": "JEGZXf3ljzPu",
        "colab_type": "text"
      },
      "source": [
        "## 6. $\\begin{bmatrix} 4&2&-2\\\\-5&3&2\\\\-2&4&1 \\end{bmatrix}$\n",
        "\n",
        "$$ det \\begin{vmatrix} \\begin{bmatrix} 4&2&-2\\\\-5&3&2\\\\-2&4&1 \\end{bmatrix} - \\begin{bmatrix} \\lambda&0&0\\\\0&\\lambda&0\\\\0&0&\\lambda \\end{bmatrix} \\end{vmatrix} = det \\begin{vmatrix} 4-\\lambda&2&-2\\\\-5&3-\\lambda&2\\\\-2&4&1-\\lambda \\end{vmatrix}\\\\ = (4-\\lambda)(3-\\lambda)(1-\\lambda)-8+20-(-10)(1-\\lambda)-8(4-\\lambda)-4(3-\\lambda) \\\\\n",
        "=(\\lambda-5)(\\lambda-2)(\\lambda-1)=0 \\\\\n",
        "$$\n",
        "\n",
        "The three eigenalue of this matrix is $\\lambda_{1}=5$, $\\lambda_{2}=2, \\lambda_{3}=1$. \n",
        "\n",
        "When $\\lambda_{1}=5$, \n",
        "\n",
        "$$\\begin{bmatrix}4-5 &2&-2\\\\-5&3-5&2\\\\-2&4&1-5  \\end{bmatrix} \\cdot \\begin{bmatrix}v_{1}\\\\v_{2}\\\\v{3} \\end{bmatrix} = \\begin{bmatrix} -v_{1} + 2v_{2}- 2v_{3}\\\\ -5v_{1}-2v_{2}+2v_{3}\\\\-2v_{1}+4v_{2}+3v_{3} \\end{bmatrix} = \\begin{bmatrix} 0\\\\ 0\\\\0 \\end{bmatrix} \\\\\n",
        "v_{1}= 2v_{2}-v_{3}=0\\\\\n",
        "(-2)(2v_{2}-v_{3})+4v_{2}+3v_{3} = 5v_{3}=0\\\\\n",
        "v_{1}^2 + v_{2}^2 +v_{3}^2 =1$$. \n",
        "\n",
        "Therefore, $v_{1}= v_{2}=\\frac{1}{\\sqrt2}$, $v_{3}=0$. \n",
        "\n",
        "When $\\lambda_{2}=2$, \n",
        "\n",
        "$$\\begin{bmatrix}4-2 &2&-2\\\\-5&3-2&2\\\\-2&4&1-2 \\end{bmatrix} \\cdot \\begin{bmatrix}v_{1}\\\\v_{2}\\\\v{3} \\end{bmatrix} = \\begin{bmatrix}2v_{1} + 2v_{2}- 2v_{3}\\\\ -5v_{1}+v_{2}+2v_{3}\\\\-2v_{1}+4v_{2}-v_{3} \\end{bmatrix} = \\begin{bmatrix} 0\\\\ 0\\\\0 \\end{bmatrix} \\\\\n",
        "v_{1}=v_{2}\\\\\n",
        "v_{3}= v_{1}+ v_{2}\\\\\n",
        "v_{1}^2 + v_{2}^2 +v_{3}^2 =1$$ \n",
        "\n",
        "Therefore, $v_{1}=v_{2}=\\frac{1}{\\sqrt6}$, $v_{3}=\\frac{2}{\\sqrt6}$. \n",
        "\n",
        "When $\\lambda_{2}=1$, \n",
        "\n",
        "$$\\begin{bmatrix}4-1 &2&-2\\\\-5&3-1&2\\\\-2&4&1-1 \\end{bmatrix} \\cdot \\begin{bmatrix}v_{1}\\\\v_{2}\\\\v{3} \\end{bmatrix} = \\begin{bmatrix}3v_{1} + 2v_{2}- 2v_{3}\\\\ -5v_{1}+2v_{2}+2v_{3}\\\\-2v_{1}+4v_{2} \\end{bmatrix} = \\begin{bmatrix} 0\\\\ 0\\\\0 \\end{bmatrix} \\\\\n",
        "v_{1}=2v_{2}\\\\\n",
        "v_{3}= 4v_{2}=\\\\\n",
        "v_{1}^2 + v_{2}^2 +v_{3}^2 =1$$ \n",
        "\n",
        "Therefore, $v_{1}=\\frac{2}{\\sqrt21}, v_{2}=\\frac{1}{\\sqrt21}$, $v_{3}=\\frac{4}{\\sqrt21}$. \n",
        "\n",
        "The three standardized eigenvectors are thus $\\vec v_{1} = span(\\frac{1}{\\sqrt2}, \\frac{1}{\\sqrt2},v_{3}=0)$, $\\vec v_{2} = span(\\frac{1}{\\sqrt6}, \\frac{1}{\\sqrt6}, \\frac{2}{\\sqrt6})$, and $\\vec v_{3} = span(\\frac{2}{\\sqrt21}, \\frac{1}{\\sqrt21}, \\frac{4}{\\sqrt21})$. \n"
      ]
    },
    {
      "cell_type": "code",
      "metadata": {
        "id": "Z_xBHZQRjyqj",
        "colab_type": "code",
        "outputId": "37a0e555-c29d-492d-8b44-596cfccb24e2",
        "colab": {
          "base_uri": "https://localhost:8080/",
          "height": 190
        }
      },
      "source": [
        "w6, v6 = LA.eig(np.matrix([[4,2,1],\n",
        "                           [-5,3,2],\n",
        "                           [-1,4,1]]))\n",
        "print(\"\\n 6. \\n Eigenvalues \",w6, \"\\n Eigenvectors \\n\", v6)"
      ],
      "execution_count": 0,
      "outputs": [
        {
          "output_type": "stream",
          "text": [
            "\n",
            " 6. \n",
            " Eigenvalues  [ 4.5+3.27871926j  4.5-3.27871926j -1. +0.j        ] \n",
            " Eigenvectors \n",
            " [[-5.44347183e-03-0.53542848j -5.44347183e-03+0.53542848j\n",
            "   5.02674854e-17+0.j        ]\n",
            " [ 6.42329676e-01+0.j          6.42329676e-01-0.j\n",
            "  -4.47213595e-01+0.j        ]\n",
            " [ 4.68138577e-01-0.28556186j  4.68138577e-01+0.28556186j\n",
            "   8.94427191e-01+0.j        ]]\n"
          ],
          "name": "stdout"
        }
      ]
    },
    {
      "cell_type": "markdown",
      "metadata": {
        "id": "aU_n8wnIro3r",
        "colab_type": "text"
      },
      "source": [
        "## 7. $\\begin{bmatrix} 1&2&3\\\\0&4&5\\\\0&0&6 \\end{bmatrix}$\n",
        "\n",
        "\n",
        "$$ det \\begin{vmatrix} \\begin{bmatrix} 1&2&3\\\\0&4&5\\\\0&0&6 \\end{bmatrix} - \\begin{bmatrix} \\lambda&0&0\\\\0&\\lambda&0\\\\0&0&\\lambda \\end{bmatrix} \\end{vmatrix} = det \\begin{vmatrix} 1-\\lambda &2&3\\\\0&4-\\lambda &5\\\\0&0&6-\\lambda  \\end{vmatrix}\\\\ = (1-\\lambda)(4-\\lambda)(6-\\lambda)=0 \\\\\n",
        "$$\n",
        "\n",
        "The three eigenalue of this matrix is $\\lambda_{1}=1$, $\\lambda_{2}=4, \\lambda_{3}=6$. \n",
        "\n",
        "When $\\lambda_{1}=1$, \n",
        "\n",
        "$$\\begin{bmatrix} 1-1&2&3\\\\0&4-1&5\\\\0&0&6-1  \\end{bmatrix} \\cdot \\begin{bmatrix}v_{1}\\\\v_{2}\\\\v_{3} \\end{bmatrix} = \\begin{bmatrix} 2v_{2}+3v_{3}\\\\3v_{2}+5v_{3}\\\\5v_{3} \\end{bmatrix} = \\begin{bmatrix} 0\\\\ 0\\\\0 \\end{bmatrix} \\\\\n",
        "v_{2}=v_{3}=0\\\\\n",
        "v_{1}^2 + v_{2}^2 +v_{3}^2 =1$$ \n",
        "\n",
        "Therefore, $v_{1}=1, v_{2}=v_{3}=0$. \n",
        "\n",
        "When $\\lambda_{2}=4$, \n",
        "\n",
        "$$\\begin{bmatrix} 1-4&2&3\\\\0&4-4&5\\\\0&0&6-4  \\end{bmatrix} \\cdot \\begin{bmatrix}v_{1}\\\\v_{2}\\\\v_{3} \\end{bmatrix} = \\begin{bmatrix} -3v_{1}+ 2v_{2}+3v_{3}\\\\5v_{3}\\\\2v_{3} \\end{bmatrix} = \\begin{bmatrix} 0\\\\ 0\\\\0 \\end{bmatrix} \\\\\n",
        "-3v_{1}+2v_{2}=0\\\\\n",
        "v_{1}^2 + v_{2}^2 +v_{3}^2 =1$$ \n",
        "\n",
        "Therefore, $v_{1}=\\frac{2}{\\sqrt13}, v_{2}=\\frac{3}{\\sqrt13}, v_{3}=0$. \n",
        "\n",
        "When $\\lambda_{3}=6$, \n",
        "\n",
        "$$\\begin{bmatrix} 1-6&2&3\\\\0&4-6&5\\\\0&0&6-6  \\end{bmatrix} \\cdot \\begin{bmatrix}v_{1}\\\\v_{2}\\\\v_{3} \\end{bmatrix} = \\begin{bmatrix} -5v_{1}+ 2v_{2}+3v_{3}\\\\-2v_{2}+5v_{3}\\\\0 \\end{bmatrix} = \\begin{bmatrix} 0\\\\ 0\\\\0 \\end{bmatrix} \\\\\n",
        "v_{2}=\\frac{5}{2}v_{3}\\\\\n",
        "v_{1}=\\frac{8}{5}v_{3}\\\\\n",
        "v_{1}^2 + v_{2}^2 +v_{3}^2 =1$$ \n",
        "\n",
        "Therefore, $v_{1}=\\frac{12}{25}\\sqrt109, v_{2}=\\frac{3}{4}\\sqrt109, v_{3}=\\frac{3}{10}\\sqrt109$. \n",
        "\n",
        "The three eigenvectors for this matrix is $\\vec v_{1}= span(1,0,0), \\vec v_{2} = span(\\frac{2}{\\sqrt13},\\frac{3}{\\sqrt13}, 0),  \\vec v_{3}=span(\\frac{12}{25}\\sqrt109, \\frac{3}{4}\\sqrt109, \\frac{3}{10}\\sqrt109)$\n",
        "\n"
      ]
    },
    {
      "cell_type": "code",
      "metadata": {
        "id": "0eI1WVwWrqC5",
        "colab_type": "code",
        "outputId": "1a4869a2-ab09-4f44-c0b6-870001a9ebe5",
        "colab": {
          "base_uri": "https://localhost:8080/",
          "height": 151
        }
      },
      "source": [
        "w7, v7 = LA.eig(np.matrix([[1,2,3],\n",
        "                           [0,4,5],\n",
        "                           [0,0,6]]))\n",
        "print(\"\\n 7. \\n Eigenvalues \",w7, \"\\n Eigenvectors \\n\", v7)"
      ],
      "execution_count": 0,
      "outputs": [
        {
          "output_type": "stream",
          "text": [
            "\n",
            " 7. \n",
            " Eigenvalues  [1. 4. 6.] \n",
            " Eigenvectors \n",
            " [[1.         0.5547002  0.51084069]\n",
            " [0.         0.83205029 0.79818857]\n",
            " [0.         0.         0.31927543]]\n"
          ],
          "name": "stdout"
        },
        {
          "output_type": "execute_result",
          "data": {
            "text/plain": [
              "10.44030650891055"
            ]
          },
          "metadata": {
            "tags": []
          },
          "execution_count": 3
        }
      ]
    },
    {
      "cell_type": "markdown",
      "metadata": {
        "id": "p-SsBdjpr2Zg",
        "colab_type": "text"
      },
      "source": [
        "## 8. $\\begin{bmatrix} 1&-1&-1\\\\1&3&1\\\\-3&1&-1 \\end{bmatrix}$\n",
        "\n",
        "$$ det \\begin{vmatrix} \\begin{bmatrix} 1&-1&-1\\\\1&3&1\\\\-3&1&-1 \\end{bmatrix} - \\begin{bmatrix} \\lambda&0&0\\\\0&\\lambda&0\\\\0&0&\\lambda \\end{bmatrix} \\end{vmatrix} = det \\begin{vmatrix} 1-\\lambda&-1&-1\\\\1&3-\\lambda&1\\\\-3&1&-1-\\lambda  \\end{vmatrix}\\\\ = \\lambda^3-3\\lambda^2+2\\lambda-12=0 \\\\\n",
        "$$\n",
        "\n",
        "The three eigenalue of this matrix is $\\lambda_{1}=2$, $\\lambda_{2}=-2, \\lambda_{3}=3$. \n",
        "\n",
        "When $\\lambda_{1}=2$, \n",
        "\n",
        "$$\\begin{bmatrix} 1-2&-1&-1\\\\1&3-2&1\\\\-3&1&-1-2  \\end{bmatrix} \\cdot \\begin{bmatrix}v_{1}\\\\v_{2}\\\\v_{3} \\end{bmatrix} = \\begin{bmatrix} -v_{1}-v_{2}-v_{3}\\\\v_{1}+v_{2}+v_{3}\\\\-3v_{1}+v_{2}-v_{3} \\end{bmatrix} = \\begin{bmatrix} 0\\\\ 0\\\\0 \\end{bmatrix} \\\\\n",
        "v_{1}^2 + v_{2}^2 +v_{3}^2 =1$$ \n",
        "\n",
        "Therefore, $v_{1}=0, v_{2}=-\\frac{1}{\\sqrt2}, v_{3}=\\frac{1}{\\sqrt2}$. \n",
        "\n",
        "When $\\lambda_{2}=-2$, \n",
        "\n",
        "$$\\begin{bmatrix} 1+2&-1&-1\\\\1&3+2&1\\\\-3&1&-1+2  \\end{bmatrix} \\cdot \\begin{bmatrix}v_{1}\\\\v_{2}\\\\v_{3} \\end{bmatrix} = \\begin{bmatrix} 3v_{1}-v_{2}-v_{3}\\\\v_{1}+5v_{2}+v_{3}\\\\-3v_{1}+v_{2}+v_{3} \\end{bmatrix} = \\begin{bmatrix} 0\\\\ 0\\\\0 \\end{bmatrix} \\\\\n",
        "v_{1}=-v_{2}\\\\\n",
        "v_{3}=-4v_{1}\\\\\n",
        "v_{1}^2 + v_{2}^2 +v_{3}^2 =1$$ \n",
        "\n",
        "Therefore, $v_{1}=\\frac{\\sqrt2}{6}, v_{2}=-\\frac{\\sqrt2}{6}, v_{3}=\\frac{2\\sqrt2}{3}$. \n",
        "\n",
        "When $\\lambda_{3}=3$, \n",
        "\n",
        "$$\\begin{bmatrix} 1-3&-1&-1\\\\1&3-3&1\\\\-3&1&-1-3  \\end{bmatrix} \\cdot \\begin{bmatrix}v_{1}\\\\v_{2}\\\\v_{3} \\end{bmatrix} = \\begin{bmatrix} -2v_{1}-v_{2}-v_{3}\\\\v_{1}+v_{3}\\\\-3v_{1}+v_{2}-4v_{3}\\end{bmatrix} = \\begin{bmatrix} 0\\\\ 0\\\\0 \\end{bmatrix} \\\\\n",
        "v_{1}=-v_{3}\\\\\n",
        "v_{2}=v_{1}\\\\\n",
        "v_{1}^2 + v_{2}^2 +v_{3}^2 =1$$ \n",
        "\n",
        "Therefore, $v_{1}=-\\frac{1}{\\sqrt3}, v_{2}=-\\frac{1}{\\sqrt3}, v_{3}=-\\frac{1}{\\sqrt3}$. \n",
        "\n",
        "The three eigenvectors for this matrix is $\\vec v_{1}= span(0, -\\frac{1}{\\sqrt2},\\frac{1}{\\sqrt2}), \\vec v_{2} = span(\\frac{\\sqrt2}{6}, -\\frac{\\sqrt2}{6}, \\frac{2\\sqrt2}{3}),  \\vec v_{3}=span(-\\frac{1}{\\sqrt3}, \\frac{1}{\\sqrt3}, \\frac{1}{\\sqrt3})$"
      ]
    },
    {
      "cell_type": "code",
      "metadata": {
        "id": "ULBaXdBYr1vW",
        "colab_type": "code",
        "outputId": "6ad0195c-f8f8-4b34-b1c8-59baf64cbdb6",
        "colab": {
          "base_uri": "https://localhost:8080/",
          "height": 138
        }
      },
      "source": [
        "w8, v8 = LA.eig(np.matrix([[1,-1,-1],\n",
        "                           [1,3,1],\n",
        "                           [-3,1,-1]]))\n",
        "print(\"\\n 8. \\n Eigenvalues \",w8, \"\\n Eigenvectors \\n\", v8)"
      ],
      "execution_count": 0,
      "outputs": [
        {
          "output_type": "stream",
          "text": [
            "\n",
            " 8. \n",
            " Eigenvalues  [-2.  2.  3.] \n",
            " Eigenvectors \n",
            " [[ 2.35702260e-01 -7.07106781e-01 -5.77350269e-01]\n",
            " [-2.35702260e-01  7.45148041e-16  5.77350269e-01]\n",
            " [ 9.42809042e-01  7.07106781e-01  5.77350269e-01]]\n"
          ],
          "name": "stdout"
        }
      ]
    },
    {
      "cell_type": "markdown",
      "metadata": {
        "id": "hznfWG9uB-hj",
        "colab_type": "text"
      },
      "source": [
        "## 9. $\\begin{bmatrix} 1&0&0&0\\\\2&-1&0&0\\\\5&3&2&0\\\\7&4&6&2 \\end{bmatrix}$"
      ]
    },
    {
      "cell_type": "code",
      "metadata": {
        "id": "JXH8xlRHsBDo",
        "colab_type": "code",
        "outputId": "3c834632-6775-4e02-b06f-c0f1697d7b60",
        "colab": {
          "base_uri": "https://localhost:8080/",
          "height": 155
        }
      },
      "source": [
        "w9, v9 = LA.eig(np.matrix([[1,0,0,0],\n",
        "                           [2,-1,0,0],\n",
        "                           [5,3,2,0],\n",
        "                           [7,4,6,2]]))\n",
        "print(\"\\n 9. \\n Eigenvalues \",w9, \"\\n Eigenvectors \\n\", v9)"
      ],
      "execution_count": 0,
      "outputs": [
        {
          "output_type": "stream",
          "text": [
            "\n",
            " 9. \n",
            " Eigenvalues  [ 2.  2. -1.  1.] \n",
            " Eigenvectors \n",
            " [[ 0.00000000e+00  0.00000000e+00  0.00000000e+00  2.63981839e-02]\n",
            " [ 0.00000000e+00  0.00000000e+00  6.39602149e-01  2.63981839e-02]\n",
            " [ 0.00000000e+00  7.40148683e-17 -6.39602149e-01 -2.11185471e-01]\n",
            " [ 1.00000000e+00 -1.00000000e+00  4.26401433e-01  9.76732803e-01]]\n"
          ],
          "name": "stdout"
        }
      ]
    },
    {
      "cell_type": "markdown",
      "metadata": {
        "id": "Ad7CcurwMYl3",
        "colab_type": "text"
      },
      "source": [
        "# 9 Properties of Eigenvalues and Eigenvectors\n",
        "\n",
        "---\n",
        "\n",
        "Let $A$ be the following matrix: $$\\begin{bmatrix} 1&1&-1\\\\2&3&-4\\\\4&1&-4 \\end{bmatrix}$$\n",
        "\n",
        "Use Maple to do the following:\n"
      ]
    },
    {
      "cell_type": "markdown",
      "metadata": {
        "id": "ogSTvFWNODdF",
        "colab_type": "text"
      },
      "source": [
        "## 1. Find the eigenvalues of $A$ and their associated eigenvectors\n",
        "\n",
        "$$ det \\begin{vmatrix} \\begin{bmatrix} 1&1&-1\\\\2&3&-4\\\\4&1&-4 \\end{bmatrix} - \\begin{bmatrix} \\lambda&0&0\\\\0&\\lambda&0\\\\0&0&\\lambda \\end{bmatrix} \\end{vmatrix} = det \\begin{vmatrix} 1-\\lambda&1&-1\\\\2&3-\\lambda&-4\\\\4&1&-4-\\lambda \\end{vmatrix} \\\\\n",
        "(1-\\lambda)(3-\\lambda)(-4-\\lambda)-16-2-2(-4-\\lambda)+4(1-\\lambda)+4(3-\\lambda)=0\n",
        "$$\n",
        "\n",
        "\n",
        "The three eigenalue of this matrix is $\\lambda_{1}=2$, $\\lambda_{2}=1, \\lambda_{3}=-3$. \n",
        "\n",
        "When $\\lambda_{1}=2$, \n",
        "\n",
        "$$\\begin{bmatrix}1-2&1&-1\\\\2&3-2&-4\\\\4&1&-4-2 \\end{bmatrix} \\cdot \\begin{bmatrix}v_{1}\\\\v_{2}\\\\v_{3} \\end{bmatrix} = \\begin{bmatrix} -v_{1}+v_{2}-v_{3}\\\\2v_{1}+v_{2}-4v_{3}\\\\4v_{1}+v_{2}-6v_{3}\\end{bmatrix} = \\begin{bmatrix} 0\\\\ 0\\\\0 \\end{bmatrix} \\\\\n",
        "v_{1}^2 + v_{2}^2 +v_{3}^2 =1$$ \n",
        "\n",
        "Therefore, $v_{1}=\\frac{1}{\\sqrt6}, v_{2}=\\frac{2}{\\sqrt6}, v_{3}=\\frac{1}{\\sqrt6}$. \n",
        "\n",
        "When $\\lambda_{2}=1$, \n",
        "\n",
        "$$\\begin{bmatrix} 1-1&1&-1\\\\2&3-1&-4\\\\4&1&-4-1  \\end{bmatrix} \\cdot \\begin{bmatrix}v_{1}\\\\v_{2}\\\\v_{3} \\end{bmatrix} = \\begin{bmatrix} v_{2}-v_{3}\\\\2v_{1}+2v_{2}-4v_{3}\\\\4v_{1}+v_{2}-5v_{3} \\end{bmatrix} = \\begin{bmatrix} 0\\\\ 0\\\\0 \\end{bmatrix} \\\\\n",
        "v_{1}^2 + v_{2}^2 +v_{3}^2 =1$$ \n",
        "\n",
        "Therefore, $v_{1}=v_{2}=v_{3}=\\frac{1}{\\sqrt3}$. \n",
        "\n",
        "When $\\lambda_{3}=-3$, \n",
        "\n",
        "$$\\begin{bmatrix} 1+3&1&-1\\\\2&3+3&-4\\\\4&1&-4+3  \\end{bmatrix} \\cdot \\begin{bmatrix}v_{1}\\\\v_{2}\\\\v_{3} \\end{bmatrix} = \\begin{bmatrix} 4v_{1} + v_{2}-v_{3}\\\\2v_{1}+6v_{2}-4v_{3}\\\\4v_{1}+v_{2}-v_{3}\\end{bmatrix} = \\begin{bmatrix} 0\\\\ 0\\\\0 \\end{bmatrix} \\\\\n",
        "v_{1}=-v_{3}\\\\\n",
        "v_{2}=v_{1}\\\\\n",
        "v_{1}^2 + v_{2}^2 +v_{3}^2 =1$$ \n",
        "\n",
        "Therefore, $v_{1}=\\frac{\\sqrt19}{57}, v_{2}=\\frac{7\\sqrt19}{57}, v_{3}=\\frac{11\\sqrt19}{57}$. \n",
        "\n",
        "The three eigenvectors for this matrix is $\\vec v_{1}= span(\\frac{1}{\\sqrt6},\\frac{2}{\\sqrt6},\\frac{1}{\\sqrt6}), \\vec v_{2} = span(\\frac{1}{\\sqrt3}, \\frac{1}{\\sqrt3}, \\frac{1}{\\sqrt3}),  \\vec v_{3}=span(\\frac{\\sqrt19}{57}, \\frac{7\\sqrt19}{57}, \\frac{11\\sqrt19}{57})$\n",
        "\n",
        "<br>\n",
        "\n",
        "## 2. Standardize the eigenvectors.\n",
        "\n",
        "The standardized eigenvectors are $\\vec v_{1}=\\begin {bmatrix} \\frac{1}{\\sqrt6}\\\\\\frac{2}{\\sqrt6}\\\\\\frac{1}{\\sqrt6}\\end{bmatrix}$, $\\vec v_{2} = \\begin {bmatrix} \\frac{1}{\\sqrt3}\\\\\\frac{1}{\\sqrt3}\\\\ \\frac{1}{\\sqrt3}\\end{bmatrix}$, $\\vec v_{3}=\\begin {bmatrix} \\frac{\\sqrt19}{57}\n",
        "\\\\ \\frac{7\\sqrt19}{57}\\\\\\frac{11\\sqrt19}{57}\\end{bmatrix}$\n",
        "\n",
        "\n",
        "\n"
      ]
    },
    {
      "cell_type": "code",
      "metadata": {
        "id": "wCPWND_Eb4nK",
        "colab_type": "code",
        "outputId": "ea794761-b9a4-46d1-ed10-6ab88b17c4d5",
        "colab": {
          "base_uri": "https://localhost:8080/",
          "height": 118
        }
      },
      "source": [
        "w, v = LA.eig(np.matrix([[1,1,-1],\n",
        "                         [2,3,-4],\n",
        "                         [4,1,-4]]))\n",
        "print(\"eigenvalue: \\n\", w, \"\\n eigenvector: \\n\", v.round(decimals=4))"
      ],
      "execution_count": 0,
      "outputs": [
        {
          "output_type": "stream",
          "text": [
            "eigenvalue: \n",
            " [-3.  1.  2.] \n",
            " eigenvector: \n",
            " [[ 0.0765  0.5774 -0.4082]\n",
            " [ 0.5353  0.5774 -0.8165]\n",
            " [ 0.8412  0.5774 -0.4082]]\n"
          ],
          "name": "stdout"
        }
      ]
    },
    {
      "cell_type": "markdown",
      "metadata": {
        "id": "DJvqLYrePVZi",
        "colab_type": "text"
      },
      "source": [
        "## 3. Show that the eigenvectors are orthogonal to each other.\n",
        " \n",
        "Eigenvectors are not orthogonal to each other for matrix $A$ because $A$ is not symmetric.\n",
        "\n"
      ]
    },
    {
      "cell_type": "code",
      "metadata": {
        "id": "yocHGwgcNA81",
        "colab_type": "code",
        "outputId": "affebe36-7422-417f-aca9-1b1209fabc1c",
        "colab": {
          "base_uri": "https://localhost:8080/",
          "height": 67
        }
      },
      "source": [
        "np.matrix([0.076,0.577,-0.408]).T * np.matrix([0.076,0.577,-0.408])"
      ],
      "execution_count": 0,
      "outputs": [
        {
          "output_type": "execute_result",
          "data": {
            "text/plain": [
              "matrix([[ 0.005776,  0.043852, -0.031008],\n",
              "        [ 0.043852,  0.332929, -0.235416],\n",
              "        [-0.031008, -0.235416,  0.166464]])"
            ]
          },
          "metadata": {
            "tags": []
          },
          "execution_count": 14
        }
      ]
    },
    {
      "cell_type": "markdown",
      "metadata": {
        "id": "kI2A4v_cN8Ki",
        "colab_type": "text"
      },
      "source": [
        "## 4. Find the trace of $A$. Verify that it is equal to the sum of the eigenvalues.\n",
        "\n",
        "$$tr(A) = \\sum_{n=1}^{n}A_{n*n} = a_{11} + a_{22} + \\cdots + a_{nn} = 1+3+(-4) = 0$$\n",
        "\n",
        "$$\\sum (eig) = 2+1+(-3)=0$$\n",
        "\n",
        "<br>\n",
        "\n",
        "## 5. Find the determinant of $A$. Verify that it is equal to the product of the eigenvalues.\n",
        "\n",
        "$$det|A| = det \\begin{vmatrix} 1&1&-1\\\\2&3&-4\\\\4&1&-4 \\end{vmatrix} = -12-16-2+8+4+12=-6$$\n",
        "\n",
        "$$\\prod(eig) = 2*1*(-3)=-6 $$\n",
        "\n",
        "<br>\n",
        "\n",
        "## 6. Find the rank of $A$. Verify that it is equal to the number of non-zero eigenvalues.\n",
        "\n",
        "$$\\begin{bmatrix} 1&1&-1\\\\2&3&-4\\\\4&1&-4 \\end{bmatrix} \n",
        "\\xrightarrow[R_{3}+(-4)R_{1} \\rightarrow R_{3}]{R_{2}+(-2)R_{1} \\rightarrow R_{2}} \n",
        "\\begin{bmatrix} 1&1&-1\\\\0&1&-2\\\\0&-3&0 \\end{bmatrix} \n",
        "\\xrightarrow[]{R_{3}+3R_{2} \\rightarrow R_{3}} \n",
        "\\begin{bmatrix} 1&1&-1\\\\0&1&-2\\\\0&0&-6 \\end{bmatrix}\n",
        "\\xrightarrow[]{-\\frac{1}{6}R_{3}} \n",
        "\\begin{bmatrix} 1&1&-1\\\\0&1&-2\\\\0&0&1 \\end{bmatrix}\n",
        "$$\n",
        "\n",
        "Therefore, $rank(A) = 3$, and matrix $A$ hs 3 non-zero eigenvalues. \n",
        "\n",
        "\n",
        "\n",
        "\n",
        "\n"
      ]
    },
    {
      "cell_type": "markdown",
      "metadata": {
        "id": "wD9Q3vGn4siJ",
        "colab_type": "text"
      },
      "source": [
        "## 7. Find the eigenvalues of $A^2$ and their associated eigenvectors. How do they compare with the eigenvalues and eigenvectors of $A$?\n",
        "\n",
        "$$A^2 = A\\prime \\times A = \\begin{bmatrix} 1&2&4\\\\1&3&1\\\\-1&-4&-4 \\end{bmatrix} \\times \\begin{bmatrix} 1&1&-1\\\\2&3&-4\\\\4&1&-4 \\end{bmatrix} =\\begin{bmatrix} -1&3&-1\\\\-8&7&2\\\\-10&3&8 \\end{bmatrix}  $$\n",
        "\n",
        "The eigenvalues of matrix $A^2$ is $\\lambda_{1} = 9, \\lambda_{2} = 1,\\lambda_{3} = 3 $. They are also the square of the eigenvalues of the original matrix $A$.\n",
        "\n",
        "The eigenvectors of matrix $A^2$ and $A$ are identical, both are $\\vec v_{1}=\\begin {bmatrix} \\frac{1}{\\sqrt6}\\\\\\frac{2}{\\sqrt6}\\\\\\frac{1}{\\sqrt6}\\end{bmatrix}$, $\\vec v_{2} = \\begin {bmatrix} \\frac{1}{\\sqrt3}\\\\\\frac{1}{\\sqrt3}\\\\ \\frac{1}{\\sqrt3}\\end{bmatrix}$, $\\vec v_{3}=\\begin {bmatrix} \\frac{\\sqrt19}{57}\n",
        "\\\\ \\frac{7\\sqrt19}{57}\\\\\\frac{11\\sqrt19}{57}\\end{bmatrix}$\n",
        "\n",
        "<br>\n",
        "\n",
        "## 8. Find the eigenvalues of $A^{-1}$ and their associated eigenvectors. How do they compare with the eigenvalues and eigenvectors of $A$?\n",
        "\n",
        "$$adj(A) = \\begin{bmatrix} -8&-8&-10\\\\-(-3)&0&-(-3)\\\\-1&-(-2)&1 \\end{bmatrix} \\prime = \\begin{bmatrix} -8&3&-1\\\\-8&0&2\\\\-10&3&1 \\end{bmatrix} $$\n",
        "\n",
        "$$det(A)=-6$$\n",
        "\n",
        "$$A^{-1} = \\frac{1}{det(A)} adj(A) = \\begin{bmatrix} \\frac{4}{3}&-\\frac{1}{2}&\\frac{1}{6}\\\\\\frac{4}{3}&0&-\\frac{1}{3}\\\\\\frac{5}{3}&-\\frac{1}{2}&-\\frac{1}{6} \\end{bmatrix}$$\n",
        "\n",
        "The eigenvalues of $A^{-1}$ are $\\lambda_{1} = -\\frac{1}{3}, \\lambda_{2} = 1, \\lambda_{3} = \\frac{1}{2}$. They are the inverse of the eigenvalues of original matrix $A$.\n",
        "\n",
        "The eigenvectors of matrix $A^{-1}$ and $A$ are also identical $\\vec v_{1}=\\begin {bmatrix} \\frac{1}{\\sqrt6}\\\\\\frac{2}{\\sqrt6}\\\\\\frac{1}{\\sqrt6}\\end{bmatrix}$, $\\vec v_{2} = \\begin {bmatrix} \\frac{1}{\\sqrt3}\\\\\\frac{1}{\\sqrt3}\\\\ \\frac{1}{\\sqrt3}\\end{bmatrix}$, $\\vec v_{3}=\\begin {bmatrix} \\frac{\\sqrt19}{57}\n",
        "\\\\ \\frac{7\\sqrt19}{57}\\\\\\frac{11\\sqrt19}{57}\\end{bmatrix}$\n"
      ]
    },
    {
      "cell_type": "code",
      "metadata": {
        "id": "zjD3aWT455Au",
        "colab_type": "code",
        "outputId": "23d6533a-f761-4374-8279-a3fd79347233",
        "colab": {
          "base_uri": "https://localhost:8080/",
          "height": 420
        }
      },
      "source": [
        "print(\"A^2: \\n\", LA.matrix_power(np.matrix([[1,1,-1],[2,3,-4],[4,1,-4]]), n=2))\n",
        "print(\"\\n A.inv: \\n\", LA.inv(np.matrix([[1,1,-1],[2,3,-4],[4,1,-4]])))\n",
        "print(\"\\n eig(A^2): \\n\", LA.eig(LA.matrix_power(np.matrix([[1,1,-1],[2,3,-4],[4,1,-4]]), n=2)))\n",
        "print(\"\\n eig(A.inv): \\n\", LA.eig(LA.inv(np.matrix([[1,1,-1],[2,3,-4],[4,1,-4]]))))\n",
        "print(\"\\n eig(A): \\n\", LA.eig(np.matrix([[1,1,-1],[2,3,-4],[4,1,-4]])))"
      ],
      "execution_count": 0,
      "outputs": [
        {
          "output_type": "stream",
          "text": [
            "A^2: \n",
            " [[ -1   3  -1]\n",
            " [ -8   7   2]\n",
            " [-10   3   8]]\n",
            "\n",
            " A.inv: \n",
            " [[ 1.33333333 -0.5         0.16666667]\n",
            " [ 1.33333333  0.         -0.33333333]\n",
            " [ 1.66666667 -0.5        -0.16666667]]\n",
            "\n",
            " eig(A^2): \n",
            " (array([9., 1., 4.]), matrix([[ 0.07647191,  0.57735027, -0.40824829],\n",
            "        [ 0.53530338,  0.57735027, -0.81649658],\n",
            "        [ 0.84119102,  0.57735027, -0.40824829]]))\n",
            "\n",
            " eig(A.inv): \n",
            " (array([-0.33333333,  1.        ,  0.5       ]), matrix([[-0.07647191, -0.57735027, -0.40824829],\n",
            "        [-0.53530338, -0.57735027, -0.81649658],\n",
            "        [-0.84119102, -0.57735027, -0.40824829]]))\n",
            "\n",
            " eig(A): \n",
            " (array([-3.,  1.,  2.]), matrix([[ 0.07647191,  0.57735027, -0.40824829],\n",
            "        [ 0.53530338,  0.57735027, -0.81649658],\n",
            "        [ 0.84119102,  0.57735027, -0.40824829]]))\n"
          ],
          "name": "stdout"
        }
      ]
    },
    {
      "cell_type": "markdown",
      "metadata": {
        "id": "YgLWDk8OMdC0",
        "colab_type": "text"
      },
      "source": [
        "# 10 More Properties of Eigenvalues and Eigenvectors\n",
        "\n",
        "---\n",
        "\n",
        "\n",
        "Let $A$ be the following matrix $A= \\begin{bmatrix} 2&4&2\\\\4&0&4\\\\2&4&2 \\end{bmatrix}$. \n",
        "\n",
        "Use Maple to do the following:"
      ]
    },
    {
      "cell_type": "markdown",
      "metadata": {
        "id": "v5mg51SeDNwt",
        "colab_type": "text"
      },
      "source": [
        "## 1. Find the eigenvalues of $A$ and their associated eigenvectors.\n",
        "\n",
        "## 2. Standardize the eigenvectors.\n",
        "\n",
        "$$ det \\begin{vmatrix} \\begin{bmatrix} 2&4&2\\\\4&0&4\\\\2&4&2  \\end{bmatrix} - \\begin{bmatrix} \\lambda&0&0\\\\0&\\lambda&0\\\\0&0&\\lambda \\end{bmatrix} \\end{vmatrix} = det \\begin{vmatrix} 2-\\lambda&4&2\\\\4&0-\\lambda&4\\\\2&4&2-\\lambda  \\end{vmatrix} \\\\\n",
        "(2-\\lambda)(-\\lambda)(2-\\lambda)-32-32-16(2-\\lambda)-16(2-\\lambda)-4(-\\lambda)=0\n",
        "$$\n",
        "\n",
        "\n",
        "The three eigenalue of this matrix is $\\lambda_{1}=8$, $\\lambda_{2}=0, \\lambda_{3}=-4$. \n",
        "\n",
        "When $\\lambda_{1}=8$, \n",
        "\n",
        "$$\\begin{bmatrix}2-8&4&2\\\\4&0-8&4\\\\2&4&2-8 \\end{bmatrix} \\cdot \\begin{bmatrix}v_{1}\\\\v_{2}\\\\v_{3} \\end{bmatrix} = \\begin{bmatrix} -6v_{1}+4v_{2}+2v_{3}\\\\4v_{1}-8v_{2}+4v_{3}\\\\2v_{1}+4v_{2}-6v_{3}\\end{bmatrix} = \\begin{bmatrix} 0\\\\ 0\\\\0 \\end{bmatrix} \\\\\n",
        "v_{1}^2 + v_{2}^2 +v_{3}^2 =1$$ \n",
        "\n",
        "Therefore, $v_{1}=v_{2}=v_{3}=\\frac{1}{\\sqrt3}$. \n",
        "\n",
        "When $\\lambda_{2}=0$, \n",
        "\n",
        "$$\\begin{bmatrix} 2-0&4&2\\\\4&0-0&4\\\\2&4&2-0   \\end{bmatrix} \\cdot \\begin{bmatrix}v_{1}\\\\v_{2}\\\\v_{3} \\end{bmatrix} = \\begin{bmatrix} 2v_{1}+ 4v_{2}+2v_{3}\\\\4v_{1}+4v_{3}\\\\2v_{1}4v_{2}+2v_{3} \\end{bmatrix} = \\begin{bmatrix} 0\\\\ 0\\\\0 \\end{bmatrix} \\\\\n",
        "v_{1}^2 + v_{2}^2 +v_{3}^2 =1$$ \n",
        "\n",
        "Therefore, $v_{1}=\\frac{1}{\\sqrt2}, v_{2}=0, v_{3}=-\\frac{1}{\\sqrt2}$. \n",
        "\n",
        "When $\\lambda_{3}=-4$, \n",
        "\n",
        "$$\\begin{bmatrix} 2+4&4&2\\\\4&0+4&4\\\\2&4&2+4 \\end{bmatrix} \\cdot \\begin{bmatrix}v_{1}\\\\v_{2}\\\\v_{3} \\end{bmatrix} = \\begin{bmatrix} 6v_{1} +4v_{2}+2v_{3}\\\\4v_{1}+4v_{2}+4v_{3}\\\\2v_{1}+6v_{2}-4v_{3}\\end{bmatrix} = \\begin{bmatrix} 0\\\\ 0\\\\0 \\end{bmatrix} \\\\\n",
        "v_{1}^2 + v_{2}^2 +v_{3}^2 =1$$ \n",
        "\n",
        "Therefore, $v_{1}=\\frac{1}{\\sqrt6}, v_{2}=-\\frac{2}{\\sqrt6}, v_{3}=\\frac{1}{\\sqrt6}$. \n",
        "\n",
        "The three standardized eigenvectors are $\\vec v_{1}=\\begin {bmatrix} \\frac{1}{\\sqrt3}\\\\\\frac{1}{\\sqrt3}\\\\\\frac{1}{\\sqrt3}\\end{bmatrix}$, $\\vec v_{2} = \\begin {bmatrix}\\frac{1}{\\sqrt2}\\\\0\\\\-\\frac{1}{\\sqrt2} \\end{bmatrix}$, $\\vec v_{3}=\\begin {bmatrix} \\frac{1}{\\sqrt6}\\\\-\\frac{2}{\\sqrt6}\\\\\\frac{1}{\\sqrt6}\\end{bmatrix}$\n"
      ]
    },
    {
      "cell_type": "code",
      "metadata": {
        "id": "owuqNWsTDP7H",
        "colab_type": "code",
        "outputId": "3fce18b5-fade-4308-bde3-cc4980c78835",
        "colab": {
          "base_uri": "https://localhost:8080/",
          "height": 84
        }
      },
      "source": [
        "LA.eig(np.matrix([[2,4,2],\n",
        "                  [4,0,4],\n",
        "                  [2,4,2]]))"
      ],
      "execution_count": 0,
      "outputs": [
        {
          "output_type": "execute_result",
          "data": {
            "text/plain": [
              "(array([ 8.00000000e+00, -3.51535614e-17, -4.00000000e+00]),\n",
              " matrix([[-5.77350269e-01, -7.07106781e-01,  4.08248290e-01],\n",
              "         [-5.77350269e-01, -6.78782813e-17, -8.16496581e-01],\n",
              "         [-5.77350269e-01,  7.07106781e-01,  4.08248290e-01]]))"
            ]
          },
          "metadata": {
            "tags": []
          },
          "execution_count": 31
        }
      ]
    },
    {
      "cell_type": "markdown",
      "metadata": {
        "id": "0Xc_wmWHDohO",
        "colab_type": "text"
      },
      "source": [
        "## 3. Show that the eigenvectors are orthogonal to each other.\n",
        "\n",
        "$$\\vec v_{1} \\times \\vec v_{2} = \\begin {bmatrix} \\frac{1}{\\sqrt3}\\\\\\frac{1}{\\sqrt3}\\\\\\frac{1}{\\sqrt3}\\end{bmatrix} \\times \\begin {bmatrix}\\frac{1}{\\sqrt2}\\\\0\\\\-\\frac{1}{\\sqrt2} \\end{bmatrix} = \\frac{1}{\\sqrt3}*\\frac{1}{\\sqrt2} +0 -\\frac{1}{\\sqrt3}*\\frac{1}{\\sqrt2} =  0$$\n",
        "\n",
        "$$\\vec v_{1} \\times \\vec v_{3} = \\begin {bmatrix} \\frac{1}{\\sqrt3}\\\\\\frac{1}{\\sqrt3}\\\\\\frac{1}{\\sqrt3}\\end{bmatrix} \\times \\begin {bmatrix} \\frac{1}{\\sqrt6}\\\\-\\frac{2}{\\sqrt6}\\\\\\frac{1}{\\sqrt6} \\end{bmatrix} = \\frac{1}{\\sqrt3} * \\frac{1}{\\sqrt6} - \\frac{1}{\\sqrt3} * \\frac{2}{\\sqrt6} + \\frac{1}{\\sqrt3} * \\frac{1}{\\sqrt6} = 0$$\n",
        "\n",
        "$$\\vec v_{2} \\times \\vec v_{3} = \\begin {bmatrix} \\frac{1}{\\sqrt2}\\\\0\\\\-\\frac{1}{\\sqrt2}\\end{bmatrix} \\times \\begin {bmatrix} \\frac{1}{\\sqrt6}\\\\-\\frac{2}{\\sqrt6}\\\\\\frac{1}{\\sqrt6} \\end{bmatrix} = \\frac{1}{\\sqrt2} * \\frac{1}{\\sqrt6} -0 + \\frac{1}{\\sqrt2} * \\frac{1}{\\sqrt6} = 0$$\n",
        "\n",
        "The eigenvectors are orthogonal to each other is thus proven.\n",
        "\n",
        "<br>\n",
        "\n",
        "## 4. Show that for each eigenvector $x_{i}, x_{i}\\prime x_{i} = 1$.\n",
        "\n",
        "$$\\vec v_{1} \\prime \\times \\vec v_{1} = \\begin {bmatrix} \\frac{1}{\\sqrt3}&\\frac{1}{\\sqrt3}&\\frac{1}{\\sqrt3}\\end{bmatrix} \\times \\begin {bmatrix} \\frac{1}{\\sqrt3}\\\\\\frac{1}{\\sqrt3}\\\\\\frac{1}{\\sqrt3}\\end{bmatrix} = \\frac{1}{\\sqrt3} * \\frac{1}{\\sqrt3} *3 = 1$$\n",
        "\n",
        "$$\\vec v_{2} \\prime \\times \\vec v_{2} = \\begin {bmatrix} \\frac{1}{\\sqrt2}&0&-\\frac{1}{\\sqrt2} \\end{bmatrix} \\times \\begin {bmatrix} \\frac{1}{\\sqrt2}\\\\0\\\\-\\frac{1}{\\sqrt2} \\end{bmatrix} = \\frac{1}{\\sqrt2} * \\frac{1}{\\sqrt2} *2 = 1$$\n",
        "\n",
        "$$\\vec v_{3} \\prime \\times \\vec v_{3} = \\begin {bmatrix}  \\frac{1}{\\sqrt6}&-\\frac{2}{\\sqrt6}&\\frac{1}{\\sqrt6} \\end{bmatrix} \\times \\begin {bmatrix}  \\frac{1}{\\sqrt6}\\\\-\\frac{2}{\\sqrt6}\\\\\\frac{1}{\\sqrt6} \\end{bmatrix} = \\frac{1}{\\sqrt6} * \\frac{1}{\\sqrt6} *2 + \\frac{2}{\\sqrt6} * \\frac{2}{\\sqrt6} = 1$$\n",
        "\n",
        "\n",
        "## 5. Let $X = \\begin{bmatrix} x_{1} & x_{2} & x_{3}\\end{bmatrix}$, where the $x_{i}$ are the eigenvectors. Verify that $X^{-1} = X\\prime$.\n",
        "\n",
        "$$X = \\begin {bmatrix} \\frac{1}{\\sqrt3}& \\frac{1}{\\sqrt2}&\\frac{1}{\\sqrt6} \\\\ \\frac{1}{\\sqrt3}&0&-\\frac{2}{\\sqrt6} \\\\ \\frac{1}{\\sqrt3}&-\\frac{1}{\\sqrt2}&\\frac{1}{\\sqrt6} \\end{bmatrix} $$\n",
        "\n",
        "$$X\\prime = \\begin {bmatrix} \\frac{1}{\\sqrt3}&\\frac{1}{\\sqrt3}&\\frac{1}{\\sqrt3} \\\\  \\frac{1}{\\sqrt2}&0&-\\frac{1}{\\sqrt2}  \\\\  \\frac{1}{\\sqrt6}&-\\frac{2}{\\sqrt6}&\\frac{1}{\\sqrt6}\\end{bmatrix}$$\n",
        "\n",
        "$$det|X| = 0$$, therefore $X$ is not invertible.\n",
        "\n",
        "<br>\n",
        "\n",
        "## 6. Find $Λ=X\\prime AX$, and verify that it is a diagonal matrix.\n",
        "\n",
        "$$\\begin{aligned}\n",
        "Λ &=  \\begin {bmatrix} \\frac{1}{\\sqrt3}&\\frac{1}{\\sqrt3}&\\frac{1}{\\sqrt3} \\\\  \\frac{1}{\\sqrt2}&0&-\\frac{1}{\\sqrt2}  \\\\  \\frac{1}{\\sqrt6}&-\\frac{2}{\\sqrt6}&\\frac{1}{\\sqrt6}\\end{bmatrix} \\times \\begin{bmatrix} 2&4&2\\\\4&0&4\\\\2&4&2 \\end{bmatrix} \\times \\begin {bmatrix} \\frac{1}{\\sqrt3}& \\frac{1}{\\sqrt2}&\\frac{1}{\\sqrt6} \\\\ \\frac{1}{\\sqrt3}&0&-\\frac{2}{\\sqrt6} \\\\ \\frac{1}{\\sqrt3}&-\\frac{1}{\\sqrt2}&\\frac{1}{\\sqrt6} \\end{bmatrix} \\\\\n",
        "&=\\begin {bmatrix} \\frac{8}{\\sqrt3}&\\frac{8}{\\sqrt3}&\\frac{8}{\\sqrt3}\\\\ 0&0&0 \\\\ \\frac{-4}{\\sqrt6}&\\frac{8}{\\sqrt6}&\\frac{-4}{\\sqrt6} \\\\ \\end{bmatrix} \\times \\begin {bmatrix} \\frac{1}{\\sqrt3}& \\frac{1}{\\sqrt2}&\\frac{1}{\\sqrt6} \\\\ \\frac{1}{\\sqrt3}&0&-\\frac{2}{\\sqrt6} \\\\ \\frac{1}{\\sqrt3}&-\\frac{1}{\\sqrt2}&\\frac{1}{\\sqrt6} \\end{bmatrix}  \\\\\n",
        "&= \\begin {bmatrix} 8&0&0\\\\0&0&0\\\\0&0&4\\\\ \\end {bmatrix}\n",
        "\\end{aligned}$$\n",
        "\n",
        "Therefore $Λ$ is a diagnal matrix.\n",
        "\n",
        "\n"
      ]
    },
    {
      "cell_type": "code",
      "metadata": {
        "id": "i7b0KfaFSZ0C",
        "colab_type": "code",
        "outputId": "3eccb629-9163-4093-c8cb-5252c2bfa31f",
        "colab": {
          "base_uri": "https://localhost:8080/",
          "height": 67
        }
      },
      "source": [
        "X = np.matrix([[-5.77350269e-01, -7.07106781e-01,  4.08248290e-01],\n",
        "               [-5.77350269e-01, -6.78782813e-17, -8.16496581e-01],\n",
        "               [-5.77350269e-01,  7.07106781e-01,  4.08248290e-01]])\n",
        "np.round(X.T * np.matrix([[2,4,2],\n",
        "                  [4,0,4],\n",
        "                  [2,4,2]]) * X, decimals=3)"
      ],
      "execution_count": 0,
      "outputs": [
        {
          "output_type": "execute_result",
          "data": {
            "text/plain": [
              "array([[ 8.,  0.,  0.],\n",
              "       [ 0.,  0., -0.],\n",
              "       [ 0., -0., -4.]])"
            ]
          },
          "metadata": {
            "tags": []
          },
          "execution_count": 37
        }
      ]
    },
    {
      "cell_type": "markdown",
      "metadata": {
        "id": "NTapzGlWOhGM",
        "colab_type": "text"
      },
      "source": [
        "## 7. Find the trace of $A$. Verify that it is equal to the sum of the eigenvalues.\n",
        "$$A = \\begin{bmatrix} 2&4&2\\\\4&0&4\\\\2&4&2 \\end{bmatrix}$$\n",
        "$$tr(A) = 2+0+2 =4$$\n",
        "$$\\sum_{\\lambda_{i}}^{3}=8+0+(-4)=4$$\n",
        "\n",
        "<br>\n",
        "\n",
        "## 8. Find the determinant of $A$. Verify that it is equal to the product of the eigenvalues.\n",
        "\n",
        "$$det(A) = 2*0*2+4*4*2+2*4*4-2*4*4-2*4*4-2*0*2 = 0 $$\n",
        "$$\\prod_{\\lambda_{i}}^{3}=8*0*(-4)=0$$\n",
        "\n",
        "<br>\n",
        "\n",
        "## 9. Find the rank of $A$. Verify that it is equal to the number of non-zero eigenvalues.\n",
        "\n",
        "$A$ has 2 non-zero eigenvectors $\\lambda_{1}=8, \\lambda_{3}=-4$\n",
        "\n",
        "$$\\begin{bmatrix} 2&4&2\\\\4&0&4\\\\2&4&2 \\end{bmatrix}\n",
        "\\xrightarrow[\\frac{1}{2}R_{1}]{R_{2}-2R_{1}, R_{3}-R_{1}}\n",
        "\\begin{bmatrix} 1&2&1\\\\0&-8&0\\\\0&0&0 \\end{bmatrix}\n",
        "\\xrightarrow[]{-\\frac{1}{8}R_{2}}\n",
        "\\begin{bmatrix} 1&2&1\\\\0&1&0\\\\0&0&0 \\end{bmatrix}\n",
        "$$\n",
        "\n",
        "Therefore, $rank(A)=2$. \n",
        "\n",
        "<br>\n",
        "\n",
        "## 10. Find the eigenvalues of $A^2$ and their associated eigenvectors. How do they compare with the eigenvalues and eigenvectors of $A$?\n",
        "\n",
        "$$A^2=\\begin{bmatrix} 24&16&24\\\\16&32&16\\\\24&16&24 \\end{bmatrix}$$\n",
        "\n",
        "The eigenvalues of $A^2$ is $\\lambda_{1}=64$, $\\lambda_{2}=0$, and $\\lambda_{3}=16$. They are the square of the eigenvalues of $A$. \n",
        "\n",
        "The eigenvectors of $A^2$ are identical to those of $A$.\n",
        "\n",
        "<br>\n",
        "\n",
        "## 11. Find the eigenvalues of $A^{-1}$ and their associated eigenvectors. How do they compare with the eigenvalues and eigenvectors of A?\n",
        "\n",
        "Since $det(A)=0$, the matrix is not inversable\n",
        "<br>\n",
        "\n",
        "## 12. Is $A$ idempotent?\n",
        "\n",
        "The matrix $A$ is idempotent if and only if $A^{2}=A$. Therefore, matrix $A$ is NOT idempotent."
      ]
    },
    {
      "cell_type": "code",
      "metadata": {
        "id": "pNbtkxufVq5t",
        "colab_type": "code",
        "outputId": "14581828-886a-4298-f8cf-438cd10d0596",
        "colab": {
          "base_uri": "https://localhost:8080/",
          "height": 205
        }
      },
      "source": [
        "print(\"A^2: \\n\", LA.matrix_power(np.matrix([[2,4,2],[4,0,4],[2,4,2]]), n=2))\n",
        "print(\"\\n\")\n",
        "print(\"eig(A^2): \\n\", LA.eig(LA.matrix_power(np.matrix([[2,4,2],[4,0,4],[2,4,2]]), n=2)))"
      ],
      "execution_count": 0,
      "outputs": [
        {
          "output_type": "stream",
          "text": [
            "A^2: \n",
            " [[24 16 24]\n",
            " [16 32 16]\n",
            " [24 16 24]]\n",
            "\n",
            "\n",
            "eig(A^2): \n",
            " (array([ 6.40000000e+01, -6.54261801e-16,  1.60000000e+01]), matrix([[-5.77350269e-01, -7.07106781e-01,  4.08248290e-01],\n",
            "        [-5.77350269e-01,  9.95271580e-17, -8.16496581e-01],\n",
            "        [-5.77350269e-01,  7.07106781e-01,  4.08248290e-01]]))\n"
          ],
          "name": "stdout"
        }
      ]
    },
    {
      "cell_type": "markdown",
      "metadata": {
        "id": "-aIvK6-CMhLU",
        "colab_type": "text"
      },
      "source": [
        "# 11 Introduction Quadractic Forms\n",
        "\n",
        "---\n",
        "\n"
      ]
    },
    {
      "cell_type": "markdown",
      "metadata": {
        "id": "8qsz54zfX7hW",
        "colab_type": "text"
      },
      "source": [
        "## 1. Define the types of quadratic forms. \n",
        "\n",
        "A quadratic form $Q(x) = X^T \\cdot A \\cdot X$ (equivalently a symmetric matrix $A$) is\n",
        "\n",
        "- a. Positive definite if $Q(x) > 0, \\forall x \\neq 0 ∈ R$;\n",
        "- b. Negative definite if $Q(x) \\geq 0, \\forall x \\neq 0 ∈ R$;\n",
        "- c. Positive semi-definite if $Q(x) < 0, \\forall x \\neq 0 ∈ R$\n",
        "- d. Negative semi-definite if $Q(x) \\leq 0, \\forall x \\neq 0 ∈ R$\n",
        "- e. Indefinite if $Q(x) > 0$ for some $x$ and  $Q(x) < 0$ for some other $x$.\n",
        "\n",
        "## 2. There are several ways to find if a matrix is positive definite. What are they?\n",
        "\n",
        "A matrix is to be positive defitinte if\n",
        "- 1) all its eigenvalues are positive \n",
        "- 2) all determinants of its principal sub-matrices are positive"
      ]
    },
    {
      "cell_type": "markdown",
      "metadata": {
        "id": "mf661OWrYjPG",
        "colab_type": "text"
      },
      "source": [
        "## 3. Indicate the type of definiteness of the following matrices.\n",
        "\n",
        "### a. $\\begin{bmatrix}9&-3\\\\-3&1 \\end{bmatrix}$\n",
        "\n",
        "$$det \\begin{vmatrix} 9-\\lambda&-3\\\\-3&1-\\lambda \\end{vmatrix} = (9-\\lambda)(1-\\lambda)-9=0\\\\\n",
        "\\lambda_{1}=10, \\lambda_{2}=0$$\n",
        "\n",
        "Therefore, the matrix is positive semi-definite.\n",
        "\n",
        "### b. $\\begin{bmatrix}-4&2&-1\\\\2&-4&2\\\\-1&2&-4 \\end{bmatrix}$\n",
        "\n",
        "$$det \\begin{vmatrix} -4-\\lambda&2&-1\\\\2&-4-\\lambda&2\\\\-1&2&-4-\\lambda \\end{vmatrix} = -(4+\\lambda)^3+4-4+4(4+\\lambda)+4(4+\\lambda)+(4+\\lambda)=0\\\\\n",
        "-(4+\\lambda)^3+9(4+\\lambda)=0\\\\\n",
        "\\lambda_{1}=-1.628, \\lambda_{2}=-3, \\lambda_{3}=-7.372$$\n",
        "\n",
        "Therefore, the matrix is negative definite.\n",
        "\n",
        "### c. $\\begin{bmatrix}2&-1.5\\\\-1.5&3 \\end{bmatrix}$\n",
        "\n",
        "\n",
        "$$det \\begin{vmatrix} 2-\\lambda&-1.5\\\\-1.5&3-\\lambda \\end{vmatrix} = (2-\\lambda)(3-\\lambda)-2.25=0\\\\\n",
        "\\lambda_{1}=4.18, \\lambda_{2}=0.99$$\n",
        "\n",
        "Therefore, the matrix is positive definite.\n",
        "\n",
        "### d. $\\begin{bmatrix}4&2&-2\\\\2&4&2\\\\-2&2&4 \\end{bmatrix}$\n",
        "\n",
        "$$det \\begin{vmatrix} 4-\\lambda&2&2\\\\2&4-\\lambda&2\\\\-2&2&4-\\lambda \\end{vmatrix} = (4-\\lambda)^3-8+8-4(4-\\lambda)-4(4-\\lambda)+4(4-\\lambda)=0\\\\\n",
        "(4-\\lambda)^3-4(4-\\lambda)=0\\\\\n",
        "\\lambda_{1}=6, \\lambda_{2}=0$$\n",
        "\n",
        "Therefore, the matrix is positive semi-definite.\n"
      ]
    },
    {
      "cell_type": "code",
      "metadata": {
        "id": "Six8CCcbfmCd",
        "colab_type": "code",
        "outputId": "5608e7ea-617c-468c-c8f2-db3735c87df8",
        "colab": {
          "base_uri": "https://localhost:8080/",
          "height": 151
        }
      },
      "source": [
        "print(\"lambda(a): \\n\", LA.eigvals(np.matrix([[9,-3],[-3,1]])))\n",
        "print(\"lambda(b): \\n\", LA.eigvals(np.matrix([[-4,2,-1],[2,-4,2],[-1,2,-4]])))\n",
        "print(\"lambda(c): \\n\", LA.eigvals(np.matrix([[2, -1.5],[-1.5,3]])))\n",
        "print(\"lambda(d): \\n\", LA.eigvals(np.matrix([[4,2,-2],[2,4,2],[-2,2,4]])))"
      ],
      "execution_count": 0,
      "outputs": [
        {
          "output_type": "stream",
          "text": [
            "lambda(a): \n",
            " [10.  0.]\n",
            "lambda(b): \n",
            " [-7.37228132 -3.         -1.62771868]\n",
            "lambda(c): \n",
            " [0.91886117 4.08113883]\n",
            "lambda(d): \n",
            " [ 6.0000000e+00 -4.4408921e-16  6.0000000e+00]\n"
          ],
          "name": "stdout"
        }
      ]
    }
  ]
}