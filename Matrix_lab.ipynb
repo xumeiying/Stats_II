{
  "nbformat": 4,
  "nbformat_minor": 0,
  "metadata": {
    "colab": {
      "name": "Matrix_lab.ipynb",
      "provenance": [],
      "collapsed_sections": [],
      "authorship_tag": "ABX9TyPq8Jmi9RsF6pxOLn+1TGSU"
    },
    "kernelspec": {
      "name": "python3",
      "display_name": "Python 3"
    },
    "accelerator": "GPU"
  },
  "cells": [
    {
      "cell_type": "code",
      "metadata": {
        "id": "8ws3CyuVeHTo",
        "colab_type": "code",
        "colab": {}
      },
      "source": [
        "import numpy as np\n",
        "from numpy import linalg as LA"
      ],
      "execution_count": 0,
      "outputs": []
    },
    {
      "cell_type": "markdown",
      "metadata": {
        "id": "rxwc5F0LK6iY",
        "colab_type": "text"
      },
      "source": [
        "# Matrix Addition and Scalar Multiplication\n",
        "\n",
        "\n",
        "---\n"
      ]
    },
    {
      "cell_type": "markdown",
      "metadata": {
        "id": "qYD0hoU39yKO",
        "colab_type": "text"
      },
      "source": [
        "\n",
        "\n",
        "For problems 1-3, find the indicated sums, if possible. \n",
        "\n",
        "1. $\n",
        "\\begin{bmatrix}1 & 3 \\\\5& 0\\end{bmatrix}\n",
        "+ \n",
        "\\begin{bmatrix}-2 & 0 \\\\1 & 1\\end{bmatrix}\n",
        "=\n",
        "\\begin{bmatrix}1-2 & 3 +0\\\\5+1 & 0+1\\end{bmatrix}\n",
        "=\n",
        "\\begin{bmatrix}-1 & 3\\\\6 & 1\\end{bmatrix}\n",
        "$\n",
        "\n",
        "<br>\n",
        "\n",
        "2. \n",
        "$\\begin{bmatrix}2 & 3\\\\15 & 7\\end{bmatrix}\n",
        "+\n",
        "\\begin{bmatrix} 1 & 0 & 6 \\end{bmatrix}\n",
        "$\n",
        "\n",
        "This is not conformable. \n",
        "\n",
        "<br>\n",
        "\n",
        "3. \n",
        "$\n",
        "\\begin{bmatrix}\n",
        "2 & 0 & 2\\\\1 & 3 & 1\\\\1 & -1 & 4\\end{bmatrix}\n",
        "+\n",
        "\\begin{bmatrix}10&3&4\\\\1&0&1\\\\3&0&3\\end{bmatrix}\n",
        "=\n",
        "\\begin{bmatrix}3&3&6\\\\2&3&2\\\\4&-1&7\\end{bmatrix}\n",
        "$\n",
        "\n",
        "<br>\n",
        "\n",
        "4. Find the matrix A that satisfies the equation $A - \n",
        "\\begin{bmatrix}0&-1\\\\0&0\\end{bmatrix}\n",
        "=\n",
        "\\begin{bmatrix}3&-1\\\\2&1\\end{bmatrix}\n",
        "$.\n",
        "\n",
        "<br>\n",
        "\n",
        "$$A = \\begin{bmatrix} 3+0 & -1+(-1)\\\\ 2+0 & 1+0 \\end{bmatrix}\n",
        "=\n",
        "\\begin{bmatrix} 3 & -2\\\\ 2&1 \\end{bmatrix}\n",
        "$$\n",
        "\n",
        "<br>\n",
        "\n",
        "5. Let $ A =  \\begin{bmatrix} b & c \\\\ 2b & 3c^2 \\end{bmatrix}$ and $\\alpha = 3$, find $\\alpha A$.\n",
        "\n",
        "<br>\n",
        "\n",
        "$$ \\alpha A = \\begin{bmatrix} 3b & 3c \\\\ 6b & 9c^2 \n",
        "\\end{bmatrix} $$\n",
        "\n",
        "<br>\n",
        "\n",
        "6. Let $\n",
        "A = \\begin{bmatrix} 1&-2\\\\ 3b&5 \\end{bmatrix}$ and $\\alpha = 0.5$, find $\\alpha A$.\n",
        "\n",
        "<br>\n",
        "\n",
        "$$\\alpha A = \\begin{bmatrix} 0.5 & -1\\\\ 1.5 & 2.5 \\end{bmatrix}\n",
        "$$\n",
        "\n",
        "<br>\n",
        "\n",
        "7. Let $\\alpha - -2$, \n",
        "$ A = \\begin{bmatrix}3 & -2\\\\1 & 5\\end{bmatrix}$, and $B = \\begin{bmatrix} 0 & -1\\\\ -3 & 5\\end{bmatrix} $, find $\\alpha (A+B)$ and $\\alpha A + \\alpha B$\n",
        "\n",
        "<br>\n",
        "\n",
        "$$ \\alpha (A+B) = (-2) * \\begin{bmatrix} 3+0 & -2+1\\\\1-3 & 5+4 \\end{bmatrix}\n",
        "= (-2) * \\begin{bmatrix} 3 & -1\\\\-1 & 9 \\end{bmatrix}\n",
        "= \\begin{bmatrix} -6 & 2\\\\ 2 & -18 \\end{bmatrix}\n",
        "$$\n",
        "\n",
        "<br>\n",
        "\n",
        "$$\n",
        "\\alpha A + \\alpha B = (-2) * \\begin{bmatrix} 3 & -2\\\\1 & 5 \\end{bmatrix} + (-2) * \\begin{bmatrix} 0 & 1\\\\-3 & 4\\end{bmatrix}\n",
        "=  \\begin{bmatrix} -6 & 4\\\\ -2 & -10 \\end{bmatrix} + \\begin{bmatrix} 0 & -2\\\\ 6 & -8\\end{bmatrix} = \n",
        "\\begin{bmatrix} -6 & 2\\\\-8 & -18 \\end{bmatrix}\n",
        "$$"
      ]
    },
    {
      "cell_type": "markdown",
      "metadata": {
        "id": "fgVHXeb_K946",
        "colab_type": "text"
      },
      "source": [
        "# Matrix Multiplication\n",
        "\n",
        "---"
      ]
    },
    {
      "cell_type": "markdown",
      "metadata": {
        "id": "p-sBX2G9COH1",
        "colab_type": "text"
      },
      "source": [
        "1. Expand the equation $c_{ij} = \\sum_{k=1}^{n}a_{ik}b_{kj}$ for $i = 1, 2; j = 1, 2, 3;$ and $n = 2$. \n",
        "\n",
        "$$c_{11} = a_{11}b_{11} + a_{12}b_{21} $$\n",
        "$$c_{12} = a_{11}b_{12} + a_{12}b_{22} $$\n",
        "$$c_{13} = a_{11}b_{13} + a_{12}b_{23} $$\n",
        "$$c_{21} = a_{21}b_{11} + a_{22}b_{21} $$\n",
        "$$c_{22} = a_{21}b_{12} + a_{22}b_{22} $$\n",
        "$$c_{23} = a_{21}b_{13} + a_{22}b_{23} $$\n",
        "\n"
      ]
    },
    {
      "cell_type": "markdown",
      "metadata": {
        "id": "9FTfrcreFvdW",
        "colab_type": "text"
      },
      "source": [
        "2. Given $u\\prime = [5 \\ 1 \\ 3], v\\prime = [3 \\ 1 \\ -1], w\\prime = [7 \\ 5 \\ 8]$, and $x\\prime = [x_{1} \\ x_{2} \\ x_{3}]$, write our the column vectors $u, v, w, x$ and find the following products.\n",
        "\n",
        "<center>\n",
        "\n",
        "The column vectors are $u = \\begin{bmatrix} 5 \\\\ 1\\\\3 \\end{bmatrix}$, $v = \\begin{bmatrix} 3 \\\\ 1\\\\ -1 \\end{bmatrix}$, $w = \\begin{bmatrix} 7 \\\\ 5 \\\\ 8 \\end{bmatrix}$, $x = \\begin{bmatrix} x_{1} \\\\ x_{2} \\\\ x_{3} \\end{bmatrix} $.\n",
        "\n",
        "<br>\n",
        "\n",
        "a. $u_{(3*1)} v\\prime_{(1*3)} = \\begin{bmatrix} 15&3&9 \\\\ 5&1&3\\\\-5&-3&-3 \\end{bmatrix} $\n",
        "\n",
        "<br>\n",
        "\n",
        "b. $x_{(3*1)} x\\prime_{(1*3)} = \\begin{bmatrix} x_{1}x_{1}&x_{2}x_{1}&x_{3}x_{1} \\\\ x_{1}x_{2}&x_{2}x_{2}& x_{3}x_{2} \\\\ x_{1}x_{3} & x_{2}x_{3} & x_{3}x_{3} \\end{bmatrix} $\n",
        "\n",
        "<br>\n",
        "\n",
        "c. $u\\prime_{(1*3)} v_{(3*1)} = 15 + 1-3 = 13$\n",
        "\n",
        "<br>\n",
        "\n",
        "d. $u\\prime_{(1*3)} u_{(3*1)} = 25 + 1 + 9 = 35$\n",
        "\n"
      ]
    },
    {
      "cell_type": "markdown",
      "metadata": {
        "id": "4BXPTkurKGBA",
        "colab_type": "text"
      },
      "source": [
        "3. Find the following products, if possible.\n",
        "\n",
        "<br>\n",
        "\n",
        "a. $\\begin{bmatrix} 1&2&-1\\end{bmatrix} \\times \\begin{bmatrix} 1&3\\end{bmatrix}$ is not conformable.\n",
        "\n",
        "<br>\n",
        "\n",
        "b. $\\begin{bmatrix} 3&2&1\\\\ 0&1&-1 \\end{bmatrix} \\times \\begin{bmatrix} -1&0 \\\\ 1&-3 \\\\ 2&4 \\end{bmatrix} = \\begin{bmatrix} -3+2+1 & 0-6+4 \\\\ 0-1+1 & 0-3-4 \\end{bmatrix} = \\begin{bmatrix} 0 & -2 \\\\ 0 & -78 \\end{bmatrix}$\n",
        "\n",
        "<br>\n",
        "\n",
        "c. $\\begin{bmatrix} 1&-1&2\\\\ 0&2&1\\\\1&0&3 \\end{bmatrix} \\times \\begin{bmatrix} -2&0&-1\\\\ 0&1&1\\\\-1&2&1\\end{bmatrix} = \\begin{bmatrix} -2+0-2 & 0-1+4 & -1-1+2 \\\\ 0+0-1&0+2+2&0-2+1 \\\\ -2+0-3&0+0+6&-1+0+3 \\end{bmatrix} =  \\begin{bmatrix} -4 & 3 & 0 \\\\ -1 & 4 &-1 \\\\ -5 & 6 & 2 \\end{bmatrix} $\n",
        "\n",
        "<br>\n",
        "\n",
        "d. $\\begin{bmatrix} 1&4&7\\\\ 2&5&8\\\\3&6&9 \\end{bmatrix} \\times \\begin{bmatrix} 1&0&0\\\\ 0&1&0\\\\0&0&1\\end{bmatrix} = \\begin{bmatrix}  1&4&7\\\\ 2&5&8\\\\3&6&9  \\end{bmatrix} I =  \\begin{bmatrix}  1&4&7\\\\ 2&5&8\\\\3&6&9  \\end{bmatrix} $\n"
      ]
    },
    {
      "cell_type": "markdown",
      "metadata": {
        "id": "hj2W-veMDgGk",
        "colab_type": "text"
      },
      "source": [
        "4. Let $A = \\begin{bmatrix} 1&0&2\\\\ 3&1&0 \\end{bmatrix}$ and $B = \\begin{bmatrix} -1&-3\\\\ 0&-1\\\\-2&0 \\end{bmatrix}$. \n",
        "\n",
        "a. Find $AB$ and $BA$. Are they the same?\n",
        "\n",
        "$$ A_{2\\times 3}B_{3\\times 2} = \\begin{bmatrix} -1-4&-3\\\\ -3&-9-1 \\end{bmatrix} =  \\begin{bmatrix} -5&-3 \\\\ -3&-10 \\end{bmatrix} $$\n",
        "\n",
        "$$ B_{3\\times 2}A_{2\\times 3} = \\begin{bmatrix} -1-9&-3&-2 \\\\ -3&-1&0 \\\\ -2&0&-4 \\end{bmatrix} =  \\begin{bmatrix} -10&-3&-2 \\\\ -3&-1&0 \\\\ -2&0&-4 \\end{bmatrix} $$\n",
        "\n",
        "$AB$ and $BA$ are not the same.\n",
        "\n",
        "<br>\n",
        "\n",
        "b. What is the trace of $AB$? What is the trace of $BA$? Are they the same?\n",
        "\n",
        "The trace of an $n \\times n $ matrix $A$ is defined as $Tr(a) = \\sum_{i=1}^{n}a_{ii}$. It is the sum of all the diagonal elements\n",
        "\n",
        "$$Tr(AB) = -5 - 10 = -15$$\n",
        "$$Tr(BA) = -10 - 1 - 4 = -15 $$\n",
        "\n",
        "They are not the same either. "
      ]
    },
    {
      "cell_type": "markdown",
      "metadata": {
        "id": "wDufcwid9uAb",
        "colab_type": "text"
      },
      "source": [
        "5. Let $ A = \\begin{bmatrix} -1&2&-3\\\\-4&5&-6 \\end{bmatrix}$, $ B = \\begin{bmatrix} 3&-2&1\\\\6&-5&4 \\end{bmatrix}$, and $ C = \\begin{bmatrix} 2&0\\\\-3&4\\\\0&0 \\end{bmatrix}$. Find $(A+B)C$ and $AC+BC$. Find $C(A +B)$ and $CA + CB$. What properties of matrix multiplication do the results support?\n",
        "\n",
        "$$(A+B)C = (\\begin{bmatrix} -1&2&-3\\\\-4&5&-6 \\end{bmatrix} +  \\begin{bmatrix} 3&-2&1\\\\6&-5&4 \\end{bmatrix}) \\times \\begin{bmatrix} 2&0\\\\-3&4\\\\0&0 \\end{bmatrix} = \\begin{bmatrix} -2&0&-2\\\\-2&0&-2 \\end{bmatrix} \\times \\begin{bmatrix} 2&0\\\\-3&4\\\\0&0 \\end{bmatrix} = \\begin{bmatrix} -4&0\\\\-4&0 \\end{bmatrix} $$\n",
        "<br>\n",
        "$$AC+BC = \\begin{bmatrix} -1&2&-3\\\\-4&5&-6 \\end{bmatrix} \\times \\begin{bmatrix} 2&0\\\\-3&4\\\\0&0 \\end{bmatrix} +  \\begin{bmatrix} 3&-2&1\\\\6&-5&4 \\end{bmatrix} \\times \\begin{bmatrix} 2&0\\\\-3&4\\\\0&0 \\end{bmatrix} = \\begin{bmatrix} -8&8\\\\-23&20 \\end{bmatrix} + \\begin{bmatrix} 12&-8\\\\27&-20 \\end{bmatrix} = \\begin{bmatrix} 4&0\\\\4&0 \\end{bmatrix} $$\n",
        "<br>\n",
        "$$C(A+B) = \\begin{bmatrix} 2&0\\\\-3&4\\\\0&0 \\end{bmatrix} \\times (\\begin{bmatrix} -1&2&-3\\\\-4&5&-6 \\end{bmatrix} +  \\begin{bmatrix} 3&-2&1\\\\6&-5&4 \\end{bmatrix})  = \\begin{bmatrix} 2&0\\\\-3&4\\\\0&0 \\end{bmatrix} \\begin{bmatrix} -2&0&-2\\\\-2&0&-2 \\end{bmatrix} = \\begin{bmatrix} -4&0&-4\\\\-2&0&-2 \\\\ 0&0&0\\end{bmatrix} $$\n",
        "<br>\n",
        "$$CA+CB = \\begin{bmatrix} 2&0\\\\-3&4\\\\0&0 \\end{bmatrix} \\times \\begin{bmatrix} -1&2&-3\\\\-4&5&-6 \\end{bmatrix} +  \\begin{bmatrix} 2&0\\\\-3&4\\\\0&0 \\end{bmatrix} \\times \\begin{bmatrix} 3&-2&1\\\\6&-5&4 \\end{bmatrix}  = \\begin{bmatrix} -2&4&-6\\\\-12&14&-15 \\\\ 0&0&0 \\end{bmatrix} + \\begin{bmatrix} 6&-4&2\\\\15&-14&13\\\\0&0&0 \\end{bmatrix} = \\begin{bmatrix} 4&0&-4\\\\3&0&-2\\\\0&0&0 \\end{bmatrix} $$\n",
        "<br>\n",
        "This operation shows that the commutative property of multiplication that holds in algebra does not holds for matrix. "
      ]
    },
    {
      "cell_type": "markdown",
      "metadata": {
        "id": "BVVQJVRxKpWC",
        "colab_type": "text"
      },
      "source": [
        "6. Let $I$ be a 3 by 3 identity matrix. Find $I^2$, $I^3$, and $I^4$. What is another name for this kind of matrix?. \n",
        "\n",
        "$$I = \\begin{bmatrix} 1&0&0\\\\0&1&0\\\\0&0&1 \\end{bmatrix}$$\n",
        "<br>\n",
        "$$I^2 = \\begin{bmatrix} 1&0&0\\\\0&1&0\\\\0&0&1 \\end{bmatrix} \\times \\begin{bmatrix} 1&0&0\\\\0&1&0\\\\0&0&1 \\end{bmatrix} = \\begin{bmatrix} 1&0&0\\\\0&1&0\\\\0&0&1 \\end{bmatrix}$$\n",
        "<br>\n",
        "$$I^3 = I^2 \\times \\begin{bmatrix} 1&0&0\\\\0&1&0\\\\0&0&1 \\end{bmatrix} = \\begin{bmatrix} 1&0&0\\\\0&1&0\\\\0&0&1 \\end{bmatrix}$$\n",
        "<br>\n",
        "$$I^4 = I^3 \\times \\begin{bmatrix} 1&0&0\\\\0&1&0\\\\0&0&1 \\end{bmatrix} = \\begin{bmatrix} 1&0&0\\\\0&1&0\\\\0&0&1 \\end{bmatrix}$$\n",
        "\n",
        "They are all identity matrices."
      ]
    },
    {
      "cell_type": "markdown",
      "metadata": {
        "id": "qOKITF0ONJFm",
        "colab_type": "text"
      },
      "source": [
        "# Determinants\n",
        "\n",
        "\n",
        "---\n",
        "\n",
        "Use the expansion-by-cofactor method (_Green and Carroll, 60-63_) to find the determinants of the following matrices. Then use the definition of a determinant to check your answers.\n",
        "\n",
        "- Cofactor across the $i^{th}$ column: $det A: a_{i1}c_{i1} + \\cdots a_{in}c_{in} $.\n",
        "\n",
        "- Cofactor across the $j^{th}$ row: $det A: a_{1j}c_{1j} + \\cdots a_{nj}c_{nj} $."
      ]
    },
    {
      "cell_type": "markdown",
      "metadata": {
        "id": "g7ehQzTANICY",
        "colab_type": "text"
      },
      "source": [
        "## Detrminants of $2 \\times 2$ matrix\n",
        "\n",
        "<br>\n",
        "\n",
        "1. $ det \\begin{vmatrix} 1&2\\\\ 4&4 \\end{vmatrix} = 1\\times 4 - 2 \\times 4 =-4 $\n",
        "\n",
        "<br>\n",
        "\n",
        "2.  $ det \\begin{vmatrix} 5&0\\\\ 0&6 \\end{vmatrix} = 30 $\n",
        "\n",
        "<br>\n",
        "\n",
        "3.  $ det \\begin{vmatrix} 0&8\\\\ 0&9 \\end{vmatrix} = 0 $\n",
        "\n",
        "<br>\n",
        "\n",
        "4.  $ det \\begin{vmatrix} 7&5\\\\ 0&0 \\end{vmatrix} = 0 $\n",
        "\n",
        "<br>\n",
        "\n",
        "5.  $ det \\begin{vmatrix} 3&x\\\\ 2&1 \\end{vmatrix} = 3-2x $\n"
      ]
    },
    {
      "cell_type": "markdown",
      "metadata": {
        "id": "2bQKOgATNG--",
        "colab_type": "text"
      },
      "source": [
        "## Detrminants of $3 \\times 3$ matrix\n",
        "<br>\n",
        "\n",
        "6. $ det \\begin{vmatrix} 1&2&3\\\\ 0&0&4\\\\5&6&7 \\end{vmatrix} = a_{21}c_{21} + a_{22}c_{22} + a_{23}c_{23} = 0 +0 +4 \\times (-1)^{(2+3)} \\times  det \\begin{vmatrix} 1&2\\\\ 5&6 \\end{vmatrix} = -4 \\times (6-10) = 16 $\n",
        "\n",
        "<br>\n",
        "\n",
        "7. $ det \\begin{vmatrix} 2&0&-1\\\\ 3&4&1\\\\5&0&6 \\end{vmatrix} = a_{12}c_{12} + a_{22}c_{22} + a_{32}c_{32} = 0 + 4 \\times (-1)^{(2+2)} \\times  det \\begin{vmatrix} 2&-1\\\\ 5&6 \\end{vmatrix} + 0  = 4 \\times (12+5) = 68$"
      ]
    },
    {
      "cell_type": "markdown",
      "metadata": {
        "id": "1onCotJNWX9t",
        "colab_type": "text"
      },
      "source": [
        "## Detrminants of high-D matrix\n",
        "<br>\n",
        "\n",
        "8. $ det \\begin{vmatrix} 2&3&5&1\\\\ 7&0&1&-2\\\\-1&4&9&2\\\\3&1&0&4 \\end{vmatrix} \\\\ = a_{21}c_{21} + a_{22}c_{22} + a_{23}c_{23} + a_{24}c_{24} \\\\ = 7 \\times (-1)^{(2+1)} \\times det \\begin{vmatrix} 2&5&1\\\\-1&9&2\\\\3&0&4 \\end{vmatrix} + 0 + 1 \\times (-1)^{(2+3)} \\times det \\begin{vmatrix} 2&3&1\\\\-1&4&2\\\\3&1&4 \\end{vmatrix} +  2 \\times (-1)^{(2+4)} \\times det \\begin{vmatrix} 2&3&5\\\\-1&4&9\\\\3&1&0 \\end{vmatrix} \\\\ = -7 \\times (2 \\times (-1)^{(1+3)} \\times det \\begin{vmatrix} 5&1\\\\9&2 \\end{vmatrix} + 4 \\times (-1)^{(3+3)} \\times det \\begin{vmatrix} 2&5\\\\1&9 \\end{vmatrix}) - (2 \\times (-1)^{(1+1)} \\times det \\begin{vmatrix} 4&2\\\\1&4 \\end{vmatrix}+ 3 \\times (-1)^{(1+2)} \\times det \\begin{vmatrix} -1&2\\\\3&4 \\end{vmatrix} + (-1)^{(1+3)} \\times det \\begin{vmatrix} -1&4\\\\3&1 \\end{vmatrix})+ 2 \\times (3 \\times (-1)^{(1+3)} \\times det \\begin{vmatrix} 3&5\\\\4&9 \\end{vmatrix} + (-1)^{(3+2)} \\times det \\begin{vmatrix} 2&5\\\\-1&9 \\end{vmatrix}) \\\\ =-7 \\times [(-2)+5\\times 13] - [2\\times 14 -3\\times (-10)+-14] + 2\\times[3\\times 7-23]\\\\ = (-7)\\times 63 - 44 -4 = -489 $ "
      ]
    },
    {
      "cell_type": "code",
      "metadata": {
        "id": "HactyXtceFfv",
        "colab_type": "code",
        "colab": {
          "base_uri": "https://localhost:8080/",
          "height": 35
        },
        "outputId": "6b3dac18-1fd9-400c-cb48-dd016b4fc440"
      },
      "source": [
        "# check answers\n",
        "LA.det(np.matrix([[2,3,5,1],\n",
        "                 [7,0,1,-2],\n",
        "                 [-4,1,9,2],\n",
        "                 [3,1,0,4]]))"
      ],
      "execution_count": 26,
      "outputs": [
        {
          "output_type": "execute_result",
          "data": {
            "text/plain": [
              "-742.0"
            ]
          },
          "metadata": {
            "tags": []
          },
          "execution_count": 26
        }
      ]
    },
    {
      "cell_type": "markdown",
      "metadata": {
        "id": "Th9dfc3nfh2B",
        "colab_type": "text"
      },
      "source": [
        "9. $det \\begin{vmatrix} 1&3&2&0&4\\\\7&9&0&4&1\\\\5&8&0&3&2\\\\1&5&7&0&6\\\\-1&3&2&1&5 \\end{vmatrix}\n",
        "= 2 \\times det \\begin{vmatrix} 7&9&4&1\\\\5&8&3&2\\\\1&5&0&6\\\\-1&3&1&5\\end{vmatrix} - 7 \\times det \\begin{vmatrix} 1&3&0&4\\\\7&9&4&1\\\\5&8&3&2\\\\-1&3&1&5\\end{vmatrix} + 2\\times det \\begin{vmatrix} 1&3&0&4\\\\7&9&4&1\\\\5&8&3&2\\\\1&5&0&6\\end{vmatrix} \\\\\n",
        "$\n",
        "\n",
        "<br>\n",
        "\n",
        "$det \\begin{vmatrix} 7&9&4&1\\\\5&8&3&2\\\\1&5&0&6\\\\-1&3&1&5\\end{vmatrix} = det \\begin{vmatrix} 9&4&1\\\\8&3&2\\\\3&1&5 \\end{vmatrix} - 5\\times det \\begin{vmatrix} 7&4&1\\\\5&3&2\\\\-1&1&5\\end{vmatrix}  - 6\\times det \\begin{vmatrix} 7&9&4\\\\5&8&3\\\\-1&3&1\\end{vmatrix}\\\\\n",
        "= 9*3*8+4*2*3+1*8*2-4*8*5-1*2*9-1*3*1 - 5\\times (7*3*5-4*2*1+1*5*2-4*5*5-1*2*7+1*3*1) - 6\\times(7*8-3*9+4*5*3-5*9-3*3*7+4*8)\\\\\n",
        "= 75 - 5\\times (-4)-  6\\times(13) \\\\\n",
        "=13 $\n",
        "\n",
        "<br>\n",
        "\n",
        "$det \\begin{vmatrix} 1&3&0&4\\\\7&9&4&1\\\\5&8&3&2\\\\-1&3&1&5\\end\n",
        "{vmatrix} \\\\\n",
        "= det \\begin{vmatrix} 9&4&1\\\\8&3&2\\\\-3&1&5\\end{vmatrix} -3\\times det \\begin{vmatrix} 7&4&1\\\\5&3&2\\\\-1&1&5\\end{vmatrix} - 4\\times det \\begin{vmatrix} 7&9&4\\\\5&8&3\\\\-1&3&1\\end{vmatrix}\\\\\n",
        "= (9*3*4-4*2*3+8-4*5*8-2*9+3*3)-3\\times (7*3*5-4*2+5-4*5*5-2*7+3) - 4\\times (7*8-3*9+4*5*5-5*9-3*3*7+4*8)\\\\\n",
        "= -77 -3\\times(-9) - 4\\times(53)\\\\\n",
        "=-262 $\n",
        "\n",
        "<br>\n",
        "\n",
        "$det \\begin{vmatrix} 1&3&0&4\\\\7&9&4&1\\\\5&8&3&2\\\\1&5&0&6\\end{vmatrix}\\\\\n",
        "= -4\\times det \\begin{vmatrix} 1&3&4\\\\5&8&2\\\\1&5&6\\end{vmatrix} + 3\\times det \\begin{vmatrix} 1&3&4\\\\7&9&1\\\\1&5&6\\end{vmatrix}\\\\\n",
        "= -4\\times(8*6+3*2+4*5*5-3*6*5-2*5-4*8)+3\\times(9*6+3+4*7*5-6*7*3-5-4*9)\\\\\n",
        "=-4\\times 22 + 3\\times 30\\\\\n",
        "=2$\n",
        "\n",
        "<br>\n",
        "\n",
        "Therefore , \n",
        "$det \\begin{vmatrix} 1&3&2&0&4\\\\7&9&0&4&1\\\\5&8&0&3&2\\\\1&5&7&0&6\\\\-1&3&2&1&5 \\end{vmatrix} = 2\\times 13 -7\\times(-262) +2\\times2 = $\n"
      ]
    },
    {
      "cell_type": "code",
      "metadata": {
        "id": "csNlU_JmeyT4",
        "colab_type": "code",
        "colab": {
          "base_uri": "https://localhost:8080/",
          "height": 35
        },
        "outputId": "3f70efec-b3c3-47c4-c9f6-d68af6afabdd"
      },
      "source": [
        " round(LA.det(np.matrix([[1,3,2,0,4],\n",
        "                 [7,9,0,4,1],\n",
        "                 [5,8,0,3,2],\n",
        "                 [1,5,7,0,6],\n",
        "                 [-1,3,2,1,5]])),1)"
      ],
      "execution_count": 27,
      "outputs": [
        {
          "output_type": "execute_result",
          "data": {
            "text/plain": [
              "213.0"
            ]
          },
          "metadata": {
            "tags": []
          },
          "execution_count": 27
        }
      ]
    },
    {
      "cell_type": "markdown",
      "metadata": {
        "id": "qAvgxF42n2yU",
        "colab_type": "text"
      },
      "source": [
        "# Properties of Inverse Matrices\n",
        "\n",
        "---\n",
        "\n"
      ]
    },
    {
      "cell_type": "markdown",
      "metadata": {
        "id": "nm8tSi8S7zXQ",
        "colab_type": "text"
      },
      "source": [
        "Let $A$ and $B$ be 3 by 3 matrics such that $A = \\begin{bmatrix} 8&1&3\\\\4&0&1\\\\6&0&3\\end{bmatrix}$, and $B = \\begin{bmatrix} 1&2&1\\\\2&3&0\\\\1&3&0\\end{bmatrix}$. \n"
      ]
    },
    {
      "cell_type": "markdown",
      "metadata": {
        "id": "Keb2fLW4n8M7",
        "colab_type": "text"
      },
      "source": [
        "\n",
        "<br>\n",
        "\n",
        "## 1. Show that $(A^{-1})^{-1} = A$. \n",
        "<br>\n",
        "\n",
        "$adj(A) =  \\begin{bmatrix}  0 &(-1)\\times (12-6)& 0\\\\(-1)\\times (3-0)&24-18&(-1)\\times (0-6)\\\\1&(-1)\\times (8-12)& (0-4) \\end{bmatrix} \\prime  = \\begin{bmatrix} 0&-6&0\\\\-3&6&6\\\\1&4&-4 \\end{bmatrix} \\prime = \\begin{bmatrix} 0&-3&1\\\\-6&6&4\\\\0&6&-4 \\end{bmatrix} $\n",
        "\n",
        "<br>\n",
        "\n",
        "$det(A) = 0+6+0 - 12 - 0-0 = -6$\n",
        "\n",
        "<br>\n",
        "\n",
        "$A^{-1} = \\frac{1}{det(A)} adj(A) = (- \\frac{1}{6}) \\times \\begin{bmatrix} 0&-3&1\\\\-6&6&4\\\\0&6&-4 \\end{bmatrix} = \\begin{bmatrix} 0&\\frac{1}{2}&-\\frac{1}{6}\\\\1&-1& -\\frac{2}{3}\\\\0&-1&\\frac{2}{3} \\end{bmatrix}  $\n",
        "\n",
        "<br>\n",
        "\n",
        "$adj(A^{-1}) = \\begin{bmatrix}  -\\frac{4}{3} &-\\frac{2}{3}& -1\\\\-\\frac{1}{6}&0&0 \\\\ -\\frac{1}{2}&-\\frac{1}{6}& - \\frac{1}{2} \\end{bmatrix} \\prime = \\begin{bmatrix}  -\\frac{4}{3} &-\\frac{1}{6}& -\\frac{1}{2}\\\\-\\frac{2}{3}&0&-\\frac{1}{6} \\\\ -1 &0& - \\frac{1}{2} \\end{bmatrix} $\n",
        "\n",
        "<br>\n",
        "\n",
        "$det(A^{-1}) = \\frac{1}{6}-(\\frac{1}{3})=-\\frac{1}{6}$\n",
        "\n",
        "<br>\n",
        "\n",
        "$(A^{-1})^{-1}= \\frac{1}{det(A^{-1})}adj(A^{-1}) = (-6) \\times \\begin{bmatrix}  -\\frac{4}{3} &-\\frac{1}{6}& -\\frac{1}{2}\\\\-\\frac{2}{3}&0&-\\frac{1}{6} \\\\ -1 &0& - \\frac{1}{2} \\end{bmatrix} =  \\begin{bmatrix} 8&1&3\\\\4&0&1\\\\6&0&3\\end{bmatrix} =  A$"
      ]
    },
    {
      "cell_type": "code",
      "metadata": {
        "id": "CG1fG2neiChW",
        "colab_type": "code",
        "colab": {
          "base_uri": "https://localhost:8080/",
          "height": 173
        },
        "outputId": "fde29240-5587-453d-8228-4b883c473492"
      },
      "source": [
        "# check answer\n",
        "A = np.matrix([[8,1,3],\n",
        "              [4,0,1],\n",
        "              [6,0,3]])\n",
        "inv_A = LA.inv(A)\n",
        "\n",
        "print(\"inv(A)= \\n\", \n",
        "      np.around(inv_A, decimals=3))\n",
        "\n",
        "print(\"\\n inv(inv(A))= \\n\", np.around(LA.inv(inv_A), decimals=3))"
      ],
      "execution_count": 46,
      "outputs": [
        {
          "output_type": "stream",
          "text": [
            "inv(A)= \n",
            " [[-0.     0.5   -0.167]\n",
            " [ 1.    -1.    -0.667]\n",
            " [ 0.    -1.     0.667]]\n",
            "\n",
            " inv(inv(A))= \n",
            " [[8. 1. 3.]\n",
            " [4. 0. 1.]\n",
            " [6. 0. 3.]]\n"
          ],
          "name": "stdout"
        }
      ]
    },
    {
      "cell_type": "markdown",
      "metadata": {
        "id": "JN_0mTCivVvk",
        "colab_type": "text"
      },
      "source": [
        "\n",
        "## 2. Show that $(AB)^{-1}=B^{-1}A^{-1}$.\n",
        "\n",
        "$AB = \\begin{bmatrix} 8&1&3\\\\4&0&1\\\\6&0&3\\end{bmatrix} \\times \\begin{bmatrix} 1&2&1\\\\2&3&0\\\\1&3&0\\end{bmatrix} = \\begin{bmatrix} 8+2+3&16+3+9&8\\\\4+1&8+3&4\\\\6+3&12+9&6\\end{bmatrix} = \\begin{bmatrix} 13&28&8\\\\5&11&4\\\\9&21&6\\end{bmatrix}$\n",
        "\n",
        "<br>\n",
        "\n",
        "$det(AB) = 13*11*6 + 28*4*9 + 8*5*21 - 28*5*6 - 13*4*21-8*11*9 = -18$\n",
        "\n",
        "<br>\n",
        "\n",
        "$adj(AB) = \\begin{bmatrix} 11*6-4*21&-(5*6-4*9)&21*5-9*11\\\\-(6*28-8*21)&6*13-9*8&-(21*13-9*28)\\\\4*28-8*11&-(4*13-5*8)&11*13-5*28\\end{bmatrix} \\prime \\\\\n",
        "= \\begin{bmatrix} -18&6&6\\\\0&6&-21\\\\24&-12&3\\end{bmatrix} \\prime = \\begin{bmatrix} -18&0&24\\\\6&6&-12\\\\6&-21&3\\end{bmatrix} $\n",
        "\n",
        "<br>\n",
        "\n",
        "$(AB)^{-1} = \\frac{1}{det(AB)} adj(AB) = - \\frac{1}{18} \\times \\begin{bmatrix} -18&0&24\\\\6&6&-12\\\\6&-21&3\\end{bmatrix} = \\begin{bmatrix} 1&0&- \\frac{4}{3} \\\\- \\frac{1}{3} &- \\frac{1}{3} & \\frac{2}{3} \\\\- \\frac{1}{3} &\\frac{7}{6} &- \\frac{1}{6} \\end{bmatrix}$\n",
        "\n",
        "\n",
        "<br>\n",
        "From #1 we have calculated that $A^{-1}=\\begin{bmatrix} 0&\\frac{1}{2}&-\\frac{1}{6}\\\\1&-1& -\\frac{2}{3}\\\\0&-1&\\frac{2}{3} \\end{bmatrix}$\n",
        "\n",
        "<br>\n",
        "\n",
        "$det(B) = 0+0+0-0-0-3 = 3$\n",
        "$adj(B) = \\begin{bmatrix} 0-0&-(0-0)&6-3\\\\-(0-3)&0-1&-(2-3)\\\\0-3&-(0-2)&3-4\\end{bmatrix} \\prime \n",
        "= \\begin{bmatrix} 0&0&3\\\\3&-1&1\\\\-3&2&-1\\end{bmatrix} \\prime = \\begin{bmatrix} 0&3&-3\\\\0&-1&2\\\\3&1&-1\\end{bmatrix} $\n",
        "\n",
        "<br>\n",
        "\n",
        "$B^{-1} = \\frac{1}{det(B)}adj(B) =  \\frac{1}{3} \\begin{bmatrix} 0&3&-3\\\\0&-1&2\\\\3&-1&-1\\end{bmatrix} = \\begin{bmatrix} 0&1&-1\\\\0&-\\frac{1}{3} &\\frac{2}{3} \\\\1&-\\frac{1}{3} &-\\frac{1}{3} \\end{bmatrix} $\n",
        "\n",
        "<br>\n",
        "\n",
        "$B^{-1}A^{-1} = \\begin{bmatrix} 0&1&-1\\\\0&-\\frac{1}{3} &\\frac{2}{3} \\\\1&-\\frac{1}{3} &-\\frac{1}{3} \\end{bmatrix} \\times \\begin{bmatrix} 0&\\frac{1}{2}&-\\frac{1}{6}\\\\1&-1& -\\frac{2}{3}\\\\0&-1&\\frac{2}{3} \\end{bmatrix} = \\begin{bmatrix} 1&0&-\\frac{4}{3}\\\\-\\frac{1}{3} &-\\frac{1}{3}&\\frac{4}{3} \\\\-\\frac{1}{3}&\\frac{7}{6} &-\\frac{1}{6} \\end{bmatrix} = (AB)^{-1}$"
      ]
    },
    {
      "cell_type": "code",
      "metadata": {
        "id": "D88LIdPXqIMr",
        "colab_type": "code",
        "colab": {
          "base_uri": "https://localhost:8080/",
          "height": 259
        },
        "outputId": "0d0a0eaa-e09f-4b17-9077-4b464071e1fd"
      },
      "source": [
        "B = np.matrix([[1,2,1],\n",
        "               [2,3,0],\n",
        "               [1,3,0]])\n",
        "print(\"AB= \\n\", A*B)\n",
        "print(\"\\n inv(AB)= \\n\", np.round(LA.inv(A*B), decimals=2))\n",
        "print(\"\\n inv(B)inv(A)= \\n\", np.round(LA.inv(B)* LA.inv(A),decimals=2))"
      ],
      "execution_count": 45,
      "outputs": [
        {
          "output_type": "stream",
          "text": [
            "AB= \n",
            " [[13 28  8]\n",
            " [ 5 11  4]\n",
            " [ 9 21  6]]\n",
            "\n",
            " inv(AB)= \n",
            " [[ 1.   -0.   -1.33]\n",
            " [-0.33 -0.33  0.67]\n",
            " [-0.33  1.17 -0.17]]\n",
            "\n",
            " inv(B)inv(A)= \n",
            " [[ 1.    0.   -1.33]\n",
            " [-0.33 -0.33  0.67]\n",
            " [-0.33  1.17 -0.17]]\n"
          ],
          "name": "stdout"
        }
      ]
    },
    {
      "cell_type": "markdown",
      "metadata": {
        "id": "7R_UH0rs9ius",
        "colab_type": "text"
      },
      "source": [
        "## 3. Show that $(A\\prime)^{-1}=(A^{-1})\\prime$.\n",
        "$A^{-1}=\\begin{bmatrix} 0&\\frac{1}{2}&-\\frac{1}{6}\\\\1&-1& -\\frac{2}{3}\\\\0&-1&\\frac{2}{3} \\end{bmatrix}$, $(A^{-1})\\prime =\\begin{bmatrix} 0&1&0\\\\\\frac{1}{2}&-1& -1\\\\-\\frac{1}{6}&-\\frac{2}{3} &\\frac{2}{3} \\end{bmatrix}$. \n",
        "\n",
        "<br>\n",
        "\n",
        "$A\\prime = \\begin{bmatrix} 8&4&6\\\\1&0&0\\\\3&1&3\\end{bmatrix}$, $det(A\\prime) = 6-12 = -6$\n",
        "\n",
        "<br>\n",
        "\n",
        "$adj(A\\prime) = \\begin{bmatrix} 0&-(3)&1\\\\-(12-6)&24-18&-(8-12)\\\\0&-(-6)&-4\\end{bmatrix}\\prime  = \\begin{bmatrix} 0&-3&1\\\\-6&6&4\\\\0&6&-4\\end{bmatrix}\\prime = \\begin{bmatrix} 0&-6&0\\\\-3&6&6\\\\1&4&-4\\end{bmatrix}\\prime $\n",
        "\n",
        "<br>\n",
        "\n",
        "$(A\\prime)^{-1} = \\frac{1}{det(A\\prime)} adj(A\\prime) = -\\frac{1}{6} \\times \\begin{bmatrix} 0&-6&0\\\\-3&6&6\\\\1&4&-4 \\end{bmatrix} = \\begin{bmatrix} 0&1&0\\\\\\frac{1}{2}&-1& -1\\\\-\\frac{1}{6}&-\\frac{2}{3} &\\frac{2}{3} \\end{bmatrix}$.\n",
        "\n",
        "<br>\n",
        "\n",
        "$(A\\prime)^{-1}=(A^{-1})\\prime$ is thus proven."
      ]
    },
    {
      "cell_type": "code",
      "metadata": {
        "id": "973xA0M83HuH",
        "colab_type": "code",
        "colab": {
          "base_uri": "https://localhost:8080/",
          "height": 173
        },
        "outputId": "bdb414cf-da1d-4292-abe1-7e17a78a88d8"
      },
      "source": [
        "print(\"(A_inv)transpose = \\n\", np.round(LA.inv(A).T, decimals = 2))\n",
        "\n",
        "print(\"\\n (A_transpose)inv = \\n\", np.round(LA.inv(A.T), decimals=2))"
      ],
      "execution_count": 42,
      "outputs": [
        {
          "output_type": "stream",
          "text": [
            "(A_inv)transpose = \n",
            " [[-0.    1.    0.  ]\n",
            " [ 0.5  -1.   -1.  ]\n",
            " [-0.17 -0.67  0.67]]\n",
            "\n",
            " (A_transpose)inv = \n",
            " [[ 0.    1.    0.  ]\n",
            " [ 0.5  -1.   -1.  ]\n",
            " [-0.17 -0.67  0.67]]\n"
          ],
          "name": "stdout"
        }
      ]
    },
    {
      "cell_type": "markdown",
      "metadata": {
        "id": "cFta_5TQ9j-6",
        "colab_type": "text"
      },
      "source": [
        "## 4. Show that $det(A^{-1}) = \\frac{1}{det(A)}$.\n",
        "\n",
        "<br>\n",
        "\n",
        "From #1, we get $det(A) = 0+6+0 - 12 - 0-0 = -6$. \n",
        "\n",
        "<br>\n",
        "\n",
        "From #3, we get $A^{-1}=\\begin{bmatrix} 0&\\frac{1}{2}&-\\frac{1}{6}\\\\1&-1& -\\frac{2}{3}\\\\0&-1&\\frac{2}{3} \\end{bmatrix}$. We can then calculate $det(A^{-1})= \\frac{1}{6} - \\frac{1}{3} = -\\frac{1}{6}$.\n",
        "\n",
        "<br>\n",
        "\n",
        "$det(A^{-1}) = \\frac{1}{det(A)}$ is thus proven.\n",
        " "
      ]
    },
    {
      "cell_type": "markdown",
      "metadata": {
        "id": "CyRJCAmo780X",
        "colab_type": "text"
      },
      "source": [
        "## 5. \n",
        "\n",
        "Let $C$ be a 3 by 3 matrix such that $C = \\begin{bmatrix} 6&2&4\\\\0&2& 1\\\\0&0&3 \\end{bmatrix}$. Find the inversion of $C$ and verify that it is a triagular matrix. \n",
        "\n",
        "A triangular matrix is one that is either lower triangular or upper triangular.\n",
        "\n",
        "<br>\n",
        "\n",
        "$det(C) = 6*2*3 - 0 =36$ \n",
        "\n",
        "<br>\n",
        "\n",
        "$adj(C) = \\begin{bmatrix} 6&-0&0\\\\-6&18&-0\\\\2-8&-6&12 \\end{bmatrix} \\prime  = \\begin{bmatrix} 6&0&0\\\\-6&18&0\\\\-6&-6&12 \\end{bmatrix} \\prime =  \\begin{bmatrix} 6&-6&-6\\\\0&18&-6\\\\0&0&12 \\end{bmatrix}  $\n",
        "\n",
        "<br>\n",
        "\n",
        "$C^{-1} = \\frac{1}{det(C)} adj(C) = \\frac{1}{36} \\times \\begin{bmatrix} 6&-6&-6\\\\0&18&-6\\\\0&0&12 \\end{bmatrix} = \\begin{bmatrix} \\frac{1}{6}&-\\frac{1}{6}&-\\frac{1}{6}\\\\0&\\frac{1}{2}&-\\frac{1}{6}\\\\0&0&\\frac{1}{3} \\end{bmatrix}$\n",
        "\n",
        "<br>\n",
        "\n",
        "C is shown as a lower triangular matrix."
      ]
    },
    {
      "cell_type": "code",
      "metadata": {
        "id": "OacdULNO-OCt",
        "colab_type": "code",
        "colab": {
          "base_uri": "https://localhost:8080/",
          "height": 69
        },
        "outputId": "4ad323c4-25b2-4a36-8efa-d19aced6f697"
      },
      "source": [
        "C = np.matrix([[6,2,4],\n",
        "               [0,2,1],\n",
        "               [0,0,3]])\n",
        "LA.det(C)\n",
        "LA.inv(C)"
      ],
      "execution_count": 48,
      "outputs": [
        {
          "output_type": "execute_result",
          "data": {
            "text/plain": [
              "matrix([[ 0.16666667, -0.16666667, -0.16666667],\n",
              "        [ 0.        ,  0.5       , -0.16666667],\n",
              "        [ 0.        ,  0.        ,  0.33333333]])"
            ]
          },
          "metadata": {
            "tags": []
          },
          "execution_count": 48
        }
      ]
    },
    {
      "cell_type": "markdown",
      "metadata": {
        "id": "PdFjYXJl_rbK",
        "colab_type": "text"
      },
      "source": [
        "# Matrix Inversion"
      ]
    },
    {
      "cell_type": "markdown",
      "metadata": {
        "id": "guJefJSy_t4P",
        "colab_type": "text"
      },
      "source": [
        "## I. Find the inverses of the following matrices, if they exist. Use Mathematica to check your answers.\n",
        "\n",
        "<br>\n",
        "\n",
        "1. $\\begin{bmatrix}1&2\\\\3&4\\end{bmatrix}$\n",
        "$$det = 4-6 = -2$$\n",
        "\n",
        "$$adj = \\begin{bmatrix}4&-3\\\\-2&1\\end{bmatrix}$$\n",
        "\n",
        "$$(\\begin{bmatrix}1&2\\\\3&4\\end{bmatrix})^{-1} = -\\frac{1}{2} \\times \\begin{bmatrix}4&-3\\\\-2&1\\end{bmatrix} = \\begin{bmatrix}-2&1.5\\\\1&-0.5 \\end{bmatrix}$$\n",
        "\n",
        "<br>\n",
        "\n",
        "2. $\\begin{bmatrix}5&0\\\\0&6\\end{bmatrix}$\n",
        "\n",
        "$$det = 30-0 = 30$$\n",
        "\n",
        "$$adj = \\begin{bmatrix}6&0\\\\0&5\\end{bmatrix}$$\n",
        "\n",
        "$$(\\begin{bmatrix}5&0\\\\0&6\\end{bmatrix})^{-1} = \\frac{1}{30} \\times \\begin{bmatrix}6&0\\\\0&5 \\end{bmatrix} = \\begin{bmatrix} \\frac{1}{5}&0\\\\0&\\frac{1}{6} \\end{bmatrix}$$\n",
        "\n",
        "<br>\n",
        "\n",
        "3. $\\begin{bmatrix}0&8\\\\0&9\\end{bmatrix}$\n",
        "\n",
        "$det =0$, the matrix is not of full rank and thus not inversable. \n",
        "\n",
        "<br>\n",
        "\n",
        "4. $\\begin{bmatrix}7&5\\\\0&0\\end{bmatrix}$\n",
        "\n",
        "$det =0$, the matrix is not of full rank and thus not inversable. \n",
        "\n",
        "<br>\n",
        "\n",
        "5. $\\begin{bmatrix}3&x\\\\2&1\\end{bmatrix}$\n",
        "\n",
        "$$det = 3-2x$$\n",
        "\n",
        "$$adj = \\begin{bmatrix}1&-2\\\\-3&x \\end{bmatrix}$$\n",
        "\n",
        "$$(\\begin{bmatrix}3&x\\\\2&1\\end{bmatrix})^{-1} = \\frac{1}{3-2x} \\times \\begin{bmatrix}1&-2\\\\-3&x \\end{bmatrix} = \\begin{bmatrix} \\frac{1}{3-2x}&-\\frac{2}{3-2x}\\\\-\\frac{3}{3-2x}&\\frac{x}{3-2x}\\end{bmatrix}$$\n",
        "\n",
        "<br>\n",
        "\n",
        "6. $\\begin{bmatrix}1&2&3\\\\0&0&4\\\\5&6&7 \\end{bmatrix}$\n",
        "\n",
        "$$det = 2\\times 4 \\times5 - 1\\times 6\\times 4 = 16$$\n",
        "\n",
        "$$adj = \\begin{bmatrix}-24&-(-20)&0\\\\-(14-18)&7-15&-(6-10)\\\\8&-(4)&0 \\end{bmatrix} \\prime = \\begin{bmatrix}-24&20&0\\\\-4&-8&4\\\\8&-4&0 \\end{bmatrix} \\prime = \\begin{bmatrix}-24&-4&8\\\\20&-8&-4\\\\0&-4& 0\\end{bmatrix}$$\n",
        "\n",
        "$$(\\begin{bmatrix}1&2&3\\\\0&0&4\\\\5&6&7 \\end{bmatrix})^{-1} = \\frac{1}{16} \\times \\begin{bmatrix}-24&-4&8\\\\20&-8&-4\\\\0&-4& 0\\end{bmatrix} =  \\begin{bmatrix}-1.5&-0.25&0.5\\\\1.25&-0.5&-0.25\\\\0&-0.25&0\\end{bmatrix}$$\n",
        "\n",
        "7. $\\begin{bmatrix}2&0&-1\\\\3&4&1\\\\5&0&6 \\end{bmatrix}$\n",
        "\n",
        "$$det = -4*5-2*4*6 = -68$$\n",
        "\n",
        "$$adj = \\begin{bmatrix}24&-(18-5)&-20\\\\-(0)&12-(-5)&-(0)\\\\0-(-4)&-(2-(-3))&8 \\end{bmatrix} \\prime = \\begin{bmatrix}24&-23&-20\\\\0&17&0\\\\4&-5&8 \\end{bmatrix} \\prime = \\begin{bmatrix}24&0&4\\\\-23&17&-5\\\\-20&0&8 \\end{bmatrix}$$\n",
        "\n",
        "$$(\\begin{bmatrix}2&0&-1\\\\3&4&1\\\\5&0&6 \\end{bmatrix})^{-1} = -\\frac{1}{68} \\times \\begin{bmatrix}24&0&4\\\\-23&17&-5\\\\-20&0&8 \\end{bmatrix} = \\begin{bmatrix} -\\frac{6}{17} &0&-\\frac{1}{17} \\\\\\frac{23}{68} &\\frac{1}{4}&\\frac{5}{68}\\\\\\frac{5}{17}&0&- \\frac{2}{17} \\end{bmatrix}$$\n",
        "\n",
        "<br>\n",
        "\n",
        "8. $\\begin{bmatrix}1&2&3\\\\1&3&6\\\\1&4&10 \\end{bmatrix}$\n",
        "\n",
        "$$det =3*10+ 2*6+ 3*4-2*10-4*6-3*3= 20+12+12-20-24-9 = 1$$\n",
        "\n",
        "$$adj = \\begin{bmatrix}30-24&-(10-6)&4-3\\\\-(20-12)&10-3&-(4-2)\\\\12-9&-(6-3))&3-2 \\end{bmatrix} \\prime = \\begin{bmatrix}6&-4&1\\\\-8&7&-2\\\\3&-3&1 \\end{bmatrix} \\prime = \\begin{bmatrix}6&-8&3\\\\-4&7&3\\\\1&-2&1 \\end{bmatrix}$$\n",
        "\n",
        "$$(\\begin{bmatrix}1&2&3\\\\1&3&6\\\\1&4&10 \\end{bmatrix})^{-1} = 1\\times \\begin{bmatrix}6&-8&3\\\\-4&7&3\\\\1&-2&1 \\end{bmatrix} = \\begin{bmatrix}6&-8&3\\\\-4&7&3\\\\1&-2&1 \\end{bmatrix}$$\n"
      ]
    },
    {
      "cell_type": "code",
      "metadata": {
        "id": "YFWqOAFknzJK",
        "colab_type": "code",
        "colab": {
          "base_uri": "https://localhost:8080/",
          "height": 259
        },
        "outputId": "8e94faa1-4188-4426-f4be-25156a1ab4ce"
      },
      "source": [
        "print(\"6. \\n\", LA.inv(np.matrix([[1,2,3],\n",
        "          [0,0,4],\n",
        "           [5,6,7]])))\n",
        "\n",
        "print(\"\\n 7. \\n\", LA.inv(np.matrix([[2,0,-1],\n",
        "                  [3,4,1],\n",
        "                  [5,0,6]])))\n",
        "\n",
        "print(\"\\n 8. \\n\", LA.inv(np.matrix([[1,2,3],\n",
        "                  [1,3,6],\n",
        "                  [1,4,10]])))"
      ],
      "execution_count": 12,
      "outputs": [
        {
          "output_type": "stream",
          "text": [
            "6. \n",
            " [[-1.5   0.25  0.5 ]\n",
            " [ 1.25 -0.5  -0.25]\n",
            " [ 0.    0.25  0.  ]]\n",
            "\n",
            " 7. \n",
            " [[ 0.35294118  0.          0.05882353]\n",
            " [-0.19117647  0.25       -0.07352941]\n",
            " [-0.29411765 -0.          0.11764706]]\n",
            "\n",
            " 8. \n",
            " [[ 6. -8.  3.]\n",
            " [-4.  7. -3.]\n",
            " [ 1. -2.  1.]]\n"
          ],
          "name": "stdout"
        }
      ]
    },
    {
      "cell_type": "markdown",
      "metadata": {
        "id": "5bgvYabD_5LI",
        "colab_type": "text"
      },
      "source": [
        "## II. Solve the following systems of equations by using matrices. Use Mathematica to check your answers.\n",
        "\n",
        "<br>\n",
        "\n",
        "9. $2x-3y =2\\\\4x+y=5$\n",
        "\n",
        "The linear equations expressee in matrix form is $ \\begin{bmatrix}2&-3\\\\4&1 \\end{bmatrix} \\times \\begin{bmatrix}x\\\\y \\end{bmatrix} = \\begin{bmatrix}2\\\\5 \\end{bmatrix}$.   \n",
        "\n",
        "$$ \\begin{aligned}\n",
        "\\begin{bmatrix}x\\\\y \\end{bmatrix} \n",
        "&= (\\begin{bmatrix}2&-3\\\\4&1 \\end{bmatrix})^{-1} \\times \\begin{bmatrix}2\\\\5 \\end{bmatrix}\\\\ \n",
        "&= \\frac{1}{2*1 - 4*(-3)} \\times \\begin{bmatrix}1&-4\\\\3&2 \\end{bmatrix} \\prime \\times \\begin{bmatrix}2\\\\5 \\end{bmatrix}  \\\\ &=  \\frac{1}{14} \\times \\begin{bmatrix}1&3\\\\-4&2 \\end{bmatrix} \\times \\begin{bmatrix}2\\\\5 \\end{bmatrix} \\\\\n",
        "&=  \\frac{1}{14} \\times \\begin{bmatrix}1*2+3*5\\\\-4*2+2*5 \\end{bmatrix}\\\\\n",
        "&=  \\frac{1}{14} \\times \\begin{bmatrix}17\\\\2 \\end{bmatrix}\\\\\n",
        "&= \\begin{bmatrix}\\frac{17}{14}\\\\ \\frac{1}{7} \\end{bmatrix} \\end{aligned}\n",
        "$$ \n",
        "\n",
        "Thus, $x=\\frac{17}{14}, y = \\frac{1}{7} $\n",
        "\n",
        "<br>\n",
        "\n",
        "10. $2x-3y=0\\\\4x+y=3$\n",
        "\n",
        "The linear equations expressee in matrix form is $ \\begin{bmatrix}2&-3\\\\4&1 \\end{bmatrix} \\times \\begin{bmatrix}x\\\\y \\end{bmatrix} = \\begin{bmatrix}0\\\\3 \\end{bmatrix}$.  \n",
        "\n",
        "$$ \\begin{aligned}\n",
        "\\begin{bmatrix}x\\\\y \\end{bmatrix} \n",
        "&= (\\begin{bmatrix}2&-3\\\\4&1 \\end{bmatrix})^{-1} \\times \\begin{bmatrix}0\\\\3 \\end{bmatrix}\\\\ \n",
        "&=  \\frac{1}{14} \\times \\begin{bmatrix}1&3\\\\-4&2 \\end{bmatrix} \\times \\begin{bmatrix}0\\\\3 \\end{bmatrix} \\\\\n",
        "&=  \\frac{1}{14} \\times \\begin{bmatrix}9\\\\6 \\end{bmatrix}\\\\\n",
        "&= \\begin{bmatrix}\\frac{9}{14}\\\\ \\frac{3}{7} \\end{bmatrix} \\end{aligned}$$\n",
        "\n",
        "Therefore, $x=\\frac{9}{14}, y = \\frac{3}{7} $\n",
        " \n",
        "\n",
        "<br>\n",
        "\n",
        "11. $2x-3y=0\\\\4x+y=0$\n",
        "\n",
        "The linear equations expressee in matrix form is $ \\begin{bmatrix}2&-3\\\\4&1 \\end{bmatrix} \\times \\begin{bmatrix}x\\\\y \\end{bmatrix} = \\begin{bmatrix}0\\\\0 \\end{bmatrix}$. Thus $ \\begin{bmatrix} x\\\\y \\end{bmatrix} = (\\begin{bmatrix}2&-3\\\\4&1 \\end{bmatrix})^{-1} \\times \\begin{bmatrix}0\\\\0 \\end{bmatrix} = \\begin{bmatrix}0\\\\0 \\end{bmatrix} $. Therefore, $x=y=0$\n",
        "\n",
        "<br>\n",
        "\n",
        "12. $-3x_{1}- x_{2}-3x_{3}=1 \\\\ 6x_{1}+x_{2}+3x_{3}=0 \\\\ 2x_{1}+x_{3}=1$\n",
        "\n",
        "The linear equations expressee in matrix form is $ \\begin{bmatrix}-3&-1&-3\\\\6&1&3\\\\2&0&1 \\end{bmatrix} \\times \\begin{bmatrix}x_{1}\\\\x_{2}\\\\x_{3} \\end{bmatrix} = \\begin{bmatrix}1\\\\0\\\\1 \\end{bmatrix}$.\n",
        "\n",
        "$$ \\begin{aligned}\n",
        "\\begin{bmatrix} x_{1}\\\\x_{2}\\\\x_{3} \\end{bmatrix} \n",
        "&= (\\begin{bmatrix}-3&-1&-3\\\\6&1&3\\\\2&0&1 \\end{bmatrix})^{-1} \\times \\begin{bmatrix}1\\\\0\\\\1 \\end{bmatrix}\\\\ \n",
        "&=  \\frac{1}{-3-6+0-(-6)-0-(-6)} \\times \\begin{bmatrix}1&-(0)&-2\\\\-(-1)&-3-6&-(0-(-2))\\\\-3-(-3)&-(-9-(-18))&-3-(-6) \\end{bmatrix} \\prime \\times \\begin{bmatrix}1\\\\0\\\\1 \\end{bmatrix} \\\\\n",
        "&=  \\frac{1}{3} \\times \\begin{bmatrix}1&0&-2\\\\1&3&-2\\\\0&-9&3 \\end{bmatrix} \\prime \\times \\begin{bmatrix}1\\\\0\\\\1 \\end{bmatrix} \\\\\n",
        "&= \\frac{1}{3} \\times \\begin{bmatrix}1&1&0\\\\0&3&-9\\\\-2&-2&3 \\end{bmatrix} \\times \\begin{bmatrix}1\\\\0\\\\1 \\end{bmatrix} \\\\\n",
        "&= \\frac{1}{3} \\times \\begin{bmatrix}1\\\\-9\\\\1 \\end{bmatrix}\n",
        "\\\\ \n",
        "&= \\begin{bmatrix}\\frac{1}{3}\\\\-3\\\\\\frac{1}{3} \\end{bmatrix}\n",
        "\\end{aligned}$$\n",
        "\n",
        "Therefore, $x_{1}=frac{1}{3},  x_{2}=-3, x_{3}=frac{1}{3}$."
      ]
    },
    {
      "cell_type": "code",
      "metadata": {
        "id": "h_kHrtHnfoKl",
        "colab_type": "code",
        "colab": {
          "base_uri": "https://localhost:8080/",
          "height": 345
        },
        "outputId": "2074946e-8a9f-4f8c-e49c-3728c3b5c542"
      },
      "source": [
        "print(\"9. \\n\", \n",
        "      LA.inv(np.matrix([[2,-3],\n",
        "                        [4,1]])) * np.matrix([[2],\n",
        "                                              [5]]))\n",
        "\n",
        "print(\"\\n 10. \\n\", \n",
        "      LA.inv(np.matrix([[2,-3],\n",
        "                        [4,1]])) * np.matrix([[0],\n",
        "                                              [3]]))\n",
        "\n",
        "print(\"\\n 11. \\n\", \n",
        "      LA.inv(np.matrix([[2,-3],\n",
        "                        [4,1]])) * np.matrix([[0],\n",
        "                                              [0]]))\n",
        "\n",
        "print(\"\\n 12. \\n\", \n",
        "      LA.inv(np.matrix([[-3,-1,-3],\n",
        "                        [6,1,3],\n",
        "                        [2,0,1]])) * np.matrix([[1],\n",
        "                                                [0],\n",
        "                                                [1]]))"
      ],
      "execution_count": 13,
      "outputs": [
        {
          "output_type": "stream",
          "text": [
            "9. \n",
            " [[1.21428571]\n",
            " [0.14285714]]\n",
            "\n",
            " 10. \n",
            " [[0.64285714]\n",
            " [0.42857143]]\n",
            "\n",
            " 11. \n",
            " [[0.]\n",
            " [0.]]\n",
            "\n",
            " 12. \n",
            " [[ 0.33333333]\n",
            " [-3.        ]\n",
            " [ 0.33333333]]\n"
          ],
          "name": "stdout"
        },
        {
          "output_type": "execute_result",
          "data": {
            "text/plain": [
              "matrix([[ 0.33333333,  0.33333333,  0.        ],\n",
              "        [-0.        ,  1.        , -3.        ],\n",
              "        [-0.66666667, -0.66666667,  1.        ]])"
            ]
          },
          "metadata": {
            "tags": []
          },
          "execution_count": 13
        }
      ]
    },
    {
      "cell_type": "markdown",
      "metadata": {
        "id": "lYO-lVLftW3L",
        "colab_type": "text"
      },
      "source": [
        "# Rank of a Matrix"
      ]
    },
    {
      "cell_type": "markdown",
      "metadata": {
        "id": "Pcz5cLGNtZB8",
        "colab_type": "text"
      },
      "source": [
        ""
      ]
    }
  ]
}