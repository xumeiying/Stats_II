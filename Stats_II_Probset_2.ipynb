{
  "nbformat": 4,
  "nbformat_minor": 0,
  "metadata": {
    "colab": {
      "name": "Stats_II_Probset_2.ipynb",
      "provenance": [],
      "mount_file_id": "1HjkrPFnlU4WbOsxKDWDpeftORpLmzXmW",
      "authorship_tag": "ABX9TyNDLF1lnyD7wZDkCPYIFkb2",
      "include_colab_link": true
    },
    "kernelspec": {
      "name": "python3",
      "display_name": "Python 3"
    }
  },
  "cells": [
    {
      "cell_type": "markdown",
      "metadata": {
        "id": "view-in-github",
        "colab_type": "text"
      },
      "source": [
        "<a href=\"https://colab.research.google.com/github/xumeiying/Stats_II/blob/master/Stats_II_Probset_2.ipynb\" target=\"_parent\"><img src=\"https://colab.research.google.com/assets/colab-badge.svg\" alt=\"Open In Colab\"/></a>"
      ]
    },
    {
      "cell_type": "markdown",
      "metadata": {
        "id": "xGq3MdPGWt4s",
        "colab_type": "text"
      },
      "source": [
        "# Problem Set II"
      ]
    },
    {
      "cell_type": "code",
      "metadata": {
        "id": "vC9gTEL7KqGx",
        "colab_type": "code",
        "colab": {}
      },
      "source": [
        "# load packages\n",
        "import numpy as np\n",
        "import pandas as pd\n",
        "from pandas import DataFrame\n",
        "import math \n",
        "\n",
        "from sklearn import linear_model\n",
        "from sklearn.linear_model import LinearRegression\n",
        "\n",
        "import statsmodels.api as sm\n",
        "import statsmodels.formula.api as smf\n",
        "\n",
        "import matplotlib.pyplot as plt\n",
        "import matplotlib as mpl\n",
        "%matplotlib inline \n",
        "from matplotlib import rc\n",
        "import seaborn as sns"
      ],
      "execution_count": 0,
      "outputs": []
    },
    {
      "cell_type": "markdown",
      "metadata": {
        "id": "BO-5YNSFWi2P",
        "colab_type": "text"
      },
      "source": [
        "## Q1\n",
        "\n",
        "---\n",
        "\n",
        "\n",
        "Write  a  1-2  paragraph  description  of  your  proposed  final  project.   This  should  include  aresearch  question,  a  hypothesis,  and  a  brief  description  of  the  data  you  will  use  as  wellas the citation and brief summary of the original article you intend to replicate.  Althoughthe project involves a replication assignment, the focus should be on your proposed exten-sion/contribution to the scientific literature. See King (2006)."
      ]
    },
    {
      "cell_type": "markdown",
      "metadata": {
        "id": "6xlT0t-lGG2I",
        "colab_type": "text"
      },
      "source": [
        "## Q2 \n",
        "---\n",
        "Load the `“wine.txt”` file on Canvas into `R`. This dataset gives the prices of 27 wines (`PRICE`), along with the year they were harvested (`VINTAGE`), the average temperature during theirgrowing season (`TEMP`), the total rainfall in milliliters during the growing season (`RAIN1`), the total rainfall during the previous winter (`RAIN2)` and the ages of each wine at the time the prices were recorded in 1983 (`AGE`). `LPRICE` is the logged price of each wine, which we’re ignoring for now.\n",
        "- (a)  Create a table of summary statistics for `PRICE`, `TEMP`, `RAIN1`, `RAIN2` and `AGE` that includes the min and max values of each variable as well as the median and mean.\n",
        "- (b)  Plot price against average temperature, rainfall in the growing season, rainfall in theprevious winter, and age of wine and write a hypothesis regarding one of the variables.\n",
        "- (c)  Regress price on average temperature,  rainfall in the growing season,  rainfall in theprevious  winter,  and  age  of  wine.   Report  the  results  as  you  would  in  an  empirical paper. (Think about what should be included in a results table.)\n",
        "- (d)  Test your hypothesis from part b.\n",
        "- (e)  What can you conclude about the effect of each of these factors on price?\n",
        "- (f)  What does the regression output tell you about the fit of your model?\n",
        "- (g)  What is the predicted price for a ten year old bottle of wine from a year with average temperature and no rain (in either measure)?\n",
        "- (h)  Plot the predicted prices for wines as a function of their ages, holding all other variablesin the regression at their means."
      ]
    },
    {
      "cell_type": "markdown",
      "metadata": {
        "id": "EKjLdonqU5Us",
        "colab_type": "text"
      },
      "source": [
        "\n",
        "\n",
        "---\n",
        "\n",
        "\n",
        "### (a) Table of summary statistics\n",
        "| Statistics   | PRICE    | TEMP     | RAIN1   |RAIN2   |AGE     |\n",
        "|--------------|:--------:| --------:| -------:|:-------|-------:|\n",
        "|min           |0.101     |14.98     |38.00    |376.0000|3.0000  |\n",
        "|max           |1.000     |17.65     |292.00   |8.3.00  |31.00   |\n",
        "|mean          |0.2878    |16.4781   |144.8148 |608.4074|16.1852 |\n",
        "|median        |0.2210    |16.4200   |123.00   |600.000 |16.00   |\n",
        "\n",
        "### (b)(c) (d) model and hypothesis testing\n",
        "I plot price against average temperature, rainfall in the growing season, rainfall in theprevious winter, and age of wine. \n",
        "![Price](https://drive.google.com/uc?id=1--2q7o3KhTUAQc2_LCNuT-x4hWDEkK3y)\n",
        "I construct the following model: $$Price = \\beta_{0} + \\beta_{1}TEMP + \\beta_{2}RAIN1 + \\beta_{3}RAIN2 + \\beta_{4}AGE $$\n",
        "I then test the hypothesis at $\\alpha = 0.001$ significance level:\n",
        "$$H_{0}: \\beta_{4} = 0 $$\n",
        "$$H_{A}: \\beta_{4} \\neq 0$$\n",
        "Regression table\n",
        "\n",
        "![wine table](https://drive.google.com/uc?id=1KtwpRiAN7a1Y_gVSBKSjOzW3aK-vw6LJ)\n",
        "\n",
        "\n",
        "I fail to reject the null hypothesis, and the coefficient $\\beta_{4}$ is not statistically significant at $\\alpha = 0.001$ significance level. \n",
        "### (e)(f)\n",
        "The price of wine (`PRICE`) is _positively_ associated with the average temperature during their growing season (`TEMP`), the total rainfall during the previous winter (`RAIN2`) and the ages of each wine at the time the prices were recorded in 1983 (`AGE`), but _negatively_ associated with the total rainfall in milliliters during the growing season (`RAIN1`)\n",
        "- One degree increae in the average temperature during their growing season is associated with 0.19 unit of currency increase in the wine price; \n",
        "- One unit increase in the the total rainfall in milliliters during the growing season leads to 0.001 unit of currency drop in the wine price; \n",
        "- One unit increase in the the the total rainfall during the previous winter leads to 0.0006 unit of currency increase in the wine price; \n",
        "- One year increase in the ages of each wine at the time the prices were recorded in 1983 is associated with 0.0081 unit of currency increase in the wine price.\n",
        "\n",
        "My model has a good fit as it explains 73.6% of variations in `price`. Adjusted for the number of variables it still explains 68.7% of variations in `price`.\n",
        "### (g)(h)\n",
        "The predicted price for a ten year old bottle of wine from a year with average temperature and no rain (in either measure) is 0.04484\n",
        "\n",
        "Plugging in the predicted value of $\\beta_{0}, \\beta_{1}, \\beta_{2}, \\beta_{3}, \\beta_{4}$ and the mean of `TEMP, RAIN1, RAIN2`, we can calculate \n",
        "\n",
        "$$PRICE = -3.1716 + 0.0081* AGE + 0.1903 * 16.478148 - 0.001 * 144.814815 + 0.0006 * 608.407407$$\n",
        "\n",
        "The predicted prices for wines as a function of their ages, holding all other variablesin the regression at their means is plotted as follows\n",
        "\n",
        "![image](https://drive.google.com/uc?id=1H-OCvOvv7T3wu1_Bg4jf5LttmTtH0523)\n",
        "\n",
        "Code starts below.\n",
        "\n",
        "---\n"
      ]
    },
    {
      "cell_type": "code",
      "metadata": {
        "id": "ial0kASBrJQX",
        "colab_type": "code",
        "colab": {
          "base_uri": "https://localhost:8080/",
          "height": 204
        },
        "outputId": "5f9e5935-c45d-4736-aafd-0246e8871bac"
      },
      "source": [
        "wine_data =  pd.read_csv(\"/content/drive/My Drive/Colab Notebooks/wine.csv\")\n",
        "wine_data.head(5)"
      ],
      "execution_count": 10,
      "outputs": [
        {
          "output_type": "execute_result",
          "data": {
            "text/html": [
              "<div>\n",
              "<style scoped>\n",
              "    .dataframe tbody tr th:only-of-type {\n",
              "        vertical-align: middle;\n",
              "    }\n",
              "\n",
              "    .dataframe tbody tr th {\n",
              "        vertical-align: top;\n",
              "    }\n",
              "\n",
              "    .dataframe thead th {\n",
              "        text-align: right;\n",
              "    }\n",
              "</style>\n",
              "<table border=\"1\" class=\"dataframe\">\n",
              "  <thead>\n",
              "    <tr style=\"text-align: right;\">\n",
              "      <th></th>\n",
              "      <th>VINTAGE</th>\n",
              "      <th>PRICE</th>\n",
              "      <th>TEMP</th>\n",
              "      <th>RAIN1</th>\n",
              "      <th>RAIN2</th>\n",
              "      <th>AGE</th>\n",
              "      <th>CN</th>\n",
              "      <th>ST  LPRICE</th>\n",
              "    </tr>\n",
              "  </thead>\n",
              "  <tbody>\n",
              "    <tr>\n",
              "      <th>0</th>\n",
              "      <td>1952</td>\n",
              "      <td>0.368</td>\n",
              "      <td>17.12</td>\n",
              "      <td>160</td>\n",
              "      <td>600</td>\n",
              "      <td>31</td>\n",
              "      <td>1</td>\n",
              "      <td>-0.999672</td>\n",
              "    </tr>\n",
              "    <tr>\n",
              "      <th>1</th>\n",
              "      <td>1953</td>\n",
              "      <td>0.635</td>\n",
              "      <td>16.73</td>\n",
              "      <td>80</td>\n",
              "      <td>690</td>\n",
              "      <td>30</td>\n",
              "      <td>1</td>\n",
              "      <td>-0.454130</td>\n",
              "    </tr>\n",
              "    <tr>\n",
              "      <th>2</th>\n",
              "      <td>1955</td>\n",
              "      <td>0.446</td>\n",
              "      <td>17.15</td>\n",
              "      <td>130</td>\n",
              "      <td>502</td>\n",
              "      <td>28</td>\n",
              "      <td>1</td>\n",
              "      <td>-0.807436</td>\n",
              "    </tr>\n",
              "    <tr>\n",
              "      <th>3</th>\n",
              "      <td>1957</td>\n",
              "      <td>0.221</td>\n",
              "      <td>16.13</td>\n",
              "      <td>110</td>\n",
              "      <td>420</td>\n",
              "      <td>26</td>\n",
              "      <td>1</td>\n",
              "      <td>-1.509593</td>\n",
              "    </tr>\n",
              "    <tr>\n",
              "      <th>4</th>\n",
              "      <td>1958</td>\n",
              "      <td>0.180</td>\n",
              "      <td>16.42</td>\n",
              "      <td>187</td>\n",
              "      <td>582</td>\n",
              "      <td>25</td>\n",
              "      <td>1</td>\n",
              "      <td>-1.714798</td>\n",
              "    </tr>\n",
              "  </tbody>\n",
              "</table>\n",
              "</div>"
            ],
            "text/plain": [
              "   VINTAGE  PRICE   TEMP  RAIN1  RAIN2  AGE  CN  ST  LPRICE\n",
              "0     1952  0.368  17.12    160    600   31   1   -0.999672\n",
              "1     1953  0.635  16.73     80    690   30   1   -0.454130\n",
              "2     1955  0.446  17.15    130    502   28   1   -0.807436\n",
              "3     1957  0.221  16.13    110    420   26   1   -1.509593\n",
              "4     1958  0.180  16.42    187    582   25   1   -1.714798"
            ]
          },
          "metadata": {
            "tags": []
          },
          "execution_count": 10
        }
      ]
    },
    {
      "cell_type": "code",
      "metadata": {
        "id": "G6T7s3RkF1mU",
        "colab_type": "code",
        "outputId": "3d9bddba-4de9-4be7-840a-44ae417544e1",
        "colab": {
          "base_uri": "https://localhost:8080/",
          "height": 297
        }
      },
      "source": [
        "# summary statistics\n",
        "wine_data.describe()"
      ],
      "execution_count": 11,
      "outputs": [
        {
          "output_type": "execute_result",
          "data": {
            "text/html": [
              "<div>\n",
              "<style scoped>\n",
              "    .dataframe tbody tr th:only-of-type {\n",
              "        vertical-align: middle;\n",
              "    }\n",
              "\n",
              "    .dataframe tbody tr th {\n",
              "        vertical-align: top;\n",
              "    }\n",
              "\n",
              "    .dataframe thead th {\n",
              "        text-align: right;\n",
              "    }\n",
              "</style>\n",
              "<table border=\"1\" class=\"dataframe\">\n",
              "  <thead>\n",
              "    <tr style=\"text-align: right;\">\n",
              "      <th></th>\n",
              "      <th>VINTAGE</th>\n",
              "      <th>PRICE</th>\n",
              "      <th>TEMP</th>\n",
              "      <th>RAIN1</th>\n",
              "      <th>RAIN2</th>\n",
              "      <th>AGE</th>\n",
              "      <th>CN</th>\n",
              "      <th>ST  LPRICE</th>\n",
              "    </tr>\n",
              "  </thead>\n",
              "  <tbody>\n",
              "    <tr>\n",
              "      <th>count</th>\n",
              "      <td>27.000000</td>\n",
              "      <td>27.000000</td>\n",
              "      <td>27.000000</td>\n",
              "      <td>27.000000</td>\n",
              "      <td>27.000000</td>\n",
              "      <td>27.000000</td>\n",
              "      <td>27.0</td>\n",
              "      <td>27.000000</td>\n",
              "    </tr>\n",
              "    <tr>\n",
              "      <th>mean</th>\n",
              "      <td>1966.814815</td>\n",
              "      <td>0.287741</td>\n",
              "      <td>16.478148</td>\n",
              "      <td>144.814815</td>\n",
              "      <td>608.407407</td>\n",
              "      <td>16.185185</td>\n",
              "      <td>1.0</td>\n",
              "      <td>-1.452300</td>\n",
              "    </tr>\n",
              "    <tr>\n",
              "      <th>std</th>\n",
              "      <td>8.246384</td>\n",
              "      <td>0.210359</td>\n",
              "      <td>0.659260</td>\n",
              "      <td>73.065849</td>\n",
              "      <td>129.034956</td>\n",
              "      <td>8.246384</td>\n",
              "      <td>0.0</td>\n",
              "      <td>0.634880</td>\n",
              "    </tr>\n",
              "    <tr>\n",
              "      <th>min</th>\n",
              "      <td>1952.000000</td>\n",
              "      <td>0.101000</td>\n",
              "      <td>14.980000</td>\n",
              "      <td>38.000000</td>\n",
              "      <td>376.000000</td>\n",
              "      <td>3.000000</td>\n",
              "      <td>1.0</td>\n",
              "      <td>-2.292635</td>\n",
              "    </tr>\n",
              "    <tr>\n",
              "      <th>25%</th>\n",
              "      <td>1960.500000</td>\n",
              "      <td>0.137500</td>\n",
              "      <td>16.150000</td>\n",
              "      <td>88.000000</td>\n",
              "      <td>543.500000</td>\n",
              "      <td>9.500000</td>\n",
              "      <td>1.0</td>\n",
              "      <td>-1.984190</td>\n",
              "    </tr>\n",
              "    <tr>\n",
              "      <th>50%</th>\n",
              "      <td>1967.000000</td>\n",
              "      <td>0.221000</td>\n",
              "      <td>16.420000</td>\n",
              "      <td>123.000000</td>\n",
              "      <td>600.000000</td>\n",
              "      <td>16.000000</td>\n",
              "      <td>1.0</td>\n",
              "      <td>-1.509593</td>\n",
              "    </tr>\n",
              "    <tr>\n",
              "      <th>75%</th>\n",
              "      <td>1973.500000</td>\n",
              "      <td>0.349500</td>\n",
              "      <td>17.010000</td>\n",
              "      <td>185.500000</td>\n",
              "      <td>705.500000</td>\n",
              "      <td>22.500000</td>\n",
              "      <td>1.0</td>\n",
              "      <td>-1.052655</td>\n",
              "    </tr>\n",
              "    <tr>\n",
              "      <th>max</th>\n",
              "      <td>1980.000000</td>\n",
              "      <td>1.000000</td>\n",
              "      <td>17.650000</td>\n",
              "      <td>292.000000</td>\n",
              "      <td>830.000000</td>\n",
              "      <td>31.000000</td>\n",
              "      <td>1.0</td>\n",
              "      <td>0.000000</td>\n",
              "    </tr>\n",
              "  </tbody>\n",
              "</table>\n",
              "</div>"
            ],
            "text/plain": [
              "           VINTAGE      PRICE       TEMP  ...        AGE    CN  ST  LPRICE\n",
              "count    27.000000  27.000000  27.000000  ...  27.000000  27.0   27.000000\n",
              "mean   1966.814815   0.287741  16.478148  ...  16.185185   1.0   -1.452300\n",
              "std       8.246384   0.210359   0.659260  ...   8.246384   0.0    0.634880\n",
              "min    1952.000000   0.101000  14.980000  ...   3.000000   1.0   -2.292635\n",
              "25%    1960.500000   0.137500  16.150000  ...   9.500000   1.0   -1.984190\n",
              "50%    1967.000000   0.221000  16.420000  ...  16.000000   1.0   -1.509593\n",
              "75%    1973.500000   0.349500  17.010000  ...  22.500000   1.0   -1.052655\n",
              "max    1980.000000   1.000000  17.650000  ...  31.000000   1.0    0.000000\n",
              "\n",
              "[8 rows x 8 columns]"
            ]
          },
          "metadata": {
            "tags": []
          },
          "execution_count": 11
        }
      ]
    },
    {
      "cell_type": "code",
      "metadata": {
        "id": "UGZBBOG_NtOp",
        "colab_type": "code",
        "outputId": "88bf40c6-139a-4bf9-df1c-aeb725ed8e29",
        "colab": {
          "base_uri": "https://localhost:8080/",
          "height": 279
        }
      },
      "source": [
        "# plot data\n",
        "wine_g = sns.PairGrid(wine_data, y_vars=[\"PRICE\"], x_vars=[\"TEMP\",\"RAIN1\", \"RAIN2\",\"AGE\"], height=3.5)\n",
        "wine_g.map(sns.regplot, color=\"0.2\")\n",
        "sns.set_style(\"darkgrid\")\n",
        "wine_g.savefig(\"/content/drive/My Drive/Colab Notebooks/price_plot.png\")"
      ],
      "execution_count": 42,
      "outputs": [
        {
          "output_type": "display_data",
          "data": {
            "image/png": "[encoded data removed]",
            "text/plain": [
              "<Figure size 1008x252 with 4 Axes>"
            ]
          },
          "metadata": {
            "tags": []
          }
        }
      ]
    },
    {
      "cell_type": "code",
      "metadata": {
        "id": "W1DLGakAPP-a",
        "colab_type": "code",
        "outputId": "0bd85a3f-6953-45c1-a0f3-34642902924f",
        "colab": {
          "base_uri": "https://localhost:8080/",
          "height": 527
        }
      },
      "source": [
        "# construct model\n",
        "wine_model = smf.ols(formula='PRICE ~ TEMP + RAIN1 + RAIN2 + AGE', data=wine_data).fit()\n",
        "print(wine_model.summary())"
      ],
      "execution_count": 68,
      "outputs": [
        {
          "output_type": "stream",
          "text": [
            "                            OLS Regression Results                            \n",
            "==============================================================================\n",
            "Dep. Variable:                  PRICE   R-squared:                       0.736\n",
            "Model:                            OLS   Adj. R-squared:                  0.687\n",
            "Method:                 Least Squares   F-statistic:                     15.30\n",
            "Date:                Wed, 25 Mar 2020   Prob (F-statistic):           4.02e-06\n",
            "Time:                        05:28:38   Log-Likelihood:                 22.247\n",
            "No. Observations:                  27   AIC:                            -34.49\n",
            "Df Residuals:                      22   BIC:                            -28.02\n",
            "Df Model:                           4                                         \n",
            "Covariance Type:            nonrobust                                         \n",
            "==============================================================================\n",
            "                 coef    std err          t      P>|t|      [0.025      0.975]\n",
            "------------------------------------------------------------------------------\n",
            "Intercept     -3.1716      0.693     -4.577      0.000      -4.609      -1.735\n",
            "TEMP           0.1903      0.039      4.872      0.000       0.109       0.271\n",
            "RAIN1         -0.0010      0.000     -3.123      0.005      -0.002      -0.000\n",
            "RAIN2          0.0006      0.000      2.849      0.009       0.000       0.001\n",
            "AGE            0.0081      0.003      2.738      0.012       0.002       0.014\n",
            "==============================================================================\n",
            "Omnibus:                        5.316   Durbin-Watson:                   3.110\n",
            "Prob(Omnibus):                  0.070   Jarque-Bera (JB):                3.899\n",
            "Skew:                           0.917   Prob(JB):                        0.142\n",
            "Kurtosis:                       3.323   Cond. No.                     1.95e+04\n",
            "==============================================================================\n",
            "\n",
            "Warnings:\n",
            "[1] Standard Errors assume that the covariance matrix of the errors is correctly specified.\n",
            "[2] The condition number is large, 1.95e+04. This might indicate that there are\n",
            "strong multicollinearity or other numerical problems.\n"
          ],
          "name": "stdout"
        }
      ]
    },
    {
      "cell_type": "code",
      "metadata": {
        "id": "7784WsJfvnul",
        "colab_type": "code",
        "colab": {
          "base_uri": "https://localhost:8080/",
          "height": 85
        },
        "outputId": "f7028f20-7c96-46ca-ce7c-a028d402886e"
      },
      "source": [
        "# print regression model in Latex format\n",
        "# !pip install stargazer \n",
        "from stargazer.stargazer import Stargazer\n",
        "from IPython.core.display import Latex\n",
        "\n",
        "wine_mode_result = Stargazer([wine_model])\n",
        "Latex(wine_mode_result.render_latex())"
      ],
      "execution_count": 58,
      "outputs": [
        {
          "output_type": "execute_result",
          "data": {
            "text/latex": "\\begin{table}[!htbp] \\centering\n  \\label{}\n\\begin{tabular}{@{\\extracolsep{5pt}}lcc}\n\\\\[-1.8ex]\\hline\n\\hline \\\\[-1.8ex]\n& \\multicolumn{1}{c}{\\textit{Dependent variable:}} \\\n\\cr \\cline{1-2}\n\\\\[-1.8ex] & (1) \\\\\n\\hline \\\\[-1.8ex]\n AGE & 0.008$^{**}$ \\\\\n  & (0.003) \\\\\n  & \\\\\n Intercept & -3.172$^{***}$ \\\\\n  & (0.693) \\\\\n  & \\\\\n RAIN1 & -0.001$^{***}$ \\\\\n  & (0.0) \\\\\n  & \\\\\n RAIN2 & 0.001$^{***}$ \\\\\n  & (0.0) \\\\\n  & \\\\\n TEMP & 0.19$^{***}$ \\\\\n  & (0.039) \\\\\n  & \\\\\n\\hline \\\\[-1.8ex]\n Observations & 27.0 \\\\\n R${2}$ & 0.736 \\\\\n Adjusted R${2}$ & 0.687 \\\\\n Residual Std. Error & 0.118(df = 22.0)  \\\\\n F Statistic & 15.3$^{***}$ (df = 4.0; 22.0) \\\\\n\\hline\n\\hline \\\\[-1.8ex]\n\\textit{Note:} & \\multicolumn{1}{r}{$^{*}$p$<$0.1; $^{**}$p$<$0.05; $^{***}$p$<$0.01} \\\\\n\\end{tabular}\n\\end{table}",
            "text/plain": [
              "<IPython.core.display.Latex object>"
            ]
          },
          "metadata": {
            "tags": []
          },
          "execution_count": 58
        }
      ]
    },
    {
      "cell_type": "code",
      "metadata": {
        "id": "nU6-C8DKQlFE",
        "colab_type": "code",
        "outputId": "f35b332e-a159-4f96-ba4f-ab1099e5ada5",
        "colab": {
          "base_uri": "https://localhost:8080/",
          "height": 425
        }
      },
      "source": [
        "# t-test function\n",
        "from scipy.stats import t\n",
        "def t_test (beta, se, N, k, alpha):\n",
        "    t_score = beta / se\n",
        "    df = N - k\n",
        "    cv = t.ppf(1.0 - alpha, df) \n",
        "    CI_start = round((beta - cv * se), 4)\n",
        "    CI_end = round((beta + cv * se),4)\n",
        "    if abs(t_score) <= cv:\n",
        "\t    print('The t-statistics is', round(t_score,4), \n",
        "           '; we fail to reject the null hypothesis; \\n the coefficient is not statistically significant; \\n its 95% confidence interval is', \n",
        "           (CI_start, CI_end))\n",
        "    else:\n",
        "\t    print('The t-statistics is', round(t_score,4), \n",
        "           '; we reject the null hypothesis; \\n the coefficient is statistically significant at 0.05 level; \\n its 95% confidence interval is', \n",
        "           (CI_start, CI_end))\n",
        "     \n",
        "# t-test results\n",
        "print(\"t_test results of the beta_0:\")\n",
        "t_test (-3.1716,0.693, 27, 3, 0.001)\n",
        "\n",
        "print(\"\\n t_test results of the beta_1(temperature):\")\n",
        "t_test (0.1903, 0.039, 27, 3, 0.001)\n",
        "\n",
        "print(\"\\n t_test results of the beta_2(rainfall in growing season):\")\n",
        "t_test (-0.0010, 0.0000000001, 27, 3, 0.001)\n",
        "\n",
        "print(\"\\n t_test results of the beta_3(rainfall in winter):\")\n",
        "t_test (0.0006, 0.0000000001, 27, 3, 0.001)\n",
        "\n",
        "print(\"\\n t_test results of the beta_4(wine age):\")\n",
        "t_test (0.0081, 0.003, 27, 3, 0.001)"
      ],
      "execution_count": 20,
      "outputs": [
        {
          "output_type": "stream",
          "text": [
            "t_test results of the beta_0:\n",
            "The t-statistics is -4.5766 ; we reject the null hypothesis; \n",
            " the coefficient is statistically significant at 0.05 level; \n",
            " its 95% confidence interval is (-5.5741, -0.7691)\n",
            "\n",
            " t_test results of the beta_1(temperature):\n",
            "The t-statistics is 4.8795 ; we reject the null hypothesis; \n",
            " the coefficient is statistically significant at 0.05 level; \n",
            " its 95% confidence interval is (0.0551, 0.3255)\n",
            "\n",
            " t_test results of the beta_2(rainfall in growing season):\n",
            "The t-statistics is -10000000.0 ; we reject the null hypothesis; \n",
            " the coefficient is statistically significant at 0.05 level; \n",
            " its 95% confidence interval is (-0.001, -0.001)\n",
            "\n",
            " t_test results of the beta_3(rainfall in winter):\n",
            "The t-statistics is 6000000.0 ; we reject the null hypothesis; \n",
            " the coefficient is statistically significant at 0.05 level; \n",
            " its 95% confidence interval is (0.0006, 0.0006)\n",
            "\n",
            " t_test results of the beta_4(wine age):\n",
            "The t-statistics is 2.7 ; we fail to reject the null hypothesis; \n",
            " the coefficient is not statistically significant; \n",
            " its 95% confidence interval is (-0.0023, 0.0185)\n"
          ],
          "name": "stdout"
        }
      ]
    },
    {
      "cell_type": "code",
      "metadata": {
        "id": "fOJq4PGGTMBX",
        "colab_type": "code",
        "outputId": "4f4e3db6-6e83-44cd-9217-4ac09906c005",
        "colab": {
          "base_uri": "https://localhost:8080/",
          "height": 51
        }
      },
      "source": [
        "# predict price for a ten year old bottle of wine from a year with average temperature and no rain (in either measure)?\n",
        "price_10_year = wine_model.predict({\"TEMP\": 16.478148, \"RAIN1\":0, \"RAIN2\": 0, \"AGE\": 10})\n",
        "price_10_year"
      ],
      "execution_count": 15,
      "outputs": [
        {
          "output_type": "execute_result",
          "data": {
            "text/plain": [
              "0    0.04484\n",
              "dtype: float64"
            ]
          },
          "metadata": {
            "tags": []
          },
          "execution_count": 15
        }
      ]
    },
    {
      "cell_type": "code",
      "metadata": {
        "id": "uSrtEmmNrpjo",
        "colab_type": "code",
        "colab": {
          "base_uri": "https://localhost:8080/",
          "height": 279
        },
        "outputId": "d63966ba-a1f9-420e-d47b-e514b8d49ab1"
      },
      "source": [
        "# Plot the predicted prices for wines as a function of their ages, holding all other variablesin the regression at their means.\n",
        "x = wine_data[\"AGE\"]\n",
        "y_pred = -3.1716 + 0.0081* x + 0.1903 * 16.478148 - 0.001 * 144.814815 + 0.0006 * 608.407407\t\n",
        "y = wine_data[\"PRICE\"]\n",
        "fig, ax = plt.subplots()\n",
        "sns.lineplot(x, y_pred, marker='x', color='black', linewidth=2, label=\"predicted price\")\n",
        "sns.scatterplot(x, y, marker=\"o\", color='blue', label=\"original price\")\n",
        "sns.set_style(\"darkgrid\")\n",
        "plt.xlabel('AGE')\n",
        "plt.ylabel('PRICE')\n",
        "plt.show()\n",
        "fig.savefig(\"/content/drive/My Drive/Colab Notebooks/price_age.png\")"
      ],
      "execution_count": 43,
      "outputs": [
        {
          "output_type": "display_data",
          "data": {
            "image/png": "[encoded data removed]",
            "text/plain": [
              "<Figure size 432x288 with 1 Axes>"
            ]
          },
          "metadata": {
            "tags": []
          }
        }
      ]
    },
    {
      "cell_type": "markdown",
      "metadata": {
        "id": "qnF6aHH1Gm33",
        "colab_type": "text"
      },
      "source": [
        "## Q3\n",
        "\n",
        "---\n",
        "\n",
        "\n",
        "Assume that a researcher has drawn each of the following conclusions based on the results of simple bivariate regressions with the specified dependent and independent variables. For each  one,  give  an  example  of  how  omitted  variable  bias  could  have  possibly  lead  to  an improper result. Specifically identify a variable that has been omitted and theorize about why and how it leads to a problem.\n",
        "- (a)  People who own guns are more likely to be the victim of crime.\n",
        "- (b)  Increased campaign spending by candidates results in lower vote shares in elections.\n",
        "- (c)  Students who study more have lower grades.\n",
        "\n",
        "\n",
        "---\n",
        "\n",
        "### (a)\n",
        "Because carrying and maintaining personal weapons cost a fortune, there is a possibility that people who own guns are richer than those who don't. Therefore, they are more likely to be exposed to robbery. To refine the model, I will add a new variable `personal_income` to test the relationship of richness and crime victime.\n",
        "\n",
        "### (b)\n",
        "Because of the persistent and increasing rich-poor gap, it is possible that more and more middle- and lower-class American voters dislike billionnairs who have the capacity to squader their fortune on campaigns. To test this hypothesis, I will include an `protest` variable into the model, which measures the occurrence of social movements against the rich. \n",
        "\n",
        "### (c)\n",
        "Students who over-study may be in short of sleep, therefore perform less well in exams or other assessment schemes. I will include a `hours_of_sleep` variable to control for this situation. "
      ]
    },
    {
      "cell_type": "markdown",
      "metadata": {
        "id": "ThnMv1DdGvKL",
        "colab_type": "text"
      },
      "source": [
        "## Q4\n",
        "\n",
        "---\n",
        "\n",
        "\n",
        "Assume that the true model for the relationship between a country’s GDP per capita and level of corruption is \n",
        "$$GDP = \\beta_{0} + \\beta_{1}Corruption + \\beta_{2}Globalization + \\beta_{3}Inequality + \\epsilon $$\n",
        "But you estimate $$GDP = \\beta_{0} + \\beta_{1}Corruption + \\epsilon $$\n",
        "- (a) What is the expected value of $\\beta_{1}$ in the restricted model?\n",
        "- (b) What is the bias of $\\beta_{1}$?\n",
        "- (c) When will this bias be (approximately) zero?\n",
        "- (d) What will make this bias smaller or larger? (discuss in substantive and formal terms)\n",
        "\n",
        "\n",
        "---\n",
        "\n",
        "Let $C, Y $ be the X, Y, error matrices of the restricted model $GDP = \\beta_{0} + \\beta_{1}Corruption + \\epsilon $.\n",
        "\n",
        "Let $G$ be the matrix of the omitted `Globalization` variable with a coefficient $\\beta_{2}$; let $I$ be the matrix of the omitted `Inequality` variable with a coefficient $\\beta_{3}$. \n",
        "\n",
        "Then the _true_ model generating our data is $$Y = C\\beta_{1} + G\\beta_{2} + I\\beta_{3} + \\epsilon $$\n",
        "\n",
        "The restricted model is $Y = C\\beta_{1} + \\tilde \\epsilon $, where $\\tilde \\epsilon =  G\\beta_{2} + I\\beta_{3} + \\epsilon $. $\\epsilon$ is the _true_ error of the model, therefore $E(\\epsilon) = 0$.\n",
        "\n",
        "The expected value of $\\beta$\n",
        "\n",
        "\\begin{equation}\n",
        "\\begin{aligned}\n",
        "\\hat \\beta_{1}  &= (C\\prime C)^{-1}C\\prime Y \\\\&= (C\\prime C)^{-1}C\\prime (C\\beta_{1}  + (G\\beta_{2} + I\\beta_{3} + \\epsilon)) \\\\&= (X\\prime X)^{-1}C\\prime C\\beta_{1}  +  (C\\prime C)^{-1}C\\prime (G\\beta_{2} + I\\beta_{3}) + (C\\prime C)^{-1}C\\prime \\epsilon \\\\&= \\beta_{1}  + (C\\prime C)^{-1}C\\prime (G\\beta_{2} + I\\beta_{3}) + (C\\prime C)^{-1}C\\prime \\epsilon\n",
        "\\end{aligned}\n",
        "\\end{equation}\n",
        "\n",
        "Taking expectations\n",
        "\n",
        "\\begin{equation}\n",
        "\\begin{aligned}\n",
        "E(\\hat \\beta_{1} ) &= E(\\beta_{1} ) + E((C\\prime C)^{-1}C\\prime (G\\beta_{2} + I\\beta_{3})) + E((C\\prime C)^{-1}C\\prime \\epsilon) \\\\&= \\beta_{1}  + (C\\prime C)^{-1}C\\prime (G\\beta_{2} + I\\beta_{3}) + (C\\prime C)^{-1}C\\prime E(\\epsilon) \\\\&= \\beta_{1} + (C\\prime C)^{-1}C\\prime (G\\beta_{2} + I\\beta_{3})\n",
        "\\end{aligned}\n",
        "\\end{equation}\n",
        "\n",
        "Since $(C\\prime C)^{-1}$ is positive (i.e., not equal), he bias is therefore equal to $(C\\prime C)^{-1}C\\prime (G\\beta_{2} + I\\beta_{3})$. \n",
        "\n",
        "The bias will be approximately zero when $C\\prime (G\\beta_{2} + I\\beta_{3})=C\\prime G\\beta_{2} + C\\prime I\\beta_{3}=0$. In other words, The `Corruption` variable has to be uncorrelated with both the `Globalization` and the `Inequality` variables. \n",
        "\n",
        "When `Corruption` is _positively_ correlated with _both_ the `Globalization` and the `Inequality` variables, $E(\\hat \\beta_{1}) - \\beta_{1} $ is positive, and we _overestimated_ $\\beta_{1}$.\n",
        "\n",
        "When `Corruption` is _negatively_ correlated with _both_ the `Globalization` and the `Inequality` variables, $E(\\hat \\beta_{1}) - \\beta_{1} $ is negative, and we _overestimated_ $\\beta_{1}$.\n",
        "\n",
        "When the correlation between `Corruption` and `Globalization` as well as between `Corruption` the `Inequality` is opposite, the effect would be ambiguous. "
      ]
    },
    {
      "cell_type": "markdown",
      "metadata": {
        "id": "VnKAe57kHXpD",
        "colab_type": "text"
      },
      "source": [
        "## Q5\n",
        "\n",
        "---\n",
        "\n",
        "\n",
        "Load the “`corruption.csv`” file on Canvas into `R`.\n",
        "- (a) Estimate $\\beta$ from a regression of gdp per capita (`gdppc`) on corruption.\n",
        "- (b) Provide a brief explanation of your findings in substantive terms.\n",
        "- (c) Estimate $\\hat \\beta$ from a regression of gdp per capita (`gdppc`) on corruption, globalization and inequality and report your results.\n",
        "- (d) Provide a brief explanation of your findings in substantive terms.\n",
        "- (e) How do the results from this new model compare to the results in part a?\n",
        "- (f) Given what you know, do you think the model in part a violates the zero conditional mean assumption of OLS? Why or why not?\n",
        "- (g) Is it appropriate to compare the $R^2$ for the models in parts a and c? Why or why not?"
      ]
    },
    {
      "cell_type": "markdown",
      "metadata": {
        "id": "Ge1tS_AXJihg",
        "colab_type": "text"
      },
      "source": [
        "\n",
        "\n",
        "---\n",
        "### (a)-(g)\n",
        "\n",
        "*Effects of corruption, globalization and inequality on gdp per capita (gdppc)* ![Regression table](https://drive.google.com/uc?id=1oW-Ku_HEIj5e5nMBXNIB5Y_uVGbsKA01)\n",
        "\n",
        "Our main independent variable, `corruption`, is negatively corelated with `gdppc`. Uncontrolled for anything, one unit increase in the corruption scale is associated with 844,748 USD decrease in GDP per capita. The coefficient is statistically significant at the 0.001 significance level, with a standard error of 66.206. \n",
        "\n",
        "If controlled for `globalization` and `inequality`, the effect of  `corruption` on `gdppc` halfed to -443,311, but it is still statistically significant at the 0.001 significance level, with a stand error of 86.099. `Globalization` is found to be positively corelated with the national wealth, with one unit increase on the globalization scale leads to 335.742 increase in GDP per capita. The coefficient is statistically significant at the 0.001 significance level, with a standard error of 88.848. `Inequality` is found to be negatively corelated with the national wealth, with one unit increase on the inequality scale leads to 1348.279 decrease in GDP per capita. The coefficient is statistically significant at the 0.1 significance level, with a standard error of 759.937. \n",
        "\n",
        "The zero-conditional mean assumption is not violated in both cases.\n",
        "\n",
        "`Corruption` itself can explain 51.4% percent of variations on `gdppc`. Adding `globalization` and `inequality`, model (2) can explain 62.3% percent of variations on `gdppc`; adjusted for the number of variables it can still explain 61.6% of variations on `gdppc`, which is still higher than model (1). Therefore model (2) has stronger explanatory power. \n",
        "\n",
        "Code starts below.\n",
        "\n",
        "\n",
        "---\n",
        "\n",
        "\n",
        "\n",
        "---\n",
        "\n",
        "\n",
        "\n"
      ]
    },
    {
      "cell_type": "code",
      "metadata": {
        "id": "IaSFI5WcISeu",
        "colab_type": "code",
        "colab": {
          "base_uri": "https://localhost:8080/",
          "height": 490
        },
        "outputId": "6aa7a60a-ed06-4edb-8579-068d78414bed"
      },
      "source": [
        "# load data\n",
        "corruption_data =  pd.read_csv(\"/content/drive/My Drive/Colab Notebooks/corruption.csv\")\n",
        "corruption_data"
      ],
      "execution_count": 59,
      "outputs": [
        {
          "output_type": "execute_result",
          "data": {
            "text/html": [
              "<div>\n",
              "<style scoped>\n",
              "    .dataframe tbody tr th:only-of-type {\n",
              "        vertical-align: middle;\n",
              "    }\n",
              "\n",
              "    .dataframe tbody tr th {\n",
              "        vertical-align: top;\n",
              "    }\n",
              "\n",
              "    .dataframe thead th {\n",
              "        text-align: right;\n",
              "    }\n",
              "</style>\n",
              "<table border=\"1\" class=\"dataframe\">\n",
              "  <thead>\n",
              "    <tr style=\"text-align: right;\">\n",
              "      <th></th>\n",
              "      <th>country</th>\n",
              "      <th>continent</th>\n",
              "      <th>contsize</th>\n",
              "      <th>contpop</th>\n",
              "      <th>eu</th>\n",
              "      <th>ethnic_frac</th>\n",
              "      <th>corruption</th>\n",
              "      <th>torture</th>\n",
              "      <th>globalization</th>\n",
              "      <th>envtreaties</th>\n",
              "      <th>envhealth</th>\n",
              "      <th>envperform</th>\n",
              "      <th>fragility</th>\n",
              "      <th>inequality</th>\n",
              "      <th>democracy</th>\n",
              "      <th>gdppc</th>\n",
              "      <th>population</th>\n",
              "      <th>econfreedom</th>\n",
              "      <th>deathrate</th>\n",
              "      <th>gdpgrowth</th>\n",
              "      <th>beaches</th>\n",
              "      <th>govteffect</th>\n",
              "      <th>noviolence</th>\n",
              "      <th>ruleoflaw</th>\n",
              "    </tr>\n",
              "  </thead>\n",
              "  <tbody>\n",
              "    <tr>\n",
              "      <th>0</th>\n",
              "      <td>Afghanistan</td>\n",
              "      <td>asia</td>\n",
              "      <td>17212</td>\n",
              "      <td>4545133</td>\n",
              "      <td>0</td>\n",
              "      <td>0.769345</td>\n",
              "      <td>64.000626</td>\n",
              "      <td>4</td>\n",
              "      <td>32.171211</td>\n",
              "      <td>47</td>\n",
              "      <td>52.090000</td>\n",
              "      <td>39.700001</td>\n",
              "      <td>107.900001</td>\n",
              "      <td>7.2</td>\n",
              "      <td>3.083333</td>\n",
              "      <td>1282.6400</td>\n",
              "      <td>24988.090</td>\n",
              "      <td>48.900002</td>\n",
              "      <td>970.70001</td>\n",
              "      <td>3.933</td>\n",
              "      <td>0.922445</td>\n",
              "      <td>-1.331396</td>\n",
              "      <td>-2.411068</td>\n",
              "      <td>-1.445648</td>\n",
              "    </tr>\n",
              "    <tr>\n",
              "      <th>1</th>\n",
              "      <td>Albania</td>\n",
              "      <td>europe</td>\n",
              "      <td>3930</td>\n",
              "      <td>742648</td>\n",
              "      <td>0</td>\n",
              "      <td>0.220426</td>\n",
              "      <td>57.146229</td>\n",
              "      <td>6</td>\n",
              "      <td>60.653931</td>\n",
              "      <td>66</td>\n",
              "      <td>80.800003</td>\n",
              "      <td>72.360001</td>\n",
              "      <td>61.900002</td>\n",
              "      <td>4.2</td>\n",
              "      <td>8.083333</td>\n",
              "      <td>8516.7002</td>\n",
              "      <td>3215.990</td>\n",
              "      <td>66.900002</td>\n",
              "      <td>770.09998</td>\n",
              "      <td>1.827</td>\n",
              "      <td>0.047893</td>\n",
              "      <td>-0.085558</td>\n",
              "      <td>0.485986</td>\n",
              "      <td>-0.337862</td>\n",
              "    </tr>\n",
              "    <tr>\n",
              "      <th>2</th>\n",
              "      <td>Algeria</td>\n",
              "      <td>africa</td>\n",
              "      <td>11730</td>\n",
              "      <td>1287920</td>\n",
              "      <td>0</td>\n",
              "      <td>0.339400</td>\n",
              "      <td>60.690224</td>\n",
              "      <td>4</td>\n",
              "      <td>52.334721</td>\n",
              "      <td>82</td>\n",
              "      <td>76.220001</td>\n",
              "      <td>72.089996</td>\n",
              "      <td>79.599998</td>\n",
              "      <td>6.0</td>\n",
              "      <td>4.250000</td>\n",
              "      <td>5402.1699</td>\n",
              "      <td>36702.289</td>\n",
              "      <td>50.799999</td>\n",
              "      <td>406.39999</td>\n",
              "      <td>3.800</td>\n",
              "      <td>0.752228</td>\n",
              "      <td>-0.477553</td>\n",
              "      <td>-1.190535</td>\n",
              "      <td>-0.773168</td>\n",
              "    </tr>\n",
              "    <tr>\n",
              "      <th>3</th>\n",
              "      <td>Angola</td>\n",
              "      <td>africa</td>\n",
              "      <td>11730</td>\n",
              "      <td>1287920</td>\n",
              "      <td>0</td>\n",
              "      <td>0.786720</td>\n",
              "      <td>67.149948</td>\n",
              "      <td>4</td>\n",
              "      <td>40.037830</td>\n",
              "      <td>39</td>\n",
              "      <td>55.060001</td>\n",
              "      <td>50.919998</td>\n",
              "      <td>87.900002</td>\n",
              "      <td>9.6</td>\n",
              "      <td>3.250000</td>\n",
              "      <td>3771.2000</td>\n",
              "      <td>19618.430</td>\n",
              "      <td>47.700001</td>\n",
              "      <td>873.90002</td>\n",
              "      <td>4.804</td>\n",
              "      <td>0.428364</td>\n",
              "      <td>-1.123669</td>\n",
              "      <td>-0.333232</td>\n",
              "      <td>-1.118136</td>\n",
              "    </tr>\n",
              "    <tr>\n",
              "      <th>4</th>\n",
              "      <td>Argentina</td>\n",
              "      <td>south america</td>\n",
              "      <td>6890</td>\n",
              "      <td>428240</td>\n",
              "      <td>0</td>\n",
              "      <td>0.255000</td>\n",
              "      <td>63.824677</td>\n",
              "      <td>5</td>\n",
              "      <td>58.538410</td>\n",
              "      <td>114</td>\n",
              "      <td>94.279999</td>\n",
              "      <td>79.940002</td>\n",
              "      <td>47.599998</td>\n",
              "      <td>5.4</td>\n",
              "      <td>8.666666</td>\n",
              "      <td>15102.6100</td>\n",
              "      <td>40764.559</td>\n",
              "      <td>44.599998</td>\n",
              "      <td>808.29999</td>\n",
              "      <td>-2.513</td>\n",
              "      <td>0.352302</td>\n",
              "      <td>-0.159135</td>\n",
              "      <td>-0.005122</td>\n",
              "      <td>-0.886035</td>\n",
              "    </tr>\n",
              "    <tr>\n",
              "      <th>...</th>\n",
              "      <td>...</td>\n",
              "      <td>...</td>\n",
              "      <td>...</td>\n",
              "      <td>...</td>\n",
              "      <td>...</td>\n",
              "      <td>...</td>\n",
              "      <td>...</td>\n",
              "      <td>...</td>\n",
              "      <td>...</td>\n",
              "      <td>...</td>\n",
              "      <td>...</td>\n",
              "      <td>...</td>\n",
              "      <td>...</td>\n",
              "      <td>...</td>\n",
              "      <td>...</td>\n",
              "      <td>...</td>\n",
              "      <td>...</td>\n",
              "      <td>...</td>\n",
              "      <td>...</td>\n",
              "      <td>...</td>\n",
              "      <td>...</td>\n",
              "      <td>...</td>\n",
              "      <td>...</td>\n",
              "      <td>...</td>\n",
              "    </tr>\n",
              "    <tr>\n",
              "      <th>151</th>\n",
              "      <td>Uruguay</td>\n",
              "      <td>south america</td>\n",
              "      <td>6890</td>\n",
              "      <td>428240</td>\n",
              "      <td>0</td>\n",
              "      <td>0.250400</td>\n",
              "      <td>31.055574</td>\n",
              "      <td>7</td>\n",
              "      <td>66.627647</td>\n",
              "      <td>102</td>\n",
              "      <td>96.459999</td>\n",
              "      <td>74.239998</td>\n",
              "      <td>36.400002</td>\n",
              "      <td>4.2</td>\n",
              "      <td>10.000000</td>\n",
              "      <td>12804.8400</td>\n",
              "      <td>3380.010</td>\n",
              "      <td>69.300003</td>\n",
              "      <td>987.40002</td>\n",
              "      <td>3.239</td>\n",
              "      <td>0.142289</td>\n",
              "      <td>0.482786</td>\n",
              "      <td>0.991880</td>\n",
              "      <td>0.710575</td>\n",
              "    </tr>\n",
              "    <tr>\n",
              "      <th>152</th>\n",
              "      <td>Uzbekistan</td>\n",
              "      <td>asia</td>\n",
              "      <td>17212</td>\n",
              "      <td>4545133</td>\n",
              "      <td>0</td>\n",
              "      <td>0.412514</td>\n",
              "      <td>62.070217</td>\n",
              "      <td>3</td>\n",
              "      <td>39.428028</td>\n",
              "      <td>35</td>\n",
              "      <td>77.650002</td>\n",
              "      <td>64.769997</td>\n",
              "      <td>85.300003</td>\n",
              "      <td>7.0</td>\n",
              "      <td>0.250000</td>\n",
              "      <td>7370.7202</td>\n",
              "      <td>27760.270</td>\n",
              "      <td>46.500000</td>\n",
              "      <td>633.20001</td>\n",
              "      <td>8.000</td>\n",
              "      <td>1.645351</td>\n",
              "      <td>-0.628322</td>\n",
              "      <td>-0.273109</td>\n",
              "      <td>-1.129662</td>\n",
              "    </tr>\n",
              "    <tr>\n",
              "      <th>153</th>\n",
              "      <td>Venezuela</td>\n",
              "      <td>south america</td>\n",
              "      <td>6890</td>\n",
              "      <td>428240</td>\n",
              "      <td>0</td>\n",
              "      <td>0.496600</td>\n",
              "      <td>68.306488</td>\n",
              "      <td>3</td>\n",
              "      <td>51.118328</td>\n",
              "      <td>90</td>\n",
              "      <td>81.099998</td>\n",
              "      <td>77.570000</td>\n",
              "      <td>78.699997</td>\n",
              "      <td>6.7</td>\n",
              "      <td>5.166666</td>\n",
              "      <td>10513.9600</td>\n",
              "      <td>29436.891</td>\n",
              "      <td>36.299999</td>\n",
              "      <td>514.90002</td>\n",
              "      <td>-3.894</td>\n",
              "      <td>0.306087</td>\n",
              "      <td>-1.226764</td>\n",
              "      <td>-0.852002</td>\n",
              "      <td>-1.916324</td>\n",
              "    </tr>\n",
              "    <tr>\n",
              "      <th>154</th>\n",
              "      <td>Vietnam</td>\n",
              "      <td>asia</td>\n",
              "      <td>17212</td>\n",
              "      <td>4545133</td>\n",
              "      <td>0</td>\n",
              "      <td>0.238308</td>\n",
              "      <td>54.878067</td>\n",
              "      <td>3</td>\n",
              "      <td>56.685650</td>\n",
              "      <td>62</td>\n",
              "      <td>65.089996</td>\n",
              "      <td>56.810001</td>\n",
              "      <td>72.400002</td>\n",
              "      <td>5.5</td>\n",
              "      <td>1.583333</td>\n",
              "      <td>4147.5698</td>\n",
              "      <td>88792.000</td>\n",
              "      <td>50.799999</td>\n",
              "      <td>585.79999</td>\n",
              "      <td>5.984</td>\n",
              "      <td>0.111806</td>\n",
              "      <td>-0.070452</td>\n",
              "      <td>-0.022347</td>\n",
              "      <td>-0.359818</td>\n",
              "    </tr>\n",
              "    <tr>\n",
              "      <th>155</th>\n",
              "      <td>Zimbabwe</td>\n",
              "      <td>africa</td>\n",
              "      <td>11730</td>\n",
              "      <td>1287920</td>\n",
              "      <td>0</td>\n",
              "      <td>0.387400</td>\n",
              "      <td>59.026512</td>\n",
              "      <td>2</td>\n",
              "      <td>44.042419</td>\n",
              "      <td>48</td>\n",
              "      <td>64.959999</td>\n",
              "      <td>59.500000</td>\n",
              "      <td>100.000000</td>\n",
              "      <td>8.1</td>\n",
              "      <td>4.750000</td>\n",
              "      <td>15997.6700</td>\n",
              "      <td>12754.380</td>\n",
              "      <td>35.500000</td>\n",
              "      <td>1084.20000</td>\n",
              "      <td>10.565</td>\n",
              "      <td>0.499086</td>\n",
              "      <td>-1.210598</td>\n",
              "      <td>-0.713570</td>\n",
              "      <td>-1.431254</td>\n",
              "    </tr>\n",
              "  </tbody>\n",
              "</table>\n",
              "<p>156 rows × 24 columns</p>\n",
              "</div>"
            ],
            "text/plain": [
              "         country      continent  contsize  ...  govteffect  noviolence  ruleoflaw\n",
              "0    Afghanistan           asia     17212  ...   -1.331396   -2.411068  -1.445648\n",
              "1        Albania         europe      3930  ...   -0.085558    0.485986  -0.337862\n",
              "2        Algeria         africa     11730  ...   -0.477553   -1.190535  -0.773168\n",
              "3         Angola         africa     11730  ...   -1.123669   -0.333232  -1.118136\n",
              "4      Argentina  south america      6890  ...   -0.159135   -0.005122  -0.886035\n",
              "..           ...            ...       ...  ...         ...         ...        ...\n",
              "151      Uruguay  south america      6890  ...    0.482786    0.991880   0.710575\n",
              "152   Uzbekistan           asia     17212  ...   -0.628322   -0.273109  -1.129662\n",
              "153    Venezuela  south america      6890  ...   -1.226764   -0.852002  -1.916324\n",
              "154      Vietnam           asia     17212  ...   -0.070452   -0.022347  -0.359818\n",
              "155     Zimbabwe         africa     11730  ...   -1.210598   -0.713570  -1.431254\n",
              "\n",
              "[156 rows x 24 columns]"
            ]
          },
          "metadata": {
            "tags": []
          },
          "execution_count": 59
        }
      ]
    },
    {
      "cell_type": "code",
      "metadata": {
        "id": "8f_qQVD4Hj1Y",
        "colab_type": "code",
        "colab": {
          "base_uri": "https://localhost:8080/",
          "height": 442
        },
        "outputId": "35fc2e08-b71d-4b89-9053-333ebb271870"
      },
      "source": [
        "# estimate the coefficient of gdp per capita on corruption\n",
        "gdppc_model1 = smf.ols(formula='gdppc ~ corruption', data=corruption_data).fit()\n",
        "print(gdppc_model1.summary())"
      ],
      "execution_count": 67,
      "outputs": [
        {
          "output_type": "stream",
          "text": [
            "                            OLS Regression Results                            \n",
            "==============================================================================\n",
            "Dep. Variable:                  gdppc   R-squared:                       0.514\n",
            "Model:                            OLS   Adj. R-squared:                  0.511\n",
            "Method:                 Least Squares   F-statistic:                     162.8\n",
            "Date:                Wed, 25 Mar 2020   Prob (F-statistic):           6.73e-26\n",
            "Time:                        05:28:07   Log-Likelihood:                -1675.5\n",
            "No. Observations:                 156   AIC:                             3355.\n",
            "Df Residuals:                     154   BIC:                             3361.\n",
            "Df Model:                           1                                         \n",
            "Covariance Type:            nonrobust                                         \n",
            "==============================================================================\n",
            "                 coef    std err          t      P>|t|      [0.025      0.975]\n",
            "------------------------------------------------------------------------------\n",
            "Intercept   5.586e+04   3377.872     16.537      0.000    4.92e+04    6.25e+04\n",
            "corruption  -844.7475     66.206    -12.759      0.000    -975.537    -713.958\n",
            "==============================================================================\n",
            "Omnibus:                       83.146   Durbin-Watson:                   1.956\n",
            "Prob(Omnibus):                  0.000   Jarque-Bera (JB):              550.857\n",
            "Skew:                           1.813   Prob(JB):                    2.41e-120\n",
            "Kurtosis:                      11.461   Cond. No.                         191.\n",
            "==============================================================================\n",
            "\n",
            "Warnings:\n",
            "[1] Standard Errors assume that the covariance matrix of the errors is correctly specified.\n"
          ],
          "name": "stdout"
        }
      ]
    },
    {
      "cell_type": "code",
      "metadata": {
        "id": "-Ip0MRhpH_PT",
        "colab_type": "code",
        "colab": {
          "base_uri": "https://localhost:8080/",
          "height": 476
        },
        "outputId": "90b9c894-40ac-47e3-adb9-07ea34910a4b"
      },
      "source": [
        "# regression of gdp per capita (gdppc) on corruption, globalization and inequality\n",
        "gdppc_model2 = smf.ols(formula='gdppc ~ corruption + globalization + inequality', data=corruption_data).fit()\n",
        "print(gdppc_model2.summary())"
      ],
      "execution_count": 66,
      "outputs": [
        {
          "output_type": "stream",
          "text": [
            "                            OLS Regression Results                            \n",
            "==============================================================================\n",
            "Dep. Variable:                  gdppc   R-squared:                       0.623\n",
            "Model:                            OLS   Adj. R-squared:                  0.616\n",
            "Method:                 Least Squares   F-statistic:                     83.79\n",
            "Date:                Wed, 25 Mar 2020   Prob (F-statistic):           4.79e-32\n",
            "Time:                        05:27:53   Log-Likelihood:                -1655.7\n",
            "No. Observations:                 156   AIC:                             3319.\n",
            "Df Residuals:                     152   BIC:                             3332.\n",
            "Df Model:                           3                                         \n",
            "Covariance Type:            nonrobust                                         \n",
            "=================================================================================\n",
            "                    coef    std err          t      P>|t|      [0.025      0.975]\n",
            "---------------------------------------------------------------------------------\n",
            "Intercept       2.38e+04   9775.519      2.435      0.016    4491.555    4.31e+04\n",
            "corruption     -443.3114     86.099     -5.149      0.000    -613.417    -273.206\n",
            "globalization   335.7418     88.848      3.779      0.000     160.205     511.278\n",
            "inequality    -1348.2795    759.973     -1.774      0.078   -2849.753     153.194\n",
            "==============================================================================\n",
            "Omnibus:                      139.297   Durbin-Watson:                   2.254\n",
            "Prob(Omnibus):                  0.000   Jarque-Bera (JB):             2268.634\n",
            "Skew:                           3.162   Prob(JB):                         0.00\n",
            "Kurtosis:                      20.579   Cond. No.                         968.\n",
            "==============================================================================\n",
            "\n",
            "Warnings:\n",
            "[1] Standard Errors assume that the covariance matrix of the errors is correctly specified.\n"
          ],
          "name": "stdout"
        }
      ]
    },
    {
      "cell_type": "code",
      "metadata": {
        "id": "FaSDN7LXIdxZ",
        "colab_type": "code",
        "colab": {
          "base_uri": "https://localhost:8080/",
          "height": 102
        },
        "outputId": "9e5310ac-1216-4d7c-d9d8-74967e069989"
      },
      "source": [
        "# latex regression table\n",
        "gdppc_mode_result = Stargazer([gdppc_model1, gdppc_model2])\n",
        "Latex(gdppc_mode_result.render_latex())"
      ],
      "execution_count": 69,
      "outputs": [
        {
          "output_type": "execute_result",
          "data": {
            "text/latex": "\\begin{table}[!htbp] \\centering\n  \\label{}\n\\begin{tabular}{@{\\extracolsep{5pt}}lcc}\n\\\\[-1.8ex]\\hline\n\\hline \\\\[-1.8ex]\n& \\multicolumn{2}{c}{\\textit{Dependent variable:}} \\\n\\cr \\cline{2-3}\n\\\\[-1.8ex] & (1) & (2) \\\\\n\\hline \\\\[-1.8ex]\n Intercept & 55859.969$^{***}$ & 23804.99$^{**}$ \\\\\n  & (3377.872) & (9775.519) \\\\\n  & & \\\\\n corruption & -844.748$^{***}$ & -443.311$^{***}$ \\\\\n  & (66.206) & (86.099) \\\\\n  & & \\\\\n globalization & & 335.742$^{***}$ \\\\\n  & & (88.848) \\\\\n  & & \\\\\n inequality & & -1348.279$^{*}$ \\\\\n  & & (759.973) \\\\\n  & & \\\\\n\\hline \\\\[-1.8ex]\n Observations & 156.0 & 156.0 \\\\\n R${2}$ & 0.514 & 0.623 \\\\\n Adjusted R${2}$ & 0.511 & 0.616 \\\\\n Residual Std. Error & 11249.091(df = 154.0) & 9969.182(df = 152.0)  \\\\\n F Statistic & 162.801$^{***}$ (df = 1.0; 154.0) & 83.79$^{***}$ (df = 3.0; 152.0) \\\\\n\\hline\n\\hline \\\\[-1.8ex]\n\\textit{Note:} & \\multicolumn{2}{r}{$^{*}$p$<$0.1; $^{**}$p$<$0.05; $^{***}$p$<$0.01} \\\\\n\\end{tabular}\n\\end{table}",
            "text/plain": [
              "<IPython.core.display.Latex object>"
            ]
          },
          "metadata": {
            "tags": []
          },
          "execution_count": 69
        }
      ]
    },
    {
      "cell_type": "markdown",
      "metadata": {
        "id": "QPdDfd4_HwTk",
        "colab_type": "text"
      },
      "source": [
        "## Q6\n",
        "Assumptions:\n",
        "- (a) Explain what each of the Gauss Markov assumptions mean in 1-2 sentences that would make sense to someone with limited knowledge of statistics. (Don’t just rewrite what I put on the slides. The goal is to express the assumptions in your own words.)\n",
        "- (b) Violating which assumption(s) lead to biased coefficient estimates? Why?\n",
        "- (c) Violating which assumption(s) lead to inefficient estimates? Why?\n",
        "- (d) Why does it matter if $\\hat \\beta $ is normally distributed with mean $\\beta $ and variance $\\sigma^2 (X^\\prime X)^-1 $ for our research?"
      ]
    }
  ]
}