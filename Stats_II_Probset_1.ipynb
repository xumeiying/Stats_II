{
  "nbformat": 4,
  "nbformat_minor": 0,
  "metadata": {
    "colab": {
      "name": "Stats_II_Probset_1.ipynb",
      "provenance": [],
      "mount_file_id": "1u5xBRoNMvlTi2NwSSkgHR-awQo54GSBh",
      "authorship_tag": "ABX9TyNP5bcD0QOJGXjTAk8oyD4V",
      "include_colab_link": true
    },
    "kernelspec": {
      "name": "python3",
      "display_name": "Python 3"
    }
  },
  "cells": [
    {
      "cell_type": "markdown",
      "metadata": {
        "id": "view-in-github",
        "colab_type": "text"
      },
      "source": [
        "<a href=\"https://colab.research.google.com/github/xumeiying/XMY/blob/master/Stats_II_Probset_1.ipynb\" target=\"_parent\"><img src=\"https://colab.research.google.com/assets/colab-badge.svg\" alt=\"Open In Colab\"/></a>"
      ]
    },
    {
      "cell_type": "markdown",
      "metadata": {
        "id": "ka5Eoc5IeLvu",
        "colab_type": "text"
      },
      "source": [
        "# Problem Set 1 GOV 391L, Spring 2020"
      ]
    },
    {
      "cell_type": "code",
      "metadata": {
        "id": "891YaU1SdFVK",
        "colab_type": "code",
        "colab": {}
      },
      "source": [
        "# load packages\n",
        "import numpy as np\n",
        "import pandas as pd\n",
        "\n",
        "from sklearn import linear_model\n",
        "from sklearn.linear_model import LinearRegression\n",
        "\n",
        "import statsmodels.api as sm\n",
        "import statsmodels.formula.api as smf\n",
        "\n",
        "import matplotlib.pyplot as plt\n",
        "import matplotlib as mpl\n",
        "%matplotlib inline \n",
        "from matplotlib import rc\n",
        "import seaborn as sns"
      ],
      "execution_count": 0,
      "outputs": []
    },
    {
      "cell_type": "markdown",
      "metadata": {
        "id": "pfCCMfVEeVxY",
        "colab_type": "text"
      },
      "source": [
        "## Q1\n",
        "Below is a toy data set of three variables measured in ten U.S. states: births per 1,000 people, per capita income in thousands of dollars (U.S.), and the percent of the population that identifies as religious.\n",
        "\n",
        "| State      | Births | Income  | Religious |\n",
        "| -----------|:------:| -------:| ---------: |\n",
        "| Arizona    |12.5    | 25.7 | 73 |\n",
        "|Arkansas    |13.1    |22.9|82|\n",
        "|Connecticut |10      |39.4|77|\n",
        "|Delaware    |11.8    |30.5|77|\n",
        "|Florida     |11.1|26.6|70|\n",
        "|Indiana     |12.7|25.1|74|\n",
        "|Louisiana   |13.9|24.8|87|\n",
        "|Montana     |12.2|26|70|\n",
        "|North Dakota|14.9|33.1|80|\n",
        "|Virginia    |12.3|34.1|80|\n",
        "\n",
        "All parameters for this question should be calculated using the summation formulas we went over in the second lecture. R can only be used for arithmetic (i.e. the `sum`, `mean`, and `sqrt` functions are fine, `var`, `cov`, and `lm` are not.)\n",
        "\n",
        "- (a) Write the model you would use to estimate the regression of birth rate on income and religiosity.\n",
        "- (b) Calculate the values of $b_{0}$, $b_{1}$, and $b_{2}$ using OLS.\n",
        "- (c) Describe, in substantive terms, what $b_{0}$, $b_{1}$, and $b_{2}$ say about the relationship between\n",
        "birth rate, income and religiosity.\n",
        "- (d) If income were measured in dollars instead of thousands of dollars, would your coefficient estimates from part (a) change? If so, how?\n",
        "- (e) Calculate the residuals for the ten states. Based on these residuals, do you see any patterns that suggest another explanatory factor might be added to this model?\n",
        "- (f) What is the sum of the residuals?\n",
        "- (g) Estimate the standard error for the covariate on income. (The $R^{2}$ from regressing income on religiosity is 0.0003765.)\n",
        "- (h) Estimate the standard error for the covariate on income if $n = 50$ but the summations remain the same (unlikely, but humor me.)"
      ]
    },
    {
      "cell_type": "markdown",
      "metadata": {
        "id": "6jiV7BcYugFg",
        "colab_type": "text"
      },
      "source": [
        "### (a)(b)(c)\n",
        "The model shows that \n",
        "- the average birth rate in the 11 states is 2.7465 births per 1000 people when per capita income is zero and there are no religious people  \n",
        "- every 1000 dollar increase of per capita income is associated with 0.0176 less birth per 1,000 people\n",
        "- every 1 percent increase of religious people is associated with 0.1324 more birth per 1,000 people\n",
        "\n",
        "\n",
        "\n"
      ]
    },
    {
      "cell_type": "code",
      "metadata": {
        "id": "Lecu0-rceEDv",
        "colab_type": "code",
        "outputId": "8077b6d7-95cd-477b-99f6-5d59959cfaee",
        "colab": {
          "base_uri": "https://localhost:8080/",
          "height": 204
        }
      },
      "source": [
        "# build dataset\n",
        "from pandas import DataFrame\n",
        "dataseta = {\"State\": [\"Arizona\", \"Arkansas\", \"Connecticut\", \"Delaware\", \"Florida\",\"Indiana\", \"Louisiana\",\"Montana\",\"North Dakota\",\"Virginia\"],\n",
        "            \"Birth\":[12.5, 13.1, 10, 11.8, 11.1, 12.7, 13.9, 12.2, 14.9, 12.3],\n",
        "            \"Income\": [25.7, 22.9, 29.4, 30.5,26.6, 25.1, 24.8, 26, 33.1, 34.1],\n",
        "            \"Religious\":[73, 82, 77,77,70, 74,87, 70, 80,80]}\n",
        "dfa = DataFrame(dataseta, columns=[\"State\", \"Birth\", \"Income\", \"Religious\"])\n",
        "print(dfa)"
      ],
      "execution_count": 0,
      "outputs": [
        {
          "output_type": "stream",
          "text": [
            "          State  Birth  Income  Religious\n",
            "0       Arizona   12.5    25.7         73\n",
            "1      Arkansas   13.1    22.9         82\n",
            "2   Connecticut   10.0    29.4         77\n",
            "3      Delaware   11.8    30.5         77\n",
            "4       Florida   11.1    26.6         70\n",
            "5       Indiana   12.7    25.1         74\n",
            "6     Louisiana   13.9    24.8         87\n",
            "7       Montana   12.2    26.0         70\n",
            "8  North Dakota   14.9    33.1         80\n",
            "9      Virginia   12.3    34.1         80\n"
          ],
          "name": "stdout"
        }
      ]
    },
    {
      "cell_type": "code",
      "metadata": {
        "id": "ibiOgQ0TVPHi",
        "colab_type": "code",
        "outputId": "2e6f618e-6555-4372-bc81-7d9fe1fb6528",
        "colab": {
          "base_uri": "https://localhost:8080/",
          "height": 541
        }
      },
      "source": [
        "# plot \n",
        "X1 = dfa[[\"Income\"]].values\n",
        "Y = dfa[\"Birth\"]\n",
        "model1 = sm.OLS(Y, X1).fit() \n",
        "Y1_hat = model1.predict()\n",
        "plt.scatter(X1, Y)\n",
        "plt.plot(X1, Y1_hat, color='red')\n",
        "plt.xlabel(\"Income\")\n",
        "plt.ylabel(\"Birth\")\n",
        "plt.show()\n",
        "\n",
        "X2 = dfa[[\"Religious\"]].values\n",
        "model1 = sm.OLS(Y, X2).fit() \n",
        "Y2_hat = model1.predict()\n",
        "plt.scatter(X2, Y)\n",
        "plt.plot(X2, Y2_hat, color='Purple')\n",
        "plt.xlabel(\"Religiosity\")\n",
        "plt.ylabel(\"Birth\")\n",
        "plt.show()"
      ],
      "execution_count": 0,
      "outputs": [
        {
          "output_type": "display_data",
          "data": {
            "image/png": "[encoded data removed]",
            "text/plain": [
              "<Figure size 432x288 with 1 Axes>"
            ]
          },
          "metadata": {
            "tags": []
          }
        },
        {
          "output_type": "display_data",
          "data": {
            "image/png": "[encoded data removed]",
            "text/plain": [
              "<Figure size 432x288 with 1 Axes>"
            ]
          },
          "metadata": {
            "tags": []
          }
        }
      ]
    },
    {
      "cell_type": "code",
      "metadata": {
        "id": "iumqDVZUjyy4",
        "colab_type": "code",
        "outputId": "a7f625dc-4b61-4dec-bd16-fccc1fd5d27b",
        "colab": {
          "base_uri": "https://localhost:8080/",
          "height": 553
        }
      },
      "source": [
        "# construct model\n",
        "Y = dfa[\"Birth\"]\n",
        "X = dfa[[\"Income\", \"Religious\"]].values\n",
        "X = sm.add_constant(X) # adding a constant\n",
        "model = sm.OLS(Y, X).fit()\n",
        "model.summary()"
      ],
      "execution_count": 0,
      "outputs": [
        {
          "output_type": "stream",
          "text": [
            "/usr/local/lib/python3.6/dist-packages/scipy/stats/stats.py:1535: UserWarning: kurtosistest only valid for n>=20 ... continuing anyway, n=10\n",
            "  \"anyway, n=%i\" % int(n))\n"
          ],
          "name": "stderr"
        },
        {
          "output_type": "execute_result",
          "data": {
            "text/html": [
              "<table class=\"simpletable\">\n",
              "<caption>OLS Regression Results</caption>\n",
              "<tr>\n",
              "  <th>Dep. Variable:</th>          <td>Birth</td>      <th>  R-squared:         </th> <td>   0.273</td>\n",
              "</tr>\n",
              "<tr>\n",
              "  <th>Model:</th>                   <td>OLS</td>       <th>  Adj. R-squared:    </th> <td>   0.065</td>\n",
              "</tr>\n",
              "<tr>\n",
              "  <th>Method:</th>             <td>Least Squares</td>  <th>  F-statistic:       </th> <td>   1.313</td>\n",
              "</tr>\n",
              "<tr>\n",
              "  <th>Date:</th>             <td>Fri, 20 Mar 2020</td> <th>  Prob (F-statistic):</th>  <td> 0.328</td> \n",
              "</tr>\n",
              "<tr>\n",
              "  <th>Time:</th>                 <td>21:16:07</td>     <th>  Log-Likelihood:    </th> <td> -15.227</td>\n",
              "</tr>\n",
              "<tr>\n",
              "  <th>No. Observations:</th>      <td>    10</td>      <th>  AIC:               </th> <td>   36.45</td>\n",
              "</tr>\n",
              "<tr>\n",
              "  <th>Df Residuals:</th>          <td>     7</td>      <th>  BIC:               </th> <td>   37.36</td>\n",
              "</tr>\n",
              "<tr>\n",
              "  <th>Df Model:</th>              <td>     2</td>      <th>                     </th>     <td> </td>   \n",
              "</tr>\n",
              "<tr>\n",
              "  <th>Covariance Type:</th>      <td>nonrobust</td>    <th>                     </th>     <td> </td>   \n",
              "</tr>\n",
              "</table>\n",
              "<table class=\"simpletable\">\n",
              "<tr>\n",
              "    <td></td>       <th>coef</th>     <th>std err</th>      <th>t</th>      <th>P>|t|</th>  <th>[0.025</th>    <th>0.975]</th>  \n",
              "</tr>\n",
              "<tr>\n",
              "  <th>const</th> <td>    2.7465</td> <td>    6.822</td> <td>    0.403</td> <td> 0.699</td> <td>  -13.386</td> <td>   18.879</td>\n",
              "</tr>\n",
              "<tr>\n",
              "  <th>x1</th>    <td>   -0.0176</td> <td>    0.118</td> <td>   -0.149</td> <td> 0.886</td> <td>   -0.297</td> <td>    0.262</td>\n",
              "</tr>\n",
              "<tr>\n",
              "  <th>x2</th>    <td>    0.1324</td> <td>    0.082</td> <td>    1.621</td> <td> 0.149</td> <td>   -0.061</td> <td>    0.326</td>\n",
              "</tr>\n",
              "</table>\n",
              "<table class=\"simpletable\">\n",
              "<tr>\n",
              "  <th>Omnibus:</th>       <td> 2.621</td> <th>  Durbin-Watson:     </th> <td>   1.606</td>\n",
              "</tr>\n",
              "<tr>\n",
              "  <th>Prob(Omnibus):</th> <td> 0.270</td> <th>  Jarque-Bera (JB):  </th> <td>   0.360</td>\n",
              "</tr>\n",
              "<tr>\n",
              "  <th>Skew:</th>          <td>-0.299</td> <th>  Prob(JB):          </th> <td>   0.835</td>\n",
              "</tr>\n",
              "<tr>\n",
              "  <th>Kurtosis:</th>      <td> 3.712</td> <th>  Cond. No.          </th> <td>1.33e+03</td>\n",
              "</tr>\n",
              "</table><br/><br/>Warnings:<br/>[1] Standard Errors assume that the covariance matrix of the errors is correctly specified.<br/>[2] The condition number is large, 1.33e+03. This might indicate that there are<br/>strong multicollinearity or other numerical problems."
            ],
            "text/plain": [
              "<class 'statsmodels.iolib.summary.Summary'>\n",
              "\"\"\"\n",
              "                            OLS Regression Results                            \n",
              "==============================================================================\n",
              "Dep. Variable:                  Birth   R-squared:                       0.273\n",
              "Model:                            OLS   Adj. R-squared:                  0.065\n",
              "Method:                 Least Squares   F-statistic:                     1.313\n",
              "Date:                Fri, 20 Mar 2020   Prob (F-statistic):              0.328\n",
              "Time:                        21:16:07   Log-Likelihood:                -15.227\n",
              "No. Observations:                  10   AIC:                             36.45\n",
              "Df Residuals:                       7   BIC:                             37.36\n",
              "Df Model:                           2                                         \n",
              "Covariance Type:            nonrobust                                         \n",
              "==============================================================================\n",
              "                 coef    std err          t      P>|t|      [0.025      0.975]\n",
              "------------------------------------------------------------------------------\n",
              "const          2.7465      6.822      0.403      0.699     -13.386      18.879\n",
              "x1            -0.0176      0.118     -0.149      0.886      -0.297       0.262\n",
              "x2             0.1324      0.082      1.621      0.149      -0.061       0.326\n",
              "==============================================================================\n",
              "Omnibus:                        2.621   Durbin-Watson:                   1.606\n",
              "Prob(Omnibus):                  0.270   Jarque-Bera (JB):                0.360\n",
              "Skew:                          -0.299   Prob(JB):                        0.835\n",
              "Kurtosis:                       3.712   Cond. No.                     1.33e+03\n",
              "==============================================================================\n",
              "\n",
              "Warnings:\n",
              "[1] Standard Errors assume that the covariance matrix of the errors is correctly specified.\n",
              "[2] The condition number is large, 1.33e+03. This might indicate that there are\n",
              "strong multicollinearity or other numerical problems.\n",
              "\"\"\""
            ]
          },
          "metadata": {
            "tags": []
          },
          "execution_count": 77
        }
      ]
    },
    {
      "cell_type": "markdown",
      "metadata": {
        "id": "XlzBH7AG03Oa",
        "colab_type": "text"
      },
      "source": [
        "###(d)\n",
        "If income were measured in dollars instead of thousands of dollars, then 1 dollar increase in per capita income is associated with -1.761e-05 less birth per 1,000 people."
      ]
    },
    {
      "cell_type": "code",
      "metadata": {
        "id": "QPAm97iRwYKX",
        "colab_type": "code",
        "outputId": "710bc2a8-fa15-41d3-c80e-08275d3005d9",
        "colab": {
          "base_uri": "https://localhost:8080/",
          "height": 359
        }
      },
      "source": [
        "# If income were measured in dollars instead of thousands of dollars, would your coefficient estimates from part (a) change?\n",
        "Income_in_dollars = np.array([25.7, 22.9, 29.4, 30.5,26.6, 25.1, 24.8, 26, 33.1, 34.1])*1000\n",
        "dfa.insert(3, \"Income_in_dollars\", Income_in_dollars, True)\n",
        "dfa"
      ],
      "execution_count": 0,
      "outputs": [
        {
          "output_type": "execute_result",
          "data": {
            "text/html": [
              "<div>\n",
              "<style scoped>\n",
              "    .dataframe tbody tr th:only-of-type {\n",
              "        vertical-align: middle;\n",
              "    }\n",
              "\n",
              "    .dataframe tbody tr th {\n",
              "        vertical-align: top;\n",
              "    }\n",
              "\n",
              "    .dataframe thead th {\n",
              "        text-align: right;\n",
              "    }\n",
              "</style>\n",
              "<table border=\"1\" class=\"dataframe\">\n",
              "  <thead>\n",
              "    <tr style=\"text-align: right;\">\n",
              "      <th></th>\n",
              "      <th>State</th>\n",
              "      <th>Birth</th>\n",
              "      <th>Income</th>\n",
              "      <th>Income_in_dollars</th>\n",
              "      <th>Religious</th>\n",
              "    </tr>\n",
              "  </thead>\n",
              "  <tbody>\n",
              "    <tr>\n",
              "      <th>0</th>\n",
              "      <td>Arizona</td>\n",
              "      <td>12.5</td>\n",
              "      <td>25.7</td>\n",
              "      <td>25700.0</td>\n",
              "      <td>73</td>\n",
              "    </tr>\n",
              "    <tr>\n",
              "      <th>1</th>\n",
              "      <td>Arkansas</td>\n",
              "      <td>13.1</td>\n",
              "      <td>22.9</td>\n",
              "      <td>22900.0</td>\n",
              "      <td>82</td>\n",
              "    </tr>\n",
              "    <tr>\n",
              "      <th>2</th>\n",
              "      <td>Connecticut</td>\n",
              "      <td>10.0</td>\n",
              "      <td>29.4</td>\n",
              "      <td>29400.0</td>\n",
              "      <td>77</td>\n",
              "    </tr>\n",
              "    <tr>\n",
              "      <th>3</th>\n",
              "      <td>Delaware</td>\n",
              "      <td>11.8</td>\n",
              "      <td>30.5</td>\n",
              "      <td>30500.0</td>\n",
              "      <td>77</td>\n",
              "    </tr>\n",
              "    <tr>\n",
              "      <th>4</th>\n",
              "      <td>Florida</td>\n",
              "      <td>11.1</td>\n",
              "      <td>26.6</td>\n",
              "      <td>26600.0</td>\n",
              "      <td>70</td>\n",
              "    </tr>\n",
              "    <tr>\n",
              "      <th>5</th>\n",
              "      <td>Indiana</td>\n",
              "      <td>12.7</td>\n",
              "      <td>25.1</td>\n",
              "      <td>25100.0</td>\n",
              "      <td>74</td>\n",
              "    </tr>\n",
              "    <tr>\n",
              "      <th>6</th>\n",
              "      <td>Louisiana</td>\n",
              "      <td>13.9</td>\n",
              "      <td>24.8</td>\n",
              "      <td>24800.0</td>\n",
              "      <td>87</td>\n",
              "    </tr>\n",
              "    <tr>\n",
              "      <th>7</th>\n",
              "      <td>Montana</td>\n",
              "      <td>12.2</td>\n",
              "      <td>26.0</td>\n",
              "      <td>26000.0</td>\n",
              "      <td>70</td>\n",
              "    </tr>\n",
              "    <tr>\n",
              "      <th>8</th>\n",
              "      <td>North Dakota</td>\n",
              "      <td>14.9</td>\n",
              "      <td>33.1</td>\n",
              "      <td>33100.0</td>\n",
              "      <td>80</td>\n",
              "    </tr>\n",
              "    <tr>\n",
              "      <th>9</th>\n",
              "      <td>Virginia</td>\n",
              "      <td>12.3</td>\n",
              "      <td>34.1</td>\n",
              "      <td>34100.0</td>\n",
              "      <td>80</td>\n",
              "    </tr>\n",
              "  </tbody>\n",
              "</table>\n",
              "</div>"
            ],
            "text/plain": [
              "          State  Birth  Income  Income_in_dollars  Religious\n",
              "0       Arizona   12.5    25.7            25700.0         73\n",
              "1      Arkansas   13.1    22.9            22900.0         82\n",
              "2   Connecticut   10.0    29.4            29400.0         77\n",
              "3      Delaware   11.8    30.5            30500.0         77\n",
              "4       Florida   11.1    26.6            26600.0         70\n",
              "5       Indiana   12.7    25.1            25100.0         74\n",
              "6     Louisiana   13.9    24.8            24800.0         87\n",
              "7       Montana   12.2    26.0            26000.0         70\n",
              "8  North Dakota   14.9    33.1            33100.0         80\n",
              "9      Virginia   12.3    34.1            34100.0         80"
            ]
          },
          "metadata": {
            "tags": []
          },
          "execution_count": 78
        }
      ]
    },
    {
      "cell_type": "code",
      "metadata": {
        "id": "5-KLb6UDz9L8",
        "colab_type": "code",
        "outputId": "e8b1b9e1-4d21-40c9-d942-fd06a21b5868",
        "colab": {
          "base_uri": "https://localhost:8080/",
          "height": 553
        }
      },
      "source": [
        "Y = dfa[\"Birth\"]\n",
        "X2 = dfa[[\"Income_in_dollars\", \"Religious\"]].values\n",
        "X2 = sm.add_constant(X2) # adding a constant\n",
        "model2 = sm.OLS(Y, X2).fit()\n",
        "predictions = model2.predict(X) \n",
        "model2.summary()"
      ],
      "execution_count": 0,
      "outputs": [
        {
          "output_type": "stream",
          "text": [
            "/usr/local/lib/python3.6/dist-packages/scipy/stats/stats.py:1535: UserWarning: kurtosistest only valid for n>=20 ... continuing anyway, n=10\n",
            "  \"anyway, n=%i\" % int(n))\n"
          ],
          "name": "stderr"
        },
        {
          "output_type": "execute_result",
          "data": {
            "text/html": [
              "<table class=\"simpletable\">\n",
              "<caption>OLS Regression Results</caption>\n",
              "<tr>\n",
              "  <th>Dep. Variable:</th>          <td>Birth</td>      <th>  R-squared:         </th> <td>   0.273</td>\n",
              "</tr>\n",
              "<tr>\n",
              "  <th>Model:</th>                   <td>OLS</td>       <th>  Adj. R-squared:    </th> <td>   0.065</td>\n",
              "</tr>\n",
              "<tr>\n",
              "  <th>Method:</th>             <td>Least Squares</td>  <th>  F-statistic:       </th> <td>   1.313</td>\n",
              "</tr>\n",
              "<tr>\n",
              "  <th>Date:</th>             <td>Fri, 20 Mar 2020</td> <th>  Prob (F-statistic):</th>  <td> 0.328</td> \n",
              "</tr>\n",
              "<tr>\n",
              "  <th>Time:</th>                 <td>21:16:07</td>     <th>  Log-Likelihood:    </th> <td> -15.227</td>\n",
              "</tr>\n",
              "<tr>\n",
              "  <th>No. Observations:</th>      <td>    10</td>      <th>  AIC:               </th> <td>   36.45</td>\n",
              "</tr>\n",
              "<tr>\n",
              "  <th>Df Residuals:</th>          <td>     7</td>      <th>  BIC:               </th> <td>   37.36</td>\n",
              "</tr>\n",
              "<tr>\n",
              "  <th>Df Model:</th>              <td>     2</td>      <th>                     </th>     <td> </td>   \n",
              "</tr>\n",
              "<tr>\n",
              "  <th>Covariance Type:</th>      <td>nonrobust</td>    <th>                     </th>     <td> </td>   \n",
              "</tr>\n",
              "</table>\n",
              "<table class=\"simpletable\">\n",
              "<tr>\n",
              "    <td></td>       <th>coef</th>     <th>std err</th>      <th>t</th>      <th>P>|t|</th>  <th>[0.025</th>    <th>0.975]</th>  \n",
              "</tr>\n",
              "<tr>\n",
              "  <th>const</th> <td>    2.7465</td> <td>    6.822</td> <td>    0.403</td> <td> 0.699</td> <td>  -13.386</td> <td>   18.879</td>\n",
              "</tr>\n",
              "<tr>\n",
              "  <th>x1</th>    <td>-1.761e-05</td> <td>    0.000</td> <td>   -0.149</td> <td> 0.886</td> <td>   -0.000</td> <td>    0.000</td>\n",
              "</tr>\n",
              "<tr>\n",
              "  <th>x2</th>    <td>    0.1324</td> <td>    0.082</td> <td>    1.621</td> <td> 0.149</td> <td>   -0.061</td> <td>    0.326</td>\n",
              "</tr>\n",
              "</table>\n",
              "<table class=\"simpletable\">\n",
              "<tr>\n",
              "  <th>Omnibus:</th>       <td> 2.621</td> <th>  Durbin-Watson:     </th> <td>   1.606</td>\n",
              "</tr>\n",
              "<tr>\n",
              "  <th>Prob(Omnibus):</th> <td> 0.270</td> <th>  Jarque-Bera (JB):  </th> <td>   0.360</td>\n",
              "</tr>\n",
              "<tr>\n",
              "  <th>Skew:</th>          <td>-0.299</td> <th>  Prob(JB):          </th> <td>   0.835</td>\n",
              "</tr>\n",
              "<tr>\n",
              "  <th>Kurtosis:</th>      <td> 3.712</td> <th>  Cond. No.          </th> <td>4.56e+05</td>\n",
              "</tr>\n",
              "</table><br/><br/>Warnings:<br/>[1] Standard Errors assume that the covariance matrix of the errors is correctly specified.<br/>[2] The condition number is large, 4.56e+05. This might indicate that there are<br/>strong multicollinearity or other numerical problems."
            ],
            "text/plain": [
              "<class 'statsmodels.iolib.summary.Summary'>\n",
              "\"\"\"\n",
              "                            OLS Regression Results                            \n",
              "==============================================================================\n",
              "Dep. Variable:                  Birth   R-squared:                       0.273\n",
              "Model:                            OLS   Adj. R-squared:                  0.065\n",
              "Method:                 Least Squares   F-statistic:                     1.313\n",
              "Date:                Fri, 20 Mar 2020   Prob (F-statistic):              0.328\n",
              "Time:                        21:16:07   Log-Likelihood:                -15.227\n",
              "No. Observations:                  10   AIC:                             36.45\n",
              "Df Residuals:                       7   BIC:                             37.36\n",
              "Df Model:                           2                                         \n",
              "Covariance Type:            nonrobust                                         \n",
              "==============================================================================\n",
              "                 coef    std err          t      P>|t|      [0.025      0.975]\n",
              "------------------------------------------------------------------------------\n",
              "const          2.7465      6.822      0.403      0.699     -13.386      18.879\n",
              "x1         -1.761e-05      0.000     -0.149      0.886      -0.000       0.000\n",
              "x2             0.1324      0.082      1.621      0.149      -0.061       0.326\n",
              "==============================================================================\n",
              "Omnibus:                        2.621   Durbin-Watson:                   1.606\n",
              "Prob(Omnibus):                  0.270   Jarque-Bera (JB):                0.360\n",
              "Skew:                          -0.299   Prob(JB):                        0.835\n",
              "Kurtosis:                       3.712   Cond. No.                     4.56e+05\n",
              "==============================================================================\n",
              "\n",
              "Warnings:\n",
              "[1] Standard Errors assume that the covariance matrix of the errors is correctly specified.\n",
              "[2] The condition number is large, 4.56e+05. This might indicate that there are\n",
              "strong multicollinearity or other numerical problems.\n",
              "\"\"\""
            ]
          },
          "metadata": {
            "tags": []
          },
          "execution_count": 79
        }
      ]
    },
    {
      "cell_type": "markdown",
      "metadata": {
        "id": "axKnz5zgZ_DJ",
        "colab_type": "text"
      },
      "source": [
        "### (e)(f)\n",
        "By calculating the predicted value of Birth rate and the residuals, it seems that our model tends to systemetically underpredict the birth rates of [US Southern States](https://en.wikipedia.org/wiki/Southern_United_States). Therefore, it is necessary to introduce a new dummy variable, `if_south`, to account for the variations. \n",
        "\n",
        "The sum of squared residuals $SS_{r}$ is equal to $12.591944587847197$."
      ]
    },
    {
      "cell_type": "code",
      "metadata": {
        "id": "cJs800fYS3pd",
        "colab_type": "code",
        "outputId": "4966654c-bb8a-4513-c748-14294b62d8ba",
        "colab": {
          "base_uri": "https://localhost:8080/",
          "height": 359
        }
      },
      "source": [
        "# calculate residuals\n",
        "Y = dfa[\"Birth\"]\n",
        "X = dfa[[\"Income\", \"Religious\"]].values\n",
        "model = sm.OLS(Y, X).fit()\n",
        "Y_hat = model.predict()\n",
        "residuals = Y - Y_hat\n",
        "dfa.insert(2, \"Birth_predicted\", Y_hat, True)\n",
        "dfa.insert(3, \"residuals\", residuals, True)\n",
        "dfa"
      ],
      "execution_count": 0,
      "outputs": [
        {
          "output_type": "execute_result",
          "data": {
            "text/html": [
              "<div>\n",
              "<style scoped>\n",
              "    .dataframe tbody tr th:only-of-type {\n",
              "        vertical-align: middle;\n",
              "    }\n",
              "\n",
              "    .dataframe tbody tr th {\n",
              "        vertical-align: top;\n",
              "    }\n",
              "\n",
              "    .dataframe thead th {\n",
              "        text-align: right;\n",
              "    }\n",
              "</style>\n",
              "<table border=\"1\" class=\"dataframe\">\n",
              "  <thead>\n",
              "    <tr style=\"text-align: right;\">\n",
              "      <th></th>\n",
              "      <th>State</th>\n",
              "      <th>Birth</th>\n",
              "      <th>Birth_predicted</th>\n",
              "      <th>residuals</th>\n",
              "      <th>Income</th>\n",
              "      <th>Income_in_dollars</th>\n",
              "      <th>Religious</th>\n",
              "    </tr>\n",
              "  </thead>\n",
              "  <tbody>\n",
              "    <tr>\n",
              "      <th>0</th>\n",
              "      <td>Arizona</td>\n",
              "      <td>12.5</td>\n",
              "      <td>11.792680</td>\n",
              "      <td>0.707320</td>\n",
              "      <td>25.7</td>\n",
              "      <td>25700.0</td>\n",
              "      <td>73</td>\n",
              "    </tr>\n",
              "    <tr>\n",
              "      <th>1</th>\n",
              "      <td>Arkansas</td>\n",
              "      <td>13.1</td>\n",
              "      <td>13.240110</td>\n",
              "      <td>-0.140110</td>\n",
              "      <td>22.9</td>\n",
              "      <td>22900.0</td>\n",
              "      <td>82</td>\n",
              "    </tr>\n",
              "    <tr>\n",
              "      <th>2</th>\n",
              "      <td>Connecticut</td>\n",
              "      <td>10.0</td>\n",
              "      <td>12.441336</td>\n",
              "      <td>-2.441336</td>\n",
              "      <td>29.4</td>\n",
              "      <td>29400.0</td>\n",
              "      <td>77</td>\n",
              "    </tr>\n",
              "    <tr>\n",
              "      <th>3</th>\n",
              "      <td>Delaware</td>\n",
              "      <td>11.8</td>\n",
              "      <td>12.442527</td>\n",
              "      <td>-0.642527</td>\n",
              "      <td>30.5</td>\n",
              "      <td>30500.0</td>\n",
              "      <td>77</td>\n",
              "    </tr>\n",
              "    <tr>\n",
              "      <th>4</th>\n",
              "      <td>Florida</td>\n",
              "      <td>11.1</td>\n",
              "      <td>11.310168</td>\n",
              "      <td>-0.210168</td>\n",
              "      <td>26.6</td>\n",
              "      <td>26600.0</td>\n",
              "      <td>70</td>\n",
              "    </tr>\n",
              "    <tr>\n",
              "      <th>5</th>\n",
              "      <td>Indiana</td>\n",
              "      <td>12.7</td>\n",
              "      <td>11.953193</td>\n",
              "      <td>0.746807</td>\n",
              "      <td>25.1</td>\n",
              "      <td>25100.0</td>\n",
              "      <td>74</td>\n",
              "    </tr>\n",
              "    <tr>\n",
              "      <th>6</th>\n",
              "      <td>Louisiana</td>\n",
              "      <td>13.9</td>\n",
              "      <td>14.047979</td>\n",
              "      <td>-0.147979</td>\n",
              "      <td>24.8</td>\n",
              "      <td>24800.0</td>\n",
              "      <td>87</td>\n",
              "    </tr>\n",
              "    <tr>\n",
              "      <th>7</th>\n",
              "      <td>Montana</td>\n",
              "      <td>12.2</td>\n",
              "      <td>11.309518</td>\n",
              "      <td>0.890482</td>\n",
              "      <td>26.0</td>\n",
              "      <td>26000.0</td>\n",
              "      <td>70</td>\n",
              "    </tr>\n",
              "    <tr>\n",
              "      <th>8</th>\n",
              "      <td>North Dakota</td>\n",
              "      <td>14.9</td>\n",
              "      <td>12.928830</td>\n",
              "      <td>1.971170</td>\n",
              "      <td>33.1</td>\n",
              "      <td>33100.0</td>\n",
              "      <td>80</td>\n",
              "    </tr>\n",
              "    <tr>\n",
              "      <th>9</th>\n",
              "      <td>Virginia</td>\n",
              "      <td>12.3</td>\n",
              "      <td>12.929912</td>\n",
              "      <td>-0.629912</td>\n",
              "      <td>34.1</td>\n",
              "      <td>34100.0</td>\n",
              "      <td>80</td>\n",
              "    </tr>\n",
              "  </tbody>\n",
              "</table>\n",
              "</div>"
            ],
            "text/plain": [
              "          State  Birth  Birth_predicted  ...  Income  Income_in_dollars  Religious\n",
              "0       Arizona   12.5        11.792680  ...    25.7            25700.0         73\n",
              "1      Arkansas   13.1        13.240110  ...    22.9            22900.0         82\n",
              "2   Connecticut   10.0        12.441336  ...    29.4            29400.0         77\n",
              "3      Delaware   11.8        12.442527  ...    30.5            30500.0         77\n",
              "4       Florida   11.1        11.310168  ...    26.6            26600.0         70\n",
              "5       Indiana   12.7        11.953193  ...    25.1            25100.0         74\n",
              "6     Louisiana   13.9        14.047979  ...    24.8            24800.0         87\n",
              "7       Montana   12.2        11.309518  ...    26.0            26000.0         70\n",
              "8  North Dakota   14.9        12.928830  ...    33.1            33100.0         80\n",
              "9      Virginia   12.3        12.929912  ...    34.1            34100.0         80\n",
              "\n",
              "[10 rows x 7 columns]"
            ]
          },
          "metadata": {
            "tags": []
          },
          "execution_count": 80
        }
      ]
    },
    {
      "cell_type": "code",
      "metadata": {
        "id": "wkMMQhUgbxqB",
        "colab_type": "code",
        "outputId": "656c656a-bbf5-47c8-ddb5-e82be2541765",
        "colab": {
          "base_uri": "https://localhost:8080/",
          "height": 34
        }
      },
      "source": [
        "ssr = np.sum(residuals**2)\n",
        "print(ssr)"
      ],
      "execution_count": 0,
      "outputs": [
        {
          "output_type": "stream",
          "text": [
            "12.591944587847197\n"
          ],
          "name": "stdout"
        }
      ]
    },
    {
      "cell_type": "markdown",
      "metadata": {
        "id": "9BptL4Y-bP-Z",
        "colab_type": "text"
      },
      "source": [
        "### (g)(h)\n",
        "We will calculate the two standar errors by hand with the formula \n",
        "$ s.e.(b_{j})= \\frac{{\\sum(y_{i}-\\hat y)}}{\\sqrt{\\sum(x_{ij}-\\bar x_{j})^2 (1-R_{j}^2)(n-k)}}$.\n"
      ]
    },
    {
      "cell_type": "code",
      "metadata": {
        "id": "pkhj4Zsn1G_L",
        "colab_type": "code",
        "outputId": "e347d2d3-a2c7-47f3-ee06-bebc7802cdd3",
        "colab": {
          "base_uri": "https://localhost:8080/",
          "height": 187
        }
      },
      "source": [
        "Y = dfa[\"Birth\"]\n",
        "X = dfa[[\"Income\", \"Religious\"]].values\n",
        "model = sm.OLS(Y, X).fit()\n",
        "Y_hat = model.predict()\n",
        "x1 = dfa[[\"Income\"]].values\n",
        "x1_var = np.var(x1)\n",
        "y_hat_var = np.sum(Y - Y_hat)\n",
        "R_squared = 0.0003765\n",
        "n = 10\n",
        "k = 2\n",
        "print(\"x1_var =\", x1_var)\n",
        "print (\"y_hat_var\", y_hat_var)\n",
        "print(\"\\n ================= calculating results ================\")\n",
        "se_x1 = y_hat_var / (np.sqrt (x1_var) * (1-R_squared)*(n - k))\n",
        "print(\"\\n the standard error for the covariate on income is\", se_x1)\n",
        "print(\"\\n ================= humoring ===========================\")\n",
        "se_x1_2 = y_hat_var / (np.sqrt (x1_var) * (1-R_squared)*(50 - k))\n",
        "print(\"\\n the standard error for the covariate on income when n = 50 is\", se_x1_2)"
      ],
      "execution_count": 0,
      "outputs": [
        {
          "output_type": "stream",
          "text": [
            "x1_var = 12.701600000000003\n",
            "y_hat_var 0.10374627503827583\n",
            "\n",
            " ================= calculating results ================\n",
            "\n",
            " the standard error for the covariate on income is 0.003640129651448885\n",
            "\n",
            " ================= humoring ===========================\n",
            "\n",
            " the standard error for the covariate on income when n = 50 is 0.0006066882752414808\n"
          ],
          "name": "stdout"
        }
      ]
    },
    {
      "cell_type": "code",
      "metadata": {
        "id": "ThpDX7c6jcI6",
        "colab_type": "code",
        "outputId": "04f596dc-0a9a-42b7-9966-8f4867b8487c",
        "colab": {
          "base_uri": "https://localhost:8080/",
          "height": 34
        }
      },
      "source": [
        "se_x1 = np.sum(Y - Y_hat)/ (np.sqrt (x1_var) * (1-R_squared)*(n - k))\n",
        "print(round(se_x1,6))"
      ],
      "execution_count": 0,
      "outputs": [
        {
          "output_type": "stream",
          "text": [
            "0.00364\n"
          ],
          "name": "stdout"
        }
      ]
    },
    {
      "cell_type": "markdown",
      "metadata": {
        "id": "OgeI6F-AobdN",
        "colab_type": "text"
      },
      "source": [
        "## Q2\n",
        "You estimate the following model on a sample of 20 observations:\n",
        "$ \\hat Y = b_{0} + b_{1}X_{1} + b_{2}X_{2} + b_{3}X_{3} + b_{4}X_{4} $,\n",
        "and obtain the following results:\n",
        "\n",
        "| Variable  | Coefficient | S.E. |\n",
        "| ----------|:----------:| ----:|\n",
        "| Constant  |0.258       |0.391 | \n",
        "|$X_{1}$    |0.023       |0.006 |\n",
        "|$X_{2}$    |0.004       |0.004 |\n",
        "|$X_{3}$    |0.027       |0.021 |\n",
        "|$X_{4}$    |0.290       |0.165 |\n",
        "\n",
        "- (a) Calculate the t-statistics you would use to test the hypothesis $β_{j}\\neq 0 $ for each of the five estimated parameters.\n",
        "- (b) For which coefficients can you reject the null hypothesis $β_{j}= 0 $ with a significance level of $α = 0.05$?\n",
        "- (c) Construct 95% confidence intervals for each of the five estimated parameters."
      ]
    },
    {
      "cell_type": "markdown",
      "metadata": {
        "id": "zb3w1X6IM2ny",
        "colab_type": "text"
      },
      "source": [
        "### Solution\n",
        "The hypothesis are \n",
        "$$H_{0}: \\beta _{i} = 0$$\n",
        "$$H_{\\alpha}: \\beta _{i} \\neq 0$$\n",
        "The t-score is calculated as follow:\n",
        "$$t_{i} = \\frac {b_{i}−0}{s.e. (b_{i})}$$\n",
        "The critical value is calculated using the pdf function.\n",
        "\n",
        "We found that only $\\beta _{1} = 0.023  (0.0113,0.0347)$ is statistically significance at the 0.05 level. The other coefficients are not tatistically significance. \n",
        "\n",
        "The whole results are reported as follows\n",
        "- the t-statistics for $\\beta _{0} = 0.258 $ is $0.6598$ with a 95% confidence interval at $(-0.5018, 1.0178) $; we accept the null hypothesis as the coefficient is not statistically significant; \n",
        "- the t-statistics for $\\beta _{1} = 0.023 $ is $3.8333$ with a 95% confidence interval at $(0.0113, 0.0347)$; we reject the null hypothesis as the coefficient is statistically significant at 0.05 level;\n",
        "- the t-statistics for $\\beta _{2} = 0.004 $ is $1.0$ with a 95% confidence interval at $(-0.0038, 0.0118) $; we accept the null hypothesis as the coefficient is not statistically significant; \n",
        "- the t-statistics for $\\beta _{3} = 0.027 $ is $1.2857$ with a 95% confidence interval at $(-0.0138, 0.0678) $; we accept the null hypothesis as the coefficient is not statistically significant; \n",
        "- the t-statistics for $\\beta _{4} = 0.290 $ is $1.7576$ with a 95% confidence interval at $(-0.0306, 0.6106) $; we accept the null hypothesis as the coefficient is not statistically significant."
      ]
    },
    {
      "cell_type": "code",
      "metadata": {
        "id": "FGvTUNyQjwvQ",
        "colab_type": "code",
        "colab": {}
      },
      "source": [
        "# t-test function\n",
        "from scipy.stats import t\n",
        "def t_test (beta, se, N, k_q2, alpha_q1):\n",
        "    t_score = beta / se\n",
        "    df_q2 = n - k_q2\n",
        "    cv = t.ppf(1.0 - alpha_q1, df_q2) \n",
        "    CI_start = round((beta - cv * se), 4)\n",
        "    CI_end = round((beta + cv * se),4)\n",
        "    if abs(t_score) <= cv:\n",
        "\t    print('The t-statistics is', round(t_score,4), '; we accept the null hypothesis; \\n the coefficient is not statistically significant; \\n its 95% confidence interval is', (CI_start, CI_end))\n",
        "    else:\n",
        "\t    print('The t-statistics is', round(t_score,4), '; we reject the null hypothesis; \\n the coefficient is statistically significant at 0.05 level; \\n its 95% confidence interval is', (CI_start, CI_end))"
      ],
      "execution_count": 0,
      "outputs": []
    },
    {
      "cell_type": "code",
      "metadata": {
        "id": "ewmei66EOBIx",
        "colab_type": "code",
        "outputId": "447a52cc-03e7-4bdb-cf8b-17c961a5c22f",
        "colab": {
          "base_uri": "https://localhost:8080/",
          "height": 425
        }
      },
      "source": [
        "# t-test results\n",
        "print(\"t_test results of the beta_0 (0.258):\")\n",
        "t_test (0.258,0.391, 20, 4, 0.05)\n",
        "\n",
        "print(\"\\n t_test results of beta_1 (0.023):\")\n",
        "t_test(0.023, 0.006, 20, 4, 0.05)\n",
        "\n",
        "print(\"\\n t_test results of beta_2 coefficient (0.004):\")\n",
        "t_test(0.004, 0.004, 20, 4, 0.05)\n",
        "\n",
        "print(\"\\n t_test results of beta_3 coefficient (0.027):\")\n",
        "t_test(0.027, 0.021, 20, 4, 0.05)\n",
        "\n",
        "print(\"\\n t_test results of beta_4 coefficient (0.290):\")\n",
        "t_test(0.290, 0.165, 20, 4, 0.05)\n"
      ],
      "execution_count": 0,
      "outputs": [
        {
          "output_type": "stream",
          "text": [
            "t_test results of the beta_0 (0.258):\n",
            "The t-statistics is 0.6598 ; we accept the null hypothesis; \n",
            " the coefficient is not statistically significant; \n",
            " its 95% confidence interval is (-0.5018, 1.0178)\n",
            "\n",
            " t_test results of beta_1 (0.023):\n",
            "The t-statistics is 3.8333 ; we reject the null hypothesis; \n",
            " the coefficient is statistically significant at 0.05 level; \n",
            " its 95% confidence interval is (0.0113, 0.0347)\n",
            "\n",
            " t_test results of beta_2 coefficient (0.004):\n",
            "The t-statistics is 1.0 ; we accept the null hypothesis; \n",
            " the coefficient is not statistically significant; \n",
            " its 95% confidence interval is (-0.0038, 0.0118)\n",
            "\n",
            " t_test results of beta_3 coefficient (0.027):\n",
            "The t-statistics is 1.2857 ; we accept the null hypothesis; \n",
            " the coefficient is not statistically significant; \n",
            " its 95% confidence interval is (-0.0138, 0.0678)\n",
            "\n",
            " t_test results of beta_4 coefficient (0.290):\n",
            "The t-statistics is 1.7576 ; we accept the null hypothesis; \n",
            " the coefficient is not statistically significant; \n",
            " its 95% confidence interval is (-0.0306, 0.6106)\n"
          ],
          "name": "stdout"
        }
      ]
    },
    {
      "cell_type": "markdown",
      "metadata": {
        "id": "vIE3UC8MgYyb",
        "colab_type": "text"
      },
      "source": [
        "## Q3\n",
        "Given the following matrices, calculate the equations below (you can use `R` or calculate the equations by hand if you’re bored):\n",
        "$ X = \n",
        "\\begin{bmatrix}\n",
        "1 & 4 & 2 & 0.5\\\\\n",
        "1 & 3 & 6 & 0.8\\\\\n",
        "1 & 9 & 0 & 1.7\\\\\n",
        "1 & 5 & 3 & 2.4\n",
        "\\end{bmatrix}\n",
        "$ , and \n",
        "$Y= \n",
        "\\begin{bmatrix}\n",
        "1\\\\\n",
        "4\\\\\n",
        "3\\\\\n",
        "2\n",
        "\\end{bmatrix}\n",
        "$\n",
        "<br/>\n",
        "- (a) $X’X$\n",
        "- (b) $X’Y$\n",
        "- (c) $(X’X)^{-1}$\n",
        "\n",
        "### Solution\n",
        "$$X’X = \n",
        "\\begin{bmatrix}\n",
        " 1&4&2&0.5\\\\\n",
        " 4&9&54&4\\\\\n",
        " 2&54&0&5.1\\\\\n",
        " 0.5&4&5.1&5.76\n",
        "\\end{bmatrix}\n",
        "$$\n",
        "<br/> $$X’Y = \n",
        "\\begin{bmatrix}\n",
        " 1&1&1&1\\\\\n",
        " 16&12&36&20\\\\\n",
        " 6&18&0&9\\\\\n",
        " 1&1.6&3.4&4.8\n",
        "\\end{bmatrix}\n",
        "$$\n",
        "<br/> $$(X’X)^{-1} = \n",
        "\\begin{bmatrix}\n",
        " 1.39656356&-0.05158047&-0.09473938&-0.00152588\\\\\n",
        " -0.05158047  & 0.00365929  & 0.0231011&-0.0185178\\\\\n",
        " -0.09473938  &0.0231011  & 0.00400968&-0.01136876\\\\\n",
        " -0.00152588 & -0.0185178 & -0.01136876 & 0.19666924\n",
        "\\end{bmatrix}\n",
        "$$\n",
        "\n"
      ]
    },
    {
      "cell_type": "code",
      "metadata": {
        "id": "rJV63JAubRCd",
        "colab_type": "code",
        "outputId": "3be4eed8-1fff-4516-b5d9-795d355d83af",
        "colab": {
          "base_uri": "https://localhost:8080/",
          "height": 306
        }
      },
      "source": [
        "from numpy.linalg import inv\n",
        "X_q3 = np.array ([[1, 4, 2, 0.5],\n",
        "              [1, 3, 6, 0.8], \n",
        "              [1, 9, 0, 1.7], \n",
        "              [1, 5, 3, 2.4]])\n",
        "Y_q3 = np.array ([[1], \n",
        "              [4], \n",
        "              [3], \n",
        "              [2]])\n",
        "X_prime_X = X_q3.T * X_q3\n",
        "X_prime_Y = X_q3.T * Y_q3\n",
        "X_prime_X_inverse = inv(X_prime_X)\n",
        "print(\"X_prime_X = \\n\", X_prime_X)\n",
        "print(\"\\n X_prime_Y = \\n\", X_prime_Y)\n",
        "print(\"\\n X_prime_X_inverse = \\n\", X_prime_X_inverse)"
      ],
      "execution_count": 0,
      "outputs": [
        {
          "output_type": "stream",
          "text": [
            "X_prime_X = \n",
            " [[ 1.    4.    2.    0.5 ]\n",
            " [ 4.    9.   54.    4.  ]\n",
            " [ 2.   54.    0.    5.1 ]\n",
            " [ 0.5   4.    5.1   5.76]]\n",
            "\n",
            " X_prime_Y = \n",
            " [[ 1.   1.   1.   1. ]\n",
            " [16.  12.  36.  20. ]\n",
            " [ 6.  18.   0.   9. ]\n",
            " [ 1.   1.6  3.4  4.8]]\n",
            "\n",
            " X_prime_X_inverse = \n",
            " [[ 1.39656356 -0.05158047 -0.09473938 -0.00152588]\n",
            " [-0.05158047  0.00365929  0.0231011  -0.0185178 ]\n",
            " [-0.09473938  0.0231011   0.00400968 -0.01136876]\n",
            " [-0.00152588 -0.0185178  -0.01136876  0.19666924]]\n"
          ],
          "name": "stdout"
        }
      ]
    },
    {
      "cell_type": "markdown",
      "metadata": {
        "id": "s4hp2EjQyNqF",
        "colab_type": "text"
      },
      "source": [
        "## Q4\n",
        "Load the `happiness1.csv` file on Canvas into `R`. All parameters for this question should be calculated using matrix algebra commands in R (as opposed to the `lm` function, although you can double check your work with `lm`.)\n",
        "- (a) Create fours catterplots that plot infrastructure, unemployment, lifeexpectancy and rule of law against happiness.\n",
        "- (b) Load the data into `R` and write a generalizable script using OLS in matrix algebra form that will estimate $\\beta$ from: \n",
        "$$Happiness = \\beta_{0} + \\beta_{1}Infrastructure + \\beta_{2}Unemp + \\beta_{3}LifeExp + \\beta_{4}Law + \\varepsilon $$\n",
        "    Report your estimates for $\\beta$.\n",
        "- (c) Calculate the fitted values of $y$. Report the first five rows of the resulting vector.\n",
        "- (d) Calculate the sum of squared errors.\n",
        "- (e) Calculate $\\sigmaˆ{2}$.\n",
        "- (f) Calculate the standard errors for each of the values of $\\hat \\beta$. (Hint: If you’re getting error messages when trying to calculate the variance-covariance matrix, try following your estimate for $\\sigmaˆ{2}$ with $[1,1]$.)"
      ]
    },
    {
      "cell_type": "code",
      "metadata": {
        "id": "5KDlW-cwibu_",
        "colab_type": "code",
        "outputId": "c54cdd01-857c-49a7-81a0-5018591c6fff",
        "colab": {
          "base_uri": "https://localhost:8080/",
          "height": 419
        }
      },
      "source": [
        "# load data\n",
        "happiness_dada = pd.read_csv(\"/content/drive/My Drive/Colab Notebooks/happiness1.csv\")\n",
        "happiness_dada"
      ],
      "execution_count": 217,
      "outputs": [
        {
          "output_type": "execute_result",
          "data": {
            "text/html": [
              "<div>\n",
              "<style scoped>\n",
              "    .dataframe tbody tr th:only-of-type {\n",
              "        vertical-align: middle;\n",
              "    }\n",
              "\n",
              "    .dataframe tbody tr th {\n",
              "        vertical-align: top;\n",
              "    }\n",
              "\n",
              "    .dataframe thead th {\n",
              "        text-align: right;\n",
              "    }\n",
              "</style>\n",
              "<table border=\"1\" class=\"dataframe\">\n",
              "  <thead>\n",
              "    <tr style=\"text-align: right;\">\n",
              "      <th></th>\n",
              "      <th>country</th>\n",
              "      <th>happiness</th>\n",
              "      <th>infrastructure</th>\n",
              "      <th>unemployment</th>\n",
              "      <th>life_expectancy</th>\n",
              "      <th>rule_of_law</th>\n",
              "    </tr>\n",
              "  </thead>\n",
              "  <tbody>\n",
              "    <tr>\n",
              "      <th>0</th>\n",
              "      <td>Albania</td>\n",
              "      <td>4.813763</td>\n",
              "      <td>3.797320</td>\n",
              "      <td>17.490</td>\n",
              "      <td>77.998390</td>\n",
              "      <td>-0.337862</td>\n",
              "    </tr>\n",
              "    <tr>\n",
              "      <th>1</th>\n",
              "      <td>Algeria</td>\n",
              "      <td>6.354898</td>\n",
              "      <td>3.589957</td>\n",
              "      <td>10.600</td>\n",
              "      <td>75.635025</td>\n",
              "      <td>-0.773168</td>\n",
              "    </tr>\n",
              "    <tr>\n",
              "      <th>2</th>\n",
              "      <td>Angola</td>\n",
              "      <td>3.794838</td>\n",
              "      <td>2.249658</td>\n",
              "      <td>6.804</td>\n",
              "      <td>60.806732</td>\n",
              "      <td>-1.118136</td>\n",
              "    </tr>\n",
              "    <tr>\n",
              "      <th>3</th>\n",
              "      <td>Azerbaijan</td>\n",
              "      <td>5.251530</td>\n",
              "      <td>4.805580</td>\n",
              "      <td>4.910</td>\n",
              "      <td>71.724754</td>\n",
              "      <td>-0.672239</td>\n",
              "    </tr>\n",
              "    <tr>\n",
              "      <th>4</th>\n",
              "      <td>Argentina</td>\n",
              "      <td>6.671114</td>\n",
              "      <td>3.002204</td>\n",
              "      <td>7.268</td>\n",
              "      <td>76.134003</td>\n",
              "      <td>-0.886035</td>\n",
              "    </tr>\n",
              "    <tr>\n",
              "      <th>...</th>\n",
              "      <td>...</td>\n",
              "      <td>...</td>\n",
              "      <td>...</td>\n",
              "      <td>...</td>\n",
              "      <td>...</td>\n",
              "      <td>...</td>\n",
              "    </tr>\n",
              "    <tr>\n",
              "      <th>137</th>\n",
              "      <td>Burkina Faso</td>\n",
              "      <td>3.481348</td>\n",
              "      <td>2.369452</td>\n",
              "      <td>3.269</td>\n",
              "      <td>59.375294</td>\n",
              "      <td>-0.547253</td>\n",
              "    </tr>\n",
              "    <tr>\n",
              "      <th>138</th>\n",
              "      <td>Uruguay</td>\n",
              "      <td>6.561444</td>\n",
              "      <td>3.989287</td>\n",
              "      <td>6.460</td>\n",
              "      <td>76.982094</td>\n",
              "      <td>0.710575</td>\n",
              "    </tr>\n",
              "    <tr>\n",
              "      <th>139</th>\n",
              "      <td>Venezuela</td>\n",
              "      <td>6.136096</td>\n",
              "      <td>2.598213</td>\n",
              "      <td>6.954</td>\n",
              "      <td>74.226143</td>\n",
              "      <td>-1.916324</td>\n",
              "    </tr>\n",
              "    <tr>\n",
              "      <th>140</th>\n",
              "      <td>Yemen</td>\n",
              "      <td>3.967958</td>\n",
              "      <td>2.457196</td>\n",
              "      <td>17.483</td>\n",
              "      <td>64.507172</td>\n",
              "      <td>-1.200265</td>\n",
              "    </tr>\n",
              "    <tr>\n",
              "      <th>141</th>\n",
              "      <td>Zambia</td>\n",
              "      <td>4.345837</td>\n",
              "      <td>3.684328</td>\n",
              "      <td>7.726</td>\n",
              "      <td>60.715340</td>\n",
              "      <td>-0.236549</td>\n",
              "    </tr>\n",
              "  </tbody>\n",
              "</table>\n",
              "<p>142 rows × 6 columns</p>\n",
              "</div>"
            ],
            "text/plain": [
              "          country  happiness  ...  life_expectancy  rule_of_law\n",
              "0         Albania   4.813763  ...        77.998390    -0.337862\n",
              "1         Algeria   6.354898  ...        75.635025    -0.773168\n",
              "2          Angola   3.794838  ...        60.806732    -1.118136\n",
              "3      Azerbaijan   5.251530  ...        71.724754    -0.672239\n",
              "4       Argentina   6.671114  ...        76.134003    -0.886035\n",
              "..            ...        ...  ...              ...          ...\n",
              "137  Burkina Faso   3.481348  ...        59.375294    -0.547253\n",
              "138       Uruguay   6.561444  ...        76.982094     0.710575\n",
              "139     Venezuela   6.136096  ...        74.226143    -1.916324\n",
              "140         Yemen   3.967958  ...        64.507172    -1.200265\n",
              "141        Zambia   4.345837  ...        60.715340    -0.236549\n",
              "\n",
              "[142 rows x 6 columns]"
            ]
          },
          "metadata": {
            "tags": []
          },
          "execution_count": 217
        }
      ]
    },
    {
      "cell_type": "code",
      "metadata": {
        "id": "fBIA1LHS4M8N",
        "colab_type": "code",
        "outputId": "32971b91-4f6f-48e2-f768-1ee4063cd4d6",
        "colab": {
          "base_uri": "https://localhost:8080/",
          "height": 319
        }
      },
      "source": [
        "# plot data\n",
        "# sns.lmplot(x=\"infrastructure\", y=\"happiness\", \n",
        "#            data = happiness_dada, fit_reg=True)\n",
        "# sns.lmplot(x=\"unemployment\", y=\"happiness\", \n",
        "#            data = happiness_dada, fit_reg=True)\n",
        "# sns.lmplot(x=\"life_expectancy\", y=\"happiness\",\n",
        "#             data=happiness_dada,fit_reg=True)\n",
        "# sns.lmplot(x=\"rule_of_law\", y=\"happiness\",\n",
        "#             data=happiness_dada,fit_reg=True)\n",
        "\n",
        "# sns.pairplot(happiness_dada, vars=[\"happiness\",'infrastructure','unemployment', 'life_expectancy','rule_of_law'])\n",
        "\n",
        "g = sns.PairGrid(happiness_dada, y_vars=[\"happiness\"], x_vars=[\"infrastructure\", \"unemployment\",\"life_expectancy\", \"rule_of_law\"], height=4)\n",
        "g.map(sns.regplot, color=\"0.2\")\n",
        "g.set(ylim=(3, 8))"
      ],
      "execution_count": 0,
      "outputs": [
        {
          "output_type": "display_data",
          "data": {
            "image/png": "[encoded data removed]",
            "text/plain": [
              "<Figure size 1152x288 with 4 Axes>"
            ]
          },
          "metadata": {
            "tags": []
          }
        }
      ]
    },
    {
      "cell_type": "markdown",
      "metadata": {
        "id": "dNPF7bcBFgEE",
        "colab_type": "text"
      },
      "source": [
        "### Solution\n",
        "Regression in matrix form:\n",
        "- Coefficients: $\\hat \\beta = ( X ′ X )^{-1} (X ′ Y)$;\n",
        "- Predicted value: $\\hat Y = XB $;\n",
        "- Residual: $e = Y - \\hat Y $\n",
        "- SSE: $e'e$\n",
        "- Variance of coefficients: $var(\\hat \\beta) = \\sigma^{2}(X'X)^{-1}; \\sigma^{2} = \\frac{e'e}{n-k-1}$\n",
        "\n",
        "The estimated coefficients are: $ \\beta_{0} = -0.5872; \\beta_{1}0.0684; \\beta_{2} = -0.0230; \\beta_{3}=0.0824; \\beta_{4}=0.2511$.\n",
        "\n",
        "The predicted level of happiness for Albania, Algeria, Angola, Azerbaijan, and Argintina are 5.6121, 5.4522, 4.1394, 5.3692, and 5.5013 respectivelly. \n",
        "\n",
        "The sum of squared errors is 63.0263. \n",
        "\n",
        "The standard errors for $ \\beta_{0}, \\beta_{1}, \\beta_{2}, \\beta_{3}, and \\beta_{4}$ are $0.5184, 0.009, 0.0001, 0.0001, and 0.0118 $ respecfully.\n",
        "\n",
        "\n",
        "| coefficient | value         | s.e.  |\n",
        "|--------------|:-------------:| ----:|\n",
        "|$ \\beta_{0}$  | -0.5872      |0.5184 |\n",
        "|$\\beta_{1}$   |0.0684        |0.009  |\n",
        "|$\\beta_{2}$   | -0.0230      |0.0001 |\n",
        "|$ \\beta_{3}$  | 0.0824       |0.0001 |\n",
        "|$ \\beta_{4}$  |0.2511        |0.0118 |\n",
        "\n"
      ]
    },
    {
      "cell_type": "code",
      "metadata": {
        "id": "0UdtQdCc60Ab",
        "colab_type": "code",
        "outputId": "a5086e3a-fa52-470d-d3d5-4f670a32e7ae",
        "colab": {
          "base_uri": "https://localhost:8080/",
          "height": 612
        }
      },
      "source": [
        "# convert dataset into X and Y matrices\n",
        "Y_q4 = happiness_dada[\"happiness\"].values.reshape(142, 1)\n",
        "X_without_intercept = happiness_dada[[\"infrastructure\",\"unemployment\",\"life_expectancy\",\"rule_of_law\"]].values\n",
        "\n",
        "# intercept matrix: create a new 142 *1 matrix with identical elements as 1 \n",
        "intercept = np.full((142, 1), 1) \n",
        "\n",
        "# concatenate X and intercept matrices\n",
        "X_q4 = np.concatenate((intercept, X_without_intercept),axis=1)\n",
        "\n",
        "# estimate coefficients;  \n",
        "beta_q4 = np.dot(inv(np.dot(X_q4.T, X_q4)), np.dot(X_q4.T, Y_q4)) # noting that we use np.dot() instead of np.multiple() to achieve matrix multiplication \n",
        "print (\"coefficients \\n\", beta_q4)\n",
        "\n",
        "# estimate fitted value\n",
        "Y_pred_q4 = np.dot(X_q4, beta_q4)\n",
        "print(\"\\n  fitted values of happiness \\n\", Y_pred_q4[:5]) # show only the first five values\n",
        "\n",
        "# estimate sum of squared errors\n",
        "redisual_q4 = Y_q4 - Y_pred_q4\n",
        "SSE_q4 = np.dot(redisual_q4.T, redisual_q4)\n",
        "print(\"\\n sum of squared errors is \\n\", SSE_q4)\n",
        "\n",
        "# estimate variance of coefficients\n",
        "var_residuals_q4 = SSE_q4 / (142 - 4 - 1) # degrees of freedom: N = 142 (observations); k = 4 (variables)\n",
        "var_beta_q4 = var_residuals_q4 * inv(np.dot(X_q4.T, X_q4))\n",
        "print(\"\\n variance-covariance matrix of coefficients \\n \", var_beta_q4)\n",
        "## The diagonal of the variance-covariance matrix represents the variance for each estimate of beta\n",
        "## pay attention to the zero indexing feature in array\n",
        "print(\"\\n standard errors are (round up in four decimals) \\n\", round(var_beta_q4[0,0],4), \"\\n\", round(var_beta_q4[1,1],4), \"\\n\", round(var_beta_q4[2,2],4), \"\\n\", round(var_beta_q4[3,3],4), \"\\n\", round(var_beta_q4[4,4],4)) "
      ],
      "execution_count": 216,
      "outputs": [
        {
          "output_type": "stream",
          "text": [
            "coefficients \n",
            " [[-0.58715021]\n",
            " [ 0.06837396]\n",
            " [-0.0229775 ]\n",
            " [ 0.08239014]\n",
            " [ 0.25110699]]\n",
            "\n",
            "  fitted values of happiness \n",
            " [[5.61206954]\n",
            " [5.45217997]\n",
            " [4.13943197]\n",
            " [5.36921503]\n",
            " [5.50132322]]\n",
            "\n",
            " sume of squared errors is \n",
            " [[63.02633969]]\n",
            "\n",
            " variance-covariance matrix of coefficients \n",
            "  [[ 5.18440908e-01 -1.74605151e-02 -8.00509856e-04 -6.07944529e-03\n",
            "   5.04755030e-02]\n",
            " [-1.74605151e-02  9.01150396e-03  2.52191691e-05 -2.74842695e-04\n",
            "  -7.05566192e-03]\n",
            " [-8.00509856e-04  2.52191691e-05  7.87694326e-05  1.84807884e-07\n",
            "  -1.68825485e-05]\n",
            " [-6.07944529e-03 -2.74842695e-04  1.84807884e-07  1.00337541e-04\n",
            "  -3.00289541e-04]\n",
            " [ 5.04755030e-02 -7.05566192e-03 -1.68825485e-05 -3.00289541e-04\n",
            "   1.17539804e-02]]\n",
            "\n",
            " standard errors are (round up in four decimals) \n",
            " 0.5184 \n",
            " 0.009 \n",
            " 0.0001 \n",
            " 0.0001 \n",
            " 0.0118\n"
          ],
          "name": "stdout"
        }
      ]
    },
    {
      "cell_type": "markdown",
      "metadata": {
        "id": "Zvyr1KpCb1Qx",
        "colab_type": "text"
      },
      "source": [
        "## Q5\n",
        "Load the `“saving.csv”` file on Canvas into `R` and create the matrices you need to regress savings on income, family size, education and age using OLS. (You can use the code snippet above again, but pay attention to which variables are in which columns.)\n",
        "- (a) Using your script from problem 4, estimate $\\hat \\beta$ from a regression of savings on income, family size, education and age.\n",
        "- (b) Describe your results in substantive terms.\n",
        "- (c) Calculate the sum of squared residuals.\n",
        "- (d) Calculate the standard errors for each of the values of $\\hat \\beta$.\n",
        "- (e) Test the hypothesis that there is a relationship between income and savings."
      ]
    },
    {
      "cell_type": "code",
      "metadata": {
        "id": "ll6HMdbWL8x3",
        "colab_type": "code",
        "colab": {
          "base_uri": "https://localhost:8080/",
          "height": 419
        },
        "outputId": "b8c26283-8787-4d4f-b77a-441585352024"
      },
      "source": [
        "# load data\n",
        "savings_dada = pd.read_csv(\"//content/drive/My Drive/Colab Notebooks/saving.csv\")\n",
        "savings_dada"
      ],
      "execution_count": 218,
      "outputs": [
        {
          "output_type": "execute_result",
          "data": {
            "text/html": [
              "<div>\n",
              "<style scoped>\n",
              "    .dataframe tbody tr th:only-of-type {\n",
              "        vertical-align: middle;\n",
              "    }\n",
              "\n",
              "    .dataframe tbody tr th {\n",
              "        vertical-align: top;\n",
              "    }\n",
              "\n",
              "    .dataframe thead th {\n",
              "        text-align: right;\n",
              "    }\n",
              "</style>\n",
              "<table border=\"1\" class=\"dataframe\">\n",
              "  <thead>\n",
              "    <tr style=\"text-align: right;\">\n",
              "      <th></th>\n",
              "      <th>savings</th>\n",
              "      <th>income</th>\n",
              "      <th>family size</th>\n",
              "      <th>education</th>\n",
              "      <th>age</th>\n",
              "      <th>consumption</th>\n",
              "    </tr>\n",
              "  </thead>\n",
              "  <tbody>\n",
              "    <tr>\n",
              "      <th>0</th>\n",
              "      <td>30</td>\n",
              "      <td>1920</td>\n",
              "      <td>4</td>\n",
              "      <td>2</td>\n",
              "      <td>40</td>\n",
              "      <td>1890</td>\n",
              "    </tr>\n",
              "    <tr>\n",
              "      <th>1</th>\n",
              "      <td>874</td>\n",
              "      <td>12403</td>\n",
              "      <td>4</td>\n",
              "      <td>9</td>\n",
              "      <td>33</td>\n",
              "      <td>11529</td>\n",
              "    </tr>\n",
              "    <tr>\n",
              "      <th>2</th>\n",
              "      <td>370</td>\n",
              "      <td>6396</td>\n",
              "      <td>2</td>\n",
              "      <td>17</td>\n",
              "      <td>31</td>\n",
              "      <td>6026</td>\n",
              "    </tr>\n",
              "    <tr>\n",
              "      <th>3</th>\n",
              "      <td>1200</td>\n",
              "      <td>7005</td>\n",
              "      <td>3</td>\n",
              "      <td>9</td>\n",
              "      <td>50</td>\n",
              "      <td>5805</td>\n",
              "    </tr>\n",
              "    <tr>\n",
              "      <th>4</th>\n",
              "      <td>275</td>\n",
              "      <td>6990</td>\n",
              "      <td>4</td>\n",
              "      <td>12</td>\n",
              "      <td>28</td>\n",
              "      <td>6715</td>\n",
              "    </tr>\n",
              "    <tr>\n",
              "      <th>...</th>\n",
              "      <td>...</td>\n",
              "      <td>...</td>\n",
              "      <td>...</td>\n",
              "      <td>...</td>\n",
              "      <td>...</td>\n",
              "      <td>...</td>\n",
              "    </tr>\n",
              "    <tr>\n",
              "      <th>95</th>\n",
              "      <td>1800</td>\n",
              "      <td>32080</td>\n",
              "      <td>2</td>\n",
              "      <td>16</td>\n",
              "      <td>54</td>\n",
              "      <td>30280</td>\n",
              "    </tr>\n",
              "    <tr>\n",
              "      <th>96</th>\n",
              "      <td>1684</td>\n",
              "      <td>9260</td>\n",
              "      <td>5</td>\n",
              "      <td>12</td>\n",
              "      <td>31</td>\n",
              "      <td>7576</td>\n",
              "    </tr>\n",
              "    <tr>\n",
              "      <th>97</th>\n",
              "      <td>1475</td>\n",
              "      <td>10450</td>\n",
              "      <td>2</td>\n",
              "      <td>18</td>\n",
              "      <td>27</td>\n",
              "      <td>8975</td>\n",
              "    </tr>\n",
              "    <tr>\n",
              "      <th>98</th>\n",
              "      <td>566</td>\n",
              "      <td>9138</td>\n",
              "      <td>5</td>\n",
              "      <td>12</td>\n",
              "      <td>40</td>\n",
              "      <td>8572</td>\n",
              "    </tr>\n",
              "    <tr>\n",
              "      <th>99</th>\n",
              "      <td>25405</td>\n",
              "      <td>12350</td>\n",
              "      <td>6</td>\n",
              "      <td>18</td>\n",
              "      <td>34</td>\n",
              "      <td>-13055</td>\n",
              "    </tr>\n",
              "  </tbody>\n",
              "</table>\n",
              "<p>100 rows × 6 columns</p>\n",
              "</div>"
            ],
            "text/plain": [
              "    savings  income  family size  education  age  consumption\n",
              "0        30    1920            4          2   40         1890\n",
              "1       874   12403            4          9   33        11529\n",
              "2       370    6396            2         17   31         6026\n",
              "3      1200    7005            3          9   50         5805\n",
              "4       275    6990            4         12   28         6715\n",
              "..      ...     ...          ...        ...  ...          ...\n",
              "95     1800   32080            2         16   54        30280\n",
              "96     1684    9260            5         12   31         7576\n",
              "97     1475   10450            2         18   27         8975\n",
              "98      566    9138            5         12   40         8572\n",
              "99    25405   12350            6         18   34       -13055\n",
              "\n",
              "[100 rows x 6 columns]"
            ]
          },
          "metadata": {
            "tags": []
          },
          "execution_count": 218
        }
      ]
    },
    {
      "cell_type": "markdown",
      "metadata": {
        "id": "1J8VFAZ2f-hR",
        "colab_type": "text"
      },
      "source": [
        "### solution\n",
        "\n",
        "| coefficient   | variable    | value           | s.e.                 |\n",
        "|--------------|:-----------:| ---------------:| --------------------:|\n",
        "|$ \\beta_{0}$  |intercept    |1.36788003e-09   |2.072723221696566e-20 |\n",
        "|$\\beta_{1}$   |income       |1.00000000e+00   |3.6120191810691507e-29|\n",
        "|$\\beta_{2}$   |family size  |-7.11679604e-11  |1.3266502445998057e-22|\n",
        "|$ \\beta_{3}$  |education    |-3.13775672e-11  |3.5817982977544354e-23|\n",
        "|$ \\beta_{4}$  |age          |-1.93267624e-11  |6.658955756002866e-24|\n",
        "|$ \\beta_{5}$  |consumption  |-1.00000000e+00  |2.833868277135947e-29|\n",
        "\n",
        " \n",
        "The sum of squared errors is 2.61449795e-18\n",
        "\n",
        "The t-statistics is for the coefficient on income 1.8929567251013723e+27, which is statistically significant at 0.05 level; therefore we reject the null hypothesis."
      ]
    },
    {
      "cell_type": "code",
      "metadata": {
        "id": "VGj-XURacwLq",
        "colab_type": "code",
        "colab": {
          "base_uri": "https://localhost:8080/",
          "height": 646
        },
        "outputId": "b83bb8a3-fecf-4291-b5c1-e5df33c19ee0"
      },
      "source": [
        "# convert dataset into X and Y matrices\n",
        "Y_q5 = savings_dada[\"savings\"].values.reshape(100, 1)\n",
        "X_q5_without_intercept = savings_dada[[\"income\",\"family size\",\"education\",\"age\", \"consumption\"]].values\n",
        "\n",
        "# intercept matrix: create a new 100 *1 matrix with identical elements as 1 \n",
        "intercept_q5 = np.full((100, 1), 1) \n",
        "\n",
        "# concatenate X and intercept matrices\n",
        "X_q5 = np.concatenate((intercept_q5, X_q5_without_intercept),axis=1)\n",
        "\n",
        "# estimate coefficients;  \n",
        "beta_q5 = np.dot(inv(np.dot(X_q5.T, X_q5)), np.dot(X_q5.T, Y_q5)) # noting that we use np.dot() instead of np.multiple() to achieve matrix multiplication \n",
        "print (\"coefficients \\n\", beta_q5)\n",
        "\n",
        "# estimate fitted value\n",
        "Y_pred_q5 = np.dot(X_q5, beta_q5)\n",
        "\n",
        "# estimate sum of squared errors\n",
        "redisual_q5 = Y_q5 - Y_pred_q5\n",
        "SSE_q5 = np.dot(redisual_q5.T, redisual_q5)\n",
        "print(\"\\n sum of squared errors is \\n\", SSE_q5)\n",
        "\n",
        "# estimate variance of coefficients\n",
        "var_residuals_q5 = SSE_q5 / (100 - 5 - 1) # degrees of freedom: N = 100 (observations); k = 5 (variables)\n",
        "var_beta_q5 = var_residuals_q5 * inv(np.dot(X_q5.T, X_q5))\n",
        "print(\"\\n variance-covariance matrix of coefficients \\n \", var_beta_q5)\n",
        "# The diagonal of the variance-covariance matrix represents the variance for each estimate of beta\n",
        "# pay attention to the zero indexing feature in array\n",
        "print(\"\\n standard errors are  \\n\", var_beta_q5[0,0], \n",
        "      \"\\n\", var_beta_q5[1,1], \n",
        "      \"\\n\", var_beta_q5[2,2], \n",
        "      \"\\n\", var_beta_q5[3,3], \n",
        "      \"\\n\", var_beta_q5[4,4],\n",
        "      \"\\n\", var_beta_q5[5,5]) \n",
        "\n",
        "# test the hypothesis that there is a relationship between income and savings\n",
        "print(\"\\n t_test results of the beta_1 (0.06837396):\")\n",
        "t_test (0.06837396, 3.6120191810691507e-29, 100, 5, 0.05)"
      ],
      "execution_count": 241,
      "outputs": [
        {
          "output_type": "stream",
          "text": [
            "coefficients \n",
            " [[ 1.36788003e-09]\n",
            " [ 1.00000000e+00]\n",
            " [-7.11679604e-11]\n",
            " [-3.13775672e-11]\n",
            " [-1.93267624e-11]\n",
            " [-1.00000000e+00]]\n",
            "\n",
            " sum of squared errors is \n",
            " [[2.61449795e-18]]\n",
            "\n",
            " variance-covariance matrix of coefficients \n",
            "  [[ 2.07272322e-20  1.74579462e-25 -8.28092688e-22 -5.27604692e-22\n",
            "  -3.13151295e-22 -3.97057023e-26]\n",
            " [ 1.74579462e-25  3.61201918e-29 -3.03150779e-28 -1.54086532e-26\n",
            "  -3.68216484e-27 -2.52610764e-29]\n",
            " [-8.28092688e-22 -3.03150779e-28  1.32665024e-22  1.67517523e-24\n",
            "   5.65318473e-24  1.84729321e-27]\n",
            " [-5.27604692e-22 -1.54086532e-26  1.67517523e-24  3.58179830e-23\n",
            "   5.80201489e-24  4.04157553e-27]\n",
            " [-3.13151295e-22 -3.68216484e-27  5.65318473e-24  5.80201489e-24\n",
            "   6.65895576e-24 -2.27093641e-29]\n",
            " [-3.97057023e-26 -2.52610764e-29  1.84729321e-27  4.04157553e-27\n",
            "  -2.27093641e-29  2.83386828e-29]]\n",
            "\n",
            " standard errors are  \n",
            " 2.072723221696566e-20 \n",
            " 3.6120191810691507e-29 \n",
            " 1.3266502445998057e-22 \n",
            " 3.5817982977544354e-23 \n",
            " 6.658955756002866e-24 \n",
            " 2.833868277135947e-29\n",
            "\n",
            " t_test results of the beta_1 (0.06837396):\n",
            "The t-statistics is 1.8929567251013723e+27 ; we reject the null hypothesis; \n",
            " the coefficient is statistically significant at 0.05 level; \n",
            " its 95% confidence interval is (0.0684, 0.0684)\n"
          ],
          "name": "stdout"
        }
      ]
    }
  ]
}